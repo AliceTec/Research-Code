{
 "cells": [
  {
   "cell_type": "code",
   "execution_count": 1,
   "metadata": {
    "collapsed": true
   },
   "outputs": [],
   "source": [
    "import networkx as nx\n",
    "import numpy as np\n",
    "\n",
    "def kpathlaplacian(G, k):\n",
    "    if k==1:\n",
    "        L = nx.laplacian_matrix(G).toarray()\n",
    "    else:\n",
    "        nodelist= G.nodes()\n",
    "        nsize = len(nodelist)\n",
    "        L = np.zeros(shape=(nsize,nsize))\n",
    "        i=1\n",
    "        for n in nodelist:\n",
    "            for m in nodelist[i:]:\n",
    "                if((nx.shortest_path_length(G, source=n, target=m))==k):\n",
    "                    L[n-1,m-1]= L[m-1,n-1]= -1\n",
    "            i = i+1\n",
    "            L[n-1,n-1] = np.sum(L[n-1]*-1)\n",
    "    return L                       "
   ]
  },
  {
   "cell_type": "code",
   "execution_count": 2,
   "metadata": {
    "collapsed": true
   },
   "outputs": [],
   "source": [
    "import networkx as nx\n",
    "import numpy as np\n",
    "\n",
    "def kplaplacian(G):\n",
    "    nodes = G.nodes()\n",
    "    nodelist = list(itertools.combinations(nodes,2))\n",
    "    nsize    = len(nodes)\n",
    "    L = np.zeros(shape=(nsize,nsize))\n",
    "    for n in nodelist:\n",
    "        k = nx.shortest_path_length(G, source=n[0], target=n[1])\n",
    "        L[n[0]-1,n[1]-1]= L[n[1]-1,n[0]-1]= k\n",
    "    row,col = np.diag_indices_from(L)\n",
    "    L[row,col] = L.sum(axis=1)\n",
    "    return L                       "
   ]
  },
  {
   "cell_type": "code",
   "execution_count": 3,
   "metadata": {
    "collapsed": false
   },
   "outputs": [],
   "source": [
    "import networkx as nx\n",
    "import numpy as np\n",
    "\n",
    "def kplaplacian_ltf(G,lam):\n",
    "    nodes = G.nodes()\n",
    "    nodelist = list(itertools.combinations(nodes,2))\n",
    "    nsize    = len(nodes)\n",
    "    L = np.zeros(shape=(nsize,nsize))\n",
    "    for n in nodelist:\n",
    "        k = nx.shortest_path_length(G, source=n[0], target=n[1])\n",
    "        if k==1:\n",
    "            L[n[0]-1,n[1]-1]= L[n[1]-1,n[0]-1]= -1\n",
    "        else:\n",
    "            L[n[0]-1,n[1]-1]= L[n[1]-1,n[0]-1]= -np.exp(-lam*k)\n",
    "    row,col = np.diag_indices_from(L)\n",
    "    L[row,col] = -L.sum(axis=1)\n",
    "    return L  "
   ]
  },
  {
   "cell_type": "code",
   "execution_count": 25,
   "metadata": {
    "collapsed": false
   },
   "outputs": [],
   "source": [
    "def generalised_degree(L,n):\n",
    "    deg = (L.diagonal()).tolist()\n",
    "    centrality = {}\n",
    "    s = 1.0 / (n - 1.0)\n",
    "    #centrality = {n: d * s for n, d in G.degree()}\n",
    "    centrality ={deg.index(d): d*s for d in deg}\n",
    "    return centrality"
   ]
  },
  {
   "cell_type": "code",
   "execution_count": 26,
   "metadata": {
    "collapsed": false
   },
   "outputs": [
    {
     "name": "stdout",
     "output_type": "stream",
     "text": [
      "{0: 0.3301144087102723, 1: 0.7838338208091532, 2: 0.5676676416183064, 3: 0.5462805879011192}\n"
     ]
    }
   ],
   "source": [
    "import networkx as nx\n",
    "import itertools\n",
    "import numpy as np\n",
    "\n",
    "G = nx.Graph()\n",
    "e_list = [(1,2),(2,3),(2,5),(3,4),(4,5)]\n",
    "G.add_edges_from(e_list)\n",
    "ll = kplaplacian_ltf(G,1)\n",
    "dd = generalised_degree(ll,len(G))\n",
    "print(dd)"
   ]
  },
  {
   "cell_type": "code",
   "execution_count": 31,
   "metadata": {
    "collapsed": false
   },
   "outputs": [
    {
     "name": "stdout",
     "output_type": "stream",
     "text": [
      "0\n",
      "1\n",
      "2\n",
      "3\n",
      "2\n"
     ]
    }
   ],
   "source": [
    "deg = (ll.diagonal()).tolist()\n",
    "for d in deg:\n",
    "    print(deg.index(d))"
   ]
  },
  {
   "cell_type": "code",
   "execution_count": 24,
   "metadata": {
    "collapsed": false
   },
   "outputs": [
    {
     "name": "stdout",
     "output_type": "stream",
     "text": [
      "{1: 1, 2: 3, 3: 2, 4: 2, 5: 2}\n"
     ]
    }
   ],
   "source": [
    "print(G.degree())"
   ]
  },
  {
   "cell_type": "code",
   "execution_count": 21,
   "metadata": {
    "collapsed": false
   },
   "outputs": [
    {
     "name": "stdout",
     "output_type": "stream",
     "text": [
      "{1: 0.25, 2: 0.75, 3: 0.5, 4: 0.5, 5: 0.5}\n"
     ]
    }
   ],
   "source": [
    "print(nx.degree_centrality(G))"
   ]
  },
  {
   "cell_type": "code",
   "execution_count": 5,
   "metadata": {
    "collapsed": false
   },
   "outputs": [
    {
     "data": {
      "image/png": "[encoded data removed]",
      "text/plain": [
       "<matplotlib.figure.Figure at 0x7f2f2c2d7978>"
      ]
     },
     "metadata": {},
     "output_type": "display_data"
    },
    {
     "data": {
      "image/png": "[encoded data removed]",
      "text/plain": [
       "<matplotlib.figure.Figure at 0x7f2f55966978>"
      ]
     },
     "metadata": {},
     "output_type": "display_data"
    },
    {
     "data": {
      "image/png": "[encoded data removed]",
      "text/plain": [
       "<matplotlib.figure.Figure at 0x7f2f2c31f908>"
      ]
     },
     "metadata": {},
     "output_type": "display_data"
    },
    {
     "data": {
      "image/png": "[encoded data removed]",
      "text/plain": [
       "<matplotlib.figure.Figure at 0x7f2f287f60f0>"
      ]
     },
     "metadata": {},
     "output_type": "display_data"
    }
   ],
   "source": [
    "#Barabasi network with average degree ~6\n",
    "\n",
    "import numpy as np\n",
    "import networkx as nx\n",
    "from scipy import linalg as LA\n",
    "import random as random\n",
    "import matplotlib.pyplot as plt\n",
    "\n",
    "G = nx.barabasi_albert_graph(1000, 3)\n",
    "n = len(G.nodes())\n",
    "lam_vals = [1,2,3]\n",
    "\n",
    "phi_0 = np.random.randint(10, 20,size=n)\n",
    "\n",
    "for lam in lam_vals:\n",
    "    L = kplaplacian_ltf(G,lam)\n",
    "    D, V = LA.eigh(L);                              #Compute the eigenvalues/vectors of the laplacian matrix\n",
    "    D = np.reshape(D,(n,1), order='F')\n",
    "    phi_0 = np.reshape(phi_0,(n,1), order='F');\n",
    "    phi_0V = np.dot((V.conj().transpose()),phi_0) #Transform the initial condition into the coordinate system of the eigenvectors\n",
    "\n",
    "    #plotting results\n",
    "    phi_lst=[]   \n",
    "    time = np.arange(0,6,0.05)\n",
    "    for t in time :                             #Loop through times and decay each initial component\n",
    "        Phi = (phi_0V* (np.exp(-D*t)));                             #Exponential decay for each component\n",
    "        Phi = np.dot(V,Phi);  \n",
    "        #Phi =  np.reshape(Phi, (1,n), order='F')                #shape phi to a lattice shape\n",
    "        phi_lst.append((Phi.ravel()).tolist())\n",
    "\n",
    "    plt.plot(time,phi_lst)\n",
    "    plt.xlabel('time')\n",
    "    plt.ylabel('Quantity of heat at time t, $\\phi_i(t)$')\n",
    "    plt.title('Diffusion of heat over barabasi network at $\\lambda$='+str(lam)+' and exponent=3')\n",
    "    plt.show()\n",
    "\n",
    "l = nx.laplacian_matrix(G).todense()\n",
    "D, V = LA.eigh(l);                              #Compute the eigenvalues/vectors of the laplacian matrix\n",
    "D = np.reshape(D,(n,1), order='F')\n",
    "phi_0 = np.reshape(phi_0,(n,1), order='F');\n",
    "phi_0V = np.dot((V.conj().transpose()),phi_0) #Transform the initial condition into the coordinate system of the eigenvectors\n",
    "\n",
    "#plotting results\n",
    "phi_lst=[]   \n",
    "time = np.arange(0,6,0.05)\n",
    "for t in time :                             #Loop through times and decay each initial component\n",
    "    Phi = (phi_0V* (np.exp(-D*t)));                             #Exponential decay for each component\n",
    "    Phi = np.dot(V,Phi);  \n",
    "    #Phi =  np.reshape(Phi, (1,n), order='F')                #shape phi to a lattice shape\n",
    "    phi_lst.append((Phi.ravel()).tolist())\n",
    "\n",
    "plt.plot(time,phi_lst)\n",
    "plt.xlabel('time')\n",
    "plt.ylabel('Quantity of heat at time t, $\\phi_i(t)$')\n",
    "plt.title('Diffusion of heat over barabasi network at $\\lambda$='+str(lam)+' and exponent=3')\n",
    "plt.show()"
   ]
  },
  {
   "cell_type": "code",
   "execution_count": 6,
   "metadata": {
    "collapsed": false
   },
   "outputs": [],
   "source": [
    "#erdos-renyi network with average degree ~6\n",
    "\n",
    "import numpy as np\n",
    "import networkx as nx\n",
    "from scipy import linalg as LA\n",
    "import random as random\n",
    "import matplotlib.pyplot as plt\n",
    "\n",
    "n = 1000\n",
    "G = nx.erdos_renyi_graph(n, 0.006)\n",
    "if (nx.is_connected(G)==True):\n",
    "\n",
    "    phi_0 = np.random.randint(10, 20,size=n)\n",
    "\n",
    "    for lam in lam_vals:\n",
    "        L = kplaplacian_ltf(G,lam)\n",
    "\n",
    "        D, V = LA.eigh(L);                              #Compute the eigenvalues/vectors of the laplacian matrix\n",
    "        D = np.reshape(D,(n,1), order='F')\n",
    "        phi_0 = np.reshape(phi_0,(n,1), order='F');\n",
    "        phi_0V = np.dot((V.conj().transpose()),phi_0) #Transform the initial condition into the coordinate system of the eigenvectors\n",
    "\n",
    "        #plotting results\n",
    "        phi_lst=[]   \n",
    "        time = np.arange(0,10,0.05)\n",
    "        for t in time :                             #Loop through times and decay each initial component\n",
    "            Phi = (phi_0V* (np.exp(-D*t)));                             #Exponential decay for each component\n",
    "            Phi = np.dot(V,Phi);  \n",
    "            #Phi =  np.reshape(Phi, (1,n), order='F')                #shape phi to a lattice shape\n",
    "            phi_lst.append((Phi.ravel()).tolist())\n",
    "\n",
    "        plt.plot(time,phi_lst)\n",
    "        plt.xlabel('time')\n",
    "        plt.ylabel('Quantity of heat at time t, $\\phi_i(t)$')\n",
    "        plt.title('Diffusion of heat over Erdos Renyi network at $\\lambda$='+str(lam))\n",
    "        plt.show() "
   ]
  },
  {
   "cell_type": "code",
   "execution_count": 7,
   "metadata": {
    "collapsed": false
   },
   "outputs": [
    {
     "ename": "SyntaxError",
     "evalue": "invalid syntax (<ipython-input-7-f7377e580deb>, line 1)",
     "output_type": "error",
     "traceback": [
      "\u001b[0;36m  File \u001b[0;32m\"<ipython-input-7-f7377e580deb>\"\u001b[0;36m, line \u001b[0;32m1\u001b[0m\n\u001b[0;31m    nfrom scipy import linalg as LA\u001b[0m\n\u001b[0m              ^\u001b[0m\n\u001b[0;31mSyntaxError\u001b[0m\u001b[0;31m:\u001b[0m invalid syntax\n"
     ]
    }
   ],
   "source": [
    "nfrom scipy import linalg as LA\n",
    "L_1 =kpathlaplacian(G, k=1)\n",
    "L_1\n",
    "e_vals, e_vecs = LA.eig(L_1)\n",
    "e_vals"
   ]
  },
  {
   "cell_type": "code",
   "execution_count": null,
   "metadata": {
    "collapsed": false
   },
   "outputs": [],
   "source": [
    "L_2 = kpathlaplacian(G, k=2)\n",
    "L_2\n",
    "e_vals, e_vecs = LA.eig(L_2)\n",
    "e_vals"
   ]
  },
  {
   "cell_type": "code",
   "execution_count": null,
   "metadata": {
    "collapsed": false
   },
   "outputs": [],
   "source": [
    "L_3 = kpathlaplacian(G, k=3)\n",
    "L_3\n",
    "e_vals, e_vecs = LA.eig(L_3)\n",
    "e_vals"
   ]
  },
  {
   "cell_type": "code",
   "execution_count": null,
   "metadata": {
    "collapsed": true
   },
   "outputs": [],
   "source": [
    "G = nx.Graph()\n",
    "e_list = [(1,2),(2,3),(3,4),(4,5),(5,1)]\n",
    "G.add_edges_from(e_list)"
   ]
  },
  {
   "cell_type": "code",
   "execution_count": null,
   "metadata": {
    "collapsed": false
   },
   "outputs": [],
   "source": [
    "L_1 = kpathlaplacian(G, k=1)\n",
    "e_vals, e_vecs = LA.eig(L_1)\n",
    "e_vals\n",
    "L_1"
   ]
  },
  {
   "cell_type": "code",
   "execution_count": null,
   "metadata": {
    "collapsed": false
   },
   "outputs": [],
   "source": [
    "L_2 = kpathlaplacian(G, k=2)\n",
    "e_vals, e_vecs = LA.eig(L_2)\n",
    "e_vals"
   ]
  },
  {
   "cell_type": "code",
   "execution_count": null,
   "metadata": {
    "collapsed": true
   },
   "outputs": [],
   "source": [
    "G = nx.Graph()\n",
    "e_list = [(1,2),(2,3),(3,4),(3,5),(3,1)]\n",
    "G.add_edges_from(e_list)"
   ]
  },
  {
   "cell_type": "code",
   "execution_count": null,
   "metadata": {
    "collapsed": false
   },
   "outputs": [],
   "source": [
    "L_1 = kpathlaplacian(G, k=1)\n",
    "e_vals, e_vecs = LA.eig(L_1)\n",
    "e_vals"
   ]
  },
  {
   "cell_type": "code",
   "execution_count": null,
   "metadata": {
    "collapsed": false
   },
   "outputs": [],
   "source": [
    "L_2 = kpathlaplacian(G, k=2)\n",
    "e_vals, e_vecs = LA.eig(L_2)\n",
    "e_vals"
   ]
  },
  {
   "cell_type": "code",
   "execution_count": null,
   "metadata": {
    "collapsed": false
   },
   "outputs": [],
   "source": [
    "L_3 = kpathlaplacian(G, k=3)\n",
    "e_vals, e_vecs = LA.eig(L_3)\n",
    "e_vals"
   ]
  },
  {
   "cell_type": "code",
   "execution_count": null,
   "metadata": {
    "collapsed": true
   },
   "outputs": [],
   "source": [
    "G = nx.Graph()\n",
    "e_list = [(1,2),(2,3),(3,4),(4,5),(5,1),(1,4),(2,5)]\n",
    "G.add_edges_from(e_list)"
   ]
  },
  {
   "cell_type": "code",
   "execution_count": null,
   "metadata": {
    "collapsed": false
   },
   "outputs": [],
   "source": [
    "L_1 = kpathlaplacian(G, k=1)\n",
    "e_vals, e_vecs = LA.eig(L_1)\n",
    "e_vals"
   ]
  },
  {
   "cell_type": "code",
   "execution_count": null,
   "metadata": {
    "collapsed": false
   },
   "outputs": [],
   "source": [
    "L_2 = kpathlaplacian(G, k=2)\n",
    "e_vals, e_vecs = LA.eig(L_2)\n",
    "e_vals"
   ]
  },
  {
   "cell_type": "code",
   "execution_count": null,
   "metadata": {
    "collapsed": false
   },
   "outputs": [],
   "source": [
    "G = nx.Graph()\n",
    "e_lst =[(1,14),(1,4),(14,2),(14,5),(2,3),(2,6),(3,7),\n",
    "       (4,5),(4,15),(5,8),(5,6),(6,9),(6,7),(7,10),\n",
    "       (15,8),(15,11),(8,9),(8,12),(9,10),(9,13),(10,16),\n",
    "       (11,12),(12,13),(13,16)]\n",
    "G.add_edges_from(e_lst)\n",
    "\n",
    "L_1 =kpathlaplacian(G, k=1)\n",
    "L_1"
   ]
  },
  {
   "cell_type": "code",
   "execution_count": null,
   "metadata": {
    "collapsed": false
   },
   "outputs": [],
   "source": [
    "L_1[13:,13:]"
   ]
  },
  {
   "cell_type": "code",
   "execution_count": null,
   "metadata": {
    "collapsed": false
   },
   "outputs": [],
   "source": [
    "L_u = L_1[:13, :13]\n",
    "B_T = L_1[:13:,13:]\n",
    "M1 = np.matrix([[1], [0],[0]])\n",
    "R_hs = -B_T *M1\n",
    "x_l1 = np.linalg.solve(L_u, R_hs)\n",
    "x_l1"
   ]
  },
  {
   "cell_type": "code",
   "execution_count": null,
   "metadata": {
    "collapsed": false
   },
   "outputs": [],
   "source": [
    "L_2 =kpathlaplacian(G, k=2)\n",
    "L_2"
   ]
  },
  {
   "cell_type": "code",
   "execution_count": null,
   "metadata": {
    "collapsed": true
   },
   "outputs": [],
   "source": [
    "# directed \n",
    "import networkx as nx\n",
    "import numpy as np\n",
    "\n",
    "def laplacian_matrix_digraph(G, nodelist=None, weight='weight'):\n",
    "    import scipy.sparse\n",
    "    if nodelist is None:\n",
    "        nodelist = G.nodes()\n",
    "    A = nx.to_scipy_sparse_matrix(G, nodelist=nodelist, weight=weight,\n",
    "                                  format='csr')\n",
    "    n,m = A.shape\n",
    "    diags = A.sum(axis=1)\n",
    "    D = scipy.sparse.spdiags(diags.flatten(), [0], m, n, format='csr')\n",
    "    return  D - A\n",
    "\n",
    "def kpathlaplacian(G, k):\n",
    "    if k==1:\n",
    "        L = laplacian_matrix_digraph(G).toarray()\n",
    "    else:\n",
    "        nodelist= G.nodes()\n",
    "        nsize = len(nodelist)\n",
    "        L = np.zeros(shape=(nsize,nsize))\n",
    "        i=1\n",
    "        for n in nodelist:\n",
    "            nlist_copy = nodelist\n",
    "            for m in nlist_copy.remove(n):\n",
    "                print(m)\n",
    "                #if((nx.shortest_path_length(G, source=n, target=m))==k):\n",
    "                    #L[n-1,m-1]= L[m-1,n-1]= -1\n",
    "            #i = i+1\n",
    "            #L[n-1,n-1] = np.sum(L[n-1]*-1)\n",
    "    return L                       "
   ]
  },
  {
   "cell_type": "code",
   "execution_count": null,
   "metadata": {
    "collapsed": false
   },
   "outputs": [],
   "source": [
    "import networkx as nx\n",
    "import random\n",
    "import numpy as np\n",
    "from scipy.linalg import expm\n",
    "import matplotlib.pyplot as plt\n",
    "\n",
    "G = nx.DiGraph()\n",
    "e_lst = [(1,0),(0,3),(2,1),(0,2),(4,0),(3,4)]\n",
    "G.add_edges_from(e_lst)\n",
    "kpathlaplacian(G, k=1)"
   ]
  },
  {
   "cell_type": "code",
   "execution_count": null,
   "metadata": {
    "collapsed": false
   },
   "outputs": [],
   "source": [
    "G = nx.DiGraph()\n",
    "e_lst = [(1,0),(0,3),(2,1),(0,2),(4,0),(3,4)]\n",
    "G.add_edges_from(e_lst)\n",
    "kpathlaplacian(G, k=2)"
   ]
  },
  {
   "cell_type": "code",
   "execution_count": null,
   "metadata": {
    "collapsed": false
   },
   "outputs": [],
   "source": [
    "import networkx as nx\n",
    "from scipy import linalg as LA\n",
    "\n",
    "G = nx.Graph()\n",
    "e_lst = [(1,2),(2,3),(3,4),(4,5),(5,2)]\n",
    "G.add_edges_from(e_lst)\n",
    "L_1 = nx.laplacian_matrix(G)\n",
    "e_vals, e_vecs = LA.eigh(L_1.todense())\n",
    "e_vecs"
   ]
  },
  {
   "cell_type": "code",
   "execution_count": null,
   "metadata": {
    "collapsed": false
   },
   "outputs": [],
   "source": [
    "e_vecs[:,1]"
   ]
  },
  {
   "cell_type": "code",
   "execution_count": null,
   "metadata": {
    "collapsed": false
   },
   "outputs": [],
   "source": [
    "import itertools\n",
    "\n",
    "L_1 = kplaplacian_ltf(G,2)\n",
    "e_vals, e_vecs = LA.eigh(L_1)\n",
    "e_vecs"
   ]
  },
  {
   "cell_type": "code",
   "execution_count": null,
   "metadata": {
    "collapsed": false
   },
   "outputs": [],
   "source": [
    "e_vecs[:,1]"
   ]
  },
  {
   "cell_type": "code",
   "execution_count": null,
   "metadata": {
    "collapsed": true
   },
   "outputs": [],
   "source": []
  }
 ],
 "metadata": {
  "kernelspec": {
   "display_name": "Python 3",
   "language": "python",
   "name": "python3"
  },
  "language_info": {
   "codemirror_mode": {
    "name": "ipython",
    "version": 3
   },
   "file_extension": ".py",
   "mimetype": "text/x-python",
   "name": "python",
   "nbconvert_exporter": "python",
   "pygments_lexer": "ipython3",
   "version": "3.5.3"
  }
 },
 "nbformat": 4,
 "nbformat_minor": 2
}
