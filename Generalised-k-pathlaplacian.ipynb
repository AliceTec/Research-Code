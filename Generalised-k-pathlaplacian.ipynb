{
 "cells": [
  {
   "cell_type": "code",
   "execution_count": 1,
   "metadata": {
    "collapsed": true
   },
   "outputs": [],
   "source": [
    "import networkx as nx\n",
    "import numpy as np\n",
    "\n",
    "def kpathlaplacian(G, k):\n",
    "    if k==1:\n",
    "        L = nx.laplacian_matrix(G).toarray()\n",
    "    else:\n",
    "        nodelist= G.nodes()\n",
    "        nsize = len(nodelist)\n",
    "        L = np.zeros(shape=(nsize,nsize))\n",
    "        i=1\n",
    "        for n in nodelist:\n",
    "            for m in nodelist[i:]:\n",
    "                if((nx.shortest_path_length(G, source=n, target=m))==k):\n",
    "                    L[n-1,m-1]= L[m-1,n-1]= -1\n",
    "            i = i+1\n",
    "            L[n-1,n-1] = np.sum(L[n-1]*-1)\n",
    "    return L\n",
    "                          "
   ]
  },
  {
   "cell_type": "code",
   "execution_count": 2,
   "metadata": {
    "collapsed": false
   },
   "outputs": [],
   "source": [
    "G = nx.Graph()\n",
    "e_list = [(1,2),(2,3),(2,5),(3,4),(4,5)]\n",
    "G.add_edges_from(e_list)"
   ]
  },
  {
   "cell_type": "code",
   "execution_count": 4,
   "metadata": {
    "collapsed": false
   },
   "outputs": [
    {
     "data": {
      "text/plain": [
       "array([ -2.22044605e-16+0.j,   8.29913513e-01+0.j,   4.48119430e+00+0.j,\n",
       "         2.68889218e+00+0.j,   2.00000000e+00+0.j])"
      ]
     },
     "execution_count": 4,
     "metadata": {},
     "output_type": "execute_result"
    }
   ],
   "source": [
    "from scipy import linalg as LA\n",
    "L_1 =kpathlaplacian(G, k=1)\n",
    "L_1\n",
    "e_vals, e_vecs = LA.eig(L_1)\n",
    "e_vals"
   ]
  },
  {
   "cell_type": "code",
   "execution_count": 6,
   "metadata": {
    "collapsed": false
   },
   "outputs": [
    {
     "data": {
      "text/plain": [
       "array([  3.00000000e+00+0.j,  -2.22044605e-16+0.j,   0.00000000e+00+0.j,\n",
       "         2.00000000e+00+0.j,   3.00000000e+00+0.j])"
      ]
     },
     "execution_count": 6,
     "metadata": {},
     "output_type": "execute_result"
    }
   ],
   "source": [
    "L_2 = kpathlaplacian(G, k=2)\n",
    "L_2\n",
    "e_vals, e_vecs = LA.eig(L_2)\n",
    "e_vals"
   ]
  },
  {
   "cell_type": "code",
   "execution_count": 7,
   "metadata": {
    "collapsed": false
   },
   "outputs": [
    {
     "data": {
      "text/plain": [
       "array([ 2.+0.j,  0.+0.j,  0.+0.j,  0.+0.j,  0.+0.j])"
      ]
     },
     "execution_count": 7,
     "metadata": {},
     "output_type": "execute_result"
    }
   ],
   "source": [
    "L_3 = kpathlaplacian(G, k=3)\n",
    "L_3\n",
    "e_vals, e_vecs = LA.eig(L_3)\n",
    "e_vals"
   ]
  },
  {
   "cell_type": "code",
   "execution_count": 8,
   "metadata": {
    "collapsed": true
   },
   "outputs": [],
   "source": [
    "G = nx.Graph()\n",
    "e_list = [(1,2),(2,3),(3,4),(4,5),(5,1)]\n",
    "G.add_edges_from(e_list)"
   ]
  },
  {
   "cell_type": "code",
   "execution_count": 12,
   "metadata": {
    "collapsed": false
   },
   "outputs": [
    {
     "data": {
      "text/plain": [
       "array([[ 2, -1,  0,  0, -1],\n",
       "       [-1,  2, -1,  0,  0],\n",
       "       [ 0, -1,  2, -1,  0],\n",
       "       [ 0,  0, -1,  2, -1],\n",
       "       [-1,  0,  0, -1,  2]], dtype=int64)"
      ]
     },
     "execution_count": 12,
     "metadata": {},
     "output_type": "execute_result"
    }
   ],
   "source": [
    "L_1 = kpathlaplacian(G, k=1)\n",
    "e_vals, e_vecs = LA.eig(L_1)\n",
    "e_vals\n",
    "L_1"
   ]
  },
  {
   "cell_type": "code",
   "execution_count": 11,
   "metadata": {
    "collapsed": false
   },
   "outputs": [
    {
     "data": {
      "text/plain": [
       "array([[ 2.,  0., -1., -1.,  0.],\n",
       "       [ 0.,  2.,  0., -1., -1.],\n",
       "       [-1.,  0.,  2.,  0., -1.],\n",
       "       [-1., -1.,  0.,  2.,  0.],\n",
       "       [ 0., -1., -1.,  0.,  2.]])"
      ]
     },
     "execution_count": 11,
     "metadata": {},
     "output_type": "execute_result"
    }
   ],
   "source": [
    "L_2 = kpathlaplacian(G, k=2)\n",
    "e_vals, e_vecs = LA.eig(L_2)\n",
    "e_vals"
   ]
  },
  {
   "cell_type": "code",
   "execution_count": 15,
   "metadata": {
    "collapsed": true
   },
   "outputs": [],
   "source": [
    "G = nx.Graph()\n",
    "e_list = [(1,2),(2,3),(3,4),(3,5),(3,1)]\n",
    "G.add_edges_from(e_list)"
   ]
  },
  {
   "cell_type": "code",
   "execution_count": 16,
   "metadata": {
    "collapsed": false
   },
   "outputs": [
    {
     "data": {
      "text/plain": [
       "array([  5.00000000e+00+0.j,   3.00000000e+00+0.j,  -2.19591591e-16+0.j,\n",
       "         1.00000000e+00+0.j,   1.00000000e+00+0.j])"
      ]
     },
     "execution_count": 16,
     "metadata": {},
     "output_type": "execute_result"
    }
   ],
   "source": [
    "L_1 = kpathlaplacian(G, k=1)\n",
    "e_vals, e_vecs = LA.eig(L_1)\n",
    "e_vals"
   ]
  },
  {
   "cell_type": "code",
   "execution_count": 17,
   "metadata": {
    "collapsed": false
   },
   "outputs": [
    {
     "data": {
      "text/plain": [
       "array([  4.00000000e+00+0.j,   2.00000000e+00+0.j,   4.07608960e-17+0.j,\n",
       "         4.00000000e+00+0.j,   0.00000000e+00+0.j])"
      ]
     },
     "execution_count": 17,
     "metadata": {},
     "output_type": "execute_result"
    }
   ],
   "source": [
    "L_2 = kpathlaplacian(G, k=2)\n",
    "e_vals, e_vecs = LA.eig(L_2)\n",
    "e_vals"
   ]
  },
  {
   "cell_type": "code",
   "execution_count": 18,
   "metadata": {
    "collapsed": false
   },
   "outputs": [
    {
     "data": {
      "text/plain": [
       "array([ 0.+0.j,  0.+0.j,  0.+0.j,  0.+0.j,  0.+0.j])"
      ]
     },
     "execution_count": 18,
     "metadata": {},
     "output_type": "execute_result"
    }
   ],
   "source": [
    "L_3 = kpathlaplacian(G, k=3)\n",
    "e_vals, e_vecs = LA.eig(L_3)\n",
    "e_vals"
   ]
  },
  {
   "cell_type": "code",
   "execution_count": 19,
   "metadata": {
    "collapsed": true
   },
   "outputs": [],
   "source": [
    "G = nx.Graph()\n",
    "e_list = [(1,2),(2,3),(3,4),(4,5),(5,1),(1,4),(2,5)]\n",
    "G.add_edges_from(e_list)"
   ]
  },
  {
   "cell_type": "code",
   "execution_count": 20,
   "metadata": {
    "collapsed": false
   },
   "outputs": [
    {
     "data": {
      "text/plain": [
       "array([ 0.+0.j,  2.+0.j,  4.+0.j,  5.+0.j,  3.+0.j])"
      ]
     },
     "execution_count": 20,
     "metadata": {},
     "output_type": "execute_result"
    }
   ],
   "source": [
    "L_1 = kpathlaplacian(G, k=1)\n",
    "e_vals, e_vecs = LA.eig(L_1)\n",
    "e_vals"
   ]
  },
  {
   "cell_type": "code",
   "execution_count": 21,
   "metadata": {
    "collapsed": false
   },
   "outputs": [
    {
     "data": {
      "text/plain": [
       "array([  3.00000000e+00+0.j,   1.00000000e+00+0.j,  -3.36770206e-17+0.j,\n",
       "         2.00000000e+00+0.j,   0.00000000e+00+0.j])"
      ]
     },
     "execution_count": 21,
     "metadata": {},
     "output_type": "execute_result"
    }
   ],
   "source": [
    "L_2 = kpathlaplacian(G, k=2)\n",
    "e_vals, e_vecs = LA.eig(L_2)\n",
    "e_vals"
   ]
  },
  {
   "cell_type": "code",
   "execution_count": 14,
   "metadata": {
    "collapsed": false
   },
   "outputs": [
    {
     "data": {
      "text/plain": [
       "array([[ 2,  0,  0, -1,  0,  0,  0,  0,  0,  0,  0,  0,  0, -1,  0,  0],\n",
       "       [ 0,  3, -1,  0,  0, -1,  0,  0,  0,  0,  0,  0,  0, -1,  0,  0],\n",
       "       [ 0, -1,  2,  0,  0,  0, -1,  0,  0,  0,  0,  0,  0,  0,  0,  0],\n",
       "       [-1,  0,  0,  3, -1,  0,  0,  0,  0,  0,  0,  0,  0,  0, -1,  0],\n",
       "       [ 0,  0,  0, -1,  4, -1,  0, -1,  0,  0,  0,  0,  0, -1,  0,  0],\n",
       "       [ 0, -1,  0,  0, -1,  4, -1,  0, -1,  0,  0,  0,  0,  0,  0,  0],\n",
       "       [ 0,  0, -1,  0,  0, -1,  3,  0,  0, -1,  0,  0,  0,  0,  0,  0],\n",
       "       [ 0,  0,  0,  0, -1,  0,  0,  4, -1,  0,  0, -1,  0,  0, -1,  0],\n",
       "       [ 0,  0,  0,  0,  0, -1,  0, -1,  4, -1,  0,  0, -1,  0,  0,  0],\n",
       "       [ 0,  0,  0,  0,  0,  0, -1,  0, -1,  3,  0,  0,  0,  0,  0, -1],\n",
       "       [ 0,  0,  0,  0,  0,  0,  0,  0,  0,  0,  2, -1,  0,  0, -1,  0],\n",
       "       [ 0,  0,  0,  0,  0,  0,  0, -1,  0,  0, -1,  3, -1,  0,  0,  0],\n",
       "       [ 0,  0,  0,  0,  0,  0,  0,  0, -1,  0,  0, -1,  3,  0,  0, -1],\n",
       "       [-1, -1,  0,  0, -1,  0,  0,  0,  0,  0,  0,  0,  0,  3,  0,  0],\n",
       "       [ 0,  0,  0, -1,  0,  0,  0, -1,  0,  0, -1,  0,  0,  0,  3,  0],\n",
       "       [ 0,  0,  0,  0,  0,  0,  0,  0,  0, -1,  0,  0, -1,  0,  0,  2]], dtype=int64)"
      ]
     },
     "execution_count": 14,
     "metadata": {},
     "output_type": "execute_result"
    }
   ],
   "source": [
    "G = nx.Graph()\n",
    "e_lst =[(1,14),(1,4),(14,2),(14,5),(2,3),(2,6),(3,7),\n",
    "       (4,5),(4,15),(5,8),(5,6),(6,9),(6,7),(7,10),\n",
    "       (15,8),(15,11),(8,9),(8,12),(9,10),(9,13),(10,16),\n",
    "       (11,12),(12,13),(13,16)]\n",
    "G.add_edges_from(e_lst)\n",
    "\n",
    "L_1 =kpathlaplacian(G, k=1)\n",
    "L_1"
   ]
  },
  {
   "cell_type": "code",
   "execution_count": 10,
   "metadata": {
    "collapsed": false
   },
   "outputs": [
    {
     "data": {
      "text/plain": [
       "array([[3, 0, 0],\n",
       "       [0, 3, 0],\n",
       "       [0, 0, 2]], dtype=int64)"
      ]
     },
     "execution_count": 10,
     "metadata": {},
     "output_type": "execute_result"
    }
   ],
   "source": [
    "L_1[13:,13:]"
   ]
  },
  {
   "cell_type": "code",
   "execution_count": 13,
   "metadata": {
    "collapsed": false
   },
   "outputs": [
    {
     "data": {
      "text/plain": [
       "matrix([[ 0.70602978],\n",
       "        [ 0.67112212],\n",
       "        [ 0.54238148],\n",
       "        [ 0.41205955],\n",
       "        [ 0.53014888],\n",
       "        [ 0.47098487],\n",
       "        [ 0.41364084],\n",
       "        [ 0.23755109],\n",
       "        [ 0.26902766],\n",
       "        [ 0.22755617],\n",
       "        [ 0.07551392],\n",
       "        [ 0.15102784],\n",
       "        [ 0.1400185 ]])"
      ]
     },
     "execution_count": 13,
     "metadata": {},
     "output_type": "execute_result"
    }
   ],
   "source": [
    "L_u = L_1[:13, :13]\n",
    "B_T = L_1[:13:,13:]\n",
    "M1 = np.matrix([[1], [0],[0]])\n",
    "R_hs = -B_T *M1\n",
    "x_l1 = np.linalg.solve(L_u, R_hs)\n",
    "x_l1"
   ]
  },
  {
   "cell_type": "code",
   "execution_count": 15,
   "metadata": {
    "collapsed": false
   },
   "outputs": [
    {
     "data": {
      "text/plain": [
       "array([[ 3., -1.,  0.,  0., -1.,  0.,  0.,  0.,  0.,  0.,  0.,  0.,  0.,\n",
       "         0., -1.,  0.],\n",
       "       [-1.,  4.,  0.,  0., -1.,  0., -1.,  0., -1.,  0.,  0.,  0.,  0.,\n",
       "         0.,  0.,  0.],\n",
       "       [ 0.,  0.,  3.,  0.,  0., -1.,  0.,  0.,  0., -1.,  0.,  0.,  0.,\n",
       "        -1.,  0.,  0.],\n",
       "       [ 0.,  0.,  0.,  4.,  0., -1.,  0., -1.,  0.,  0., -1.,  0.,  0.,\n",
       "        -1.,  0.,  0.],\n",
       "       [-1., -1.,  0.,  0.,  6.,  0., -1.,  0., -1.,  0.,  0., -1.,  0.,\n",
       "         0., -1.,  0.],\n",
       "       [ 0.,  0., -1., -1.,  0.,  6.,  0., -1.,  0., -1.,  0.,  0., -1.,\n",
       "        -1.,  0.,  0.],\n",
       "       [ 0., -1.,  0.,  0., -1.,  0.,  4.,  0., -1.,  0.,  0.,  0.,  0.,\n",
       "         0.,  0., -1.],\n",
       "       [ 0.,  0.,  0., -1.,  0., -1.,  0.,  6.,  0., -1., -1.,  0., -1.,\n",
       "        -1.,  0.,  0.],\n",
       "       [ 0., -1.,  0.,  0., -1.,  0., -1.,  0.,  6.,  0.,  0., -1.,  0.,\n",
       "         0., -1., -1.],\n",
       "       [ 0.,  0., -1.,  0.,  0., -1.,  0., -1.,  0.,  4.,  0.,  0., -1.,\n",
       "         0.,  0.,  0.],\n",
       "       [ 0.,  0.,  0., -1.,  0.,  0.,  0., -1.,  0.,  0.,  3.,  0., -1.,\n",
       "         0.,  0.,  0.],\n",
       "       [ 0.,  0.,  0.,  0., -1.,  0.,  0.,  0., -1.,  0.,  0.,  4.,  0.,\n",
       "         0., -1., -1.],\n",
       "       [ 0.,  0.,  0.,  0.,  0., -1.,  0., -1.,  0., -1., -1.,  0.,  4.,\n",
       "         0.,  0.,  0.],\n",
       "       [ 0.,  0., -1., -1.,  0., -1.,  0., -1.,  0.,  0.,  0.,  0.,  0.,\n",
       "         4.,  0.,  0.],\n",
       "       [-1.,  0.,  0.,  0., -1.,  0.,  0.,  0., -1.,  0.,  0., -1.,  0.,\n",
       "         0.,  4.,  0.],\n",
       "       [ 0.,  0.,  0.,  0.,  0.,  0., -1.,  0., -1.,  0.,  0., -1.,  0.,\n",
       "         0.,  0.,  3.]])"
      ]
     },
     "execution_count": 15,
     "metadata": {},
     "output_type": "execute_result"
    }
   ],
   "source": [
    "L_2 =kpathlaplacian(G, k=2)\n",
    "L_2"
   ]
  },
  {
   "cell_type": "code",
   "execution_count": null,
   "metadata": {
    "collapsed": true
   },
   "outputs": [],
   "source": []
  }
 ],
 "metadata": {
  "kernelspec": {
   "display_name": "Python 3",
   "language": "python",
   "name": "python3"
  },
  "language_info": {
   "codemirror_mode": {
    "name": "ipython",
    "version": 3
   },
   "file_extension": ".py",
   "mimetype": "text/x-python",
   "name": "python",
   "nbconvert_exporter": "python",
   "pygments_lexer": "ipython3",
   "version": "3.5.3"
  }
 },
 "nbformat": 4,
 "nbformat_minor": 2
}
