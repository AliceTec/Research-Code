{
 "cells": [
  {
   "cell_type": "code",
   "execution_count": 1,
   "metadata": {
    "collapsed": true
   },
   "outputs": [],
   "source": [
    "import numpy as np\n",
    "from skimage.morphology import watershed\n",
    "from skimage.feature import peak_local_max\n",
    "from skimage import measure\n",
    "from skimage.segmentation import random_walker\n",
    "import matplotlib.pyplot as plt\n",
    "from scipy import ndimage\n",
    "\n",
    "# Generate an initial image with two overlapping circles\n",
    "x, y = np.indices((80, 80))\n",
    "x1, y1, x2, y2 = 28, 28, 44, 52\n",
    "r1, r2 = 16, 20\n",
    "mask_circle1 = (x - x1) ** 2 + (y - y1) ** 2 < r1 ** 2\n",
    "mask_circle2 = (x - x2) ** 2 + (y - y2) ** 2 < r2 ** 2\n",
    "image = np.logical_or(mask_circle1, mask_circle2)\n",
    "# Now we want to separate the two objects in image\n",
    "# Generate the markers as local maxima of the distance\n",
    "# to the background\n",
    "distance = ndimage.distance_transform_edt(image)\n",
    "local_maxi = peak_local_max(\n",
    "    distance, indices=False, footprint=np.ones((3, 3)), labels=image)\n",
    "markers = measure.label(local_maxi)\n",
    "labels_ws = watershed(-distance, markers, mask=image)"
   ]
  },
  {
   "cell_type": "code",
   "execution_count": 5,
   "metadata": {
    "collapsed": false
   },
   "outputs": [
    {
     "data": {
      "text/plain": [
       "(80, 80)"
      ]
     },
     "execution_count": 5,
     "metadata": {},
     "output_type": "execute_result"
    }
   ],
   "source": [
    "image.shape"
   ]
  },
  {
   "cell_type": "code",
   "execution_count": 16,
   "metadata": {
    "collapsed": false
   },
   "outputs": [
    {
     "data": {
      "text/plain": [
       "0"
      ]
     },
     "execution_count": 16,
     "metadata": {},
     "output_type": "execute_result"
    }
   ],
   "source": [
    "markers[50,50]"
   ]
  },
  {
   "cell_type": "code",
   "execution_count": 23,
   "metadata": {
    "collapsed": false
   },
   "outputs": [
    {
     "data": {
      "image/png": "[encoded data removed]",
      "text/plain": [
       "<matplotlib.figure.Figure at 0x7fad882e5160>"
      ]
     },
     "metadata": {},
     "output_type": "display_data"
    }
   ],
   "source": [
    "import matplotlib.pyplot as plt\n",
    "import matplotlib.image as mpimg\n",
    "import numpy as np\n",
    "\n",
    "np.random.seed(0)\n",
    "a = np.zeros((10, 10)) + 0.2 * np.random.rand(10, 10)\n",
    "a[5:8, 5:8] += 1\n",
    "b = np.zeros_like(a)\n",
    "b[3, 3] = 1  # Marker for first phase\n",
    "b[6, 6] = 2  # Marker for second phase\n",
    "ll = random_walker(a, b)\n",
    "imgplot = plt.imshow(ll)\n",
    "plt.show()\n"
   ]
  },
  {
   "cell_type": "code",
   "execution_count": 20,
   "metadata": {
    "collapsed": false
   },
   "outputs": [
    {
     "data": {
      "text/plain": [
       "array([[ 0.,  0.,  0.,  0.,  0.,  0.,  0.,  0.,  0.,  0.],\n",
       "       [ 0.,  0.,  0.,  0.,  0.,  0.,  0.,  0.,  0.,  0.],\n",
       "       [ 0.,  0.,  0.,  0.,  0.,  0.,  0.,  0.,  0.,  0.],\n",
       "       [ 0.,  0.,  0.,  1.,  0.,  0.,  0.,  0.,  0.,  0.],\n",
       "       [ 0.,  0.,  0.,  0.,  0.,  0.,  0.,  0.,  0.,  0.],\n",
       "       [ 0.,  0.,  0.,  0.,  0.,  0.,  0.,  0.,  0.,  0.],\n",
       "       [ 0.,  0.,  0.,  0.,  0.,  0.,  2.,  0.,  0.,  0.],\n",
       "       [ 0.,  0.,  0.,  0.,  0.,  0.,  0.,  0.,  0.,  0.],\n",
       "       [ 0.,  0.,  0.,  0.,  0.,  0.,  0.,  0.,  0.,  0.],\n",
       "       [ 0.,  0.,  0.,  0.,  0.,  0.,  0.,  0.,  0.,  0.]])"
      ]
     },
     "execution_count": 20,
     "metadata": {},
     "output_type": "execute_result"
    }
   ],
   "source": [
    "b"
   ]
  },
  {
   "cell_type": "code",
   "execution_count": 21,
   "metadata": {
    "collapsed": false
   },
   "outputs": [
    {
     "data": {
      "text/plain": [
       "array([[  1.09762701e-01,   1.43037873e-01,   1.20552675e-01,\n",
       "          1.08976637e-01,   8.47309599e-02,   1.29178823e-01,\n",
       "          8.75174423e-02,   1.78354600e-01,   1.92732552e-01,\n",
       "          7.66883038e-02],\n",
       "       [  1.58345008e-01,   1.05778984e-01,   1.13608912e-01,\n",
       "          1.85119328e-01,   1.42072116e-02,   1.74258599e-02,\n",
       "          4.04367949e-03,   1.66523969e-01,   1.55631350e-01,\n",
       "          1.74002430e-01],\n",
       "       [  1.95723668e-01,   1.59831713e-01,   9.22958725e-02,\n",
       "          1.56105835e-01,   2.36548852e-02,   1.27984204e-01,\n",
       "          2.86706575e-02,   1.88933783e-01,   1.04369664e-01,\n",
       "          8.29323880e-02],\n",
       "       [  5.29111224e-02,   1.54846738e-01,   9.12300664e-02,\n",
       "          1.13686790e-01,   3.75796009e-03,   1.23527099e-01,\n",
       "          1.22419145e-01,   1.23386799e-01,   1.88749616e-01,\n",
       "          1.36364060e-01],\n",
       "       [  7.19015801e-02,   8.74063908e-02,   1.39526239e-01,\n",
       "          1.20450943e-02,   1.33353343e-01,   1.34127574e-01,\n",
       "          4.20765122e-02,   2.57852595e-02,   6.30856702e-02,\n",
       "          7.27421542e-02],\n",
       "       [  1.14039354e-01,   8.77203027e-02,   1.97674768e-01,\n",
       "          2.04089621e-02,   4.17753512e-02,   1.03226190e+00,\n",
       "          1.13062167e+00,   1.05065832e+00,   9.32621546e-02,\n",
       "          4.88851184e-02],\n",
       "       [  3.17939167e-02,   2.20750282e-02,   1.31265918e-01,\n",
       "          2.76365903e-02,   3.93164723e-02,   1.07374503e+00,\n",
       "          1.16419865e+00,   1.01942026e+00,   1.67588981e-01,\n",
       "          1.92196816e-02],\n",
       "       [  1.95291893e-01,   9.37302403e-02,   1.95352218e-01,\n",
       "          1.20969104e-01,   1.47852716e-01,   1.00783756e+00,\n",
       "          1.05656139e+00,   1.02403931e+00,   5.92280395e-02,\n",
       "          2.37455438e-02],\n",
       "       [  6.35966359e-02,   8.28525989e-02,   1.28294993e-02,\n",
       "          1.38494424e-01,   1.13320291e-01,   5.30778982e-02,\n",
       "          1.04649611e-01,   1.87881022e-02,   1.15189299e-01,\n",
       "          1.85859240e-01],\n",
       "       [  6.37137905e-02,   1.33482076e-01,   2.63595725e-02,\n",
       "          1.43265441e-01,   5.78812186e-02,   3.66382724e-02,\n",
       "          1.17302587e-01,   4.02150924e-03,   1.65788006e-01,\n",
       "          9.39095239e-04]])"
      ]
     },
     "execution_count": 21,
     "metadata": {},
     "output_type": "execute_result"
    }
   ],
   "source": [
    "a"
   ]
  },
  {
   "cell_type": "code",
   "execution_count": 19,
   "metadata": {
    "collapsed": false
   },
   "outputs": [
    {
     "data": {
      "image/png": "[encoded data removed]",
      "text/plain": [
       "<matplotlib.figure.Figure at 0x7fadb41c3748>"
      ]
     },
     "metadata": {},
     "output_type": "display_data"
    }
   ],
   "source": [
    "import matplotlib.pyplot as plt\n",
    "import matplotlib.image as mpimg\n",
    "import numpy as np\n",
    "\n",
    "imgplot = plt.imshow(a)\n",
    "plt.show()"
   ]
  },
  {
   "cell_type": "code",
   "execution_count": null,
   "metadata": {
    "collapsed": true
   },
   "outputs": [],
   "source": []
  }
 ],
 "metadata": {
  "kernelspec": {
   "display_name": "Python 3",
   "language": "python",
   "name": "python3"
  },
  "language_info": {
   "codemirror_mode": {
    "name": "ipython",
    "version": 3
   },
   "file_extension": ".py",
   "mimetype": "text/x-python",
   "name": "python",
   "nbconvert_exporter": "python",
   "pygments_lexer": "ipython3",
   "version": "3.5.3"
  }
 },
 "nbformat": 4,
 "nbformat_minor": 2
}
