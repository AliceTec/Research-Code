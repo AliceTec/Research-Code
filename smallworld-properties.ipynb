{
 "cells": [
  {
   "cell_type": "code",
   "execution_count": 1,
   "metadata": {
    "collapsed": false
   },
   "outputs": [
    {
     "data": {
      "image/png": "[encoded data removed]",
      "text/plain": [
       "<matplotlib.figure.Figure at 0x7f44505b39d0>"
      ]
     },
     "metadata": {},
     "output_type": "display_data"
    }
   ],
   "source": [
    "from __future__ import division\n",
    "\n",
    "import networkx as nx\n",
    "import pylab as pb\n",
    "\n",
    "rho=file('CLphd.txt','w')\n",
    "N=1000\n",
    "k=10\n",
    "prob=[0,0.00025,0.000375,0.0005,0.000625,0.00075,0.000875,0.001,0.002,0.003,0.004,0.005,0.006,0.007,0.008,0.009,0.01,0.02,0.03,0.04,0.05,0.06,0.07,0.08,0.09,0.1,0.15,0.2,0.25,0.3,0.35,0.4,0.45,0.5,0.55,0.6,0.65,0.70,0.75,0.8,0.85,0.9,0.95,1]\n",
    "\n",
    "C=[]\n",
    "L=[]\n",
    "\n",
    "niter=50\n",
    "for p in prob:\n",
    "    s1=0\n",
    "    s2=0\n",
    "    for j in range(niter):\n",
    "        g2=nx.connected_watts_strogatz_graph(N, k, p)\n",
    "    av=nx.average_clustering(g2)\n",
    "    ap=nx.average_shortest_path_length(g2)\n",
    "    s1=s1+av/niter\n",
    "    s2=s2+ap/niter\n",
    "    C.append(s1)\n",
    "    L.append(s2)\n",
    "Cp=[n/C[0] for n in C]   \n",
    "Lp=[n1/L[0] for n1 in L]   \n",
    "for i in Cp:\n",
    "    print >> rho, i,\n",
    "print >> rho, ''\n",
    "for j in Lp:\n",
    "    print >> rho, j,\n",
    "rho.close()\n",
    "pb.figure(2)\n",
    "pb.semilogx(prob,Cp,'s')\n",
    "pb.semilogx(prob,Lp,'o')\n",
    "pb.xlabel('p')\n",
    "pb.show()"
   ]
  },
  {
   "cell_type": "code",
   "execution_count": null,
   "metadata": {
    "collapsed": true
   },
   "outputs": [],
   "source": []
  }
 ],
 "metadata": {
  "kernelspec": {
   "display_name": "Python 2",
   "language": "python",
   "name": "python2"
  },
  "language_info": {
   "codemirror_mode": {
    "name": "ipython",
    "version": 2
   },
   "file_extension": ".py",
   "mimetype": "text/x-python",
   "name": "python",
   "nbconvert_exporter": "python",
   "pygments_lexer": "ipython2",
   "version": "2.7.13"
  }
 },
 "nbformat": 4,
 "nbformat_minor": 2
}
