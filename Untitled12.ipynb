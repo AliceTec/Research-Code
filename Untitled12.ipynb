{
 "cells": [
  {
   "cell_type": "code",
   "execution_count": null,
   "metadata": {
    "collapsed": true
   },
   "outputs": [],
   "source": [
    "import networkx as nx\n",
    "import numpy as np\n",
    "import matplotlib.pyplot as plt\n",
    "from scipy.linalg import eigvals\n",
    "\n",
    "G1 = nx.Graph([(1,2),(2,3),(3,4),(4,1)])\n",
    "G2 = nx.Graph([(1,2),(2,3),(3,4),(4,5),(5,1)])\n",
    "G3 = nx.Graph([(1,2),(2,3),(2,4),(4,5),(5,8),(8,7),(7,6),(6,3),(1,9),\n",
    "              (9,10),(10,12),(12,14),(14,15),(15,13),(13,11),(11,9)])\n",
    "l1 = eigvals(nx.normalized_laplacian_matrix(G1).todense())\n",
    "l2 = eigvals(nx.normalized_laplacian_matrix(G2).todense())\n",
    "l3 = eigvals(nx.normalized_laplacian_matrix(G3).todense())\n",
    "print(l1)\n",
    "time = np.arange(0,11,0.5)\n",
    "\n",
    "T1=[]\n",
    "T2=[]\n",
    "T3 = []\n",
    "TT=[]\n",
    "for t in time:\n",
    "    T1.append(np.sum(np.exp(-t*(l1))))\n",
    "    T2.append(np.sum(np.exp(-t*(l2))))\n",
    "    T3.append(np.sum(np.exp(-t*(l3))))\n",
    "\n",
    "plt.plot(time,T1)\n",
    "plt.plot(time,T2)\n",
    "plt.plot(time,T3)\n",
    "plt.show()"
   ]
  }
 ],
 "metadata": {
  "kernelspec": {
   "display_name": "Python 3",
   "language": "python",
   "name": "python3"
  },
  "language_info": {
   "codemirror_mode": {
    "name": "ipython",
    "version": 3
   },
   "file_extension": ".py",
   "mimetype": "text/x-python",
   "name": "python",
   "nbconvert_exporter": "python",
   "pygments_lexer": "ipython3",
   "version": "3.5.3"
  }
 },
 "nbformat": 4,
 "nbformat_minor": 2
}
