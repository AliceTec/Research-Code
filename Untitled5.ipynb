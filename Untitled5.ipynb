{
 "cells": [
  {
   "cell_type": "code",
   "execution_count": 3,
   "metadata": {
    "collapsed": false
   },
   "outputs": [],
   "source": [
    "import networkx as nx\n",
    "\n",
    "G = nx.Graph()\n",
    "e_lst = [(1,2),(1,5),(2,3),(2,6),(3,4),(3,7),(4,8),\n",
    "        (5,6),(5,9),(6,7),(6,10),(7,8),(7,11),(8,12),\n",
    "        (9,10),(9,13),(10,11),(10,14),(11,12),(11,15),(12,16),\n",
    "        (13,14),(14,15),(15,16)]\n",
    "G.add_edges_from(e_lst)\n",
    "L = nx.laplacian_matrix(G, nodelist= [9,2,16,1,3,4,5,6,7,8,10,11,12,13,14,15])\n",
    "L = L.todense()\n"
   ]
  },
  {
   "cell_type": "code",
   "execution_count": 4,
   "metadata": {
    "collapsed": true
   },
   "outputs": [],
   "source": [
    "import networkx as nx\n",
    "import numpy as np\n",
    "\n",
    "def kpathlaplacian(G, k, nodelist=G.nodes()):\n",
    "    if k==1:\n",
    "        L = nx.laplacian_matrix(G, nodelist).toarray()\n",
    "    else:\n",
    "        nsize = len(nodelist)\n",
    "        L = np.zeros(shape=(nsize,nsize))\n",
    "        i=1\n",
    "        for n in nodelist:\n",
    "            for m in nodelist[i:]:\n",
    "                if((nx.shortest_path_length(G, source=n, target=m))==k):\n",
    "                    L[n-1,m-1]= L[m-1,n-1]= -1\n",
    "            i = i+1\n",
    "            L[n-1,n-1] = np.sum(L[n-1]*-1)\n",
    "    return L                 "
   ]
  },
  {
   "cell_type": "code",
   "execution_count": 6,
   "metadata": {
    "collapsed": false
   },
   "outputs": [],
   "source": [
    "nlist = [9,2,16,1,3,4,5,6,7,8,10,11,12,13,14,15]\n",
    "\n",
    "L_1 =kpathlaplacian(G, k=1, nodelist=nlist)\n",
    "L_2 = (1/4)* (kpathlaplacian(G, k=2, nodelist=nlist))\n",
    "L_3 = (1/9)*(kpathlaplacian(G, k=3, nodelist=nlist))\n",
    "L_4 = (1/16)*(kpathlaplacian(G, k=4, nodelist=nlist))\n",
    "L_5 = (1/25)*(kpathlaplacian(G, k=5, nodelist=nlist))\n",
    "L_6 = (1/36)*(kpathlaplacian(G, k=6, nodelist=nlist))\n",
    "L = L_1+L_2+L_3+L_4+L_5+L_6"
   ]
  },
  {
   "cell_type": "code",
   "execution_count": 7,
   "metadata": {
    "collapsed": false
   },
   "outputs": [
    {
     "data": {
      "text/plain": [
       "matrix([[ 0.27571606],\n",
       "        [ 0.24481594],\n",
       "        [ 0.33881738],\n",
       "        [ 0.44215554],\n",
       "        [ 0.30098701],\n",
       "        [ 0.34047112],\n",
       "        [ 0.30826177],\n",
       "        [ 0.43260612],\n",
       "        [ 0.32866253],\n",
       "        [ 0.25930856],\n",
       "        [ 0.52472333],\n",
       "        [ 0.37451233],\n",
       "        [ 0.2763215 ]])"
      ]
     },
     "execution_count": 7,
     "metadata": {},
     "output_type": "execute_result"
    }
   ],
   "source": [
    "L_u = L[3:,3:]\n",
    "B_T = L[3:,:3]\n",
    "M1 = np.matrix([[1], [0],[0]])\n",
    "R_hs = -B_T *M1\n",
    "x_l1 = np.linalg.solve(L_u, R_hs)\n",
    "x_l1"
   ]
  },
  {
   "cell_type": "code",
   "execution_count": 8,
   "metadata": {
    "collapsed": false
   },
   "outputs": [
    {
     "data": {
      "text/plain": [
       "matrix([[ 0.57874732],\n",
       "        [ 0.52249658],\n",
       "        [ 0.35314686],\n",
       "        [ 0.38429369],\n",
       "        [ 0.45573481],\n",
       "        [ 0.38511049],\n",
       "        [ 0.3653208 ],\n",
       "        [ 0.29488854],\n",
       "        [ 0.32475528],\n",
       "        [ 0.27376654],\n",
       "        [ 0.25150029],\n",
       "        [ 0.3009613 ],\n",
       "        [ 0.25865803]])"
      ]
     },
     "execution_count": 8,
     "metadata": {},
     "output_type": "execute_result"
    }
   ],
   "source": [
    "L_u = L[3:,3:]\n",
    "B_T = L[3:,:3]\n",
    "M2 = np.matrix([[0], [1],[0]])\n",
    "R_hs = -B_T *M2\n",
    "x_l2 = np.linalg.solve(L_u, R_hs)\n",
    "x_l2"
   ]
  },
  {
   "cell_type": "code",
   "execution_count": 9,
   "metadata": {
    "collapsed": false
   },
   "outputs": [
    {
     "data": {
      "text/plain": [
       "matrix([[ 0.14553663],\n",
       "        [ 0.23268748],\n",
       "        [ 0.30803576],\n",
       "        [ 0.17355077],\n",
       "        [ 0.24327818],\n",
       "        [ 0.27441838],\n",
       "        [ 0.32641743],\n",
       "        [ 0.27250535],\n",
       "        [ 0.34658219],\n",
       "        [ 0.4669249 ],\n",
       "        [ 0.22377638],\n",
       "        [ 0.32452637],\n",
       "        [ 0.46502047]])"
      ]
     },
     "execution_count": 9,
     "metadata": {},
     "output_type": "execute_result"
    }
   ],
   "source": [
    "L_u = L[3:,3:]\n",
    "B_T = L[3:,:3]\n",
    "M3 = np.matrix([[0], [0],[1]])\n",
    "R_hs = -B_T *M3\n",
    "x_l3 = np.linalg.solve(L_u, R_hs)\n",
    "x_l3"
   ]
  },
  {
   "cell_type": "code",
   "execution_count": null,
   "metadata": {
    "collapsed": true
   },
   "outputs": [],
   "source": []
  }
 ],
 "metadata": {
  "kernelspec": {
   "display_name": "Python 3",
   "language": "python",
   "name": "python3"
  },
  "language_info": {
   "codemirror_mode": {
    "name": "ipython",
    "version": 3
   },
   "file_extension": ".py",
   "mimetype": "text/x-python",
   "name": "python",
   "nbconvert_exporter": "python",
   "pygments_lexer": "ipython3",
   "version": "3.5.3"
  }
 },
 "nbformat": 4,
 "nbformat_minor": 2
}
