{
 "cells": [
  {
   "cell_type": "code",
   "execution_count": 11,
   "metadata": {
    "collapsed": false
   },
   "outputs": [
    {
     "data": {
      "text/plain": [
       "matrix([[ 0.,  2.,  1.,  4.],\n",
       "        [ 2.,  0.,  3.,  2.],\n",
       "        [ 1.,  3.,  0.,  5.],\n",
       "        [ 4.,  2.,  5.,  0.]])"
      ]
     },
     "execution_count": 11,
     "metadata": {},
     "output_type": "execute_result"
    }
   ],
   "source": [
    "import numpy as np\n",
    "import networkx as nx\n",
    "from numpy import linalg as LA\n",
    "\n",
    "G = nx.Graph()\n",
    "edgelst = [(1,2,2.0),(1,3,1.0),(2,3,3.0),(2,4,2.0)]\n",
    "G.add_weighted_edges_from(edgelst)\n",
    "path = nx.all_pairs_dijkstra_path(G, weight='weight')\n",
    "D = nx.floyd_warshall_numpy(G, weight='weight')\n",
    "D"
   ]
  },
  {
   "cell_type": "code",
   "execution_count": 11,
   "metadata": {
    "collapsed": false
   },
   "outputs": [
    {
     "data": {
      "text/plain": [
       "matrix([[ 0. ,  1. ,  2. ,  1. ,  4. ,  3. ,  5. ,  2.5,  6. ],\n",
       "        [ 1. ,  0. ,  1. ,  2. ,  3.5,  4. ,  4.5,  2. ,  5.5],\n",
       "        [ 2. ,  1. ,  0. ,  3. ,  3. ,  5. ,  5.5,  3. ,  6.5],\n",
       "        [ 1. ,  2. ,  3. ,  0. ,  3. ,  2. ,  4. ,  1.5,  5. ],\n",
       "        [ 4. ,  3.5,  3. ,  3. ,  0. ,  5. ,  4. ,  1.5,  4. ],\n",
       "        [ 3. ,  4. ,  5. ,  2. ,  5. ,  0. ,  3. ,  3.5,  4. ],\n",
       "        [ 5. ,  4.5,  5.5,  4. ,  4. ,  3. ,  0. ,  2.5,  1. ],\n",
       "        [ 2.5,  2. ,  3. ,  1.5,  1.5,  3.5,  2.5,  0. ,  3.5],\n",
       "        [ 6. ,  5.5,  6.5,  5. ,  4. ,  4. ,  1. ,  3.5,  0. ]])"
      ]
     },
     "execution_count": 11,
     "metadata": {},
     "output_type": "execute_result"
    }
   ],
   "source": [
    "\n",
    "#3by3 lattice\n",
    "\n",
    "import numpy as np\n",
    "import networkx as nx\n",
    "from numpy import linalg as LA\n",
    "\n",
    "G = nx.Graph()\n",
    "edgelst = [(1,2,1.0),(1,4,1.0),(2,3,1.0),(2,8,2.0),(3,5,3.0),(4,8,1.5),\n",
    "          (4,6,2.0),(6,7,3.0),(8,5,1.5),(8,7,2.5),(5,9,4.0),(7,9,1.0)]\n",
    "G.add_weighted_edges_from(edgelst)\n",
    "D = nx.floyd_warshall_numpy(G, weight='weight')\n",
    "D"
   ]
  },
  {
   "cell_type": "code",
   "execution_count": 15,
   "metadata": {
    "collapsed": false
   },
   "outputs": [
    {
     "name": "stdout",
     "output_type": "stream",
     "text": [
      "[[        nan  1.          0.25        1.          0.14814815  0.375\n",
      "   0.18518519  0.3125      0.09375   ]\n",
      " [ 1.                 nan  1.          0.25        0.4375      0.14814815\n",
      "   0.5625      2.          0.2037037 ]\n",
      " [ 0.25        1.                 nan  0.11111111  3.          0.078125\n",
      "   0.2037037   0.375       0.8125    ]\n",
      " [ 1.          0.25        0.11111111         nan  0.375       2.          0.5\n",
      "   1.5         0.18518519]\n",
      " [ 0.14814815  0.4375      3.          0.375              nan  0.18518519\n",
      "   0.5         1.5         4.        ]\n",
      " [ 0.375       0.14814815  0.078125    2.          0.18518519         nan\n",
      "   3.          0.4375      0.5       ]\n",
      " [ 0.18518519  0.5625      0.2037037   0.5         0.5         3.\n",
      "          nan  2.5         1.        ]\n",
      " [ 0.3125      2.          0.375       1.5         1.5         0.4375      2.5\n",
      "          nan  0.4375    ]\n",
      " [ 0.09375     0.2037037   0.8125      0.18518519  4.          0.5         1.\n",
      "   0.4375             nan]]\n"
     ]
    },
    {
     "name": "stderr",
     "output_type": "stream",
     "text": [
      "/usr/lib/python3/dist-packages/ipykernel/__main__.py:4: RuntimeWarning: invalid value encountered in true_divide\n"
     ]
    }
   ],
   "source": [
    "D1 = nx.floyd_warshall_numpy(G, weight='None')\n",
    "D1\n",
    "v = np.power(D1,3)\n",
    "vv = np.divide(D,v)\n",
    "print(vv)"
   ]
  },
  {
   "cell_type": "code",
   "execution_count": 21,
   "metadata": {
    "collapsed": false
   },
   "outputs": [
    {
     "name": "stdout",
     "output_type": "stream",
     "text": [
      "{1: 2, 2: 3, 3: 3, 4: 3, 5: 4, 6: 2, 7: 3, 8: 3, 9: 2, 10: 4, 11: 3, 12: 2}\n"
     ]
    },
    {
     "data": {
      "text/plain": [
       "matrix([[ 0. ,  1. ,  2. ,  1. ,  4. ,  3. ,  5. ,  5.5,  6.5,  2.5,  6. ,\n",
       "          4. ],\n",
       "        [ 1. ,  0. ,  1. ,  2. ,  3.5,  4. ,  4.5,  4.5,  5.5,  2. ,  5.5,\n",
       "          3. ],\n",
       "        [ 2. ,  1. ,  0. ,  3. ,  3. ,  5. ,  5.5,  3.5,  4.5,  3. ,  5.5,\n",
       "          2. ],\n",
       "        [ 1. ,  2. ,  3. ,  0. ,  3. ,  2. ,  4. ,  6. ,  6. ,  1.5,  5. ,\n",
       "          5. ],\n",
       "        [ 4. ,  3.5,  3. ,  3. ,  0. ,  5. ,  4. ,  3. ,  4. ,  1.5,  4. ,\n",
       "          4.5],\n",
       "        [ 3. ,  4. ,  5. ,  2. ,  5. ,  0. ,  3. ,  6. ,  5. ,  3.5,  4. ,\n",
       "          7. ],\n",
       "        [ 5. ,  4.5,  5.5,  4. ,  4. ,  3. ,  0. ,  3. ,  2. ,  2.5,  1. ,\n",
       "          4.5],\n",
       "        [ 5.5,  4.5,  3.5,  6. ,  3. ,  6. ,  3. ,  0. ,  1. ,  4.5,  2. ,\n",
       "          1.5],\n",
       "        [ 6.5,  5.5,  4.5,  6. ,  4. ,  5. ,  2. ,  1. ,  0. ,  4.5,  1. ,\n",
       "          2.5],\n",
       "        [ 2.5,  2. ,  3. ,  1.5,  1.5,  3.5,  2.5,  4.5,  4.5,  0. ,  3.5,\n",
       "          5. ],\n",
       "        [ 6. ,  5.5,  5.5,  5. ,  4. ,  4. ,  1. ,  2. ,  1. ,  3.5,  0. ,\n",
       "          3.5],\n",
       "        [ 4. ,  3. ,  2. ,  5. ,  4.5,  7. ,  4.5,  1.5,  2.5,  5. ,  3.5,\n",
       "          0. ]])"
      ]
     },
     "execution_count": 21,
     "metadata": {},
     "output_type": "execute_result"
    }
   ],
   "source": [
    "#4by3 lattice\n",
    "\n",
    "import numpy as np\n",
    "import networkx as nx\n",
    "from numpy import linalg as LA\n",
    "\n",
    "G = nx.Graph()\n",
    "edgelst = [(1,2,1.0),(1,4,1.0),(2,3,1.0),(2,10,2.0),(3,5,3.0),(3,12,2.0),\n",
    "           (4,10,1.5),\n",
    "          (4,6,2.0),(6,7,3.0),(10,5,1.5),(10,7,2.5),(5,11,4.0),(5,8,3.0),\n",
    "           (8,12,1.5),\n",
    "           (8,9,1.0),(11,9,1.0),(7,11,1.0)]\n",
    "G.add_weighted_edges_from(edgelst)\n",
    "print(nx.degree(G))\n",
    "D = nx.floyd_warshall_numpy(G, weight='weight')\n",
    "D"
   ]
  },
  {
   "cell_type": "code",
   "execution_count": 23,
   "metadata": {
    "collapsed": false
   },
   "outputs": [
    {
     "name": "stdout",
     "output_type": "stream",
     "text": [
      "[[   0.    1.    8.    1.   27.    8.   27.   64.  125.    8.   64.   27.]\n",
      " [   1.    0.    1.    8.    8.   27.    8.   27.   64.    1.   27.    8.]\n",
      " [   8.    1.    0.   27.    1.   64.   27.    8.   27.    8.    8.    1.]\n",
      " [   1.    8.   27.    0.    8.    1.    8.   27.   64.    1.   27.   64.]\n",
      " [  27.    8.    1.    8.    0.   27.    8.    1.    8.    1.    1.    8.]\n",
      " [   8.   27.   64.    1.   27.    0.    1.   64.   27.    8.    8.  125.]\n",
      " [  27.    8.   27.    8.    8.    1.    0.   27.    8.    1.    1.   64.]\n",
      " [  64.   27.    8.   27.    1.   64.   27.    0.    1.    8.    8.    1.]\n",
      " [ 125.   64.   27.   64.    8.   27.    8.    1.    0.   27.    1.    8.]\n",
      " [   8.    1.    8.    1.    1.    8.    1.    8.   27.    0.    8.   27.]\n",
      " [  64.   27.    8.   27.    1.    8.    1.    8.    1.    8.    0.   27.]\n",
      " [  27.    8.    1.   64.    8.  125.   64.    1.    8.   27.   27.    0.]]\n"
     ]
    }
   ],
   "source": [
    "D1 = nx.floyd_warshall_numpy(G, weight='None')\n",
    "D1\n",
    "v = np.power(D1,3)\n",
    "print(v)"
   ]
  },
  {
   "cell_type": "code",
   "execution_count": 12,
   "metadata": {
    "collapsed": false
   },
   "outputs": [
    {
     "name": "stdout",
     "output_type": "stream",
     "text": [
      "[ -9.43689571e-16   1.00000000e+00   3.00000000e+00   4.00000000e+00]\n",
      "[[  5.00000000e-01  -4.08248290e-01   7.07106781e-01   2.88675135e-01]\n",
      " [  5.00000000e-01   2.22044605e-16  -6.66133815e-16  -8.66025404e-01]\n",
      " [  5.00000000e-01  -4.08248290e-01  -7.07106781e-01   2.88675135e-01]\n",
      " [  5.00000000e-01   8.16496581e-01   2.22044605e-16   2.88675135e-01]]\n"
     ]
    }
   ],
   "source": [
    "import numpy as np\n",
    "import numpy.linalg as lp\n",
    "\n",
    "m = np.matrix([[2,-1,-1,0], [-1,3,-1,-1],[-1,-1,2,0],[0,-1,0,1]])\n",
    "a,v = lp.eigh(m)\n",
    "print(a)\n",
    "print(v)"
   ]
  },
  {
   "cell_type": "code",
   "execution_count": 14,
   "metadata": {
    "collapsed": false
   },
   "outputs": [
    {
     "name": "stdout",
     "output_type": "stream",
     "text": [
      "[ -1.22625389e-15   2.11176399e+00   4.38492837e+00   9.50330763e+00]\n",
      "[[-0.5        -0.46215823  0.7056588  -0.19610054]\n",
      " [-0.5        -0.04618527 -0.14773641  0.85208032]\n",
      " [-0.5        -0.31813504 -0.68181409 -0.42885853]\n",
      " [-0.5         0.82647854  0.12389169 -0.22712125]]\n"
     ]
    }
   ],
   "source": [
    "m = np.matrix([[3,-2,-1,0], [-2,7,-3,-2],[-1,-3,4,0],[0,-2,0,2]])\n",
    "a,v = lp.eigh(m)\n",
    "print(a)\n",
    "print(v)"
   ]
  },
  {
   "cell_type": "code",
   "execution_count": null,
   "metadata": {
    "collapsed": true
   },
   "outputs": [],
   "source": []
  }
 ],
 "metadata": {
  "kernelspec": {
   "display_name": "Python 3",
   "language": "python",
   "name": "python3"
  },
  "language_info": {
   "codemirror_mode": {
    "name": "ipython",
    "version": 3
   },
   "file_extension": ".py",
   "mimetype": "text/x-python",
   "name": "python",
   "nbconvert_exporter": "python",
   "pygments_lexer": "ipython3",
   "version": "3.5.3"
  }
 },
 "nbformat": 4,
 "nbformat_minor": 2
}
