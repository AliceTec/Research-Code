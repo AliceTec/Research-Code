{
 "cells": [
  {
   "cell_type": "code",
   "execution_count": 8,
   "metadata": {
    "collapsed": false
   },
   "outputs": [
    {
     "name": "stdout",
     "output_type": "stream",
     "text": [
      "{'e': 2, 'a': 0, 'b': 1, 'd': 2, 'c': 1}\n"
     ]
    }
   ],
   "source": [
    "import networkx as nx\n",
    "\n",
    "G=nx.Graph()\n",
    "\n",
    "G.add_edge('a','b',weight=1)\n",
    "G.add_edge('a','c',weight=1)\n",
    "G.add_edge('c','d',weight=1)\n",
    "G.add_edge('c','e',weight=1)\n",
    "length = nx.single_source_dijkstra_path_length(G,'a')\n",
    "print(length)"
   ]
  },
  {
   "cell_type": "code",
   "execution_count": 1,
   "metadata": {
    "collapsed": false
   },
   "outputs": [
    {
     "name": "stdout",
     "output_type": "stream",
     "text": [
      "{'c': 5.0, 'd': 15.0, 'a': 0, 'b': 1.6666666666666667, 'e': 6.428571428571429}\n"
     ]
    }
   ],
   "source": [
    "import networkx as nx\n",
    "\n",
    "G=nx.Graph()\n",
    "\n",
    "G.add_edge('a','b',weight=1/0.6)\n",
    "G.add_edge('a','c',weight=1/0.2)\n",
    "G.add_edge('c','d',weight=1/0.1)\n",
    "G.add_edge('c','e',weight=1/0.7)\n",
    "length = nx.single_source_dijkstra_path_length(G,'a')\n",
    "print(length)"
   ]
  },
  {
   "cell_type": "code",
   "execution_count": 6,
   "metadata": {
    "collapsed": false
   },
   "outputs": [
    {
     "data": {
      "text/plain": [
       "{1: 1.0, 2: 3.0, 3: 2.0, 4: 2.0}"
      ]
     },
     "execution_count": 6,
     "metadata": {},
     "output_type": "execute_result"
    }
   ],
   "source": [
    "import networkx as nx\n",
    "\n",
    "G = nx.Graph()\n",
    "\n",
    "G.add_edge(1,2,weight=1.0)\n",
    "G.add_edge(2,4,weight=1.0)\n",
    "G.add_edge(2,3,weight=1.0)\n",
    "G.add_edge(3,4,weight=1.0)\n",
    "\n",
    "nn = G.nodes()\n",
    "i=0\n",
    "for n in nn:\n",
    "    for m in nn[i:]\n",
    "        if G.has_edge(n, mm)==False:\n",
    "            G.add_edge(n,mm, weight=)\n",
    "            \n",
    "    "
   ]
  },
  {
   "cell_type": "code",
   "execution_count": 8,
   "metadata": {
    "collapsed": false
   },
   "outputs": [
    {
     "data": {
      "text/plain": [
       "[1, 2, 3, 4]"
      ]
     },
     "execution_count": 8,
     "metadata": {},
     "output_type": "execute_result"
    }
   ],
   "source": [
    "f=G.nodes()\n",
    "f"
   ]
  },
  {
   "cell_type": "code",
   "execution_count": 10,
   "metadata": {
    "collapsed": false
   },
   "outputs": [
    {
     "data": {
      "text/plain": [
       "[2, 3, 4]"
      ]
     },
     "execution_count": 10,
     "metadata": {},
     "output_type": "execute_result"
    }
   ],
   "source": [
    "f[1:]"
   ]
  },
  {
   "cell_type": "code",
   "execution_count": null,
   "metadata": {
    "collapsed": true
   },
   "outputs": [],
   "source": []
  }
 ],
 "metadata": {
  "kernelspec": {
   "display_name": "Python 3",
   "language": "python",
   "name": "python3"
  },
  "language_info": {
   "codemirror_mode": {
    "name": "ipython",
    "version": 3
   },
   "file_extension": ".py",
   "mimetype": "text/x-python",
   "name": "python",
   "nbconvert_exporter": "python",
   "pygments_lexer": "ipython3",
   "version": "3.5.3"
  }
 },
 "nbformat": 4,
 "nbformat_minor": 2
}
