{
 "cells": [
  {
   "cell_type": "code",
   "execution_count": 9,
   "metadata": {
    "collapsed": false
   },
   "outputs": [
    {
     "data": {
      "text/plain": [
       "matrix([[ 1.        , -0.5       ,  0.        ,  0.        ,  0.        ],\n",
       "        [-0.5       ,  1.        , -0.35355339, -0.35355339, -0.5       ],\n",
       "        [ 0.        , -0.35355339,  1.        , -0.5       ,  0.        ],\n",
       "        [ 0.        , -0.35355339, -0.5       ,  1.        ,  0.        ],\n",
       "        [ 0.        , -0.5       ,  0.        ,  0.        ,  1.        ]])"
      ]
     },
     "execution_count": 9,
     "metadata": {},
     "output_type": "execute_result"
    }
   ],
   "source": [
    "import numpy as np\n",
    "import networkx as nx\n",
    "from scipy.sparse import identity\n",
    "\n",
    "G = nx.Graph([(1,2),(2,3),(2,4),(2,5),(3,4)])\n",
    "Ln =nx.normalized_laplacian_matrix(G)\n",
    "Ln.todense()"
   ]
  },
  {
   "cell_type": "code",
   "execution_count": 11,
   "metadata": {
    "collapsed": false
   },
   "outputs": [
    {
     "data": {
      "text/plain": [
       "matrix([[0.00000000e+00, 5.00000000e-01, 0.00000000e+00, 0.00000000e+00,\n",
       "         0.00000000e+00],\n",
       "        [5.00000000e-01, 0.00000000e+00, 3.53553391e-01, 3.53553391e-01,\n",
       "         5.00000000e-01],\n",
       "        [0.00000000e+00, 3.53553391e-01, 2.22044605e-16, 5.00000000e-01,\n",
       "         0.00000000e+00],\n",
       "        [0.00000000e+00, 3.53553391e-01, 5.00000000e-01, 2.22044605e-16,\n",
       "         0.00000000e+00],\n",
       "        [0.00000000e+00, 5.00000000e-01, 0.00000000e+00, 0.00000000e+00,\n",
       "         0.00000000e+00]])"
      ]
     },
     "execution_count": 11,
     "metadata": {},
     "output_type": "execute_result"
    }
   ],
   "source": [
    "I = identity(5)\n",
    "Pn = I-Ln\n",
    "Pn.todense()"
   ]
  },
  {
   "cell_type": "code",
   "execution_count": 13,
   "metadata": {
    "collapsed": false
   },
   "outputs": [],
   "source": [
    "from numpy import linalg as LA\n",
    "w, v = LA.eigh(Ln.todense())"
   ]
  },
  {
   "cell_type": "code",
   "execution_count": 14,
   "metadata": {
    "collapsed": false
   },
   "outputs": [
    {
     "data": {
      "text/plain": [
       "array([2.58473798e-16, 6.90983006e-01, 1.00000000e+00, 1.50000000e+00,\n",
       "       1.80901699e+00])"
      ]
     },
     "execution_count": 14,
     "metadata": {},
     "output_type": "execute_result"
    }
   ],
   "source": [
    "w"
   ]
  },
  {
   "cell_type": "code",
   "execution_count": 15,
   "metadata": {
    "collapsed": false
   },
   "outputs": [
    {
     "data": {
      "text/plain": [
       "matrix([[-3.16227766e-01,  4.47213595e-01, -7.07106781e-01,\n",
       "          0.00000000e+00, -4.47213595e-01],\n",
       "        [-6.32455532e-01,  2.76393202e-01, -1.58633442e-16,\n",
       "          0.00000000e+00,  7.23606798e-01],\n",
       "        [-4.47213595e-01, -5.11667274e-01,  2.22044605e-16,\n",
       "         -7.07106781e-01, -1.95439508e-01],\n",
       "        [-4.47213595e-01, -5.11667274e-01,  2.22044605e-16,\n",
       "          7.07106781e-01, -1.95439508e-01],\n",
       "        [-3.16227766e-01,  4.47213595e-01,  7.07106781e-01,\n",
       "         -5.55111512e-17, -4.47213595e-01]])"
      ]
     },
     "execution_count": 15,
     "metadata": {},
     "output_type": "execute_result"
    }
   ],
   "source": [
    "v"
   ]
  },
  {
   "cell_type": "code",
   "execution_count": 22,
   "metadata": {
    "collapsed": false
   },
   "outputs": [
    {
     "data": {
      "text/plain": [
       "matrix([[-0.4472136 ],\n",
       "        [ 0.7236068 ],\n",
       "        [-0.19543951],\n",
       "        [-0.19543951],\n",
       "        [-0.4472136 ]])"
      ]
     },
     "execution_count": 22,
     "metadata": {},
     "output_type": "execute_result"
    }
   ],
   "source": [
    "v[:,4]"
   ]
  },
  {
   "cell_type": "code",
   "execution_count": null,
   "metadata": {
    "collapsed": true
   },
   "outputs": [],
   "source": []
  }
 ],
 "metadata": {
  "kernelspec": {
   "display_name": "Python 3",
   "language": "python",
   "name": "python3"
  },
  "language_info": {
   "codemirror_mode": {
    "name": "ipython",
    "version": 3
   },
   "file_extension": ".py",
   "mimetype": "text/x-python",
   "name": "python",
   "nbconvert_exporter": "python",
   "pygments_lexer": "ipython3",
   "version": "3.5.3"
  }
 },
 "nbformat": 4,
 "nbformat_minor": 2
}
