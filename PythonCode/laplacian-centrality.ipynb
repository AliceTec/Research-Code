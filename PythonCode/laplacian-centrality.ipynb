{
 "cells": [
  {
   "cell_type": "code",
   "execution_count": 7,
   "metadata": {
    "collapsed": false
   },
   "outputs": [],
   "source": [
    "import networkx as nx              #import the package for graphs\n",
    "import numpy as np\n",
    "import pylab as plt\n",
    "\n",
    "def laplacian_centrality(G):\n",
    "    def laplacian_energy(G):\n",
    "        d = G.degree(weight='weight')                      # compute x_is\n",
    "        x_i= list(d.values())\n",
    "        sum_x = np.sum(np.square(x_i))                    # compute sum of x_is                  \n",
    "\n",
    "        W = nx.adjacency_matrix(G)                         # compute the weighted adjacency\n",
    "\n",
    "        dimn = np.shape(W)                                 # compute the number of rows and columns of the matrix\n",
    "        nrows = dimn[0]\n",
    "        ncols = dimn[1]\n",
    "\n",
    "        s_w = 0                                           # compute sum of square of weights\n",
    "        for i in range(0,nrows-1):\n",
    "            for j in range(i+1,ncols):\n",
    "                s_w = s_w + np.square(W[i,j])\n",
    "\n",
    "        E = sum_x + 2*s_w                                # compute laplacian energy\n",
    "        return(E)\n",
    "\n",
    "    def new_nodelist(nodes,i):                           # new list of nodes without a specified node\n",
    "        nodes.remove(i)\n",
    "        return(nodes)\n",
    "\n",
    "    lap_dict ={}                                        # empty dictionary\n",
    "    for n in G.nodes():\n",
    "        H = G.subgraph(new_nodelist(G.nodes(),n))       # subgraph without node n\n",
    "        lap_centrality = (laplacian_energy(G) -laplacian_energy(H))/laplacian_energy(G)  # compute laplacian centrality\n",
    "        lap_dict[n]=lap_centrality                                                       # append to dictionary\n",
    "    return(lap_dict)                                                                     # return dictionary"
   ]
  },
  {
   "cell_type": "code",
   "execution_count": 8,
   "metadata": {
    "collapsed": false
   },
   "outputs": [
    {
     "data": {
      "text/plain": [
       "[3.0, 3.0, 3.0, 3.0, 3.0, 3.0, 3.0, 3.0]"
      ]
     },
     "execution_count": 8,
     "metadata": {},
     "output_type": "execute_result"
    }
   ],
   "source": [
    "R = nx.Graph()                                     # create an empty graph \n",
    "R.add_weighted_edges_from([(1,2,1.0),(1,8,1.0),(1,5,1.0),(2,8,1.0),(2,3,1.0),(3,6,1.0),(3,4,1.0),(4,7,1.0),(4,5,1.0),(5,6,1.0),(6,7,1.0),(7,8,1.0)])\n",
    "#laplacian_centrality(R)\n",
    "#nx.betweenness_centrality(R)\n",
    "#nx.laplacian_matrix(R).todense()\n",
    "d = R.degree(weight='weight')                      # compute x_is\n",
    "x_i= list(d.values())\n",
    "#sum_x = np.sum( np.square(x_i)) \n",
    "x_i"
   ]
  },
  {
   "cell_type": "code",
   "execution_count": 9,
   "metadata": {
    "collapsed": false
   },
   "outputs": [
    {
     "data": {
      "text/plain": [
       "{1: 0.42857142857142855,\n",
       " 2: 0.42857142857142855,\n",
       " 3: 0.80952380952380953,\n",
       " 4: 0.23809523809523808,\n",
       " 5: 0.38095238095238093,\n",
       " 6: 0.14285714285714285}"
      ]
     },
     "execution_count": 9,
     "metadata": {},
     "output_type": "execute_result"
    }
   ],
   "source": [
    "R = nx.Graph()                                     # create an empty graph \n",
    "R.add_weighted_edges_from([(1,2,1.0),(1,3,1.0),(2,3,1.0),\n",
    "                           (3,4,1.0),\n",
    "                           (3,5,1.0),(5,6,1.0)])\n",
    "laplacian_centrality(R)"
   ]
  },
  {
   "cell_type": "code",
   "execution_count": 10,
   "metadata": {
    "collapsed": false
   },
   "outputs": [
    {
     "data": {
      "text/plain": [
       "{1: 0.30158730158730157,\n",
       " 2: 0.30158730158730157,\n",
       " 3: 0.30158730158730157,\n",
       " 4: 0.30158730158730157,\n",
       " 5: 0.30158730158730157,\n",
       " 6: 0.30158730158730157,\n",
       " 7: 0.30158730158730157,\n",
       " 8: 0.30158730158730157,\n",
       " 9: 0.30158730158730157}"
      ]
     },
     "execution_count": 10,
     "metadata": {},
     "output_type": "execute_result"
    }
   ],
   "source": [
    "L = nx.Graph()\n",
    "edge_weight=[(1,2,1.0),(1,3,1.0),(1,4,1.0),(1,7,1.0),(1,8,1.0),(1,9,1.0),(2,3,1.0),(2,5,1.0),(2,6,1.0),(2,7,1.0),(2,8,1.0),(3,4,1.0),\n",
    "             (3,5,1.0),(3,9,1.0),(3,7,1.0),(4,5,1.0),(4,6,1.0),(4,8,1.0),(4,9,1.0),(5,6,1.0),(5,7,1.0),(5,9,1.0),(6,7,1.0),(6,8,1.0),\n",
    "             (6,9,1.0),(7,8,1.0),(8,9,1.0)]\n",
    "L.add_weighted_edges_from(edge_weight)\n",
    "laplacian_centrality(L)\n",
    "#nx.communicability_centrality(L)\n",
    "#nx.degree_centrality(L)\n",
    "#nx.betweenness_centrality(L)\n",
    "#nx.closeness_centrality(L)"
   ]
  },
  {
   "cell_type": "code",
   "execution_count": 25,
   "metadata": {
    "collapsed": false
   },
   "outputs": [
    {
     "data": {
      "text/plain": [
       "{1: 0.25, 2: 0.6875, 3: 0.5, 4: 0.4375, 5: 0.5}"
      ]
     },
     "execution_count": 25,
     "metadata": {},
     "output_type": "execute_result"
    }
   ],
   "source": [
    "from scipy.linalg import eigvals\n",
    "R = nx.Graph()                                     # create an empty graph \n",
    "R.add_weighted_edges_from([(1,2,1.0),(2,3,1.0),(3,4,1.0),(4,5,1.0),(5,2,1.0)])\n",
    "d = R.degree(weight='weight')                      # compute x_is\n",
    "#laplacian_centrality(R)\n",
    "laplacian_centrality(R)"
   ]
  },
  {
   "cell_type": "code",
   "execution_count": 18,
   "metadata": {
    "collapsed": false
   },
   "outputs": [
    {
     "data": {
      "text/plain": [
       "{1: 0.31748988420146373,\n",
       " 2: 0.67120080344113764,\n",
       " 3: 0.5185340670125177,\n",
       " 4: 0.47015662063008368,\n",
       " 5: 0.5185340670125177}"
      ]
     },
     "execution_count": 18,
     "metadata": {},
     "output_type": "execute_result"
    }
   ],
   "source": [
    "R = nx.Graph()                                     # create an empty graph \n",
    "R.add_weighted_edges_from([(1,2,1.0),(2,3,1.0),(3,4,1.0),(4,5,1.0),(5,2,1.0),\n",
    "                          (1,3,0.25),(1,5,0.25),(1,4,0.1111),(2,4,0.25),(3,5,0.25)])\n",
    "d = R.degree(weight='weight')                      # compute x_is\n",
    "laplacian_centrality(R)"
   ]
  },
  {
   "cell_type": "code",
   "execution_count": 23,
   "metadata": {
    "collapsed": false
   },
   "outputs": [
    {
     "name": "stdout",
     "output_type": "stream",
     "text": [
      "(41.75762284+0j)\n"
     ]
    }
   ],
   "source": [
    "R = nx.Graph()                                     # create an empty graph \n",
    "R.add_weighted_edges_from([(1,2,1.0),(2,3,1.0),(3,4,1.0),(4,5,1.0),(5,2,1.0),\n",
    "                          (1,3,0.25),(1,5,0.25),(1,4,0.1111),(2,4,0.25),(3,5,0.25)])\n",
    "d = R.degree(weight='weight')                      # compute x_is\n",
    "print(np.sum(np.square(eigvals(nx.laplacian_matrix(R).todense()))))"
   ]
  },
  {
   "cell_type": "code",
   "execution_count": 24,
   "metadata": {
    "collapsed": false
   },
   "outputs": [
    {
     "name": "stdout",
     "output_type": "stream",
     "text": [
      "(28.5+0j)\n"
     ]
    }
   ],
   "source": [
    "R = nx.Graph()                                     # create an empty graph \n",
    "R.add_weighted_edges_from([(2,3,1.0),(3,4,1.0),(4,5,1.0),(5,2,1.0),\n",
    "                          (2,4,0.25),(3,5,0.25)])\n",
    "d = R.degree(weight='weight')                      # compute x_is\n",
    "print(np.sum(np.square(eigvals(nx.laplacian_matrix(R).todense()))))"
   ]
  },
  {
   "cell_type": "code",
   "execution_count": 13,
   "metadata": {
    "collapsed": false
   },
   "outputs": [
    {
     "data": {
      "text/plain": [
       "{1: 0.30303030303030304,\n",
       " 2: 0.48484848484848486,\n",
       " 3: 0.63636363636363635,\n",
       " 4: 0.33333333333333331,\n",
       " 5: 0.60606060606060608,\n",
       " 6: 0.15151515151515152}"
      ]
     },
     "execution_count": 13,
     "metadata": {},
     "output_type": "execute_result"
    }
   ],
   "source": [
    "R = nx.Graph()                                     # create an empty graph \n",
    "R.add_weighted_edges_from([(1,2,1.0),(1,3,1.0),(2,3,1.0),(3,5,1.0),(2,5,1.0),(3,4,1.0),\n",
    "                          (4,5,1.0),(5,6,1.0)])\n",
    "d = R.degree(weight='weight')                      # compute x_is\n",
    "laplacian_centrality(R)"
   ]
  },
  {
   "cell_type": "code",
   "execution_count": 14,
   "metadata": {
    "collapsed": false
   },
   "outputs": [
    {
     "data": {
      "text/plain": [
       "{1: 0.34181769258249606,\n",
       " 2: 0.48079238567146559,\n",
       " 3: 0.59375273591474431,\n",
       " 4: 0.37034246625199357,\n",
       " 5: 0.58019749388555086,\n",
       " 6: 0.22885734233921737}"
      ]
     },
     "execution_count": 14,
     "metadata": {},
     "output_type": "execute_result"
    }
   ],
   "source": [
    "R = nx.Graph()                                     # create an empty graph \n",
    "R.add_weighted_edges_from([(1,2,1.0),(1,3,1.0),(2,3,1.0),(3,5,1.0),(2,5,1.0),(3,4,1.0),\n",
    "                          (4,5,1.0),(5,6,1.0), (1,4,0.25),(2,6,0.25),(1,6,0.1111),\n",
    "                          (1,5,0.25),(2,4,0.25),(3,6,0.25),(4,6,0.25)])\n",
    "d = R.degree(weight='weight')                      # compute x_is\n",
    "laplacian_centrality(R)"
   ]
  },
  {
   "cell_type": "code",
   "execution_count": 5,
   "metadata": {
    "collapsed": false
   },
   "outputs": [
    {
     "data": {
      "text/plain": [
       "{1: 3.902889811415891,\n",
       " 2: 3.902889811415897,\n",
       " 3: 3.638736928199906,\n",
       " 4: 3.7055941325452793,\n",
       " 5: 3.6387369281999105,\n",
       " 6: 3.7055941325452793,\n",
       " 7: 3.638736928199905,\n",
       " 8: 3.902889811415897}"
      ]
     },
     "execution_count": 5,
     "metadata": {},
     "output_type": "execute_result"
    }
   ],
   "source": [
    "nx.communicability_centrality(R)"
   ]
  },
  {
   "cell_type": "code",
   "execution_count": 19,
   "metadata": {
    "collapsed": false
   },
   "outputs": [
    {
     "data": {
      "text/plain": [
       "{'A': 6.0, 'B': 9.0, 'C': 3.0, 'D': 2.0, 'E': 3.0, 'F': 1.0}"
      ]
     },
     "execution_count": 19,
     "metadata": {},
     "output_type": "execute_result"
    }
   ],
   "source": [
    "G = nx.Graph()                                     # create an empty graph \n",
    "G.add_weighted_edges_from([('A','B',4.0),('A','C',2.0),('B','C',1.0),('B','D',2.0),('B','E',2.0),('E','F',1.0)])\n",
    "#nx.write_pajek(G,\"scores.net\")\n",
    "#nx.draw_networkx_edge_labels(G,pos=nx.spring_layout(G))\n",
    "#plt.show()\n",
    "#nx.betweenness_centrality(G, normalized=None, weight = True)\n",
    "G.degree(weight='weight')"
   ]
  },
  {
   "cell_type": "code",
   "execution_count": null,
   "metadata": {
    "collapsed": false
   },
   "outputs": [],
   "source": []
  },
  {
   "cell_type": "code",
   "execution_count": 13,
   "metadata": {
    "collapsed": false
   },
   "outputs": [
    {
     "name": "stdout",
     "output_type": "stream",
     "text": [
      "{'A': 0, 'C': 2.0, 'B': 3.0, 'E': 5.0, 'D': 5.0, 'F': 6.0}\n"
     ]
    }
   ],
   "source": [
    "length=nx.single_source_dijkstra_path_length(G,'A')\n",
    "print length"
   ]
  },
  {
   "cell_type": "code",
   "execution_count": 3,
   "metadata": {
    "collapsed": false
   },
   "outputs": [
    {
     "data": {
      "text/plain": [
       "{'A': 0.5555555555555556,\n",
       " 'B': 0.8333333333333334,\n",
       " 'C': 0.5555555555555556,\n",
       " 'D': 0.5,\n",
       " 'E': 0.625,\n",
       " 'F': 0.4166666666666667}"
      ]
     },
     "execution_count": 3,
     "metadata": {},
     "output_type": "execute_result"
    }
   ],
   "source": [
    "nx.closeness_centrality(G)"
   ]
  },
  {
   "cell_type": "code",
   "execution_count": 4,
   "metadata": {
    "collapsed": false
   },
   "outputs": [
    {
     "data": {
      "text/plain": [
       "{'A': 0.23809523809523808,\n",
       " 'B': 0.45454545454545453,\n",
       " 'C': 0.38461538461538464,\n",
       " 'D': 0.2631578947368421,\n",
       " 'E': 0.3333333333333333,\n",
       " 'F': 0.2631578947368421}"
      ]
     },
     "execution_count": 4,
     "metadata": {},
     "output_type": "execute_result"
    }
   ],
   "source": [
    "nx.closeness_centrality(G, u=None, distance='weight', normalized=True)"
   ]
  },
  {
   "cell_type": "code",
   "execution_count": 7,
   "metadata": {
    "collapsed": false
   },
   "outputs": [
    {
     "data": {
      "text/plain": [
       "{'A': 0.0, 'B': 0.8, 'C': 0.0, 'D': 0.0, 'E': 0.4, 'F': 0.0}"
      ]
     },
     "execution_count": 7,
     "metadata": {},
     "output_type": "execute_result"
    }
   ],
   "source": [
    "nx.betweenness_centrality(G)"
   ]
  },
  {
   "cell_type": "code",
   "execution_count": 6,
   "metadata": {
    "collapsed": false
   },
   "outputs": [
    {
     "data": {
      "text/plain": [
       "{'A': 0.0, 'B': 8.0, 'C': 4.0, 'D': 0.0, 'E': 4.0, 'F': 0.0}"
      ]
     },
     "execution_count": 6,
     "metadata": {},
     "output_type": "execute_result"
    }
   ],
   "source": [
    "nx.betweenness_centrality(G, k=None, normalized=False, weight='weight', endpoints=False, seed=None)"
   ]
  },
  {
   "cell_type": "code",
   "execution_count": 8,
   "metadata": {
    "collapsed": false
   },
   "outputs": [
    {
     "data": {
      "text/plain": [
       "{'A': 2.8642760873280926,\n",
       " 'B': 4.447235358138673,\n",
       " 'C': 2.864276087328089,\n",
       " 'D': 1.7161591319455574,\n",
       " 'E': 2.3601845633893124,\n",
       " 'F': 1.5943292211527949}"
      ]
     },
     "execution_count": 8,
     "metadata": {},
     "output_type": "execute_result"
    }
   ],
   "source": [
    "nx.communicability_centrality(G)"
   ]
  },
  {
   "cell_type": "code",
   "execution_count": 9,
   "metadata": {
    "collapsed": false
   },
   "outputs": [
    {
     "data": {
      "text/plain": [
       "{'A': 2.864276087328093,\n",
       " 'B': 4.447235358138676,\n",
       " 'C': 2.864276087328093,\n",
       " 'D': 1.7161591319455576,\n",
       " 'E': 2.3601845633893115,\n",
       " 'F': 1.594329221152795}"
      ]
     },
     "execution_count": 9,
     "metadata": {},
     "output_type": "execute_result"
    }
   ],
   "source": [
    "nx.communicability_centrality_exp(G)"
   ]
  },
  {
   "cell_type": "code",
   "execution_count": 11,
   "metadata": {
    "collapsed": false
   },
   "outputs": [
    {
     "data": {
      "text/plain": [
       "{'A': 0.69999999999999996,\n",
       " 'B': 0.90000000000000002,\n",
       " 'C': 0.28000000000000003,\n",
       " 'D': 0.22,\n",
       " 'E': 0.26000000000000001,\n",
       " 'F': 0.040000000000000001}"
      ]
     },
     "execution_count": 11,
     "metadata": {},
     "output_type": "execute_result"
    }
   ],
   "source": [
    "laplacian_centrality(G)"
   ]
  },
  {
   "cell_type": "code",
   "execution_count": 4,
   "metadata": {
    "collapsed": false
   },
   "outputs": [],
   "source": [
    "K = nx.read_graphml(\"karate.GraphML\")\n",
    "#laplacian_centrality(K)\n",
    "nx.write_pajek(K, \"karate.net\")"
   ]
  },
  {
   "cell_type": "code",
   "execution_count": 42,
   "metadata": {
    "collapsed": false
   },
   "outputs": [
    {
     "data": {
      "text/plain": [
       "0.040000000000000001"
      ]
     },
     "execution_count": 42,
     "metadata": {},
     "output_type": "execute_result"
    }
   ],
   "source": []
  },
  {
   "cell_type": "markdown",
   "metadata": {},
   "source": [
    "##### "
   ]
  },
  {
   "cell_type": "code",
   "execution_count": 4,
   "metadata": {
    "collapsed": false
   },
   "outputs": [
    {
     "ename": "TypeError",
     "evalue": "Failed to convert edge data ([u'24']) to dictionary.",
     "output_type": "error",
     "traceback": [
      "\u001b[0;31m---------------------------------------------------------------------------\u001b[0m\n\u001b[0;31mTypeError\u001b[0m                                 Traceback (most recent call last)",
      "\u001b[0;32m<ipython-input-4-bb07bc6c3e27>\u001b[0m in \u001b[0;36m<module>\u001b[0;34m()\u001b[0m\n\u001b[0;32m----> 1\u001b[0;31m \u001b[0mF\u001b[0m\u001b[0;34m=\u001b[0m\u001b[0mnx\u001b[0m\u001b[0;34m.\u001b[0m\u001b[0mread_edgelist\u001b[0m\u001b[0;34m(\u001b[0m\u001b[0;34m\"Freemans_EIES-3_n32.txt\"\u001b[0m\u001b[0;34m)\u001b[0m\u001b[0;34m\u001b[0m\u001b[0m\n\u001b[0m",
      "\u001b[0;32m/usr/lib/python2.7/dist-packages/networkx/readwrite/edgelist.pyc\u001b[0m in \u001b[0;36mread_edgelist\u001b[0;34m(path, comments, delimiter, create_using, nodetype, data, edgetype, encoding)\u001b[0m\n",
      "\u001b[0;32m/usr/lib/python2.7/dist-packages/networkx/utils/decorators.pyc\u001b[0m in \u001b[0;36m_open_file\u001b[0;34m(func, *args, **kwargs)\u001b[0m\n\u001b[1;32m    261\u001b[0m         \u001b[0;31m# Finally, we call the original function, making sure to close the fobj.\u001b[0m\u001b[0;34m\u001b[0m\u001b[0;34m\u001b[0m\u001b[0m\n\u001b[1;32m    262\u001b[0m         \u001b[0;32mtry\u001b[0m\u001b[0;34m:\u001b[0m\u001b[0;34m\u001b[0m\u001b[0m\n\u001b[0;32m--> 263\u001b[0;31m             \u001b[0mresult\u001b[0m \u001b[0;34m=\u001b[0m \u001b[0mfunc\u001b[0m\u001b[0;34m(\u001b[0m\u001b[0;34m*\u001b[0m\u001b[0mnew_args\u001b[0m\u001b[0;34m,\u001b[0m \u001b[0;34m**\u001b[0m\u001b[0mkwargs\u001b[0m\u001b[0;34m)\u001b[0m\u001b[0;34m\u001b[0m\u001b[0m\n\u001b[0m\u001b[1;32m    264\u001b[0m         \u001b[0;32mfinally\u001b[0m\u001b[0;34m:\u001b[0m\u001b[0;34m\u001b[0m\u001b[0m\n\u001b[1;32m    265\u001b[0m             \u001b[0;32mif\u001b[0m \u001b[0mclose_fobj\u001b[0m\u001b[0;34m:\u001b[0m\u001b[0;34m\u001b[0m\u001b[0m\n",
      "\u001b[0;32m/usr/lib/python2.7/dist-packages/networkx/readwrite/edgelist.pyc\u001b[0m in \u001b[0;36mread_edgelist\u001b[0;34m(path, comments, delimiter, create_using, nodetype, data, edgetype, encoding)\u001b[0m\n\u001b[1;32m    365\u001b[0m     return parse_edgelist(lines,comments=comments, delimiter=delimiter,\n\u001b[1;32m    366\u001b[0m                           \u001b[0mcreate_using\u001b[0m\u001b[0;34m=\u001b[0m\u001b[0mcreate_using\u001b[0m\u001b[0;34m,\u001b[0m \u001b[0mnodetype\u001b[0m\u001b[0;34m=\u001b[0m\u001b[0mnodetype\u001b[0m\u001b[0;34m,\u001b[0m\u001b[0;34m\u001b[0m\u001b[0m\n\u001b[0;32m--> 367\u001b[0;31m                           data=data)\n\u001b[0m\u001b[1;32m    368\u001b[0m \u001b[0;34m\u001b[0m\u001b[0m\n\u001b[1;32m    369\u001b[0m \u001b[0;34m\u001b[0m\u001b[0m\n",
      "\u001b[0;32m/usr/lib/python2.7/dist-packages/networkx/readwrite/edgelist.pyc\u001b[0m in \u001b[0;36mparse_edgelist\u001b[0;34m(lines, comments, delimiter, create_using, nodetype, data)\u001b[0m\n\u001b[1;32m    276\u001b[0m             \u001b[0;32mexcept\u001b[0m\u001b[0;34m:\u001b[0m\u001b[0;34m\u001b[0m\u001b[0m\n\u001b[1;32m    277\u001b[0m                 raise TypeError(\n\u001b[0;32m--> 278\u001b[0;31m                     \"Failed to convert edge data (%s) to dictionary.\"%(d))\n\u001b[0m\u001b[1;32m    279\u001b[0m         \u001b[0;32melse\u001b[0m\u001b[0;34m:\u001b[0m\u001b[0;34m\u001b[0m\u001b[0m\n\u001b[1;32m    280\u001b[0m             \u001b[0;31m# convert edge data to dictionary with specified keys and type\u001b[0m\u001b[0;34m\u001b[0m\u001b[0;34m\u001b[0m\u001b[0m\n",
      "\u001b[0;31mTypeError\u001b[0m: Failed to convert edge data ([u'24']) to dictionary."
     ]
    }
   ],
   "source": []
  },
  {
   "cell_type": "code",
   "execution_count": 35,
   "metadata": {
    "collapsed": false
   },
   "outputs": [
    {
     "data": {
      "text/plain": [
       "[0.017437210046392579,\n",
       " 0.11886098224284114,\n",
       " 0.030875059990401535,\n",
       " 0.021596544552871539,\n",
       " 0.017277235642297231,\n",
       " 0.019196928491441369,\n",
       " 0.036634138537833948,\n",
       " 0.054871220604703244,\n",
       " 0.022556390977443608,\n",
       " 0.033114701647736361,\n",
       " 0.070868661014237722,\n",
       " 0.13101903695408734,\n",
       " 0.23708206686930092,\n",
       " 0.30667093265077588,\n",
       " 0.070708686610142374,\n",
       " 0.0364741641337386,\n",
       " 0.12941929291313389,\n",
       " 0.038233882578787397,\n",
       " 0.02463605823068309,\n",
       " 0.027995520716685332,\n",
       " 0.075187969924812026,\n",
       " 0.028155495120780676,\n",
       " 0.064469684850423939,\n",
       " 0.022716365381538955,\n",
       " 0.12222044472884339,\n",
       " 0.021756518956966887,\n",
       " 0.25435930251159816,\n",
       " 0.17245240761478164,\n",
       " 0.21660534314509677,\n",
       " 0.09646456566949288,\n",
       " 0.035034394496880499,\n",
       " 0.057110862262038077,\n",
       " 0.054071348584226527,\n",
       " 0.078867381219004953]"
      ]
     },
     "execution_count": 35,
     "metadata": {},
     "output_type": "execute_result"
    }
   ],
   "source": [
    "K = nx.read_graphml(\"karate.GraphML\")\n",
    "l = laplacian_centrality(K)\n",
    "ll = list(l.values())\n",
    "ll"
   ]
  },
  {
   "cell_type": "code",
   "execution_count": 31,
   "metadata": {
    "collapsed": false
   },
   "outputs": [
    {
     "data": {
      "text/plain": [
       "[4.0,\n",
       " 17.0,\n",
       " 8.0,\n",
       " 3.0,\n",
       " 6.0,\n",
       " 3.0,\n",
       " 5.0,\n",
       " 7.0,\n",
       " 3.0,\n",
       " 5.0,\n",
       " 11.0,\n",
       " 21.0,\n",
       " 38.0,\n",
       " 48.0,\n",
       " 13.0,\n",
       " 6.0,\n",
       " 21.0,\n",
       " 5.0,\n",
       " 4.0,\n",
       " 4.0,\n",
       " 13.0,\n",
       " 6.0,\n",
       " 14.0,\n",
       " 7.0,\n",
       " 17.0,\n",
       " 3.0,\n",
       " 42.0,\n",
       " 29.0,\n",
       " 33.0,\n",
       " 18.0,\n",
       " 8.0,\n",
       " 14.0,\n",
       " 13.0,\n",
       " 13.0]"
      ]
     },
     "execution_count": 31,
     "metadata": {},
     "output_type": "execute_result"
    }
   ],
   "source": [
    "k = K.degree(weight='weight')\n",
    "kk = list(k.values())\n",
    "kk"
   ]
  },
  {
   "cell_type": "code",
   "execution_count": 46,
   "metadata": {
    "collapsed": false
   },
   "outputs": [
    {
     "data": {
      "text/plain": [
       "array([ 250.15,   33.8 ,   36.65,    1.33,    0.5 ,   15.5 ,   15.5 ,\n",
       "          0.  ,   13.1 ,    7.28,    0.5 ,    0.  ,    0.  ,    1.2 ,\n",
       "          0.  ,    0.  ,    0.  ,   16.1 ,    3.  ,  127.07,    0.  ,\n",
       "          0.  ,    0.  ,    1.  ,   33.83,    0.5 ,    0.  ,    6.5 ,\n",
       "         10.1 ,    0.  ,    3.  ,   66.33,   38.13,  209.5 ])"
      ]
     },
     "execution_count": 46,
     "metadata": {},
     "output_type": "execute_result"
    }
   ],
   "source": [
    "import numpy as np\n",
    "\n",
    "data=np.loadtxt('table.txt',usecols = (1,2,3,4),unpack=True)\n",
    "data[1]"
   ]
  },
  {
   "cell_type": "code",
   "execution_count": 50,
   "metadata": {
    "collapsed": false
   },
   "outputs": [
    {
     "data": {
      "text/plain": [
       "(0.51362105685766912, 0.0018910623262010523)"
      ]
     },
     "execution_count": 50,
     "metadata": {},
     "output_type": "execute_result"
    }
   ],
   "source": [
    "from scipy.stats.stats import pearsonr\n",
    "\n",
    "scipy.stats.pearsonr(data[2], data[3])"
   ]
  },
  {
   "cell_type": "code",
   "execution_count": 50,
   "metadata": {
    "collapsed": false
   },
   "outputs": [
    {
     "data": {
      "text/plain": [
       "{'': ''}"
      ]
     },
     "execution_count": 50,
     "metadata": {},
     "output_type": "execute_result"
    }
   ],
   "source": [
    "(0.98802807442977048, 1.5006411380516186e-27)"
   ]
  },
  {
   "cell_type": "code",
   "execution_count": null,
   "metadata": {
    "collapsed": false
   },
   "outputs": [],
   "source": []
  }
 ],
 "metadata": {
  "kernelspec": {
   "display_name": "Python 3",
   "language": "python",
   "name": "python3"
  },
  "language_info": {
   "codemirror_mode": {
    "name": "ipython",
    "version": 3
   },
   "file_extension": ".py",
   "mimetype": "text/x-python",
   "name": "python",
   "nbconvert_exporter": "python",
   "pygments_lexer": "ipython3",
   "version": "3.5.3"
  }
 },
 "nbformat": 4,
 "nbformat_minor": 0
}
