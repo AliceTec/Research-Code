{
 "cells": [
  {
   "cell_type": "code",
   "execution_count": 15,
   "metadata": {
    "collapsed": false
   },
   "outputs": [
    {
     "name": "stdout",
     "output_type": "stream",
     "text": [
      "[ -5.89805982e-17   2.62595183e-01   1.00000000e+00   1.33333333e+00\n",
      "   1.50000000e+00   1.90407148e+00]\n",
      "[  6.45317133e-16   4.38447187e-01   1.00000000e+00   3.00000000e+00\n",
      "   3.00000000e+00   4.56155281e+00]\n"
     ]
    }
   ],
   "source": [
    "import networkx as nx\n",
    "import numpy as np\n",
    "import math as math\n",
    "from scipy.linalg import eigvalsh\n",
    "\n",
    "G = nx.Graph()\n",
    "e_list = [(1,2),(2,3),(3,1),(2,4),(4,5),(4,6)]\n",
    "G.add_edges_from(e_list)\n",
    "l = eigvalsh(nx.normalized_laplacian_matrix(G).todense())\n",
    "ll=nx.laplacian_spectrum(G)\n",
    "print(l)\n",
    "print(ll)"
   ]
  },
  {
   "cell_type": "code",
   "execution_count": 13,
   "metadata": {
    "collapsed": false
   },
   "outputs": [
    {
     "name": "stdout",
     "output_type": "stream",
     "text": [
      "[  1.23165367e-16   2.36237384e-01   1.00000000e+00   1.00000000e+00\n",
      "   1.76376262e+00   2.00000000e+00]\n",
      "[ -4.24057691e-16   3.24869129e-01   1.00000000e+00   1.46081113e+00\n",
      "   3.00000000e+00   4.21431974e+00]\n"
     ]
    }
   ],
   "source": [
    "G = nx.Graph()\n",
    "e_list = [(2,3),(3,1),(2,4),(4,5),(4,6)]\n",
    "G.add_edges_from(e_list)\n",
    "l = eigvalsh(nx.normalized_laplacian_matrix(G).todense())\n",
    "ll=nx.laplacian_spectrum(G)\n",
    "print(l)\n",
    "print(ll)"
   ]
  },
  {
   "cell_type": "code",
   "execution_count": 14,
   "metadata": {
    "collapsed": false
   },
   "outputs": [
    {
     "name": "stdout",
     "output_type": "stream",
     "text": [
      "[  0.00000000e+00   1.66533454e-16   1.00000000e+00   1.00000000e+00\n",
      "   2.00000000e+00   2.00000000e+00]\n",
      "[ -5.55111512e-16   0.00000000e+00   1.00000000e+00   1.00000000e+00\n",
      "   2.00000000e+00   4.00000000e+00]\n"
     ]
    }
   ],
   "source": [
    "G = nx.Graph()\n",
    "e_list = [(3,1),(2,4),(4,5),(4,6)]\n",
    "G.add_edges_from(e_list)\n",
    "l = eigvalsh(nx.normalized_laplacian_matrix(G).todense())\n",
    "ll=nx.laplacian_spectrum(G)\n",
    "print(l)\n",
    "print(ll)"
   ]
  },
  {
   "cell_type": "code",
   "execution_count": 7,
   "metadata": {
    "collapsed": false
   },
   "outputs": [
    {
     "name": "stdout",
     "output_type": "stream",
     "text": [
      "0.9496004045754033\n",
      "40.0\n",
      "(2.2784136095+0j)\n",
      "[  2.27841361e+00+0.j   1.31743061e+00+0.j  -1.89121985e+00+0.j\n",
      "  -7.04624369e-01+0.j  -1.00000000e+00+0.j  -6.16297582e-33+0.j]\n"
     ]
    },
    {
     "name": "stderr",
     "output_type": "stream",
     "text": [
      "/usr/lib/python3/dist-packages/ipykernel/__main__.py:11: ComplexWarning: Casting complex values to real discards the imaginary part\n"
     ]
    }
   ],
   "source": [
    "import networkx as nx\n",
    "import numpy as np\n",
    "import math as math\n",
    "\n",
    "G = nx.Graph()\n",
    "e_list = [(1,2),(2,3),(3,1),(2,4),(4,5),(4,6)]\n",
    "G.add_edges_from(e_list)\n",
    "n = len(G)\n",
    "L = nx.laplacian_spectrum(G)\n",
    "A = nx.adjacency_spectrum(G)\n",
    "c = math.log(np.sum(np.exp(A))/n)\n",
    "e = np.sum(np.square(L))\n",
    "print(c)\n",
    "print(e)\n",
    "print(max(A))\n",
    "print(A)"
   ]
  },
  {
   "cell_type": "code",
   "execution_count": 3,
   "metadata": {
    "collapsed": false
   },
   "outputs": [
    {
     "name": "stdout",
     "output_type": "stream",
     "text": [
      "[(1, 2), (1, 3), (2, 3), (2, 4), (4, 5), (4, 6)]\n"
     ]
    }
   ],
   "source": [
    "print(G.edges())"
   ]
  },
  {
   "cell_type": "code",
   "execution_count": 8,
   "metadata": {
    "collapsed": false
   },
   "outputs": [
    {
     "name": "stdout",
     "output_type": "stream",
     "text": [
      "0.7427745062592981\n",
      "32.0\n",
      "(2+0j)\n",
      "[ -2.00000000e+00+0.j   2.00000000e+00+0.j  -1.00000000e+00+0.j\n",
      "   1.00000000e+00+0.j  -1.62588398e-17+0.j  -1.54074396e-33+0.j]\n"
     ]
    },
    {
     "name": "stderr",
     "output_type": "stream",
     "text": [
      "/usr/lib/python3/dist-packages/ipykernel/__main__.py:8: ComplexWarning: Casting complex values to real discards the imaginary part\n"
     ]
    }
   ],
   "source": [
    "#remove edge 13\n",
    "G = nx.Graph()\n",
    "e_list = [(1,2),(2,3),(2,4),(4,5),(4,6)]\n",
    "G.add_edges_from(e_list)\n",
    "n = len(G)\n",
    "L = nx.laplacian_spectrum(G)\n",
    "A = nx.adjacency_spectrum(G)\n",
    "c = math.log(np.sum(np.exp(A))/n)\n",
    "e = np.sum(np.square(L))\n",
    "print(c)\n",
    "print(e)\n",
    "print(max(A))\n",
    "print(A)"
   ]
  },
  {
   "cell_type": "code",
   "execution_count": 9,
   "metadata": {
    "collapsed": false
   },
   "outputs": [
    {
     "name": "stdout",
     "output_type": "stream",
     "text": [
      "0.7257695292564152\n",
      "30.0\n",
      "(1.90211303259+0j)\n",
      "[ -1.90211303e+00+0.j  -1.17557050e+00+0.j  -2.56636491e-16+0.j\n",
      "   1.90211303e+00+0.j   1.17557050e+00+0.j   0.00000000e+00+0.j]\n"
     ]
    },
    {
     "name": "stderr",
     "output_type": "stream",
     "text": [
      "/usr/lib/python3/dist-packages/ipykernel/__main__.py:8: ComplexWarning: Casting complex values to real discards the imaginary part\n"
     ]
    }
   ],
   "source": [
    "#remove edge 1,2\n",
    "G = nx.Graph()\n",
    "e_list = [(2,3),(3,1),(2,4),(4,5),(4,6)]\n",
    "G.add_edges_from(e_list)\n",
    "n = len(G)\n",
    "L = nx.laplacian_spectrum(G)\n",
    "A = nx.adjacency_spectrum(G)\n",
    "c = math.log(np.sum(np.exp(A))/n)\n",
    "e = np.sum(np.square(L))\n",
    "print(c)\n",
    "print(e)\n",
    "print(max(A))\n",
    "print(A)"
   ]
  },
  {
   "cell_type": "code",
   "execution_count": 10,
   "metadata": {
    "collapsed": false
   },
   "outputs": [
    {
     "name": "stdout",
     "output_type": "stream",
     "text": [
      "0.7257695292564157\n",
      "30.0\n",
      "(1.90211303259+0j)\n",
      "[-1.90211303+0.j -1.17557050+0.j  1.17557050+0.j  1.90211303+0.j\n",
      "  0.00000000+0.j  0.00000000+0.j]\n"
     ]
    },
    {
     "name": "stderr",
     "output_type": "stream",
     "text": [
      "/usr/lib/python3/dist-packages/ipykernel/__main__.py:8: ComplexWarning: Casting complex values to real discards the imaginary part\n"
     ]
    }
   ],
   "source": [
    "#remove edge 2,3\n",
    "G = nx.Graph()\n",
    "e_list = [(1,2),(3,1),(2,4),(4,5),(4,6)]\n",
    "G.add_edges_from(e_list)\n",
    "n = len(G)\n",
    "L = nx.laplacian_spectrum(G)\n",
    "A = nx.adjacency_spectrum(G)\n",
    "c = math.log(np.sum(np.exp(A))/n)\n",
    "e = np.sum(np.square(L))\n",
    "print(c)\n",
    "print(e)\n",
    "print(max(A))\n",
    "print(A)"
   ]
  },
  {
   "cell_type": "code",
   "execution_count": 11,
   "metadata": {
    "collapsed": false
   },
   "outputs": [
    {
     "name": "stdout",
     "output_type": "stream",
     "text": [
      "0.8095353248809805\n",
      "28.0\n",
      "(2+0j)\n",
      "[-1.00000000+0.j  2.00000000+0.j -1.00000000+0.j  1.41421356+0.j\n",
      " -1.41421356+0.j  0.00000000+0.j]\n"
     ]
    },
    {
     "name": "stderr",
     "output_type": "stream",
     "text": [
      "/usr/lib/python3/dist-packages/ipykernel/__main__.py:8: ComplexWarning: Casting complex values to real discards the imaginary part\n"
     ]
    }
   ],
   "source": [
    "#remove 2,4\n",
    "G = nx.Graph()\n",
    "e_list = [(1,2),(2,3),(3,1),(4,5),(4,6)]\n",
    "G.add_edges_from(e_list)\n",
    "n = len(G)\n",
    "L = nx.laplacian_spectrum(G)\n",
    "A = nx.adjacency_spectrum(G)\n",
    "c = math.log(np.sum(np.exp(A))/n)\n",
    "e = np.sum(np.square(L))\n",
    "print(c)\n",
    "print(e)\n",
    "print(max(A))\n",
    "print(A)"
   ]
  },
  {
   "cell_type": "code",
   "execution_count": 12,
   "metadata": {
    "collapsed": false
   },
   "outputs": [
    {
     "name": "stdout",
     "output_type": "stream",
     "text": [
      "0.9564221983422597\n",
      "32.0\n",
      "(2.21431974338+0j)\n",
      "[ 2.21431974+0.j  1.00000000+0.j -1.67513087+0.j -0.53918887+0.j\n",
      " -1.00000000+0.j]\n"
     ]
    },
    {
     "name": "stderr",
     "output_type": "stream",
     "text": [
      "/usr/lib/python3/dist-packages/ipykernel/__main__.py:8: ComplexWarning: Casting complex values to real discards the imaginary part\n"
     ]
    }
   ],
   "source": [
    "#remove 45\n",
    "G = nx.Graph()\n",
    "e_list = [(1,2),(2,3),(3,1),(2,4),(4,6)]\n",
    "G.add_edges_from(e_list)\n",
    "n = len(G)\n",
    "L = nx.laplacian_spectrum(G)\n",
    "A = nx.adjacency_spectrum(G)\n",
    "c = math.log(np.sum(np.exp(A))/n)\n",
    "e = np.sum(np.square(L))\n",
    "print(c)\n",
    "print(e)\n",
    "print(max(A))\n",
    "print(A)"
   ]
  },
  {
   "cell_type": "code",
   "execution_count": 13,
   "metadata": {
    "collapsed": false
   },
   "outputs": [
    {
     "name": "stdout",
     "output_type": "stream",
     "text": [
      "0.9564221983422597\n",
      "32.0\n",
      "(2.21431974338+0j)\n",
      "[ 2.21431974+0.j  1.00000000+0.j -1.67513087+0.j -0.53918887+0.j\n",
      " -1.00000000+0.j]\n"
     ]
    },
    {
     "name": "stderr",
     "output_type": "stream",
     "text": [
      "/usr/lib/python3/dist-packages/ipykernel/__main__.py:8: ComplexWarning: Casting complex values to real discards the imaginary part\n"
     ]
    }
   ],
   "source": [
    "#remove 46\n",
    "G = nx.Graph()\n",
    "e_list = [(1,2),(2,3),(3,1),(2,4),(4,5)]\n",
    "G.add_edges_from(e_list)\n",
    "n = len(G)\n",
    "L = nx.laplacian_spectrum(G)\n",
    "A = nx.adjacency_spectrum(G)\n",
    "c = math.log(np.sum(np.exp(A))/n)\n",
    "e = np.sum(np.square(L))\n",
    "print(c)\n",
    "print(e)\n",
    "print(max(A))\n",
    "print(A)"
   ]
  },
  {
   "cell_type": "code",
   "execution_count": 20,
   "metadata": {
    "collapsed": false
   },
   "outputs": [
    {
     "name": "stdout",
     "output_type": "stream",
     "text": [
      "0.9496004045754033\n",
      "40.0\n"
     ]
    },
    {
     "name": "stderr",
     "output_type": "stream",
     "text": [
      "/usr/lib/python3/dist-packages/ipykernel/__main__.py:11: ComplexWarning: Casting complex values to real discards the imaginary part\n"
     ]
    }
   ],
   "source": [
    "import networkx as nx\n",
    "import numpy as np\n",
    "import math as math\n",
    "\n",
    "G = nx.Graph()\n",
    "e_list = [(1,2),(2,3),(3,1),(2,4),(4,5),(4,6)]\n",
    "G.add_edges_from(e_list)\n",
    "n = len(G)\n",
    "L = nx.laplacian_spectrum(G)\n",
    "A = nx.adjacency_spectrum(G)\n",
    "c = math.log(np.sum(np.exp(A))/n)\n",
    "e = np.sum(np.square(L))\n",
    "print(c)\n",
    "print(e)"
   ]
  },
  {
   "cell_type": "code",
   "execution_count": 26,
   "metadata": {
    "collapsed": false
   },
   "outputs": [
    {
     "name": "stdout",
     "output_type": "stream",
     "text": [
      "0.7427745062592981\n",
      "32.0\n"
     ]
    },
    {
     "name": "stderr",
     "output_type": "stream",
     "text": [
      "/usr/lib/python3/dist-packages/ipykernel/__main__.py:9: ComplexWarning: Casting complex values to real discards the imaginary part\n"
     ]
    }
   ],
   "source": [
    "#remove 1,3\n",
    "\n",
    "G = nx.Graph()\n",
    "e_list = [(1,2),(2,3),(2,4),(4,5),(4,6)]\n",
    "G.add_edges_from(e_list)\n",
    "n = len(G)\n",
    "L = nx.laplacian_spectrum(G)\n",
    "A = nx.adjacency_spectrum(G)\n",
    "c = math.log(np.sum(np.exp(A))/n)\n",
    "e = np.sum(np.square(L))\n",
    "print(c)\n",
    "print(e)"
   ]
  },
  {
   "cell_type": "code",
   "execution_count": 16,
   "metadata": {
    "collapsed": false
   },
   "outputs": [
    {
     "name": "stdout",
     "output_type": "stream",
     "text": [
      "0.7048899253057315\n",
      "24.0\n"
     ]
    },
    {
     "name": "stderr",
     "output_type": "stream",
     "text": [
      "/usr/lib/python3/dist-packages/ipykernel/__main__.py:9: ComplexWarning: Casting complex values to real discards the imaginary part\n"
     ]
    }
   ],
   "source": [
    "#remove 1,3: 1,2\n",
    "\n",
    "G = nx.Graph()\n",
    "e_list = [(2,3),(2,4),(4,5),(4,6)]\n",
    "G.add_edges_from(e_list)\n",
    "n = len(G)\n",
    "L = nx.laplacian_spectrum(G)\n",
    "A = nx.adjacency_spectrum(G)\n",
    "c = math.log(np.sum(np.exp(A))/n)\n",
    "e = np.sum(np.square(L))\n",
    "print(c)\n",
    "print(e)"
   ]
  },
  {
   "cell_type": "code",
   "execution_count": 28,
   "metadata": {
    "collapsed": false
   },
   "outputs": [
    {
     "name": "stdout",
     "output_type": "stream",
     "text": [
      "0.523843922738649\n",
      "14.0\n"
     ]
    },
    {
     "name": "stderr",
     "output_type": "stream",
     "text": [
      "/usr/lib/python3/dist-packages/ipykernel/__main__.py:9: ComplexWarning: Casting complex values to real discards the imaginary part\n"
     ]
    }
   ],
   "source": [
    "#remove 1,3: 1,2:2,4\n",
    "\n",
    "G = nx.Graph()\n",
    "e_list = [(2,3),(4,5),(4,6)]\n",
    "G.add_edges_from(e_list)\n",
    "n = len(G)\n",
    "L = nx.laplacian_spectrum(G)\n",
    "A = nx.adjacency_spectrum(G)\n",
    "c = math.log(np.sum(np.exp(A))/n)\n",
    "e = np.sum(np.square(L))\n",
    "print(c)\n",
    "print(e)"
   ]
  },
  {
   "cell_type": "code",
   "execution_count": 17,
   "metadata": {
    "collapsed": false
   },
   "outputs": [
    {
     "name": "stdout",
     "output_type": "stream",
     "text": [
      "0.5796736792348083\n",
      "10.0\n"
     ]
    },
    {
     "name": "stderr",
     "output_type": "stream",
     "text": [
      "/usr/lib/python3/dist-packages/ipykernel/__main__.py:9: ComplexWarning: Casting complex values to real discards the imaginary part\n"
     ]
    }
   ],
   "source": [
    "#remove 1,3: 1,2:2,4 : 2,3\n",
    "\n",
    "G = nx.Graph()\n",
    "e_list = [(4,5),(4,6)]\n",
    "G.add_edges_from(e_list)\n",
    "n = len(G)\n",
    "L = nx.laplacian_spectrum(G)\n",
    "A = nx.adjacency_spectrum(G)\n",
    "c = math.log(np.sum(np.exp(A))/n)\n",
    "e = np.sum(np.square(L))\n",
    "print(c)\n",
    "print(e)"
   ]
  },
  {
   "cell_type": "code",
   "execution_count": 19,
   "metadata": {
    "collapsed": false
   },
   "outputs": [
    {
     "name": "stdout",
     "output_type": "stream",
     "text": [
      "0.4337808304830271\n",
      "4.0\n"
     ]
    },
    {
     "name": "stderr",
     "output_type": "stream",
     "text": [
      "/usr/lib/python3/dist-packages/ipykernel/__main__.py:9: ComplexWarning: Casting complex values to real discards the imaginary part\n"
     ]
    }
   ],
   "source": [
    "#remove 1,3: 1,2:2,4 : 2,3 : 4,5\n",
    "\n",
    "G = nx.Graph()\n",
    "e_list = [(4,6)]\n",
    "G.add_edges_from(e_list)\n",
    "n= len(G)\n",
    "L = nx.laplacian_spectrum(G)\n",
    "A = nx.adjacency_spectrum(G)\n",
    "c = math.log(np.sum(np.exp(A))/n)\n",
    "e = np.sum(np.square(L))\n",
    "print(c)\n",
    "print(e)"
   ]
  },
  {
   "cell_type": "code",
   "execution_count": 22,
   "metadata": {
    "collapsed": false
   },
   "outputs": [
    {
     "name": "stdout",
     "output_type": "stream",
     "text": [
      "0.7427745062592981\n",
      "32.0\n"
     ]
    },
    {
     "name": "stderr",
     "output_type": "stream",
     "text": [
      "/usr/lib/python3/dist-packages/ipykernel/__main__.py:10: ComplexWarning: Casting complex values to real discards the imaginary part\n"
     ]
    }
   ],
   "source": [
    "#based on betweeness\n",
    "#remove 3,1\n",
    "\n",
    "G = nx.Graph()\n",
    "e_list = [(1,2),(2,3),(2,4),(4,5),(4,6)]\n",
    "G.add_edges_from(e_list)\n",
    "n = len(G)\n",
    "L = nx.laplacian_spectrum(G)\n",
    "A = nx.adjacency_spectrum(G)\n",
    "c = math.log(np.sum(np.exp(A))/n)\n",
    "e = np.sum(np.square(L))\n",
    "print(c)\n",
    "print(e)"
   ]
  },
  {
   "cell_type": "code",
   "execution_count": 23,
   "metadata": {
    "collapsed": false
   },
   "outputs": [
    {
     "name": "stdout",
     "output_type": "stream",
     "text": [
      "0.7048899253057319\n",
      "24.0\n"
     ]
    },
    {
     "name": "stderr",
     "output_type": "stream",
     "text": [
      "/usr/lib/python3/dist-packages/ipykernel/__main__.py:9: ComplexWarning: Casting complex values to real discards the imaginary part\n"
     ]
    }
   ],
   "source": [
    "#remove 3,1: 4,6\n",
    "\n",
    "G = nx.Graph()\n",
    "e_list = [(1,2),(2,3),(2,4),(4,5)]\n",
    "G.add_edges_from(e_list)\n",
    "n = len(G)\n",
    "L = nx.laplacian_spectrum(G)\n",
    "A = nx.adjacency_spectrum(G)\n",
    "c = math.log(np.sum(np.exp(A))/n)\n",
    "e = np.sum(np.square(L))\n",
    "print(c)\n",
    "print(e)"
   ]
  },
  {
   "cell_type": "code",
   "execution_count": 24,
   "metadata": {
    "collapsed": false
   },
   "outputs": [
    {
     "name": "stdout",
     "output_type": "stream",
     "text": [
      "0.6715602095137527\n",
      "18.0\n"
     ]
    },
    {
     "name": "stderr",
     "output_type": "stream",
     "text": [
      "/usr/lib/python3/dist-packages/ipykernel/__main__.py:9: ComplexWarning: Casting complex values to real discards the imaginary part\n"
     ]
    }
   ],
   "source": [
    "#remove 3,1: 4,6: 4,5\n",
    "\n",
    "G = nx.Graph()\n",
    "e_list = [(1,2),(2,3),(2,4)]\n",
    "G.add_edges_from(e_list)\n",
    "n = len(G)\n",
    "L = nx.laplacian_spectrum(G)\n",
    "A = nx.adjacency_spectrum(G)\n",
    "c = math.log(np.sum(np.exp(A))/n)\n",
    "e = np.sum(np.square(L))\n",
    "print(c)\n",
    "print(e)"
   ]
  },
  {
   "cell_type": "code",
   "execution_count": 25,
   "metadata": {
    "collapsed": false
   },
   "outputs": [
    {
     "name": "stdout",
     "output_type": "stream",
     "text": [
      "0.5796736792348083\n",
      "10.0\n"
     ]
    },
    {
     "name": "stderr",
     "output_type": "stream",
     "text": [
      "/usr/lib/python3/dist-packages/ipykernel/__main__.py:9: ComplexWarning: Casting complex values to real discards the imaginary part\n"
     ]
    }
   ],
   "source": [
    "#remove 3,1: 4,6: 4,5 : 1,2\n",
    "\n",
    "G = nx.Graph()\n",
    "e_list = [(2,3),(2,4)]\n",
    "G.add_edges_from(e_list)\n",
    "n= len(G)\n",
    "L = nx.laplacian_spectrum(G)\n",
    "A = nx.adjacency_spectrum(G)\n",
    "c = math.log(np.sum(np.exp(A))/n)\n",
    "e = np.sum(np.square(L))\n",
    "print(c)\n",
    "print(e)"
   ]
  },
  {
   "cell_type": "code",
   "execution_count": 14,
   "metadata": {
    "collapsed": false
   },
   "outputs": [
    {
     "name": "stdout",
     "output_type": "stream",
     "text": [
      "0.4337808304830271\n",
      "4.0\n"
     ]
    },
    {
     "name": "stderr",
     "output_type": "stream",
     "text": [
      "/usr/lib/python3/dist-packages/ipykernel/__main__.py:9: ComplexWarning: Casting complex values to real discards the imaginary part\n"
     ]
    }
   ],
   "source": [
    "#remove 3,1: 4,6: 4,5 : 1,2: 2,3\n",
    "\n",
    "G = nx.Graph()\n",
    "e_list = [(2,4)]\n",
    "G.add_edges_from(e_list)\n",
    "n = len(G)\n",
    "L = nx.laplacian_spectrum(G)\n",
    "A = nx.adjacency_spectrum(G)\n",
    "c = math.log(np.sum(np.exp(A))/n)\n",
    "e = np.sum(np.square(L))\n",
    "print(c)\n",
    "print(e)"
   ]
  },
  {
   "cell_type": "code",
   "execution_count": 1,
   "metadata": {
    "collapsed": false
   },
   "outputs": [
    {
     "data": {
      "image/png": "[encoded data removed]",
      "text/plain": [
       "<matplotlib.figure.Figure at 0x7fcebc2164e0>"
      ]
     },
     "metadata": {},
     "output_type": "display_data"
    }
   ],
   "source": [
    "import numpy as np\n",
    "import matplotlib.pyplot as plt\n",
    "x = range(0, 6)\n",
    "y1 = [40,32,24,18,10,4]\n",
    "y2 = [0.9496,0.7477,0.7049,0.6716,0.5797,0.4338]\n",
    "\n",
    "fig, ax1 = plt.subplots()\n",
    "\n",
    "ax2 = ax1.twinx()\n",
    "ax1.plot(x, y1, 'g-')\n",
    "ax2.plot(x, y2, 'b-')\n",
    "\n",
    "ax1.set_xlabel('X data')\n",
    "ax1.set_ylabel('Y1 data', color='g')\n",
    "ax2.set_ylabel('Y2 data', color='b')\n",
    "\n",
    "plt.show()"
   ]
  },
  {
   "cell_type": "code",
   "execution_count": 23,
   "metadata": {
    "collapsed": false
   },
   "outputs": [
    {
     "name": "stdout",
     "output_type": "stream",
     "text": [
      "[  6.45317133e-16   4.38447187e-01   1.00000000e+00   3.00000000e+00\n",
      "   3.00000000e+00   4.56155281e+00]\n",
      "[  0.00000000e+00   6.31439345e-16   5.18805696e-01   2.31110782e+00\n",
      "   3.00000000e+00   4.17008649e+00]\n",
      "[ -9.36750677e-16   0.00000000e+00   0.00000000e+00   1.00000000e+00\n",
      "   3.00000000e+00   4.00000000e+00]\n",
      "[ -5.90029951e-16   0.00000000e+00   0.00000000e+00   5.85786438e-01\n",
      "   2.00000000e+00   3.41421356e+00]\n",
      "[  0.00000000e+00   0.00000000e+00   0.00000000e+00   3.92505363e-17\n",
      "   1.00000000e+00   3.00000000e+00]\n",
      "[0.43844718719117037, 6.3143934525555778e-16, 0.0, 0.0, 0.0]\n",
      "[40.0, 32.000000000000007, 26.0, 15.999999999999989, 10.0]\n",
      "[(4, 6), (4, 5), (2, 3), (1, 3), (1, 2)]\n"
     ]
    }
   ],
   "source": [
    "import random\n",
    "import networkx as nx\n",
    "import numpy as np\n",
    "import math as math\n",
    "\n",
    "G = nx.Graph()\n",
    "e_list = [(1,2),(2,3),(3,1),(2,4),(4,5),(4,6)]\n",
    "G.add_edges_from(e_list)\n",
    "n_e = len(e_list)\n",
    "c_lst=[]\n",
    "eg_lst=[]\n",
    "r_edge =[]\n",
    "while (n_e>1):\n",
    "    n = len(G)\n",
    "    L = nx.laplacian_spectrum(G)\n",
    "    print(L)\n",
    "    #A = nx.adjacency_spectrum(G)\n",
    "    #c = math.log(np.sum(np.exp(A))/n)\n",
    "    e = np.sum(np.square(L))\n",
    "    L.sort()\n",
    "    c = L[1]\n",
    "    c_lst.append(c)\n",
    "    eg_lst.append(e)\n",
    "    e_rem = random.choice(e_list)\n",
    "    r_edge.append(e_rem)\n",
    "    G.remove_edge(*e_rem)\n",
    "    e_list = G.edges()\n",
    "    n_e = len(e_list)\n",
    "print(c_lst)\n",
    "print(eg_lst)\n",
    "print(r_edge)"
   ]
  },
  {
   "cell_type": "code",
   "execution_count": 14,
   "metadata": {
    "collapsed": false
   },
   "outputs": [
    {
     "name": "stderr",
     "output_type": "stream",
     "text": [
      "/usr/lib/python3/dist-packages/ipykernel/__main__.py:19: ComplexWarning: Casting complex values to real discards the imaginary part\n"
     ]
    },
    {
     "data": {
      "image/png": "[encoded data removed]",
      "text/plain": [
       "<matplotlib.figure.Figure at 0x7f2aff22db00>"
      ]
     },
     "metadata": {},
     "output_type": "display_data"
    }
   ],
   "source": [
    "import random\n",
    "import networkx as nx\n",
    "import numpy as np\n",
    "import math as math\n",
    "import matplotlib.pyplot as plt\n",
    "\n",
    "nn=10\n",
    "m=2\n",
    "G = nx.barabasi_albert_graph(nn, m, seed=None)\n",
    "e_list = G.edges()\n",
    "n_e = len(e_list)\n",
    "x = range(0, n_e)\n",
    "c_lst=[]\n",
    "eg_lst=[]\n",
    "while (n_e>0):\n",
    "    n = len(G)\n",
    "    L = nx.laplacian_spectrum(G)\n",
    "    A = nx.adjacency_spectrum(G)\n",
    "    c = math.log(np.sum(np.exp(A))/n)\n",
    "    e = np.sum(np.square(L))\n",
    "    c_lst.append(c)\n",
    "    eg_lst.append(e)\n",
    "    e_rem = random.choice(e_list)\n",
    "    G.remove_edge(*e_rem)\n",
    "    e_list = G.edges()\n",
    "    n_e = len(e_list)\n",
    "#print(c_lst)\n",
    "#print(eg_lst)\n",
    "cc_lst = [x / c_lst[0] for x in c_lst]\n",
    "eeg_lst = [x / eg_lst[0] for x in eg_lst]\n",
    "\n",
    "fig, ax1 = plt.subplots()\n",
    "\n",
    "ax2 = ax1.twinx()\n",
    "ax1.plot(x, cc_lst, 'g-')\n",
    "ax2.plot(x, eeg_lst, 'b-')\n",
    "\n",
    "ax1.set_xlabel('Edges removed')\n",
    "ax1.set_ylabel('Connectivity', color='g')\n",
    "ax2.set_ylabel('laplacian Energy', color='b')\n",
    "\n",
    "plt.show()"
   ]
  },
  {
   "cell_type": "code",
   "execution_count": 12,
   "metadata": {
    "collapsed": false
   },
   "outputs": [
    {
     "data": {
      "image/png": "[encoded data removed]",
      "text/plain": [
       "<matplotlib.figure.Figure at 0x7f267f5ea4a8>"
      ]
     },
     "metadata": {},
     "output_type": "display_data"
    },
    {
     "name": "stdout",
     "output_type": "stream",
     "text": [
      "[0.49765619886002088, 0.39793406647935403, 0.3648459703277831, 1.5666721392415539e-16, 1.4397704953697825e-16, 0.0, 0.0, 8.4134088568017827e-17, -1.2816253514687363e-16, 0.0, 0.0, 0.0, 0.0, 0.0, 0.0, 0.0]\n",
      "[(1, 6), (3, 8), (2, 8), (4, 9), (2, 5), (1, 5), (0, 2), (3, 4), (2, 3), (3, 9), (4, 7), (1, 2), (0, 4), (1, 3), (4, 6), (1, 7)]\n"
     ]
    }
   ],
   "source": [
    "import random\n",
    "import networkx as nx\n",
    "import numpy as np\n",
    "import math as math\n",
    "import matplotlib.pyplot as plt\n",
    "\n",
    "nn=10\n",
    "m=2\n",
    "G = nx.barabasi_albert_graph(nn, m, seed=None)\n",
    "e_list = G.edges()\n",
    "n_e = len(e_list)\n",
    "x = range(0, n_e)\n",
    "c_lst=[]\n",
    "eg_lst=[]\n",
    "eig_lst =[]\n",
    "er_lst= []\n",
    "while (n_e>0):\n",
    "    n = len(G)\n",
    "    L = nx.laplacian_spectrum(G)\n",
    "    #A = nx.adjacency_spectrum(G)\n",
    "    l = eigvalsh(nx.normalized_laplacian_matrix(G).todense())\n",
    "    #c = math.log(np.sum(np.exp(A))/n)\n",
    "    e = np.sum(np.square(L))\n",
    "    c = np.sum(np.square(l))\n",
    "    c_lst.append(c)\n",
    "    eg_lst.append(e)\n",
    "    eig_lst.append(l[1])\n",
    "    e_rem = random.choice(e_list)\n",
    "    er_lst.append(e_rem)\n",
    "    G.remove_edge(*e_rem)\n",
    "    e_list = G.edges()\n",
    "    n_e = len(e_list)\n",
    "#print(c_lst)\n",
    "#print(eg_lst)\n",
    "#cc_lst = [x / c_lst[0] for x in c_lst]\n",
    "#eeg_lst = [x / eg_lst[0] for x in eg_lst]\n",
    "\n",
    "fig, ax1 = plt.subplots()\n",
    "\n",
    "ax2 = ax1.twinx()\n",
    "ax1.plot(x, c_lst, 'g-')\n",
    "ax2.plot(x, eg_lst, 'b-')\n",
    "\n",
    "ax1.set_xlabel('Edges removed')\n",
    "ax1.set_ylabel('Connectivity', color='g')\n",
    "ax2.set_ylabel('laplacian Energy', color='b')\n",
    "\n",
    "plt.show()\n",
    "print(eig_lst)\n",
    "print(er_lst)"
   ]
  },
  {
   "cell_type": "code",
   "execution_count": 6,
   "metadata": {
    "collapsed": false
   },
   "outputs": [
    {
     "name": "stderr",
     "output_type": "stream",
     "text": [
      "/usr/lib/python3/dist-packages/ipykernel/__main__.py:19: ComplexWarning: Casting complex values to real discards the imaginary part\n"
     ]
    },
    {
     "data": {
      "image/png": "[encoded data removed]",
      "text/plain": [
       "<matplotlib.figure.Figure at 0x7fce97bc0630>"
      ]
     },
     "metadata": {},
     "output_type": "display_data"
    }
   ],
   "source": [
    "import random\n",
    "import networkx as nx\n",
    "import numpy as np\n",
    "import math as math\n",
    "import matplotlib.pyplot as plt\n",
    "\n",
    "nn=100\n",
    "m=3\n",
    "G = nx.barabasi_albert_graph(nn, m, seed=None)\n",
    "e_list = G.edges()\n",
    "n_e = len(e_list)\n",
    "x = range(0, n_e)\n",
    "c_lst=[]\n",
    "eg_lst=[]\n",
    "while (n_e>0):\n",
    "    n = len(G)\n",
    "    L = nx.laplacian_spectrum(G)\n",
    "    A = nx.adjacency_spectrum(G)\n",
    "    c = math.log(np.sum(np.exp(A))/n)\n",
    "    e = np.sum(np.square(L))\n",
    "    c_lst.append(c)\n",
    "    eg_lst.append(e)\n",
    "    e_rem = random.choice(e_list)\n",
    "    G.remove_edge(*e_rem)\n",
    "    e_list = G.edges()\n",
    "    n_e = len(e_list)\n",
    "#print(c_lst)\n",
    "#print(eg_lst)\n",
    "\n",
    "cc_lst = [x / c_lst[0] for x in c_lst]\n",
    "eeg_lst = [x / eg_lst[0] for x in eg_lst]\n",
    "\n",
    "fig, ax1 = plt.subplots()\n",
    "\n",
    "ax2 = ax1.twinx()\n",
    "ax1.plot(x, cc_lst, 'g-')\n",
    "ax2.plot(x, eeg_lst, 'b-')\n",
    "\n",
    "ax1.set_xlabel('Edges removed')\n",
    "ax1.set_ylabel('Connectivity', color='g')\n",
    "ax2.set_ylabel('laplacian Energy', color='b')\n",
    "\n",
    "plt.show()"
   ]
  },
  {
   "cell_type": "code",
   "execution_count": null,
   "metadata": {
    "collapsed": false
   },
   "outputs": [
    {
     "name": "stderr",
     "output_type": "stream",
     "text": [
      "/usr/lib/python3/dist-packages/ipykernel/__main__.py:19: ComplexWarning: Casting complex values to real discards the imaginary part\n"
     ]
    }
   ],
   "source": [
    "import random\n",
    "import networkx as nx\n",
    "import numpy as np\n",
    "import math as math\n",
    "import matplotlib.pyplot as plt\n",
    "\n",
    "nn=1000\n",
    "m=5\n",
    "G = nx.barabasi_albert_graph(nn, m, seed=None)\n",
    "e_list = G.edges()\n",
    "n_e = len(e_list)\n",
    "x = range(0, n_e)\n",
    "c_lst=[]\n",
    "eg_lst=[]\n",
    "while (n_e>0):\n",
    "    n = len(G)\n",
    "    L = nx.laplacian_spectrum(G)\n",
    "    A = nx.adjacency_spectrum(G)\n",
    "    c = math.log(np.sum(np.exp(A))/n)\n",
    "    e = np.sum(np.square(L))\n",
    "    c_lst.append(c)\n",
    "    eg_lst.append(e)\n",
    "    e_rem = random.choice(e_list)\n",
    "    G.remove_edge(*e_rem)\n",
    "    e_list = G.edges()\n",
    "    n_e = len(e_list)\n",
    "#print(c_lst)\n",
    "#print(eg_lst)\n",
    "\n",
    "fig, ax1 = plt.subplots()\n",
    "\n",
    "ax2 = ax1.twinx()\n",
    "ax1.plot(x, c_lst, 'g-')\n",
    "ax2.plot(x, eg_lst, 'b-')\n",
    "\n",
    "ax1.set_xlabel('Edges removed')\n",
    "ax1.set_ylabel('Connectivity', color='g')\n",
    "ax2.set_ylabel('laplacian Energy', color='b')\n",
    "\n",
    "plt.show()"
   ]
  },
  {
   "cell_type": "code",
   "execution_count": 42,
   "metadata": {
    "collapsed": false
   },
   "outputs": [
    {
     "name": "stdout",
     "output_type": "stream",
     "text": [
      "(4, 6)\n",
      "[(1, 2), (1, 3), (2, 3), (2, 4), (4, 5)]\n"
     ]
    }
   ],
   "source": [
    "G = nx.Graph()\n",
    "e_list = [(1,2),(2,3),(3,1),(2,4),(4,5),(4,6)]\n",
    "G.add_edges_from(e_list)\n",
    "s = random.choice(e_list)\n",
    "G.remove_edge(*s)\n",
    "print(s)\n",
    "print(G.edges())"
   ]
  },
  {
   "cell_type": "code",
   "execution_count": 4,
   "metadata": {
    "collapsed": false
   },
   "outputs": [
    {
     "name": "stdout",
     "output_type": "stream",
     "text": [
      "[  4.37244053e-16   9.45753977e-01   1.37197362e+00   1.73701277e+00\n",
      "   2.73455018e+00   3.14588132e+00   3.72608987e+00   4.77881289e+00\n",
      "   6.48407084e+00   7.07585454e+00]\n",
      "[ -2.86799722e-15   7.39466983e-01   1.06316090e+00   1.39287437e+00\n",
      "   2.73363441e+00   2.91207920e+00   3.70736033e+00   4.37020229e+00\n",
      "   6.42345876e+00   6.65776277e+00]\n",
      "[  2.35922391e-15   3.96427102e-01   8.28777396e-01   1.35517806e+00\n",
      "   2.37139765e+00   2.87576177e+00   3.52415384e+00   4.37003352e+00\n",
      "   5.62381262e+00   6.65445804e+00]\n",
      "[  1.08409263e-16   3.70303408e-01   8.19999040e-01   1.17738435e+00\n",
      "   2.31304948e+00   2.83830705e+00   3.46631794e+00   4.10659941e+00\n",
      "   4.44757081e+00   6.46046851e+00]\n",
      "[  2.17828336e-16   3.49602265e-01   7.52242478e-01   8.38666906e-01\n",
      "   1.70183256e+00   2.31422490e+00   3.21689666e+00   4.10417154e+00\n",
      "   4.44480334e+00   6.27755937e+00]\n",
      "[  6.54507364e-16   2.22748505e-01   6.24648291e-01   8.36224717e-01\n",
      "   1.68339318e+00   2.16707216e+00   3.03421200e+00   3.54215798e+00\n",
      "   4.36337076e+00   5.52617241e+00]\n",
      "[ -2.26364473e-16   2.19563939e-01   5.85786438e-01   7.24366022e-01\n",
      "   1.28503222e+00   2.00000000e+00   2.16711532e+00   3.41421356e+00\n",
      "   4.10851866e+00   5.49540384e+00]\n",
      "[  0.00000000e+00   2.97002949e-16   2.33128868e-01   6.25006146e-01\n",
      "   1.24840332e+00   1.52846183e+00   2.00000000e+00   3.08211832e+00\n",
      "   3.90832620e+00   5.37455531e+00]\n",
      "[ -2.14672148e-16  -6.20162468e-17   0.00000000e+00   2.35493367e-01\n",
      "   8.71095701e-01   1.52540176e+00   2.00000000e+00   2.90496044e+00\n",
      "   3.67993913e+00   4.78310960e+00]\n",
      "[  0.00000000e+00   0.00000000e+00   0.00000000e+00   1.16753903e-16\n",
      "   2.76519947e-01   1.33230210e+00   2.00000000e+00   2.52194807e+00\n",
      "   3.29200453e+00   4.57722536e+00]\n",
      "[ -1.97469755e-16   0.00000000e+00   0.00000000e+00   0.00000000e+00\n",
      "   2.60322690e-01   6.26210327e-01   1.40547678e+00   2.27420502e+00\n",
      "   3.09958466e+00   4.33420053e+00]\n",
      "[ -9.17708588e-18   0.00000000e+00   0.00000000e+00   0.00000000e+00\n",
      "   0.00000000e+00   2.67949192e-01   1.00000000e+00   2.00000000e+00\n",
      "   3.00000000e+00   3.73205081e+00]\n",
      "[ -4.44089210e-16   0.00000000e+00   0.00000000e+00   0.00000000e+00\n",
      "   0.00000000e+00   3.92505363e-17   1.00000000e+00   1.00000000e+00\n",
      "   3.00000000e+00   3.00000000e+00]\n",
      "[ -4.44089210e-16   0.00000000e+00   0.00000000e+00   0.00000000e+00\n",
      "   0.00000000e+00   0.00000000e+00   0.00000000e+00   1.00000000e+00\n",
      "   2.00000000e+00   3.00000000e+00]\n",
      "[ 0.  0.  0.  0.  0.  0.  0.  0.  2.  2.]\n",
      "[ 0.  0.  0.  0.  0.  0.  0.  0.  0.  2.]\n"
     ]
    },
    {
     "name": "stderr",
     "output_type": "stream",
     "text": [
      "/usr/lib/python3/dist-packages/ipykernel/__main__.py:22: RuntimeWarning: divide by zero encountered in true_divide\n"
     ]
    },
    {
     "data": {
      "text/plain": [
       "<matplotlib.text.Text at 0x7faebb939898>"
      ]
     },
     "execution_count": 4,
     "metadata": {},
     "output_type": "execute_result"
    }
   ],
   "source": [
    "import random\n",
    "import networkx as nx\n",
    "import numpy as np\n",
    "import math as math\n",
    "import matplotlib.pyplot as plt\n",
    "\n",
    "nn=10\n",
    "m=2\n",
    "G = nx.barabasi_albert_graph(nn, m, seed=None)\n",
    "e_list = G.edges()\n",
    "n_e = len(e_list)\n",
    "x = range(0, n_e)\n",
    "c_lst=[]\n",
    "eg_lst=[]\n",
    "while (n_e>0):\n",
    "    n = len(G)\n",
    "    L = nx.laplacian_spectrum(G)\n",
    "    A = nx.adjacency_spectrum(G)\n",
    "    print(L)\n",
    "    #c = math.log(np.sum(np.exp(A))/n)\n",
    "    e = np.sum(np.square(L))\n",
    "    c = np.sum(1/np.square(L))\n",
    "    #L.sort()\n",
    "    #c = L[1]\n",
    "    \n",
    "    c_lst.append(c)\n",
    "    eg_lst.append(e)\n",
    "    e_rem = random.choice(e_list)\n",
    "    G.remove_edge(*e_rem)\n",
    "    e_list = G.edges()\n",
    "    n_e = len(e_list)\n",
    "#print(c_lst)\n",
    "#print(eg_lst)\n",
    "#cc_lst = [x / c_lst[0] for x in c_lst]\n",
    "#eeg_lst = [x / eg_lst[0] for x in eg_lst]\n",
    "\n",
    "fig, ax1 = plt.subplots()\n",
    "\n",
    "ax2 = ax1.twinx()\n",
    "ax1.plot(x, c_lst, 'g-')\n",
    "ax2.plot(x, eg_lst, 'b-')\n",
    "\n",
    "ax1.set_xlabel('Edges removed')\n",
    "ax1.set_ylabel('Connectivity', color='g')\n",
    "ax2.set_ylabel('laplacian Energy', color='b')\n",
    "\n",
    "#plt.show()"
   ]
  },
  {
   "cell_type": "code",
   "execution_count": 27,
   "metadata": {
    "collapsed": false
   },
   "outputs": [
    {
     "name": "stdout",
     "output_type": "stream",
     "text": [
      "[  1.69062253e+32   1.39282032e+01   1.00000000e+00   2.50000000e-01\n",
      "   1.11111111e-01   7.17967697e-02]\n"
     ]
    }
   ],
   "source": [
    "import random\n",
    "import networkx as nx\n",
    "import numpy as np\n",
    "import math as math\n",
    "import matplotlib.pyplot as plt\n",
    "\n",
    "G = nx.Graph()\n",
    "e_list = [(1,2),(2,3),(3,4),(4,5),(5,6)]\n",
    "G.add_edges_from(e_list)\n",
    "l = nx.laplacian_spectrum(G)\n",
    "print(1/np.square(l))"
   ]
  },
  {
   "cell_type": "code",
   "execution_count": 23,
   "metadata": {
    "collapsed": false
   },
   "outputs": [
    {
     "name": "stdout",
     "output_type": "stream",
     "text": [
      "56.0101\n"
     ]
    }
   ],
   "source": [
    "import math\n",
    "print(np.round(56.010055,4))"
   ]
  },
  {
   "cell_type": "code",
   "execution_count": 30,
   "metadata": {
    "collapsed": false
   },
   "outputs": [
    {
     "name": "stdout",
     "output_type": "stream",
     "text": [
      "16\n"
     ]
    },
    {
     "name": "stderr",
     "output_type": "stream",
     "text": [
      "/usr/local/lib/python3.5/dist-packages/numpy/core/numeric.py:531: ComplexWarning: Casting complex values to real discards the imaginary part\n",
      "  return array(a, dtype, copy=False, order=order)\n"
     ]
    },
    {
     "data": {
      "image/png": "[encoded data removed]",
      "text/plain": [
       "<matplotlib.figure.Figure at 0x7fa754ef3908>"
      ]
     },
     "metadata": {},
     "output_type": "display_data"
    }
   ],
   "source": [
    "import random\n",
    "import networkx as nx\n",
    "import numpy as np\n",
    "import math as math\n",
    "import matplotlib.pyplot as plt\n",
    "\n",
    "nn=10\n",
    "m=2\n",
    "G = nx.barabasi_albert_graph(nn, m, seed=None)\n",
    "e_list = G.edges()\n",
    "\n",
    "n_e = len(e_list)\n",
    "print(n_e)\n",
    "x = range(0, n_e)\n",
    "c_lst=[]\n",
    "eg_lst=[]\n",
    "f_lst =[]\n",
    "while (n_e>0):\n",
    "    n = len(G)\n",
    "    L = nx.laplacian_spectrum(G)\n",
    "    A = nx.adjacency_spectrum(G)\n",
    "    c = max(A)\n",
    "    f = sorted(L)[2]\n",
    "    e = np.sum(np.square(L))\n",
    "    c_lst.append(c)\n",
    "    f_lst.append(f)\n",
    "    eg_lst.append(e)\n",
    "    e_rem = random.choice(e_list)\n",
    "    G.remove_edge(*e_rem)\n",
    "    e_list = G.edges()\n",
    "    n_e = len(e_list)\n",
    "#print(c_lst)\n",
    "#print(eg_lst)\n",
    "#cc_lst = [x / c_lst[0] for x in c_lst]\n",
    "#cc_lst = [x / c_lst[0] for x in c_lst]\n",
    "#eeg_lst = [x / eg_lst[0] for x in eg_lst]\n",
    "\n",
    "fig, ax1 = plt.subplots()\n",
    "\n",
    "ax2 = ax1.twinx()\n",
    "ax1.plot(x, c_lst, 'g-')\n",
    "ax2.plot(x, eg_lst, 'b-')\n",
    "\n",
    "ax1.set_xlabel('Edges removed')\n",
    "ax1.set_ylabel('Connectivity', color='g')\n",
    "ax2.set_ylabel('laplacian Energy', color='b')\n",
    "\n",
    "plt.show()"
   ]
  },
  {
   "cell_type": "code",
   "execution_count": 31,
   "metadata": {
    "collapsed": false
   },
   "outputs": [
    {
     "name": "stderr",
     "output_type": "stream",
     "text": [
      "/usr/local/lib/python3.5/dist-packages/numpy/core/numeric.py:531: ComplexWarning: Casting complex values to real discards the imaginary part\n",
      "  return array(a, dtype, copy=False, order=order)\n"
     ]
    },
    {
     "data": {
      "image/png": "[encoded data removed]",
      "text/plain": [
       "<matplotlib.figure.Figure at 0x7fa7525d5668>"
      ]
     },
     "metadata": {},
     "output_type": "display_data"
    }
   ],
   "source": [
    "fig, ax1 = plt.subplots()\n",
    "\n",
    "ax2 = ax1.twinx()\n",
    "ax1.plot(x, c_lst, 'g-')\n",
    "ax2.plot(x, f_lst, 'b-')\n",
    "\n",
    "ax1.set_xlabel('Edges removed')\n",
    "ax1.set_ylabel('Connectivity', color='g')\n",
    "ax2.set_ylabel('laplacian Energy', color='b')\n",
    "\n",
    "plt.show()"
   ]
  },
  {
   "cell_type": "code",
   "execution_count": null,
   "metadata": {
    "collapsed": true
   },
   "outputs": [],
   "source": []
  }
 ],
 "metadata": {
  "kernelspec": {
   "display_name": "Python 3",
   "language": "python",
   "name": "python3"
  },
  "language_info": {
   "codemirror_mode": {
    "name": "ipython",
    "version": 3
   },
   "file_extension": ".py",
   "mimetype": "text/x-python",
   "name": "python",
   "nbconvert_exporter": "python",
   "pygments_lexer": "ipython3",
   "version": "3.5.3"
  }
 },
 "nbformat": 4,
 "nbformat_minor": 2
}
