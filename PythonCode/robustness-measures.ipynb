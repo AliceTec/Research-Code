{
 "cells": [
  {
   "cell_type": "code",
   "execution_count": 14,
   "metadata": {
    "collapsed": false
   },
   "outputs": [
    {
     "name": "stdout",
     "output_type": "stream",
     "text": [
      "(1.08786331188+0j)\n"
     ]
    }
   ],
   "source": [
    "import networkx as nx\n",
    "import numpy as np\n",
    "\n",
    "G = nx.Graph()\n",
    "elist = [('a','b'),('a','c'),('b','d'),('c','d'),('e','d'),('d','f'),('e','f')]\n",
    "G.add_edges_from(elist)\n",
    "A = nx.adjacency_matrix(G)\n",
    "s = nx.adjacency_spectrum(G)\n",
    "print(np.log(np.sum(np.exp(s))/6))"
   ]
  },
  {
   "cell_type": "code",
   "execution_count": 15,
   "metadata": {
    "collapsed": false
   },
   "outputs": [
    {
     "name": "stdout",
     "output_type": "stream",
     "text": [
      "(1.35081997489+0j)\n"
     ]
    }
   ],
   "source": [
    "G = nx.Graph()\n",
    "elist = [('a','b'),('a','c'),('b','c'),('b','d'),('c','d'),('e','d'),('d','f'),('e','f')]\n",
    "G.add_edges_from(elist)\n",
    "A = nx.adjacency_matrix(G)\n",
    "s = nx.adjacency_spectrum(G)\n",
    "print(np.log(np.sum(np.exp(s))/6))"
   ]
  },
  {
   "cell_type": "code",
   "execution_count": 16,
   "metadata": {
    "collapsed": false
   },
   "outputs": [
    {
     "name": "stdout",
     "output_type": "stream",
     "text": [
      "50.0\n"
     ]
    }
   ],
   "source": [
    "G = nx.Graph()\n",
    "elist = [('a','b'),('a','c'),('b','d'),('c','d'),('e','d'),('d','f'),('e','f')]\n",
    "G.add_edges_from(elist)\n",
    "L = nx.laplacian_matrix(G)\n",
    "s = nx.laplacian_spectrum(G)\n",
    "print(np.sum(np.square(s)))"
   ]
  },
  {
   "cell_type": "code",
   "execution_count": 17,
   "metadata": {
    "collapsed": false
   },
   "outputs": [
    {
     "name": "stdout",
     "output_type": "stream",
     "text": [
      "62.0\n"
     ]
    }
   ],
   "source": [
    "G = nx.Graph()\n",
    "elist = [('a','b'),('a','c'),('b','c'),('b','d'),('c','d'),('e','d'),('d','f'),('e','f')]\n",
    "G.add_edges_from(elist)\n",
    "L = nx.laplacian_matrix(G)\n",
    "s = nx.laplacian_spectrum(G)\n",
    "print(np.sum(np.square(s)))"
   ]
  },
  {
   "cell_type": "code",
   "execution_count": null,
   "metadata": {
    "collapsed": true
   },
   "outputs": [],
   "source": []
  }
 ],
 "metadata": {
  "kernelspec": {
   "display_name": "Python 3",
   "language": "python",
   "name": "python3"
  },
  "language_info": {
   "codemirror_mode": {
    "name": "ipython",
    "version": 3
   },
   "file_extension": ".py",
   "mimetype": "text/x-python",
   "name": "python",
   "nbconvert_exporter": "python",
   "pygments_lexer": "ipython3",
   "version": "3.5.3"
  }
 },
 "nbformat": 4,
 "nbformat_minor": 2
}
