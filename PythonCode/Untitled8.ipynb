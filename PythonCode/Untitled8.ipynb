{
 "cells": [
  {
   "cell_type": "code",
   "execution_count": 5,
   "metadata": {
    "collapsed": false
   },
   "outputs": [
    {
     "data": {
      "text/plain": [
       "23.999999999999986"
      ]
     },
     "execution_count": 5,
     "metadata": {},
     "output_type": "execute_result"
    }
   ],
   "source": [
    "import networkx as nx\n",
    "import numpy as np\n",
    "\n",
    "G = nx.Graph()\n",
    "e_list = [(1,3),(2,3),(3,4),(4,5)]\n",
    "G.add_edges_from(e_list)\n",
    "l = nx.laplacian_spectrum(G)\n",
    "np.sum(np.square(l))"
   ]
  },
  {
   "cell_type": "code",
   "execution_count": 6,
   "metadata": {
    "collapsed": false
   },
   "outputs": [
    {
     "data": {
      "text/plain": [
       "15.999999999999993"
      ]
     },
     "execution_count": 6,
     "metadata": {},
     "output_type": "execute_result"
    }
   ],
   "source": [
    "import networkx as nx\n",
    "import numpy as np\n",
    "\n",
    "G = nx.Graph()\n",
    "e_list = [(2,3),(3,4),(4,5)]\n",
    "G.add_edges_from(e_list)\n",
    "l = nx.laplacian_spectrum(G)\n",
    "np.sum(np.square(l))"
   ]
  },
  {
   "cell_type": "code",
   "execution_count": 7,
   "metadata": {
    "collapsed": false
   },
   "outputs": [
    {
     "data": {
      "text/plain": [
       "15.999999999999993"
      ]
     },
     "execution_count": 7,
     "metadata": {},
     "output_type": "execute_result"
    }
   ],
   "source": [
    "import networkx as nx\n",
    "import numpy as np\n",
    "\n",
    "G = nx.Graph()\n",
    "e_list = [(1,3),(3,4),(4,5)]\n",
    "G.add_edges_from(e_list)\n",
    "l = nx.laplacian_spectrum(G)\n",
    "np.sum(np.square(l))"
   ]
  },
  {
   "cell_type": "code",
   "execution_count": 8,
   "metadata": {
    "collapsed": false
   },
   "outputs": [
    {
     "data": {
      "text/plain": [
       "14.0"
      ]
     },
     "execution_count": 8,
     "metadata": {},
     "output_type": "execute_result"
    }
   ],
   "source": [
    "import networkx as nx\n",
    "import numpy as np\n",
    "\n",
    "G = nx.Graph()\n",
    "e_list = [(1,3),(2,3),(4,5)]\n",
    "G.add_edges_from(e_list)\n",
    "l = nx.laplacian_spectrum(G)\n",
    "np.sum(np.square(l))"
   ]
  },
  {
   "cell_type": "code",
   "execution_count": 9,
   "metadata": {
    "collapsed": false
   },
   "outputs": [
    {
     "data": {
      "text/plain": [
       "18.0"
      ]
     },
     "execution_count": 9,
     "metadata": {},
     "output_type": "execute_result"
    }
   ],
   "source": [
    "import networkx as nx\n",
    "import numpy as np\n",
    "\n",
    "G = nx.Graph()\n",
    "e_list = [(1,3),(2,3),(3,4)]\n",
    "G.add_edges_from(e_list)\n",
    "l = nx.laplacian_spectrum(G)\n",
    "np.sum(np.square(l))"
   ]
  },
  {
   "cell_type": "code",
   "execution_count": 2,
   "metadata": {
    "collapsed": false
   },
   "outputs": [
    {
     "data": {
      "text/plain": [
       "200.00000000000011"
      ]
     },
     "execution_count": 2,
     "metadata": {},
     "output_type": "execute_result"
    }
   ],
   "source": [
    "import networkx as nx\n",
    "import numpy as np\n",
    "\n",
    "G = nx.Graph()\n",
    "e_list = [('a','b',4.0),('a','c',2.0),('c','b',1.0),('b','d',2.0),('b','e',2.0),('e','f',1.0)]\n",
    "G.add_weighted_edges_from(e_list)\n",
    "l = nx.laplacian_spectrum(G, weight='weight')\n",
    "np.sum(np.square(l))"
   ]
  },
  {
   "cell_type": "code",
   "execution_count": 3,
   "metadata": {
    "collapsed": false
   },
   "outputs": [
    {
     "data": {
      "text/plain": [
       "144.00000000000003"
      ]
     },
     "execution_count": 3,
     "metadata": {},
     "output_type": "execute_result"
    }
   ],
   "source": [
    "import networkx as nx\n",
    "import numpy as np\n",
    "\n",
    "G = nx.Graph()\n",
    "e_list = [('a','b',4.0),('b','d',2.0),('b','e',2.0),('e','f',1.0)]\n",
    "G.add_weighted_edges_from(e_list)\n",
    "l = nx.laplacian_spectrum(G, weight='weight')\n",
    "np.sum(np.square(l))"
   ]
  },
  {
   "cell_type": "code",
   "execution_count": 4,
   "metadata": {
    "collapsed": false
   },
   "outputs": [
    {
     "data": {
      "text/plain": [
       "164.00000000000003"
      ]
     },
     "execution_count": 4,
     "metadata": {},
     "output_type": "execute_result"
    }
   ],
   "source": [
    "#remove ac\n",
    "import networkx as nx\n",
    "import numpy as np\n",
    "\n",
    "G = nx.Graph()\n",
    "e_list = [('a','b',4.0),('c','b',1.0),('b','d',2.0),('b','e',2.0),('e','f',1.0)]\n",
    "G.add_weighted_edges_from(e_list)\n",
    "l = nx.laplacian_spectrum(G, weight='weight')\n",
    "np.sum(np.square(l))"
   ]
  },
  {
   "cell_type": "code",
   "execution_count": 1,
   "metadata": {
    "collapsed": false
   },
   "outputs": [
    {
     "data": {
      "text/plain": [
       "175.99999999999994"
      ]
     },
     "execution_count": 1,
     "metadata": {},
     "output_type": "execute_result"
    }
   ],
   "source": [
    "#remove bc\n",
    "import networkx as nx\n",
    "import numpy as np\n",
    "\n",
    "G = nx.Graph()\n",
    "e_list = [('a','b',4.0),('a','c',2.0),('b','d',2.0),('b','e',2.0),('e','f',1.0)]\n",
    "G.add_weighted_edges_from(e_list)\n",
    "l = nx.laplacian_spectrum(G, weight='weight')\n",
    "np.sum(np.square(l))"
   ]
  },
  {
   "cell_type": "code",
   "execution_count": 2,
   "metadata": {
    "collapsed": false
   },
   "outputs": [
    {
     "data": {
      "text/plain": [
       "79.999999999999972"
      ]
     },
     "execution_count": 2,
     "metadata": {},
     "output_type": "execute_result"
    }
   ],
   "source": [
    "#remove ab\n",
    "import networkx as nx\n",
    "import numpy as np\n",
    "\n",
    "G = nx.Graph()\n",
    "e_list = [('a','c',2.0),('c','b',1.0),('b','d',2.0),('b','e',2.0),('e','f',1.0)]\n",
    "G.add_weighted_edges_from(e_list)\n",
    "l = nx.laplacian_spectrum(G, weight='weight')\n",
    "np.sum(np.square(l))"
   ]
  },
  {
   "cell_type": "code",
   "execution_count": 3,
   "metadata": {
    "collapsed": false
   },
   "outputs": [
    {
     "data": {
      "text/plain": [
       "155.99999999999994"
      ]
     },
     "execution_count": 3,
     "metadata": {},
     "output_type": "execute_result"
    }
   ],
   "source": [
    "#remove bd\n",
    "import networkx as nx\n",
    "import numpy as np\n",
    "\n",
    "G = nx.Graph()\n",
    "e_list = [('a','b',4.0),('a','c',2.0),('c','b',1.0),('b','e',2.0),('e','f',1.0)]\n",
    "G.add_weighted_edges_from(e_list)\n",
    "l = nx.laplacian_spectrum(G, weight='weight')\n",
    "np.sum(np.square(l))"
   ]
  },
  {
   "cell_type": "code",
   "execution_count": 5,
   "metadata": {
    "collapsed": false
   },
   "outputs": [
    {
     "data": {
      "text/plain": [
       "151.99999999999991"
      ]
     },
     "execution_count": 5,
     "metadata": {},
     "output_type": "execute_result"
    }
   ],
   "source": [
    "#remove be\n",
    "import networkx as nx\n",
    "import numpy as np\n",
    "\n",
    "G = nx.Graph()\n",
    "e_list = [('a','b',4.0),('a','c',2.0),('c','b',1.0),('b','d',2.0),('e','f',1.0)]\n",
    "G.add_weighted_edges_from(e_list)\n",
    "l = nx.laplacian_spectrum(G, weight='weight')\n",
    "np.sum(np.square(l))"
   ]
  },
  {
   "cell_type": "code",
   "execution_count": 6,
   "metadata": {
    "collapsed": false
   },
   "outputs": [
    {
     "data": {
      "text/plain": [
       "192.00000000000009"
      ]
     },
     "execution_count": 6,
     "metadata": {},
     "output_type": "execute_result"
    }
   ],
   "source": [
    "#remove ef\n",
    "import networkx as nx\n",
    "import numpy as np\n",
    "\n",
    "G = nx.Graph()\n",
    "e_list = [('a','b',4.0),('a','c',2.0),('c','b',1.0),('b','d',2.0),('b','e',2.0)]\n",
    "G.add_weighted_edges_from(e_list)\n",
    "l = nx.laplacian_spectrum(G, weight='weight')\n",
    "np.sum(np.square(l))"
   ]
  },
  {
   "cell_type": "code",
   "execution_count": 12,
   "metadata": {
    "collapsed": false
   },
   "outputs": [
    {
     "data": {
      "text/plain": [
       "matrix([[ 0.84, -0.26,  0.04, -0.26, -0.36],\n",
       "        [-0.26,  0.39, -0.06, -0.11,  0.04],\n",
       "        [ 0.04, -0.06,  0.24, -0.06, -0.16],\n",
       "        [-0.26, -0.11, -0.06,  0.39,  0.04],\n",
       "        [-0.36,  0.04, -0.16,  0.04,  0.44]])"
      ]
     },
     "execution_count": 12,
     "metadata": {},
     "output_type": "execute_result"
    }
   ],
   "source": [
    "    import networkx as nx\n",
    "import numpy as np\n",
    "#import numpy.linalg.pinv as pv\n",
    "\n",
    "G = nx.Graph()\n",
    "e_list = [(1,3),(2,3),(3,4),(4,5),(2,5)]\n",
    "G.add_edges_from(e_list)\n",
    "l = (nx.laplacian_matrix(G)).todense()\n",
    "lplus = np.linalg.pinv(l)\n",
    "lplus\n"
   ]
  },
  {
   "cell_type": "code",
   "execution_count": 42,
   "metadata": {
    "collapsed": false
   },
   "outputs": [
    {
     "name": "stdout",
     "output_type": "stream",
     "text": [
      "[[ 0.  1.  0.  0.]\n",
      " [ 1.  0.  1.  2.]\n",
      " [ 0.  1.  0.  0.]\n",
      " [ 0.  2.  0.  0.]]\n"
     ]
    }
   ],
   "source": [
    "import networkx as nx\n",
    "import numpy as np\n",
    "\n",
    "G = nx.Graph()\n",
    "e_list = [(1,2,1.0),(2,3,1.0),(2,4,2.0)]\n",
    "G.add_weighted_edges_from(e_list)\n",
    "a = nx.adjacency_matrix(G)\n",
    "print(a.todense())"
   ]
  },
  {
   "cell_type": "code",
   "execution_count": 38,
   "metadata": {
    "collapsed": true
   },
   "outputs": [],
   "source": [
    "G = nx.Graph()\n",
    "e_list = [(1,3),(2,3),(3,4),(4,5)]\n",
    "G.add_edges_from(e_list)\n",
    "a = nx.adjacency_matrix(G)"
   ]
  },
  {
   "cell_type": "code",
   "execution_count": 43,
   "metadata": {
    "collapsed": false
   },
   "outputs": [
    {
     "name": "stdout",
     "output_type": "stream",
     "text": [
      "[[ 1.          0.          0.          0.        ]\n",
      " [ 0.          0.57735027  0.          0.        ]\n",
      " [ 0.          0.          1.          0.        ]\n",
      " [ 0.          0.          0.          1.        ]]\n"
     ]
    }
   ],
   "source": [
    "arr = (G.degree().values())\n",
    "D = np.diag(1./np.array(np.sqrt(list(G.degree().values()))))\n",
    "print(D)"
   ]
  },
  {
   "cell_type": "code",
   "execution_count": 45,
   "metadata": {
    "collapsed": false
   },
   "outputs": [
    {
     "data": {
      "text/plain": [
       "array([[ 0.        ,  1.        ,  0.        ,  0.        ],\n",
       "       [ 0.57735027,  0.        ,  0.57735027,  1.15470054],\n",
       "       [ 0.        ,  1.        ,  0.        ,  0.        ],\n",
       "       [ 0.        ,  2.        ,  0.        ,  0.        ]])"
      ]
     },
     "execution_count": 45,
     "metadata": {},
     "output_type": "execute_result"
    }
   ],
   "source": [
    "Da = D*a\n",
    "Da"
   ]
  },
  {
   "cell_type": "code",
   "execution_count": 46,
   "metadata": {
    "collapsed": false
   },
   "outputs": [
    {
     "data": {
      "text/plain": [
       "array([[ 0.,  0.,  0.,  0.],\n",
       "       [ 0.,  0.,  0.,  0.],\n",
       "       [ 0.,  0.,  0.,  0.],\n",
       "       [ 0.,  0.,  0.,  0.]])"
      ]
     },
     "execution_count": 46,
     "metadata": {},
     "output_type": "execute_result"
    }
   ],
   "source": [
    "Da*D"
   ]
  },
  {
   "cell_type": "code",
   "execution_count": null,
   "metadata": {
    "collapsed": true
   },
   "outputs": [],
   "source": []
  }
 ],
 "metadata": {
  "kernelspec": {
   "display_name": "Python 3",
   "language": "python",
   "name": "python3"
  },
  "language_info": {
   "codemirror_mode": {
    "name": "ipython",
    "version": 3
   },
   "file_extension": ".py",
   "mimetype": "text/x-python",
   "name": "python",
   "nbconvert_exporter": "python",
   "pygments_lexer": "ipython3",
   "version": "3.5.3"
  }
 },
 "nbformat": 4,
 "nbformat_minor": 2
}
