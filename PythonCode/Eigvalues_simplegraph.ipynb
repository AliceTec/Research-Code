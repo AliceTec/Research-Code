{
 "cells": [
  {
   "cell_type": "code",
   "execution_count": 1,
   "metadata": {
    "collapsed": false
   },
   "outputs": [
    {
     "name": "stdout",
     "output_type": "stream",
     "text": [
      "[0.        +0.j 0.59175171+0.j 2.        +0.j 1.40824829+0.j\n",
      " 1.        +0.j]\n"
     ]
    }
   ],
   "source": [
    "import networkx as nx\n",
    "import pylab as plt\n",
    "from scipy.linalg import eigvals\n",
    "\n",
    "G = nx.Graph()\n",
    "G.add_edges_from([(1,2),(2,3),(2,4),(3,5),(4,5)])\n",
    "L = nx.normalized_laplacian_matrix(G)\n",
    "Eig_norm = eigvals(L.todense())\n",
    "print(Eig_norm)"
   ]
  },
  {
   "cell_type": "code",
   "execution_count": 2,
   "metadata": {
    "collapsed": false
   },
   "outputs": [
    {
     "name": "stdout",
     "output_type": "stream",
     "text": [
      "[-2.22044605e-16+0.j  2.00000000e+00+0.j  4.00000000e+00+0.j\n",
      "  4.00000000e+00+0.j]\n"
     ]
    }
   ],
   "source": [
    "import networkx as nx\n",
    "import pylab as plt\n",
    "from scipy.linalg import eigvals\n",
    "\n",
    "G = nx.Graph()\n",
    "G.add_edges_from([(1,2),(1,3),(2,3),(3,4),(2,4)])\n",
    "L = nx.laplacian_matrix(G)\n",
    "Eig_norm = eigvals(L.todense())\n",
    "print(Eig_norm)"
   ]
  },
  {
   "cell_type": "code",
   "execution_count": 4,
   "metadata": {
    "collapsed": false
   },
   "outputs": [
    {
     "name": "stdout",
     "output_type": "stream",
     "text": [
      "[2.+0.j 0.+0.j 0.+0.j 0.+0.j]\n"
     ]
    }
   ],
   "source": [
    "import numpy as np\n",
    "\n",
    "L = np.matrix([[1,0,0,-1],[0,0,0,0,],[0,0,0,0],[-1,0,0,1]])\n",
    "Eig_norm = eigvals(L)\n",
    "print(Eig_norm)"
   ]
  },
  {
   "cell_type": "code",
   "execution_count": 2,
   "metadata": {
    "collapsed": false
   },
   "outputs": [
    {
     "name": "stdout",
     "output_type": "stream",
     "text": [
      "[ 4.48119430e+00+0.j  2.68889218e+00+0.j -2.80748585e-16+0.j\n",
      "  8.29913513e-01+0.j  2.00000000e+00+0.j]\n"
     ]
    }
   ],
   "source": [
    "L = nx.laplacian_matrix(G)\n",
    "Eig = eigvals(L.todense())\n",
    "print(Eig)"
   ]
  },
  {
   "cell_type": "code",
   "execution_count": 4,
   "metadata": {
    "collapsed": false
   },
   "outputs": [],
   "source": [
    "from numpy import linalg as LA\n",
    "\n",
    "L = nx.laplacian_matrix(G)\n",
    "w, v = LA.eig(L.todense())"
   ]
  },
  {
   "cell_type": "code",
   "execution_count": 5,
   "metadata": {
    "collapsed": false
   },
   "outputs": [
    {
     "data": {
      "text/plain": [
       "array([ 4.48119430e+00,  2.68889218e+00, -2.80748585e-16,  8.29913513e-01,\n",
       "        2.00000000e+00])"
      ]
     },
     "execution_count": 5,
     "metadata": {},
     "output_type": "execute_result"
    }
   ],
   "source": [
    "w"
   ]
  },
  {
   "cell_type": "code",
   "execution_count": 6,
   "metadata": {
    "collapsed": false
   },
   "outputs": [
    {
     "data": {
      "text/plain": [
       "matrix([[ 2.01774144e-01,  3.17515788e-01, -4.47213595e-01,\n",
       "          8.11462211e-01, -2.22044605e-16],\n",
       "        [-7.02415001e-01, -5.36249932e-01, -4.47213595e-01,\n",
       "          1.38018756e-01,  2.22044605e-16],\n",
       "        [ 4.19319477e-01, -2.42173667e-01, -4.47213595e-01,\n",
       "         -2.55974786e-01, -7.07106781e-01],\n",
       "        [ 4.19319477e-01, -2.42173667e-01, -4.47213595e-01,\n",
       "         -2.55974786e-01,  7.07106781e-01],\n",
       "        [-3.37998097e-01,  7.03081478e-01, -4.47213595e-01,\n",
       "         -4.37531395e-01,  6.50353591e-17]])"
      ]
     },
     "execution_count": 6,
     "metadata": {},
     "output_type": "execute_result"
    }
   ],
   "source": [
    "v"
   ]
  },
  {
   "cell_type": "code",
   "execution_count": 7,
   "metadata": {
    "collapsed": true
   },
   "outputs": [],
   "source": [
    "L = nx.normalized_laplacian_matrix(G)\n",
    "w, v = LA.eig(L.todense())"
   ]
  },
  {
   "cell_type": "code",
   "execution_count": 8,
   "metadata": {
    "collapsed": false
   },
   "outputs": [
    {
     "data": {
      "text/plain": [
       "array([0.        , 0.59175171, 2.        , 1.40824829, 1.        ])"
      ]
     },
     "execution_count": 8,
     "metadata": {},
     "output_type": "execute_result"
    }
   ],
   "source": [
    "w"
   ]
  },
  {
   "cell_type": "code",
   "execution_count": 9,
   "metadata": {
    "collapsed": false
   },
   "outputs": [
    {
     "data": {
      "text/plain": [
       "matrix([[ 3.16227766e-01, -6.32455532e-01,  3.16227766e-01,\n",
       "         -6.32455532e-01,  9.61481343e-17],\n",
       "        [ 5.47722558e-01, -4.47213595e-01, -5.47722558e-01,\n",
       "          4.47213595e-01,  8.78224055e-32],\n",
       "        [ 4.47213595e-01,  2.23606798e-01,  4.47213595e-01,\n",
       "          2.23606798e-01,  7.07106781e-01],\n",
       "        [ 4.47213595e-01,  2.23606798e-01,  4.47213595e-01,\n",
       "          2.23606798e-01, -7.07106781e-01],\n",
       "        [ 4.47213595e-01,  5.47722558e-01, -4.47213595e-01,\n",
       "         -5.47722558e-01, -1.57009246e-16]])"
      ]
     },
     "execution_count": 9,
     "metadata": {},
     "output_type": "execute_result"
    }
   ],
   "source": [
    "v"
   ]
  },
  {
   "cell_type": "code",
   "execution_count": 10,
   "metadata": {
    "collapsed": false
   },
   "outputs": [
    {
     "data": {
      "text/plain": [
       "{1: 1, 2: 3, 3: 2, 4: 2, 5: 2}"
      ]
     },
     "execution_count": 10,
     "metadata": {},
     "output_type": "execute_result"
    }
   ],
   "source": [
    "G.degree()"
   ]
  },
  {
   "cell_type": "code",
   "execution_count": null,
   "metadata": {
    "collapsed": true
   },
   "outputs": [],
   "source": []
  }
 ],
 "metadata": {
  "kernelspec": {
   "display_name": "Python 3",
   "language": "python",
   "name": "python3"
  },
  "language_info": {
   "codemirror_mode": {
    "name": "ipython",
    "version": 3
   },
   "file_extension": ".py",
   "mimetype": "text/x-python",
   "name": "python",
   "nbconvert_exporter": "python",
   "pygments_lexer": "ipython3",
   "version": "3.5.3"
  }
 },
 "nbformat": 4,
 "nbformat_minor": 2
}
