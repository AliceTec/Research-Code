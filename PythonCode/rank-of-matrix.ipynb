{
 "cells": [
  {
   "cell_type": "code",
   "execution_count": 1,
   "metadata": {
    "collapsed": false
   },
   "outputs": [
    {
     "name": "stdout",
     "output_type": "stream",
     "text": [
      "3\n"
     ]
    }
   ],
   "source": [
    "import numpy as np\n",
    "import numpy.linalg as lp\n",
    "\n",
    "m = np.matrix([[1,0,2,1], [0,2,4,2],[0,2,2,1]])\n",
    "a = lp.matrix_rank(m)\n",
    "print(a)"
   ]
  },
  {
   "cell_type": "code",
   "execution_count": 2,
   "metadata": {
    "collapsed": false
   },
   "outputs": [
    {
     "name": "stdout",
     "output_type": "stream",
     "text": [
      "2\n"
     ]
    }
   ],
   "source": [
    "m = np.matrix([[1,2,1,-1], [9,5,2,2],[7,1,0,4]])\n",
    "a = lp.matrix_rank(m)\n",
    "print(a)"
   ]
  },
  {
   "cell_type": "code",
   "execution_count": 3,
   "metadata": {
    "collapsed": false
   },
   "outputs": [
    {
     "name": "stdout",
     "output_type": "stream",
     "text": [
      "4\n"
     ]
    }
   ],
   "source": [
    "m = np.matrix([[1,0,0,0,0], [-1,1,0,1,0],[0,-1,1,0,0],[0,0,-1,0,1],[0,0,0,-1,-1]])\n",
    "a = lp.matrix_rank(m)\n",
    "print(a)"
   ]
  },
  {
   "cell_type": "code",
   "execution_count": 4,
   "metadata": {
    "collapsed": false
   },
   "outputs": [
    {
     "name": "stdout",
     "output_type": "stream",
     "text": [
      "4\n"
     ]
    }
   ],
   "source": [
    "m = np.matrix([[1,-1,0,0,0], [-1,3,-1,0,-1],[0,-1,2,-1,0],[0,0,-1,2,-1],[0,-1,0,-1,2]])\n",
    "a = lp.matrix_rank(m)\n",
    "print(a)"
   ]
  },
  {
   "cell_type": "code",
   "execution_count": 5,
   "metadata": {
    "collapsed": false
   },
   "outputs": [
    {
     "name": "stdout",
     "output_type": "stream",
     "text": [
      "3\n"
     ]
    }
   ],
   "source": [
    "m = np.matrix([[2,0,-1,0,-1], [0,1,0,-1,0],[-1,0,2,0,-1],[0,-1,0,1,0],[-1,0,-1,0,2]])\n",
    "a = lp.matrix_rank(m)\n",
    "print(a)"
   ]
  },
  {
   "cell_type": "code",
   "execution_count": null,
   "metadata": {
    "collapsed": true
   },
   "outputs": [],
   "source": [
    "m = np.matrix([[1,0,0,-1,], [0,1,0,-1,0],[-1,0,2,0,-1],[0,-1,0,1,0],[-1,0,-1,0,2]])\n",
    "a = lp.matrix_rank(m)\n",
    "print(a)"
   ]
  }
 ],
 "metadata": {
  "kernelspec": {
   "display_name": "Python 3",
   "language": "python",
   "name": "python3"
  },
  "language_info": {
   "codemirror_mode": {
    "name": "ipython",
    "version": 3
   },
   "file_extension": ".py",
   "mimetype": "text/x-python",
   "name": "python",
   "nbconvert_exporter": "python",
   "pygments_lexer": "ipython3",
   "version": "3.5.3"
  }
 },
 "nbformat": 4,
 "nbformat_minor": 2
}
