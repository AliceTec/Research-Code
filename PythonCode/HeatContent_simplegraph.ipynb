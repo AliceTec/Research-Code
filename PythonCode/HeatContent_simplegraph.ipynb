{
 "cells": [
  {
   "cell_type": "code",
   "execution_count": 5,
   "metadata": {
    "collapsed": true
   },
   "outputs": [],
   "source": [
    "#given the Laplacian matrix L, compute the normalised version\n",
    "def normalised_genlap(L):\n",
    "    D = np.diagonal(L)                # extract the diagonal elements which correspond to the degree\n",
    "    D = [pow(d,-0.5) for d in D]      # compute d^(-1/2) for each of the degrees\n",
    "    D_hf = np.diag(D)                 # form a square matrix D^(-1/2)\n",
    "    Df = np.matmul(D_hf, L)           # compute D^(-1/2) L\n",
    "    Ln = np.matmul(Df,D_hf)           # compute D^(-1/2) L D^(-1/2)\n",
    "    return Ln                         # return normalised Laplacian"
   ]
  },
  {
   "cell_type": "code",
   "execution_count": 6,
   "metadata": {
    "collapsed": true
   },
   "outputs": [],
   "source": [
    "#Mellin transform\n",
    "\n",
    "import networkx as nx\n",
    "import numpy as np\n",
    "import matplotlib.pyplot as plt\n",
    "from scipy.linalg import eigvals\n",
    "\n",
    "def kplaplacian_mlf(G,s):\n",
    "    nodes = G.nodes()\n",
    "    nodelist = list(itertools.combinations(nodes,2))\n",
    "    nsize    = len(nodes)\n",
    "    L = np.zeros(shape=(nsize,nsize))\n",
    "    for n in nodelist:\n",
    "        k = nx.shortest_path_length(G, source=n[0], target=n[1])\n",
    "        if k==1:\n",
    "            L[n[0]-1,n[1]-1]= L[n[1]-1,n[0]-1]= -1\n",
    "        else:\n",
    "            L[n[0]-1,n[1]-1]= L[n[1]-1,n[0]-1]= -pow(k,-1*s)\n",
    "    row,col = np.diag_indices_from(L)\n",
    "    L[row,col] = -L.sum(axis=1)\n",
    "    return L"
   ]
  },
  {
   "cell_type": "code",
   "execution_count": 7,
   "metadata": {
    "collapsed": true
   },
   "outputs": [],
   "source": [
    "#function to compute the laplace based Laplacian matrix for a given value of lambda\n",
    "\n",
    "def kplaplacian_ltf(G,lam):\n",
    "    nodes = G.nodes()\n",
    "    nodelist = list(itertools.combinations(nodes,2))\n",
    "    nsize    = len(nodes)\n",
    "    L = np.zeros(shape=(nsize,nsize))\n",
    "    for n in nodelist:\n",
    "        k = nx.shortest_path_length(G, source=n[0], target=n[1])\n",
    "        if k==1:\n",
    "            L[n[0]-1,n[1]-1]= L[n[1]-1,n[0]-1]= -1\n",
    "        else:\n",
    "            L[n[0]-1,n[1]-1]= L[n[1]-1,n[0]-1]= -np.exp(-lam*k)\n",
    "    row,col = np.diag_indices_from(L)\n",
    "    L[row,col] = -L.sum(axis=1)\n",
    "    return L"
   ]
  },
  {
   "cell_type": "code",
   "execution_count": 4,
   "metadata": {
    "collapsed": false
   },
   "outputs": [
    {
     "ename": "NameError",
     "evalue": "name 'expm' is not defined",
     "output_type": "error",
     "traceback": [
      "\u001b[0;31m---------------------------------------------------------------------------\u001b[0m",
      "\u001b[0;31mNameError\u001b[0m                                 Traceback (most recent call last)",
      "\u001b[0;32m<ipython-input-4-f459b75ba2e1>\u001b[0m in \u001b[0;36m<module>\u001b[0;34m()\u001b[0m\n\u001b[1;32m     15\u001b[0m \u001b[0mA\u001b[0m\u001b[0;34m=\u001b[0m\u001b[0mL\u001b[0m\u001b[0;34m.\u001b[0m\u001b[0mtodense\u001b[0m\u001b[0;34m(\u001b[0m\u001b[0;34m)\u001b[0m\u001b[0;34m\u001b[0m\u001b[0m\n\u001b[1;32m     16\u001b[0m \u001b[0;32mfor\u001b[0m \u001b[0mt\u001b[0m \u001b[0;32min\u001b[0m \u001b[0mtime\u001b[0m\u001b[0;34m:\u001b[0m\u001b[0;34m\u001b[0m\u001b[0m\n\u001b[0;32m---> 17\u001b[0;31m     \u001b[0mexpA\u001b[0m \u001b[0;34m=\u001b[0m \u001b[0mexpm\u001b[0m\u001b[0;34m(\u001b[0m\u001b[0;34m-\u001b[0m\u001b[0mt\u001b[0m\u001b[0;34m*\u001b[0m\u001b[0mA\u001b[0m\u001b[0;34m)\u001b[0m\u001b[0;34m\u001b[0m\u001b[0m\n\u001b[0m\u001b[1;32m     18\u001b[0m     \u001b[0mlistexpA\u001b[0m\u001b[0;34m.\u001b[0m\u001b[0mappend\u001b[0m\u001b[0;34m(\u001b[0m\u001b[0mexpA\u001b[0m\u001b[0;34m.\u001b[0m\u001b[0msum\u001b[0m\u001b[0;34m(\u001b[0m\u001b[0;34m)\u001b[0m\u001b[0;34m)\u001b[0m\u001b[0;34m\u001b[0m\u001b[0m\n\u001b[1;32m     19\u001b[0m \u001b[0mlist_norm_genlap\u001b[0m\u001b[0;34m.\u001b[0m\u001b[0mappend\u001b[0m\u001b[0;34m(\u001b[0m\u001b[0mlistexpA\u001b[0m\u001b[0;34m)\u001b[0m\u001b[0;34m\u001b[0m\u001b[0m\n",
      "\u001b[0;31mNameError\u001b[0m: name 'expm' is not defined"
     ]
    }
   ],
   "source": [
    "#heatcontent against time for the normal and mellin based generalised normalised laplacian\n",
    "\n",
    "import networkx as nx\n",
    "import pylab as plt\n",
    "import itertools\n",
    "from scipy.linalg import expm\n",
    "\n",
    "G = nx.Graph()\n",
    "G.add_edges_from([(1,2),(2,3),(2,4),(3,5),(4,5)])\n",
    "list_norm_genlap = []\n",
    "time = range(10)\n",
    "\n",
    "\n",
    "listexpA = []\n",
    "L = nx.normalized_laplacian_matrix(G)\n",
    "A=L.todense()\n",
    "for t in time:\n",
    "    expA = expm(-t*A)\n",
    "    listexpA.append(expA.sum())\n",
    "list_norm_genlap.append(listexpA)\n",
    "leg = ['Normal']                                      #set first element of the legend\n",
    "\n",
    "lists = [1.00,1.02,1.10,1.50,2.00,2.10,2.50,3.00]\n",
    "\n",
    "for s in lists:\n",
    "    Ln = normalised_genlap(kplaplacian_mlf(G,s))        #compute the normalised generalised Laplacian with s=2\n",
    "    An=Ln\n",
    "    #A.sum()\n",
    "    listexpA = []\n",
    "    for t in time:\n",
    "        expAn = expm(-t*An)\n",
    "        listexpA.append(expAn.sum())\n",
    "    list_norm_genlap.append(listexpA)\n",
    "    leg.append('$s=$'+str(s))\n",
    "\n",
    "    \n",
    "for i in range(0,len(list_norm_genlap)):\n",
    "    if i==0:\n",
    "        plt.plot(time,list_norm_genlap[i],\"o-\")\n",
    "    else:\n",
    "        plt.plot(time,list_norm_genlap[i],\"*-\")\n",
    "        \n",
    "plt.legend(leg,loc='upper center', bbox_to_anchor=(1.15,1))\n",
    "\n",
    "plt.show()"
   ]
  },
  {
   "cell_type": "code",
   "execution_count": null,
   "metadata": {
    "collapsed": false
   },
   "outputs": [],
   "source": [
    "#heatcontent against time for the normal and laplace based generalised normalised laplacian\n",
    "\n",
    "import networkx as nx\n",
    "import pylab as plt\n",
    "import itertools\n",
    "from scipy.linalg import expm\n",
    "\n",
    "G = nx.Graph()\n",
    "G.add_edges_from([(1,2),(2,3),(2,4),(3,5),(4,5)])\n",
    "list_norm_genlap = []\n",
    "time = range(10)\n",
    "\n",
    "\n",
    "listexpA = []\n",
    "L = nx.normalized_laplacian_matrix(G)\n",
    "A=L.todense()\n",
    "for t in time:\n",
    "    expA = expm(-t*A)\n",
    "    listexpA.append(expA.sum())\n",
    "list_norm_genlap.append(listexpA)\n",
    "leg = ['Normal']                                      #set first element of the legend\n",
    "\n",
    "lists = [1.00,1.02,1.10,1.50,2.00,2.10,2.50,3.00]\n",
    "\n",
    "for lam in lists:\n",
    "    Ln = normalised_genlap(kplaplacian_ltf(G,lam))        #compute the normalised generalised Laplacian with s=2\n",
    "    An=Ln\n",
    "    #A.sum()\n",
    "    listexpA = []\n",
    "    for t in time:\n",
    "        expAn = expm(-t*An)\n",
    "        listexpA.append(expAn.sum())\n",
    "    list_norm_genlap.append(listexpA)\n",
    "    leg.append('$\\lambda=$'+str(lam))\n",
    "\n",
    "    \n",
    "for i in range(0,len(list_norm_genlap)):\n",
    "    if i==0:\n",
    "        plt.plot(time,list_norm_genlap[i],\"o-\")\n",
    "    else:\n",
    "        plt.plot(time,list_norm_genlap[i],\"*-\")\n",
    "        \n",
    "plt.legend(leg,loc='upper center', bbox_to_anchor=(1.15,1))\n",
    "\n",
    "plt.show()"
   ]
  },
  {
   "cell_type": "code",
   "execution_count": 23,
   "metadata": {
    "collapsed": false
   },
   "outputs": [
    {
     "name": "stdout",
     "output_type": "stream",
     "text": [
      "2.0\n"
     ]
    },
    {
     "data": {
      "image/png": "[encoded data removed]",
      "text/plain": [
       "<Figure size 432x288 with 1 Axes>"
      ]
     },
     "metadata": {},
     "output_type": "display_data"
    }
   ],
   "source": [
    "#heatcontent against time for the normal and mellin based generalised normalised laplacian\n",
    "\n",
    "import networkx as nx\n",
    "import pylab as plt\n",
    "import itertools\n",
    "from scipy.linalg import expm\n",
    "\n",
    "n=10\n",
    "p=0.25\n",
    "G = nx.gnp_random_graph(n, p, seed=None, directed=False)\n",
    "while (nx.is_connected(G)==False):\n",
    "    G = nx.gnp_random_graph(n, p, seed=None, directed=False)\n",
    "\n",
    "deg = list(G.degree)\n",
    "avedegree = np.mean([d[1] for d in deg])\n",
    "print(avedegree)\n",
    "\n",
    "list_norm_genlap = []\n",
    "\n",
    "time = range(10)\n",
    "\n",
    "\n",
    "listexpA = []\n",
    "L = nx.normalized_laplacian_matrix(G)\n",
    "A=L.todense()\n",
    "for t in time:\n",
    "    expA = expm(-t*A)\n",
    "    listexpA.append(expA.sum())\n",
    "list_norm_genlap.append(listexpA)\n",
    "leg = ['Stardard']                                      #set first element of the legend\n",
    "\n",
    "lists = [1.00,1.02,1.10,1.50,2.00,2.10,2.50,3.00]\n",
    "\n",
    "for s in lists:\n",
    "    Ln = normalised_genlap(kplaplacian_mlf(G,s))        #compute the normalised generalised Laplacian with s=2\n",
    "    An=Ln\n",
    "    #A.sum()\n",
    "    listexpA = []\n",
    "    for t in time:\n",
    "        expAn = expm(-t*An)\n",
    "        listexpA.append(expAn.sum())\n",
    "    list_norm_genlap.append(listexpA)\n",
    "    leg.append('$s=$'+str(s))\n",
    "\n",
    "    \n",
    "for i in range(0,len(list_norm_genlap)):\n",
    "    if i==0:\n",
    "        plt.plot(time,list_norm_genlap[i],\"o-\")\n",
    "    else:\n",
    "        plt.plot(time,list_norm_genlap[i],\"*-\")\n",
    "        \n",
    "plt.xlabel('Time,t', fontsize=13)\n",
    "plt.ylabel('Heat content, $Q(t)$', fontsize=13)\n",
    "plt.legend(leg,loc='upper center', bbox_to_anchor=(1.17,1),prop={'size': 12})\n",
    "#plt.savefig('/home/alicenanyanzi/RecentProject/Research-Documentation/AliceThesis-Stellenbosch/images/ER-Mellinheatcontent.eps', format='eps', bbox_inches='tight')\n",
    "plt.show()"
   ]
  },
  {
   "cell_type": "code",
   "execution_count": 24,
   "metadata": {
    "collapsed": false
   },
   "outputs": [
    {
     "data": {
      "image/png": "[encoded data removed]",
      "text/plain": [
       "<Figure size 432x288 with 1 Axes>"
      ]
     },
     "metadata": {},
     "output_type": "display_data"
    }
   ],
   "source": [
    "list_norm_genlap = []\n",
    "\n",
    "time = range(10)\n",
    "\n",
    "listexpA = []\n",
    "L = nx.normalized_laplacian_matrix(G)\n",
    "A=L.todense()\n",
    "for t in time:\n",
    "    expA = expm(-t*A)\n",
    "    listexpA.append(expA.sum())\n",
    "list_norm_genlap.append(listexpA)\n",
    "leg = ['Standard']                                      #set first element of the legend\n",
    "\n",
    "lists = [1.00,1.02,1.10,1.50,2.00,2.10,2.50,3.00]\n",
    "\n",
    "for lam in lists:\n",
    "    Ln = normalised_genlap(kplaplacian_ltf(G,lam))        #compute the normalised generalised Laplacian with s=2\n",
    "    An=Ln\n",
    "    #A.sum()\n",
    "    listexpA = []\n",
    "    for t in time:\n",
    "        expAn = expm(-t*An)\n",
    "        listexpA.append(expAn.sum())\n",
    "    list_norm_genlap.append(listexpA)\n",
    "    leg.append('$\\lambda=$'+str(lam))\n",
    "\n",
    "    \n",
    "for i in range(0,len(list_norm_genlap)):\n",
    "    if i==0:\n",
    "        plt.plot(time,list_norm_genlap[i],\"o-\")\n",
    "    else:\n",
    "        plt.plot(time,list_norm_genlap[i],\"*-\")\n",
    "\n",
    "plt.xlabel('Time,t', fontsize=13)\n",
    "plt.ylabel('Heat content, $Q(t)$', fontsize=13) \n",
    "plt.legend(leg,loc='upper center', bbox_to_anchor=(1.15,1), prop={'size': 12})\n",
    "#plt.savefig('/home/alicenanyanzi/RecentProject/Research-Documentation/AliceThesis-Stellenbosch/images/ER-Laplaceheatcontent.eps', format='eps',bbox_inches='tight')\n",
    "plt.show()"
   ]
  },
  {
   "cell_type": "code",
   "execution_count": null,
   "metadata": {
    "collapsed": false
   },
   "outputs": [],
   "source": [
    "#heatcontent against time for the normal and laplace based generalised normalised laplacian\n",
    "\n",
    "import networkx as nx\n",
    "import pylab as plt\n",
    "import itertools\n",
    "\n",
    "G = nx.Graph()\n",
    "G.add_edges_from([(1,2),(2,3),(2,4),(3,5),(4,5)])\n",
    "list_norm_genlap = []\n",
    "time = range(10)\n",
    "\n",
    "\n",
    "listexpA = []\n",
    "L = nx.laplacian_matrix(G)\n",
    "A=L.todense()\n",
    "for t in time:\n",
    "    expA = expm(-t*A)\n",
    "    listexpA.append(expA.sum())\n",
    "list_norm_genlap.append(listexpA)\n",
    "leg = ['Normal']                                      #set first element of the legend\n",
    "\n",
    "lists = [1.00,1.02,1.10,1.50,2.00,2.10,2.50,3.00]\n",
    "\n",
    "for lam in lists:\n",
    "    Ln = kplaplacian_ltf(G,lam)                      #compute the generalised Laplacian with s=2\n",
    "    An=Ln\n",
    "    #A.sum()\n",
    "    listexpA = []\n",
    "    for t in time:\n",
    "        expAn = expm(-t*An)\n",
    "        listexpA.append(expAn.sum())\n",
    "    list_norm_genlap.append(listexpA)\n",
    "    leg.append('$s=$'+str(lam))\n",
    "\n",
    "    \n",
    "for i in range(0,len(list_norm_genlap)):\n",
    "    if i==0:\n",
    "        plt.plot(time,list_norm_genlap[i],\"o-\")\n",
    "    else:\n",
    "        plt.plot(time,list_norm_genlap[i],\"*-\")\n",
    "        \n",
    "plt.legend(leg,loc='upper center', bbox_to_anchor=(1.15,1))\n",
    "plt.show()"
   ]
  },
  {
   "cell_type": "code",
   "execution_count": null,
   "metadata": {
    "collapsed": false
   },
   "outputs": [],
   "source": [
    "import networkx as nx\n",
    "import pylab as plt\n",
    "import itertools\n",
    "\n",
    "G = nx.Graph()\n",
    "G.add_edges_from([(1,2),(2,3),(2,4),(3,5),(4,5)])\n",
    "list_norm_genlap = []\n",
    "time = range(10)\n",
    "\n",
    "\n",
    "listexpA = []\n",
    "listtrace = []\n",
    "L = nx.normalized_laplacian_matrix(G)\n",
    "A=L.todense()\n",
    "for t in time:\n",
    "    expA = expm(-t*A)\n",
    "    listexpA.append(expA.sum())\n",
    "    listtrace.append(np.sum(np.diagonal(expA)))\n",
    "    \n",
    "plt.plot(time,listexpA,\"o-\")  \n",
    "plt.plot(time,listtrace,\"*-\") \n",
    "plt.show()"
   ]
  },
  {
   "cell_type": "code",
   "execution_count": null,
   "metadata": {
    "collapsed": false
   },
   "outputs": [],
   "source": [
    "import numpy as np\n",
    "import pylab as plt\n",
    "\n",
    "t = [0,1,2,3]\n",
    "tt = [i * 1 for i in t]\n",
    "y = np.exp(tt) \n",
    "yy1 = [j * 2 for j in y]\n",
    "yy2 = [j * 3 for j in y]\n",
    "plt.plot(t,yy1, label=\"yy1\") \n",
    "plt.plot(t,yy2)\n",
    "plt.legend()\n",
    "plt.show()\n",
    "print(t)"
   ]
  },
  {
   "cell_type": "code",
   "execution_count": null,
   "metadata": {
    "collapsed": false
   },
   "outputs": [],
   "source": [
    "import scipy.linalg as LA\n",
    "import random\n",
    "import matplotlib.pyplot as plt\n",
    "import itertools\n",
    "import networkx as nx\n",
    "import numpy as np\n",
    "from scipy.linalg import expm\n",
    "\n",
    "n=100\n",
    "m=[4,5,7,10,12]\n",
    "phi_lst = []\n",
    "phi_av = []\n",
    "lg = []\n",
    "time = np.arange(0,5,0.05)\n",
    "for i in range(5):\n",
    "    G = nx.barabasi_albert_graph(n, m[i], seed=None)     #Create Barabasi network\n",
    "    while (nx.is_connected(G)==False):                # check if network is connected\n",
    "        G = nx.barabasi_albert_graph(n, m, seed=None)\n",
    "\n",
    "    phi_av.append(nx.average_shortest_path_length(G))\n",
    "    \n",
    "\n",
    "    L = nx.normalized_laplacian_matrix(G).todense()   # to cater for no longrange interactions\n",
    "\n",
    "    D, V = LA.eigh(L);                              #Compute the eigenvalues/vectors of the laplacian matrix\n",
    "\n",
    "    phi_t = []\n",
    "    for t in time :                             #Loop through times and decay each initial component\n",
    "        #D = np.diag(np.exp(np.multiply(D,-t)));\n",
    "        H = expm(np.multiply(L,-t))\n",
    "        phi_t.append(H.sum())\n",
    "        \n",
    "    phi_lst.append(phi_t)\n",
    "    lg.append('Ave'+str(m[i]))\n",
    "        \n",
    "for i in range(5):\n",
    "        plt.plot(time,[ e/max(phi_lst[i]) for e in phi_lst[i]])\n",
    "\n",
    "plt.legend(lg,loc='upper center', bbox_to_anchor=(1.15,1))\n",
    "plt.show()\n",
    "print(phi_av)"
   ]
  },
  {
   "cell_type": "code",
   "execution_count": 11,
   "metadata": {
    "collapsed": false
   },
   "outputs": [],
   "source": [
    "G = nx.path_graph(4)  # or DiGraph, MultiGraph, MultiDiGraph, etc\n",
    "G.degree[0]  # node 0 has degree 1\n",
    "\n",
    "deg = list(G.degree([0, 1, 2]))"
   ]
  },
  {
   "cell_type": "code",
   "execution_count": 17,
   "metadata": {
    "collapsed": false
   },
   "outputs": [
    {
     "data": {
      "text/plain": [
       "[(0, 1), (1, 2), (2, 2)]"
      ]
     },
     "execution_count": 17,
     "metadata": {},
     "output_type": "execute_result"
    }
   ],
   "source": [
    "deg"
   ]
  },
  {
   "cell_type": "code",
   "execution_count": 19,
   "metadata": {
    "collapsed": false
   },
   "outputs": [
    {
     "data": {
      "text/plain": [
       "1.6666666666666667"
      ]
     },
     "execution_count": 19,
     "metadata": {},
     "output_type": "execute_result"
    }
   ],
   "source": [
    "s = 0\n",
    "\n",
    "np.mean([d[1] for d in deg])"
   ]
  },
  {
   "cell_type": "code",
   "execution_count": null,
   "metadata": {
    "collapsed": true
   },
   "outputs": [],
   "source": []
  }
 ],
 "metadata": {
  "kernelspec": {
   "display_name": "Python 3",
   "language": "python",
   "name": "python3"
  },
  "language_info": {
   "codemirror_mode": {
    "name": "ipython",
    "version": 3
   },
   "file_extension": ".py",
   "mimetype": "text/x-python",
   "name": "python",
   "nbconvert_exporter": "python",
   "pygments_lexer": "ipython3",
   "version": "3.5.3"
  }
 },
 "nbformat": 4,
 "nbformat_minor": 2
}
