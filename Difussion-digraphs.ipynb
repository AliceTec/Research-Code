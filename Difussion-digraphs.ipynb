{
 "cells": [
  {
   "cell_type": "code",
   "execution_count": 3,
   "metadata": {
    "collapsed": true
   },
   "outputs": [],
   "source": [
    "def laplacian_matrix_digraph(G, nodelist=None, weight='weight'):\n",
    "    import scipy.sparse\n",
    "    if nodelist is None:\n",
    "        nodelist = G.nodes()\n",
    "    A = nx.to_scipy_sparse_matrix(G, nodelist=nodelist, weight=weight,\n",
    "                                  format='csr')\n",
    "    n,m = A.shape\n",
    "    diags = A.sum(axis=1)\n",
    "    D = scipy.sparse.spdiags(diags.flatten(), [0], m, n, format='csr')\n",
    "    return  D - A"
   ]
  },
  {
   "cell_type": "code",
   "execution_count": 4,
   "metadata": {
    "collapsed": false
   },
   "outputs": [
    {
     "ename": "AttributeError",
     "evalue": "module 'numpy' has no attribute 'null'",
     "output_type": "error",
     "traceback": [
      "\u001b[0;31m---------------------------------------------------------------------------\u001b[0m",
      "\u001b[0;31mAttributeError\u001b[0m                            Traceback (most recent call last)",
      "\u001b[0;32m<ipython-input-4-e99b5cf2148a>\u001b[0m in \u001b[0;36m<module>\u001b[0;34m()\u001b[0m\n\u001b[1;32m      6\u001b[0m \u001b[0mG\u001b[0m\u001b[0;34m.\u001b[0m\u001b[0madd_edges_from\u001b[0m\u001b[0;34m(\u001b[0m\u001b[0me_lst\u001b[0m\u001b[0;34m)\u001b[0m\u001b[0;34m\u001b[0m\u001b[0m\n\u001b[1;32m      7\u001b[0m \u001b[0ma\u001b[0m \u001b[0;34m=\u001b[0m \u001b[0;34m(\u001b[0m\u001b[0mlaplacian_matrix_digraph\u001b[0m\u001b[0;34m(\u001b[0m\u001b[0mG\u001b[0m\u001b[0;34m,\u001b[0m\u001b[0;34m[\u001b[0m\u001b[0;36m0\u001b[0m\u001b[0;34m,\u001b[0m\u001b[0;36m1\u001b[0m\u001b[0;34m,\u001b[0m\u001b[0;36m2\u001b[0m\u001b[0;34m,\u001b[0m\u001b[0;36m3\u001b[0m\u001b[0;34m,\u001b[0m\u001b[0;36m4\u001b[0m\u001b[0;34m]\u001b[0m\u001b[0;34m)\u001b[0m\u001b[0;34m.\u001b[0m\u001b[0mtodense\u001b[0m\u001b[0;34m(\u001b[0m\u001b[0;34m)\u001b[0m\u001b[0;34m)\u001b[0m\u001b[0;34m\u001b[0m\u001b[0m\n\u001b[0;32m----> 8\u001b[0;31m \u001b[0mprint\u001b[0m\u001b[0;34m(\u001b[0m\u001b[0mnp\u001b[0m\u001b[0;34m.\u001b[0m\u001b[0mnull\u001b[0m\u001b[0;34m(\u001b[0m\u001b[0ma\u001b[0m\u001b[0;34m)\u001b[0m\u001b[0;34m)\u001b[0m\u001b[0;34m\u001b[0m\u001b[0m\n\u001b[0m",
      "\u001b[0;31mAttributeError\u001b[0m: module 'numpy' has no attribute 'null'"
     ]
    }
   ],
   "source": [
    "import networkx as nx\n",
    "import numpy as np\n",
    "\n",
    "G = nx.DiGraph()\n",
    "e_lst = [(1,0),(0,3),(2,1),(0,2),(4,0),(3,4)]\n",
    "G.add_edges_from(e_lst)\n",
    "a = (laplacian_matrix_digraph(G,[0,1,2,3,4]).todense())\n",
    "print(np.null(a))"
   ]
  },
  {
   "cell_type": "code",
   "execution_count": null,
   "metadata": {
    "collapsed": false
   },
   "outputs": [],
   "source": [
    "import networkx as nx\n",
    "\n",
    "G = nx.DiGraph()\n",
    "e_lst = [(1,0),(0,3),(2,1),(0,2),(4,0),(4,3)]\n",
    "G.add_edges_from(e_lst)\n",
    "a = (laplacian_matrix_digraph(G,[0,1,2,3,4]).todense())\n",
    "print(a)"
   ]
  },
  {
   "cell_type": "code",
   "execution_count": null,
   "metadata": {
    "collapsed": false
   },
   "outputs": [],
   "source": [
    "import networkx as nx\n",
    "import random\n",
    "import numpy as np\n",
    "from scipy.linalg import expm\n",
    "import matplotlib.pyplot as plt\n",
    "from numpy import linalg as LA\n",
    "from scipy.linalg import eig\n",
    "\n",
    "e,vl,vr = eig(a,b=None,left=True, right=True)\n",
    "print(e)"
   ]
  },
  {
   "cell_type": "code",
   "execution_count": null,
   "metadata": {
    "collapsed": false
   },
   "outputs": [],
   "source": [
    "print(vr[:,2])"
   ]
  },
  {
   "cell_type": "code",
   "execution_count": null,
   "metadata": {
    "collapsed": false
   },
   "outputs": [],
   "source": [
    "print(vl[:,2])"
   ]
  },
  {
   "cell_type": "code",
   "execution_count": 5,
   "metadata": {
    "collapsed": false
   },
   "outputs": [
    {
     "name": "stdout",
     "output_type": "stream",
     "text": [
      "[0, 1, 2, 3, 4]\n"
     ]
    },
    {
     "name": "stderr",
     "output_type": "stream",
     "text": [
      "/usr/lib/python3/dist-packages/matplotlib/axes/_axes.py:545: UserWarning: No labelled objects found. Use label='...' kwarg on individual plots.\n",
      "  warnings.warn(\"No labelled objects found. \"\n"
     ]
    },
    {
     "data": {
      "image/png": "[encoded data removed]",
      "text/plain": [
       "<matplotlib.figure.Figure at 0x7f21185e20f0>"
      ]
     },
     "metadata": {},
     "output_type": "display_data"
    }
   ],
   "source": [
    "import networkx as nx\n",
    "import random\n",
    "import numpy as np\n",
    "from scipy.linalg import expm\n",
    "import matplotlib.pyplot as plt\n",
    "\n",
    "G = nx.DiGraph()\n",
    "e_lst = [(1,0),(0,3),(2,1),(0,2),(4,0),(3,4),(2,4)]\n",
    "G.add_edges_from(e_lst)\n",
    "\n",
    "nodes = G.nodes()\n",
    "print(nodes)\n",
    "a = (laplacian_matrix_digraph(G,[0,1,2,3,4])).todense()\n",
    "\n",
    "phi_0 =[2,0,3,0,0]\n",
    "lst = []\n",
    "time = np.arange(0,10,0.05)\n",
    "for t in time:\n",
    "    phi_t = np.dot(phi_0, expm(-a*t))\n",
    "    lst.append(phi_t)\n",
    "\n",
    "plt.plot(time,lst)\n",
    "plt.xlabel('Time, t')\n",
    "plt.ylabel('Quantity of heat at time t, $\\phi_i(t)$')\n",
    "#plt.title('Diffusion of heat over a simple Network')\n",
    "plt.legend()\n",
    "plt.show()"
   ]
  },
  {
   "cell_type": "code",
   "execution_count": 6,
   "metadata": {
    "collapsed": false
   },
   "outputs": [
    {
     "name": "stdout",
     "output_type": "stream",
     "text": [
      "[[ 2  0 -1 -1  0]\n",
      " [-1  1  0  0  0]\n",
      " [ 0 -1  1  0  0]\n",
      " [ 0  0  0  1 -1]\n",
      " [-1  0 -1  0  2]]\n",
      "[2.30901699e+00+0.95105652j 2.30901699e+00-0.95105652j\n",
      " 1.13527093e-16+0.j         1.19098301e+00+0.58778525j\n",
      " 1.19098301e+00-0.58778525j]\n"
     ]
    }
   ],
   "source": [
    "from scipy.linalg import eig\n",
    "G = nx.DiGraph()\n",
    "e_lst = [(1,0),(0,3),(2,1),(0,2),(4,0),(3,4),(4,2)]\n",
    "G.add_edges_from(e_lst)\n",
    "\n",
    "nodes = G.nodes()\n",
    "a = (laplacian_matrix_digraph(G,[0,1,2,3,4])).todense()\n",
    "e,vl,vr = eig(a, b=None, left=True, right=True)\n",
    "print(a)\n",
    "print(e)"
   ]
  },
  {
   "cell_type": "code",
   "execution_count": 7,
   "metadata": {
    "collapsed": false
   },
   "outputs": [
    {
     "name": "stdout",
     "output_type": "stream",
     "text": [
      "[[ 2  0 -1 -1  0]\n",
      " [-1  1  0  0  0]\n",
      " [ 0 -1  2  0 -1]\n",
      " [ 0  0  0  1 -1]\n",
      " [-1  0  0  0  1]]\n",
      "[ 2.34116390e+00+1.1615414j  2.34116390e+00-1.1615414j\n",
      " -3.81466289e-16+0.j         1.31767220e+00+0.j\n",
      "  1.00000000e+00+0.j       ]\n"
     ]
    }
   ],
   "source": [
    "from scipy.linalg import eig\n",
    "G = nx.DiGraph()\n",
    "e_lst = [(1,0),(0,3),(2,1),(0,2),(4,0),(3,4),(2,4)]\n",
    "G.add_edges_from(e_lst)\n",
    "\n",
    "nodes = G.nodes()\n",
    "a = (laplacian_matrix_digraph(G,[0,1,2,3,4])).todense()\n",
    "e,vl,vr = eig(a, b=None, left=True, right=True)\n",
    "print(a)\n",
    "print(e)"
   ]
  },
  {
   "cell_type": "code",
   "execution_count": 8,
   "metadata": {
    "collapsed": false
   },
   "outputs": [
    {
     "name": "stdout",
     "output_type": "stream",
     "text": [
      "[[ 2  0 -1 -1  0]\n",
      " [-1  1  0  0  0]\n",
      " [ 0 -1  1  0  0]\n",
      " [ 0  0  0  1 -1]\n",
      " [-1  0  0  0  1]]\n",
      "[ 2.00000000e+00+1.j  2.00000000e+00-1.j -1.70390417e-16+0.j\n",
      "  1.00000000e+00+0.j  1.00000000e+00+0.j]\n"
     ]
    }
   ],
   "source": [
    "from scipy.linalg import eig\n",
    "G = nx.DiGraph()\n",
    "e_lst = [(1,0),(0,3),(2,1),(0,2),(4,0),(3,4)]\n",
    "G.add_edges_from(e_lst)\n",
    "\n",
    "nodes = G.nodes()\n",
    "a = (laplacian_matrix_digraph(G,[0,1,2,3,4])).todense()\n",
    "e,vl,vr = eig(a, b=None, left=True, right=True)\n",
    "print(a)\n",
    "print(e)"
   ]
  },
  {
   "cell_type": "code",
   "execution_count": 9,
   "metadata": {
    "collapsed": false
   },
   "outputs": [
    {
     "name": "stdout",
     "output_type": "stream",
     "text": [
      "0 1\n",
      "0 1\n",
      "0 2\n",
      "0 2\n",
      "0 3\n",
      "0 3\n",
      "0 4\n",
      "0 4\n",
      "1 2\n",
      "1 2\n",
      "1 3\n",
      "1 3\n",
      "1 4\n",
      "1 4\n",
      "2 3\n",
      "2 3\n",
      "2 4\n",
      "2 4\n",
      "3 4\n",
      "3 4\n"
     ]
    }
   ],
   "source": [
    "import itertools\n",
    "G = nx.DiGraph()\n",
    "e_lst = [(1,0),(0,3),(2,1),(0,2),(4,0),(3,4)]\n",
    "G.add_edges_from(e_lst)\n",
    "\n",
    "nodes = G.nodes()\n",
    "\n",
    "for a, b in itertools.combinations(nodes, 2):\n",
    "    print(a, b)\n",
    "    print(nodes.index(a), nodes.index(b))"
   ]
  },
  {
   "cell_type": "code",
   "execution_count": 23,
   "metadata": {
    "collapsed": false
   },
   "outputs": [
    {
     "data": {
      "image/png": "[encoded data removed]",
      "text/plain": [
       "<matplotlib.figure.Figure at 0x7f20edf2eeb8>"
      ]
     },
     "metadata": {},
     "output_type": "display_data"
    }
   ],
   "source": [
    "G = nx.DiGraph()\n",
    "e_lst = [(1,0),(0,3),(2,1),(0,2),(4,0),(3,4)]\n",
    "G.add_edges_from(e_lst)\n",
    "\n",
    "nodes = G.nodes()\n",
    "a = (laplacian_matrix_digraph(G,[0,1,2,3,4])).todense()\n",
    "\n",
    "phi_0 =[2,0,3,0,0]\n",
    "lst = []\n",
    "time = np.arange(0,10,0.05)\n",
    "for t in time:\n",
    "    phi_t = np.dot(phi_0, expm(-a*t))\n",
    "    lst.append(phi_t)\n",
    "\n",
    "plt.plot(time,lst)\n",
    "plt.xlabel('Time, t')\n",
    "plt.ylabel('Quantity of heat at time t, $\\phi_i(t)$')\n",
    "#plt.title('Diffusion of heat over a simple Network')\n",
    "plt.legend([\"Node 1\",\"Node 2\",\"Node 3\",\"Node 4\",\"Node 5\"])\n",
    "plt.show()"
   ]
  },
  {
   "cell_type": "code",
   "execution_count": 25,
   "metadata": {
    "collapsed": false
   },
   "outputs": [
    {
     "data": {
      "image/png": "[encoded data removed]",
      "text/plain": [
       "<matplotlib.figure.Figure at 0x7f20edba1f98>"
      ]
     },
     "metadata": {},
     "output_type": "display_data"
    }
   ],
   "source": [
    "G = nx.DiGraph()\n",
    "e_lst = [(1,0),(0,3),(2,1),(0,2),(0,4),(3,4)]\n",
    "G.add_edges_from(e_lst)\n",
    "\n",
    "nodes = G.nodes()\n",
    "a = (laplacian_matrix_digraph(G,[0,1,2,3,4])).todense()\n",
    "\n",
    "phi_0 =[2,0,3,0,0]\n",
    "lst = []\n",
    "time = np.arange(0,20,0.05)\n",
    "for t in time:\n",
    "    phi_t = np.dot(phi_0, expm(-a*t))\n",
    "    lst.append(phi_t)\n",
    "\n",
    "plt.plot(time,lst)\n",
    "plt.xlabel('Time, t')\n",
    "plt.ylabel('Quantity of heat at time t, $\\phi_i(t)$')\n",
    "#plt.title('Diffusion of heat over a simple Network')\n",
    "plt.legend([\"Node 1\",\"Node 2\",\"Node 3\",\"Node 4\",\"Node 5\"])\n",
    "plt.show()"
   ]
  },
  {
   "cell_type": "code",
   "execution_count": 11,
   "metadata": {
    "collapsed": false
   },
   "outputs": [
    {
     "name": "stderr",
     "output_type": "stream",
     "text": [
      "/usr/lib/python3/dist-packages/matplotlib/axes/_axes.py:545: UserWarning: No labelled objects found. Use label='...' kwarg on individual plots.\n",
      "  warnings.warn(\"No labelled objects found. \"\n"
     ]
    },
    {
     "data": {
      "image/png": "[encoded data removed]",
      "text/plain": [
       "<matplotlib.figure.Figure at 0x7f20ede3a278>"
      ]
     },
     "metadata": {},
     "output_type": "display_data"
    }
   ],
   "source": [
    "import networkx as nx\n",
    "import random\n",
    "import numpy as np\n",
    "from scipy.linalg import expm\n",
    "import matplotlib.pyplot as plt\n",
    "\n",
    "G = nx.DiGraph()\n",
    "e_lst = [(1,2),(4,1),(2,4),(2,3),(3,4)]\n",
    "G.add_edges_from(e_lst)\n",
    "\n",
    "nodes = G.nodes()\n",
    "a = (laplacian_matrix_digraph(G,[1,2,3,4])).todense()\n",
    "\n",
    "phi_0 =[4,6,3,7]\n",
    "lst = []\n",
    "time = np.arange(0,10,0.05)\n",
    "for t in time:\n",
    "    phi_t = np.dot(phi_0, expm(-a*t))\n",
    "    lst.append(phi_t)\n",
    "\n",
    "plt.plot(time,lst)\n",
    "plt.xlabel('Time, t')\n",
    "plt.ylabel('Quantity of heat at time t, $\\phi_i(t)$')\n",
    "#plt.title('Diffusion of heat over a simple Network')\n",
    "plt.legend()\n",
    "plt.show()"
   ]
  },
  {
   "cell_type": "code",
   "execution_count": null,
   "metadata": {
    "collapsed": false
   },
   "outputs": [],
   "source": [
    "from scipy.linalg import eig\n",
    "e,vl,vr = eig(a, b=None, left=True, right=True)\n",
    "print(a)\n",
    "print(e)\n",
    "print(np.sum(np.square(e)))\n",
    "print(pow(e[1],2))"
   ]
  },
  {
   "cell_type": "code",
   "execution_count": null,
   "metadata": {
    "collapsed": false
   },
   "outputs": [],
   "source": [
    "l1 = np.matrix([[2,0,-1,-1,0],[-1,1,0,0,0],[0,-1,1,0,0],[0,0,0,1,-1],[-1,0,0,0,1]])\n",
    "m = np.matrix([[2,-1,0,0,-1],[0,2,-1,-1,0],[-1,0,1,0,0],[-1,0,0,1,0],[0,0,-1,-1,2]])\n",
    "l2 = np.multiply(1/16, m)\n",
    "LL = np.add(l1,l2)"
   ]
  },
  {
   "cell_type": "code",
   "execution_count": 12,
   "metadata": {
    "collapsed": false
   },
   "outputs": [
    {
     "name": "stdout",
     "output_type": "stream",
     "text": [
      "[[ 2  0 -1 -1  0]\n",
      " [-1  1  0  0  0]\n",
      " [ 0 -1  1  0  0]\n",
      " [-1  0  0  2 -1]\n",
      " [-1  0  0  0  1]]\n"
     ]
    },
    {
     "name": "stderr",
     "output_type": "stream",
     "text": [
      "/usr/lib/python3/dist-packages/matplotlib/axes/_axes.py:545: UserWarning: No labelled objects found. Use label='...' kwarg on individual plots.\n",
      "  warnings.warn(\"No labelled objects found. \"\n"
     ]
    },
    {
     "data": {
      "image/png": "[encoded data removed]",
      "text/plain": [
       "<matplotlib.figure.Figure at 0x7f20edd027b8>"
      ]
     },
     "metadata": {},
     "output_type": "display_data"
    }
   ],
   "source": [
    "import networkx as nx\n",
    "import random\n",
    "import numpy as np\n",
    "from scipy.linalg import expm\n",
    "import matplotlib.pyplot as plt\n",
    "\n",
    "G = nx.DiGraph()\n",
    "e_lst = [(1,0),(0,3),(3,0),(2,1),(0,2),(4,0),(3,4)]\n",
    "G.add_edges_from(e_lst)\n",
    "\n",
    "nodes = G.nodes()\n",
    "a = (laplacian_matrix_digraph(G,[0,1,2,3,4])).todense()\n",
    "print(a)\n",
    "phi_0 =[2,0,3,0,0]\n",
    "lst = []\n",
    "time = np.arange(0,20,0.05)\n",
    "for t in time:\n",
    "    phi_t = np.dot(phi_0, expm(-a*t))\n",
    "    lst.append(phi_t)\n",
    "\n",
    "plt.plot(time,lst)\n",
    "plt.xlabel('Time, t')\n",
    "plt.ylabel('Quantity of heat at time t, $\\phi_i(t)$')\n",
    "#plt.title('Diffusion of heat over a simple network')\n",
    "plt.legend()\n",
    "plt.show()"
   ]
  },
  {
   "cell_type": "code",
   "execution_count": null,
   "metadata": {
    "collapsed": false
   },
   "outputs": [],
   "source": [
    "from scipy.linalg import eig\n",
    "e,vl,vr = eig(a, b=None, left=True, right=True)\n",
    "print(a)\n",
    "print(e)"
   ]
  },
  {
   "cell_type": "code",
   "execution_count": null,
   "metadata": {
    "collapsed": false
   },
   "outputs": [],
   "source": [
    "e,vl,vr = eig(a, b=None, left=True, right=True)\n",
    "print(e)"
   ]
  },
  {
   "cell_type": "code",
   "execution_count": null,
   "metadata": {
    "collapsed": false
   },
   "outputs": [],
   "source": [
    "vl[:,4]"
   ]
  },
  {
   "cell_type": "code",
   "execution_count": null,
   "metadata": {
    "collapsed": false
   },
   "outputs": [],
   "source": [
    "vr[:,4]"
   ]
  },
  {
   "cell_type": "code",
   "execution_count": null,
   "metadata": {
    "collapsed": false
   },
   "outputs": [],
   "source": [
    "np.dot(np.transpose(vl[:,2]), vr[:,2])"
   ]
  },
  {
   "cell_type": "code",
   "execution_count": 13,
   "metadata": {
    "collapsed": false
   },
   "outputs": [
    {
     "name": "stderr",
     "output_type": "stream",
     "text": [
      "/usr/lib/python3/dist-packages/matplotlib/axes/_axes.py:545: UserWarning: No labelled objects found. Use label='...' kwarg on individual plots.\n",
      "  warnings.warn(\"No labelled objects found. \"\n"
     ]
    },
    {
     "data": {
      "image/png": "[encoded data removed]",
      "text/plain": [
       "<matplotlib.figure.Figure at 0x7f20edcd4cf8>"
      ]
     },
     "metadata": {},
     "output_type": "display_data"
    }
   ],
   "source": [
    "import networkx as nx\n",
    "import random\n",
    "import numpy as np\n",
    "from scipy.linalg import expm\n",
    "import matplotlib.pyplot as plt\n",
    "\n",
    "G = nx.DiGraph()\n",
    "e_lst = [(1,0),(0,3),(2,1),(0,2),(4,0),(3,4),(4,2)]\n",
    "G.add_edges_from(e_lst)\n",
    "\n",
    "nodes = G.nodes()\n",
    "a = (laplacian_matrix_digraph(G,[0,1,2,3,4])).todense()\n",
    "\n",
    "phi_0 =[2,1,3,0,0]\n",
    "lst = []\n",
    "time = np.arange(0,50,0.05)\n",
    "for t in time:\n",
    "    phi_t = np.dot(phi_0, expm(-a*t))\n",
    "    lst.append(phi_t)\n",
    "\n",
    "plt.plot(time,lst)\n",
    "plt.xlabel('Time, t')\n",
    "plt.ylabel('Quantity of heat at time t, $\\phi_i(t)$')\n",
    "#plt.title('Diffusion of heat over a simple Network')\n",
    "plt.legend()\n",
    "plt.show()"
   ]
  },
  {
   "cell_type": "code",
   "execution_count": null,
   "metadata": {
    "collapsed": false
   },
   "outputs": [],
   "source": [
    "from scipy.linalg import eig\n",
    "e,vl,vr = eig(a, b=None, left=True, right=True)\n",
    "print(a)\n",
    "print(e)"
   ]
  },
  {
   "cell_type": "code",
   "execution_count": null,
   "metadata": {
    "collapsed": false
   },
   "outputs": [],
   "source": [
    "a = laplacian_matrix_digraph(G)\n",
    "print(a.todense())"
   ]
  },
  {
   "cell_type": "code",
   "execution_count": null,
   "metadata": {
    "collapsed": false
   },
   "outputs": [],
   "source": [
    "import numpy as np\n",
    "import scipy.linalg as lg\n",
    "\n",
    "m = np.matrix([[2,-1,-1], [0,1,-1],[-1,0,1]])\n",
    "e,vl,vr = lg.eig(m, b=None, left=True, right=True)\n",
    "print(vl)"
   ]
  },
  {
   "cell_type": "code",
   "execution_count": null,
   "metadata": {
    "collapsed": false
   },
   "outputs": [],
   "source": [
    "print(np.transpose(vr))"
   ]
  },
  {
   "cell_type": "code",
   "execution_count": null,
   "metadata": {
    "collapsed": false
   },
   "outputs": [],
   "source": [
    "np.dot(vl[:,0] , np.transpose(vr[:,0]))"
   ]
  },
  {
   "cell_type": "code",
   "execution_count": null,
   "metadata": {
    "collapsed": false
   },
   "outputs": [],
   "source": [
    "np.dot(np.transpose(vr[:,0]), vl[:,0] )"
   ]
  },
  {
   "cell_type": "code",
   "execution_count": 14,
   "metadata": {
    "collapsed": false
   },
   "outputs": [
    {
     "name": "stdout",
     "output_type": "stream",
     "text": [
      "[[ 2 -1 -1]\n",
      " [ 0  1 -1]\n",
      " [-1  0  1]]\n",
      "[array([2., 1., 2.]), array([1.90600713, 1.04641158, 2.04758129]), array([1.82311153, 1.08625385, 2.09063462]), array([1.7500523 , 1.12035681, 2.12959089]), array([1.68570803, 1.14945199, 2.16483998]), array([1.62908166, 1.17418367, 2.19673467]), array([1.57928698, 1.19511884, 2.22559418]), array([1.53553655, 1.2127561 , 2.25170735]), array([1.49713093, 1.22753355, 2.27533552]), array([1.46344907, 1.23983576, 2.29671517]), array([1.43393972, 1.25      , 2.31606028]), array([1.40811376, 1.25832178, 2.33356446]), array([1.3855374 , 1.26505971, 2.34940289]), array([1.36582601, 1.27043988, 2.3637341 ]), array([1.34863879, 1.2746597 , 2.37670152]), array([1.33367381, 1.27789127, 2.38843492]), array([1.32066378, 1.28028448, 2.39905174]), array([1.30937215, 1.28196962, 2.40865824]), array([1.29958967, 1.28305978, 2.41735056]), array([1.29113137, 1.28365294, 2.42521569]), array([1.28383382, 1.28383382, 2.43233236]), array([1.2775527 , 1.28367552, 2.43877179]), array([1.27216063, 1.28324095, 2.44459842]), array([1.2675453 , 1.28258412, 2.44987058]), array([1.26360769, 1.28175128, 2.45464102]), array([1.26026062, 1.28078187, 2.4589575 ]), array([1.25742736, 1.27970943, 2.46286321]), array([1.25504041, 1.27856234, 2.46639724]), array([1.2530405 , 1.27736453, 2.46959497]), array([1.25137558, 1.27613603, 2.47248839]), array([1.25      , 1.27489353, 2.47510647]), array([1.24887377, 1.27365083, 2.4774754 ]), array([1.24796189, 1.27241921, 2.4796189 ]), array([1.24723376, 1.27120782, 2.48155842]), array([1.24666267, 1.27002396, 2.48331337]), array([1.24622533, 1.26887336, 2.48490131]), array([1.24590144, 1.26776042, 2.48633814]), array([1.24567338, 1.26668838, 2.48763824]), array([1.24552585, 1.26565954, 2.48881461]), array([1.24544557, 1.26467539, 2.48987904]), array([1.24542109, 1.26373673, 2.49084218]), array([1.24544251, 1.26284382, 2.49171366]), array([1.24550133, 1.26199646, 2.49250221]), array([1.24559022, 1.26119406, 2.49321572]), array([1.24570293, 1.26043574, 2.49386133]), array([1.24583413, 1.25972037, 2.4944455 ]), array([1.24597927, 1.25904665, 2.49497408]), array([1.24613451, 1.25841313, 2.49545236]), array([1.24629661, 1.25781826, 2.49588513]), array([1.24646287, 1.25726042, 2.49627671]), array([1.24663103, 1.25673795, 2.49663103]), array([1.24679921, 1.25624917, 2.49695163]), array([1.24696589, 1.25579239, 2.49724172]), array([1.24712983, 1.25536596, 2.4975042 ]), array([1.24729005, 1.25496824, 2.49774171]), array([1.24744577, 1.25459762, 2.49795661]), array([1.24759639, 1.25425254, 2.49815107]), array([1.24774147, 1.25393151, 2.49832702]), array([1.24788071, 1.25363307, 2.49848622]), array([1.2480139 , 1.25335582, 2.49863028]), array([1.24814094, 1.25309844, 2.49876062]), array([1.24826178, 1.25285966, 2.49887857]), array([1.24837646, 1.25263826, 2.49898528]), array([1.24848505, 1.2524331 , 2.49908185]), array([1.24858768, 1.2522431 , 2.49916922]), array([1.24868449, 1.25206723, 2.49924828]), array([1.24877567, 1.25190452, 2.49931982]), array([1.24886141, 1.25175405, 2.49938454]), array([1.24894191, 1.25161497, 2.49944311]), array([1.24901741, 1.25148648, 2.49949611]), array([1.24908812, 1.25136782, 2.49954406]), array([1.24915427, 1.25125829, 2.49958745]), array([1.24921608, 1.25115721, 2.49962671]), array([1.2492738 , 1.25106397, 2.49966223]), array([1.24932762, 1.250978  , 2.49969437]), array([1.24937778, 1.25089876, 2.49972346]), array([1.24942448, 1.25082574, 2.49974977]), array([1.24946793, 1.25075849, 2.49977359]), array([1.24950832, 1.25069655, 2.49979513]), array([1.24954584, 1.25063953, 2.49981463]), array([1.24958067, 1.25058706, 2.49983227]), array([1.24961299, 1.25053878, 2.49984823]), array([1.24964295, 1.25049438, 2.49986267]), array([1.24967072, 1.25045354, 2.49987574]), array([1.24969643, 1.250416  , 2.49988757]), array([1.24972023, 1.2503815 , 2.49989827]), array([1.24974225, 1.2503498 , 2.49990795]), array([1.24976262, 1.25032068, 2.49991671]), array([1.24978144, 1.25029393, 2.49992463]), array([1.24979883, 1.25026937, 2.49993181]), array([1.24981489, 1.25024682, 2.4999383 ]), array([1.24982971, 1.25022612, 2.49994417]), array([1.24984339, 1.25020713, 2.49994948]), array([1.24985601, 1.25018971, 2.49995429]), array([1.24986764, 1.25017372, 2.49995864]), array([1.24987837, 1.25015906, 2.49996257]), array([1.24988825, 1.25014562, 2.49996614]), array([1.24989735, 1.25013329, 2.49996936]), array([1.24990573, 1.25012199, 2.49997227]), array([1.24991345, 1.25011164, 2.49997491]), array([1.24992055, 1.25010215, 2.4999773 ]), array([1.24992708, 1.25009346, 2.49997946]), array([1.24993309, 1.25008549, 2.49998141]), array([1.24993862, 1.2500782 , 2.49998318]), array([1.2499437 , 1.25007152, 2.49998478]), array([1.24994837, 1.2500654 , 2.49998623]), array([1.24995266, 1.2500598 , 2.49998754]), array([1.2499566 , 1.25005467, 2.49998873]), array([1.24996022, 1.25004998, 2.4999898 ]), array([1.24996354, 1.25004568, 2.49999077]), array([1.2499666 , 1.25004175, 2.49999165]), array([1.2499694 , 1.25003816, 2.49999244]), array([1.24997197, 1.25003487, 2.49999316]), array([1.24997433, 1.25003186, 2.49999381]), array([1.24997649, 1.25002911, 2.4999944 ]), array([1.24997847, 1.25002659, 2.49999493]), array([1.24998029, 1.25002429, 2.49999542]), array([1.24998196, 1.25002219, 2.49999585]), array([1.24998349, 1.25002026, 2.49999625]), array([1.24998489, 1.2500185 , 2.4999966 ]), array([1.24998618, 1.2500169 , 2.49999693]), array([1.24998735, 1.25001543, 2.49999722]), array([1.24998843, 1.25001409, 2.49999748]), array([1.24998942, 1.25001286, 2.49999772]), array([1.24999032, 1.25001174, 2.49999794]), array([1.24999115, 1.25001071, 2.49999814]), array([1.24999191, 1.25000978, 2.49999831]), array([1.2499926 , 1.25000892, 2.49999847]), array([1.24999324, 1.25000814, 2.49999862]), array([1.24999382, 1.25000743, 2.49999875]), array([1.24999435, 1.25000678, 2.49999887]), array([1.24999484, 1.25000619, 2.49999898]), array([1.24999528, 1.25000564, 2.49999907]), array([1.24999569, 1.25000515, 2.49999916]), array([1.24999606, 1.2500047 , 2.49999924]), array([1.2499964 , 1.25000428, 2.49999931]), array([1.24999671, 1.25000391, 2.49999938]), array([1.249997  , 1.25000356, 2.49999944]), array([1.24999726, 1.25000325, 2.49999949]), array([1.2499975 , 1.25000296, 2.49999954]), array([1.24999771, 1.2500027 , 2.49999958]), array([1.24999791, 1.25000246, 2.49999962]), array([1.24999809, 1.25000225, 2.49999966]), array([1.24999826, 1.25000205, 2.49999969]), array([1.24999841, 1.25000187, 2.49999972]), array([1.24999855, 1.2500017 , 2.49999975]), array([1.24999868, 1.25000155, 2.49999977]), array([1.24999879, 1.25000141, 2.49999979]), array([1.2499989 , 1.25000129, 2.49999981]), array([1.24999899, 1.25000117, 2.49999983]), array([1.24999908, 1.25000107, 2.49999985]), array([1.24999916, 1.25000098, 2.49999986]), array([1.24999924, 1.25000089, 2.49999987]), array([1.2499993 , 1.25000081, 2.49999989]), array([1.24999936, 1.25000074, 2.4999999 ]), array([1.24999942, 1.25000067, 2.49999991]), array([1.24999947, 1.25000061, 2.49999992]), array([1.24999952, 1.25000056, 2.49999992]), array([1.24999956, 1.25000051, 2.49999993]), array([1.2499996 , 1.25000046, 2.49999994]), array([1.24999963, 1.25000042, 2.49999994]), array([1.24999967, 1.25000038, 2.49999995]), array([1.2499997 , 1.25000035, 2.49999995]), array([1.24999972, 1.25000032, 2.49999996]), array([1.24999975, 1.25000029, 2.49999996]), array([1.24999977, 1.25000026, 2.49999997]), array([1.24999979, 1.25000024, 2.49999997]), array([1.24999981, 1.25000022, 2.49999997]), array([1.24999983, 1.2500002 , 2.49999997]), array([1.24999984, 1.25000018, 2.49999998]), array([1.24999986, 1.25000017, 2.49999998]), array([1.24999987, 1.25000015, 2.49999998]), array([1.24999988, 1.25000014, 2.49999998]), array([1.24999989, 1.25000012, 2.49999998]), array([1.2499999 , 1.25000011, 2.49999999]), array([1.24999991, 1.2500001 , 2.49999999]), array([1.24999992, 1.25000009, 2.49999999]), array([1.24999992, 1.25000009, 2.49999999]), array([1.24999993, 1.25000008, 2.49999999]), array([1.24999994, 1.25000007, 2.49999999]), array([1.24999994, 1.25000006, 2.49999999]), array([1.24999995, 1.25000006, 2.49999999]), array([1.24999995, 1.25000005, 2.49999999]), array([1.24999996, 1.25000005, 2.49999999]), array([1.24999996, 1.25000004, 2.49999999]), array([1.24999996, 1.25000004, 2.5       ]), array([1.24999997, 1.25000004, 2.5       ]), array([1.24999997, 1.25000003, 2.5       ]), array([1.24999997, 1.25000003, 2.5       ]), array([1.24999998, 1.25000003, 2.5       ]), array([1.24999998, 1.25000003, 2.5       ]), array([1.24999998, 1.25000002, 2.5       ]), array([1.24999998, 1.25000002, 2.5       ]), array([1.24999998, 1.25000002, 2.5       ]), array([1.24999998, 1.25000002, 2.5       ]), array([1.24999999, 1.25000002, 2.5       ]), array([1.24999999, 1.25000001, 2.5       ]), array([1.24999999, 1.25000001, 2.5       ]), array([1.24999999, 1.25000001, 2.5       ]), array([1.24999999, 1.25000001, 2.5       ])]\n"
     ]
    },
    {
     "name": "stderr",
     "output_type": "stream",
     "text": [
      "/usr/lib/python3/dist-packages/matplotlib/axes/_axes.py:545: UserWarning: No labelled objects found. Use label='...' kwarg on individual plots.\n",
      "  warnings.warn(\"No labelled objects found. \"\n"
     ]
    },
    {
     "data": {
      "image/png": "[encoded data removed]",
      "text/plain": [
       "<matplotlib.figure.Figure at 0x7f20edc95390>"
      ]
     },
     "metadata": {},
     "output_type": "display_data"
    }
   ],
   "source": [
    "import networkx as nx\n",
    "import random\n",
    "import numpy as np\n",
    "from scipy.linalg import expm\n",
    "import matplotlib.pyplot as plt\n",
    "\n",
    "G = nx.DiGraph()\n",
    "e_lst = [(1,2),(2,3),(3,1),(1,3)]\n",
    "G.add_edges_from(e_lst)\n",
    "\n",
    "nodes = G.nodes()\n",
    "a = (laplacian_matrix_digraph(G,[1,2,3])).todense()\n",
    "print(a)\n",
    "phi_0 =[2,1,2]\n",
    "lst = []\n",
    "time = np.arange(0,10,0.05)\n",
    "for t in time:\n",
    "    phi_t = np.dot(phi_0, expm(-a*t))\n",
    "    lst.append(phi_t)\n",
    "print(lst)\n",
    "plt.plot(time,lst)\n",
    "plt.xlabel('Time, t')\n",
    "plt.ylabel('Quantity of heat at time t, $\\phi_i(t)$')\n",
    "#plt.title('Diffusion of heat over a simple Network')\n",
    "plt.legend()\n",
    "plt.show()"
   ]
  },
  {
   "cell_type": "code",
   "execution_count": null,
   "metadata": {
    "collapsed": false
   },
   "outputs": [],
   "source": [
    "import networkx as nx\n",
    "import random\n",
    "import numpy as np\n",
    "from scipy.linalg import expm\n",
    "import matplotlib.pyplot as plt\n",
    "\n",
    "G = nx.DiGraph()\n",
    "e_lst = [(1,2),(2,3),(3,1)]\n",
    "G.add_edges_from(e_lst)\n",
    "\n",
    "nodes = G.nodes()\n",
    "#a = (laplacian_matrix_digraph(G,[1,2,3])).todense()\n",
    "\n",
    "a = np.matrix([[17/16,-1,-1/16],[-1/16,17/16,-1],[-1,-1/16,17/16]])\n",
    "\n",
    "phi_0 =[0,2,1]\n",
    "lst = []\n",
    "time = np.arange(0,10,0.05)\n",
    "for t in time:\n",
    "    phi_t = np.dot(phi_0, expm(-a*t))\n",
    "    lst.append(phi_t)\n",
    "\n",
    "plt.plot(time,lst)\n",
    "plt.xlabel('Time, t')\n",
    "plt.ylabel('Quantity of heat at time t, $\\phi_i(t)$')\n",
    "#plt.title('Diffusion of heat over a simple Network')\n",
    "plt.legend()\n",
    "plt.show()"
   ]
  },
  {
   "cell_type": "code",
   "execution_count": null,
   "metadata": {
    "collapsed": false
   },
   "outputs": [],
   "source": [
    "a = laplacian_matrix_digraph(G)\n",
    "print(a.todense())"
   ]
  },
  {
   "cell_type": "code",
   "execution_count": null,
   "metadata": {
    "collapsed": false
   },
   "outputs": [],
   "source": [
    "from numpy import linalg as LA\n",
    "\n",
    "w, v = LA.eig(a.todense())\n",
    "print(w)"
   ]
  },
  {
   "cell_type": "code",
   "execution_count": null,
   "metadata": {
    "collapsed": false
   },
   "outputs": [],
   "source": [
    "G = nx.DiGraph()\n",
    "e_lst = [(1,2),(2,3),(3,1),(1,3)]\n",
    "G.add_edges_from(e_lst)\n",
    "a = laplacian_matrix_digraph(G)\n"
   ]
  },
  {
   "cell_type": "code",
   "execution_count": null,
   "metadata": {
    "collapsed": false
   },
   "outputs": [],
   "source": [
    "print(v)"
   ]
  },
  {
   "cell_type": "code",
   "execution_count": null,
   "metadata": {
    "collapsed": false
   },
   "outputs": [],
   "source": [
    "x = nx.strongly_connected_components(G)\n",
    "print(list(x))"
   ]
  },
  {
   "cell_type": "code",
   "execution_count": null,
   "metadata": {
    "collapsed": false
   },
   "outputs": [],
   "source": [
    "print(v)"
   ]
  },
  {
   "cell_type": "code",
   "execution_count": null,
   "metadata": {
    "collapsed": false
   },
   "outputs": [],
   "source": [
    "import networkx as nx\n",
    "import random\n",
    "import numpy as np\n",
    "from scipy.linalg import expm\n",
    "from scipy.linalg import eig\n",
    "import matplotlib.pyplot as plt\n",
    "\n",
    "G = nx.DiGraph()\n",
    "e_lst = [(1,2),(2,3),(1,3),(3,1)]\n",
    "G.add_edges_from(e_lst)\n",
    "\n",
    "nodes = G.nodes()\n",
    "a = (laplacian_matrix_digraph(G,[1,2,3])).todense()\n",
    "e,vl,vr = eig(a, b=None, left=True, right=True)\n",
    "print(e)"
   ]
  },
  {
   "cell_type": "code",
   "execution_count": null,
   "metadata": {
    "collapsed": false
   },
   "outputs": [],
   "source": [
    "print(vl)"
   ]
  },
  {
   "cell_type": "code",
   "execution_count": null,
   "metadata": {
    "collapsed": false
   },
   "outputs": [],
   "source": [
    "vl[:,0]"
   ]
  },
  {
   "cell_type": "code",
   "execution_count": null,
   "metadata": {
    "collapsed": false
   },
   "outputs": [],
   "source": [
    "vr[:,0]"
   ]
  },
  {
   "cell_type": "code",
   "execution_count": null,
   "metadata": {
    "collapsed": false
   },
   "outputs": [],
   "source": [
    "np.dot(np.transpose(vl[:,0]), vr[:,0])"
   ]
  },
  {
   "cell_type": "code",
   "execution_count": null,
   "metadata": {
    "collapsed": false
   },
   "outputs": [],
   "source": [
    "vr[:,0]"
   ]
  },
  {
   "cell_type": "code",
   "execution_count": null,
   "metadata": {
    "collapsed": false
   },
   "outputs": [],
   "source": [
    "vl[:,0]"
   ]
  },
  {
   "cell_type": "code",
   "execution_count": null,
   "metadata": {
    "collapsed": false
   },
   "outputs": [],
   "source": [
    "np.dot(a,vr[:,1])"
   ]
  },
  {
   "cell_type": "code",
   "execution_count": null,
   "metadata": {
    "collapsed": false
   },
   "outputs": [],
   "source": [
    "np.dot(np.transpose(vl[:,1]),a)"
   ]
  },
  {
   "cell_type": "code",
   "execution_count": null,
   "metadata": {
    "collapsed": false
   },
   "outputs": [],
   "source": [
    "vr[:,1]"
   ]
  },
  {
   "cell_type": "code",
   "execution_count": null,
   "metadata": {
    "collapsed": false
   },
   "outputs": [],
   "source": [
    "vl[:,1]"
   ]
  },
  {
   "cell_type": "code",
   "execution_count": null,
   "metadata": {
    "collapsed": false
   },
   "outputs": [],
   "source": [
    "np.dot(np.transpose(vl[:,1]),vr[:,1])"
   ]
  },
  {
   "cell_type": "code",
   "execution_count": null,
   "metadata": {
    "collapsed": false
   },
   "outputs": [],
   "source": [
    "np.transpose(vl[:,2])*vr[:,2]"
   ]
  },
  {
   "cell_type": "code",
   "execution_count": null,
   "metadata": {
    "collapsed": false
   },
   "outputs": [],
   "source": [
    "vv = np.dot(a,vr[:,2])"
   ]
  },
  {
   "cell_type": "code",
   "execution_count": null,
   "metadata": {
    "collapsed": false
   },
   "outputs": [],
   "source": [
    "vv.shape"
   ]
  },
  {
   "cell_type": "code",
   "execution_count": null,
   "metadata": {
    "collapsed": false
   },
   "outputs": [],
   "source": [
    "print(vr[:,2].shape)"
   ]
  },
  {
   "cell_type": "code",
   "execution_count": null,
   "metadata": {
    "collapsed": false
   },
   "outputs": [],
   "source": [
    "np.matrix([vr[:,2]])"
   ]
  },
  {
   "cell_type": "code",
   "execution_count": null,
   "metadata": {
    "collapsed": false
   },
   "outputs": [],
   "source": [
    "G = nx.DiGraph()\n",
    "e_lst = [(1,2),(2,3),(3,1),(1,3)]\n",
    "G.add_edges_from(e_lst)\n",
    "\n",
    "nodes = G.nodes()\n",
    "a = (laplacian_matrix_digraph(G,[1,2,3])).todense()\n",
    "e,vl,vr = eig(a, b=None, left=True, right=True)\n",
    "print(e)\n",
    "print(np.sum(np.square(e)))"
   ]
  },
  {
   "cell_type": "code",
   "execution_count": null,
   "metadata": {
    "collapsed": false
   },
   "outputs": [],
   "source": [
    "G = nx.DiGraph()\n",
    "e_lst = [(1,2),(2,3),(3,1)]\n",
    "G.add_edges_from(e_lst)\n",
    "\n",
    "nodes = G.nodes()\n",
    "a = (laplacian_matrix_digraph(G,[1,2,3])).todense()\n",
    "e,vl,vr = eig(a, b=None, left=True, right=True)\n",
    "print(e)\n",
    "print(print(np.sum(np.square(e))))"
   ]
  },
  {
   "cell_type": "code",
   "execution_count": null,
   "metadata": {
    "collapsed": false
   },
   "outputs": [],
   "source": [
    "G = nx.DiGraph()\n",
    "e_lst = [(1,0),(0,3),(2,1),(0,2),(4,0),(3,4),(4,2)]\n",
    "G.add_edges_from(e_lst)\n",
    "\n",
    "nodes = G.nodes()\n",
    "a = (laplacian_matrix_digraph(G,[0,1,2,3,4])).todense()\n",
    "e,vl,vr = eig(a, b=None, left=True, right=True)\n",
    "print(e)\n",
    "print(np.sum(np.square(e)))"
   ]
  },
  {
   "cell_type": "code",
   "execution_count": null,
   "metadata": {
    "collapsed": false
   },
   "outputs": [],
   "source": [
    "G = nx.DiGraph()\n",
    "e_lst = [(1,0),(0,3),(2,1),(0,2),(4,0),(3,4),(2,4),(4,2)]\n",
    "G.add_edges_from(e_lst)\n",
    "\n",
    "nodes = G.nodes()\n",
    "a = (laplacian_matrix_digraph(G,[0,1,2,3,4])).todense()\n",
    "e,vl,vr = eig(a, b=None, left=True, right=True)\n",
    "print(e)\n",
    "print(np.sum(np.square(e)))\n",
    "print(np.sum(e))"
   ]
  },
  {
   "cell_type": "code",
   "execution_count": null,
   "metadata": {
    "collapsed": false
   },
   "outputs": [],
   "source": [
    "G = nx.DiGraph()\n",
    "e_lst = [(1,0),(0,3),(2,1),(0,2),(4,0),(3,4)]\n",
    "G.add_edges_from(e_lst)\n",
    "\n",
    "nodes = G.nodes()\n",
    "a = (laplacian_matrix_digraph(G,[0,1,2,3,4])).todense()\n",
    "e,vl,vr = eig(a, b=None, left=True, right=True)\n",
    "print(e)\n",
    "print(np.sum(np.square(e)))\n",
    "print(np.sum(e))"
   ]
  },
  {
   "cell_type": "code",
   "execution_count": null,
   "metadata": {
    "collapsed": false
   },
   "outputs": [],
   "source": [
    "G = nx.DiGraph()\n",
    "e_lst = [(1,0),(0,3),(2,1),(0,2),(4,0),(0,4),(3,4)]\n",
    "G.add_edges_from(e_lst)\n",
    "\n",
    "nodes = G.nodes()\n",
    "a = (laplacian_matrix_digraph(G,[0,1,2,3,4])).todense()\n",
    "e,vl,vr = eig(a, b=None, left=True, right=True)\n",
    "print(e)\n",
    "print(np.sum(np.square(e)))"
   ]
  },
  {
   "cell_type": "code",
   "execution_count": null,
   "metadata": {
    "collapsed": false
   },
   "outputs": [],
   "source": [
    "G = nx.DiGraph()\n",
    "e_lst = [(1,0),(0,3),(2,1),(0,2),(4,0),(3,4),(2,4)]\n",
    "G.add_edges_from(e_lst)\n",
    "\n",
    "nodes = G.nodes()\n",
    "a = (laplacian_matrix_digraph(G,[0,1,2,3,4])).todense()\n",
    "e,vl,vr = eig(a, b=None, left=True, right=True)\n",
    "print(e)\n",
    "print(np.sum(np.square(e)))"
   ]
  },
  {
   "cell_type": "code",
   "execution_count": null,
   "metadata": {
    "collapsed": false
   },
   "outputs": [],
   "source": [
    "G = nx.DiGraph()\n",
    "e_lst = [(1,0),(0,3),(2,1),(0,2),(4,0),(3,4),(2,4),(4,2)]\n",
    "G.add_edges_from(e_lst)\n",
    "\n",
    "nodes = G.nodes()\n",
    "a = (laplacian_matrix_digraph(G,[0,1,2,3,4])).todense()\n",
    "e,vl,vr = eig(a, b=None, left=True, right=True)\n",
    "print(e)\n",
    "print(np.sum(np.square(e)))\n",
    "print(np.sum(e))"
   ]
  },
  {
   "cell_type": "code",
   "execution_count": null,
   "metadata": {
    "collapsed": false
   },
   "outputs": [],
   "source": [
    "import numpy as np\n",
    "import numpy.linalg as lp\n",
    "import scipy.linalg as ln\n",
    "\n",
    "m = np.matrix([[0,0,1,0], [1,0,1,0],[0,1,0,1],[0,1,0,0]])\n",
    "print(m)"
   ]
  },
  {
   "cell_type": "code",
   "execution_count": null,
   "metadata": {
    "collapsed": false
   },
   "outputs": [],
   "source": [
    "print(m*m*m*m)"
   ]
  },
  {
   "cell_type": "code",
   "execution_count": null,
   "metadata": {
    "collapsed": false
   },
   "outputs": [],
   "source": [
    "import networkx as nx\n",
    "import random\n",
    "import numpy as np\n",
    "from scipy.linalg import expm\n",
    "import matplotlib.pyplot as plt\n",
    "\n",
    "G = nx.DiGraph()\n",
    "e_lst = [(1,2),(2,3),(3,1),(1,3),(3,4),(4,3),(4,5),(3,5),\n",
    "          (5,3),(3,6),(6,3),(6,5)]\n",
    "G.add_edges_from(e_lst)\n",
    "\n",
    "nodes = G.nodes()\n",
    "a = (laplacian_matrix_digraph(G,[1,2,3,4,5,6])).todense()\n",
    "\n",
    "phi_0 =[43,93,95,6,31,80]\n",
    "lst = []\n",
    "time = np.arange(0,100,1)\n",
    "for t in time:\n",
    "    phi_t = np.dot(phi_0, expm(-a*t))\n",
    "    lst.append(phi_t)\n",
    "\n",
    "plt.plot(time,lst)\n",
    "plt.xlabel('Time, t')\n",
    "plt.ylabel('Quantity of heat at time t, $\\phi_i(t)$')\n",
    "#plt.title('Diffusion of heat over a simple Network')\n",
    "plt.legend()\n",
    "plt.show()"
   ]
  },
  {
   "cell_type": "code",
   "execution_count": 16,
   "metadata": {
    "collapsed": false
   },
   "outputs": [
    {
     "name": "stdout",
     "output_type": "stream",
     "text": [
      "[[ 4 -1 -1 -1 -1]\n",
      " [-1  2 -1  0  0]\n",
      " [-1 -1  2  0  0]\n",
      " [-1  0  0  2 -1]\n",
      " [-1  0  0 -1  2]]\n",
      "[5.00000000e+00+0.j 2.22044605e-16+0.j 3.00000000e+00+0.j\n",
      " 1.00000000e+00+0.j 3.00000000e+00+0.j]\n",
      "(12+0j)\n"
     ]
    }
   ],
   "source": [
    "import networkx as nx\n",
    "from scipy.linalg import eig\n",
    "import numpy as np\n",
    "\n",
    "G = nx.Graph()\n",
    "e_lst = [(1,0),(0,3),(2,1),(0,2),(4,0),(3,4)]\n",
    "G.add_edges_from(e_lst)\n",
    "\n",
    "nodes = G.nodes()\n",
    "a = (nx.laplacian_matrix(G,[0,1,2,3,4])).todense()\n",
    "e,vl,vr = eig(a, b=None, left=True, right=True)\n",
    "print(a)\n",
    "print(e)\n",
    "print(np.sum(e))"
   ]
  },
  {
   "cell_type": "code",
   "execution_count": 15,
   "metadata": {
    "collapsed": false
   },
   "outputs": [
    {
     "name": "stdout",
     "output_type": "stream",
     "text": [
      "[1, 2, 3, 4]\n"
     ]
    },
    {
     "name": "stderr",
     "output_type": "stream",
     "text": [
      "/usr/lib/python3/dist-packages/matplotlib/axes/_axes.py:545: UserWarning: No labelled objects found. Use label='...' kwarg on individual plots.\n",
      "  warnings.warn(\"No labelled objects found. \"\n"
     ]
    },
    {
     "data": {
      "image/png": "[encoded data removed]",
      "text/plain": [
       "<matplotlib.figure.Figure at 0x7f20edc82940>"
      ]
     },
     "metadata": {},
     "output_type": "display_data"
    }
   ],
   "source": [
    "import networkx as nx\n",
    "import random\n",
    "import numpy as np\n",
    "from scipy.linalg import expm\n",
    "import matplotlib.pyplot as plt\n",
    "\n",
    "G = nx.DiGraph()\n",
    "e_lst = [(1,2),(2,3),(2,4),(4,3),(3,1)]\n",
    "G.add_edges_from(e_lst)\n",
    "\n",
    "nodes = G.nodes()\n",
    "print(nodes)\n",
    "a = (laplacian_matrix_digraph(G,[1,2,3,4])).todense()\n",
    "\n",
    "phi_0 =[2,0,3,0]\n",
    "lst = []\n",
    "time = np.arange(0,10,0.05)\n",
    "for t in time:\n",
    "    phi_t = np.dot(phi_0, expm(-a*t))\n",
    "    lst.append(phi_t)\n",
    "\n",
    "plt.plot(time,lst)\n",
    "plt.xlabel('Time, t')\n",
    "plt.ylabel('Quantity of heat at time t, $\\phi_i(t)$')\n",
    "#plt.title('Diffusion of heat over a simple Network')\n",
    "plt.legend()\n",
    "plt.show()"
   ]
  },
  {
   "cell_type": "code",
   "execution_count": null,
   "metadata": {
    "collapsed": false
   },
   "outputs": [],
   "source": [
    "e,vl,vr = eig(a, b=None, left=True, right=True)\n",
    "print(e)\n",
    "print(vl)\n",
    "print(vr)"
   ]
  },
  {
   "cell_type": "code",
   "execution_count": null,
   "metadata": {
    "collapsed": true
   },
   "outputs": [],
   "source": []
  }
 ],
 "metadata": {
  "kernelspec": {
   "display_name": "Python 3",
   "language": "python",
   "name": "python3"
  },
  "language_info": {
   "codemirror_mode": {
    "name": "ipython",
    "version": 3
   },
   "file_extension": ".py",
   "mimetype": "text/x-python",
   "name": "python",
   "nbconvert_exporter": "python",
   "pygments_lexer": "ipython3",
   "version": "3.5.3"
  }
 },
 "nbformat": 4,
 "nbformat_minor": 2
}
