{
 "cells": [
  {
   "cell_type": "code",
   "execution_count": 1,
   "metadata": {
    "collapsed": false
   },
   "outputs": [
    {
     "data": {
      "text/plain": [
       "array([[ 1.64459561,  1.62081263,  0.74301862,  0.42639707,  0.74301862],\n",
       "       [ 1.62081263,  3.13063285,  2.0472097 ,  1.48603724,  2.0472097 ],\n",
       "       [ 0.74301862,  2.0472097 ,  2.43682574,  1.83401117,  1.43682574],\n",
       "       [ 0.42639707,  1.48603724,  1.83401117,  2.38761423,  1.83401117],\n",
       "       [ 0.74301862,  2.0472097 ,  1.43682574,  1.83401117,  2.43682574]])"
      ]
     },
     "execution_count": 1,
     "metadata": {},
     "output_type": "execute_result"
    }
   ],
   "source": [
    "import numpy as np\n",
    "import numpy.linalg as lp\n",
    "import scipy.linalg as ln\n",
    "\n",
    "m = np.matrix([[0,1,0,0,0], [1,0,1,0,1],[0,1,0,1,0],[0,0,1,0,1],[0,1,0,1,0]])\n",
    "comm = ln.expm(m)\n",
    "comm"
   ]
  },
  {
   "cell_type": "code",
   "execution_count": 2,
   "metadata": {
    "collapsed": false
   },
   "outputs": [
    {
     "data": {
      "text/plain": [
       "array([[ 2.70827166,  0.        ,  2.34039222,  0.        ,  2.34039222],\n",
       "       [ 0.        ,  1.54308063,  0.        ,  1.17520119,  0.        ],\n",
       "       [ 2.34039222,  0.        ,  2.70827166,  0.        ,  2.34039222],\n",
       "       [ 0.        ,  1.17520119,  0.        ,  1.54308063,  0.        ],\n",
       "       [ 2.34039222,  0.        ,  2.34039222,  0.        ,  2.70827166]])"
      ]
     },
     "execution_count": 2,
     "metadata": {},
     "output_type": "execute_result"
    }
   ],
   "source": [
    "m = np.matrix([[0,0,1,0,1], [0,0,0,1,0],[1,0,0,0,1],[0,1,0,0,0],[1,0,1,0,0]])\n",
    "comm = ln.expm(m)\n",
    "comm"
   ]
  },
  {
   "cell_type": "code",
   "execution_count": 3,
   "metadata": {
    "collapsed": false
   },
   "outputs": [
    {
     "data": {
      "text/plain": [
       "array([[ 1.54308063,  0.        ,  0.        ,  1.17520119,  0.        ],\n",
       "       [ 0.        ,  1.        ,  0.        ,  0.        ,  0.        ],\n",
       "       [ 0.        ,  0.        ,  1.        ,  0.        ,  0.        ],\n",
       "       [ 1.17520119,  0.        ,  0.        ,  1.54308063,  0.        ],\n",
       "       [ 0.        ,  0.        ,  0.        ,  0.        ,  1.        ]])"
      ]
     },
     "execution_count": 3,
     "metadata": {},
     "output_type": "execute_result"
    }
   ],
   "source": [
    "m = np.matrix([[0,0,0,1,0], [0,0,0,0,0],[0,0,0,0,0],[1,0,0,0,0],[0,0,0,0,0]])\n",
    "comm = ln.expm(m)\n",
    "comm"
   ]
  },
  {
   "cell_type": "code",
   "execution_count": null,
   "metadata": {
    "collapsed": true
   },
   "outputs": [],
   "source": []
  }
 ],
 "metadata": {
  "kernelspec": {
   "display_name": "Python 3",
   "language": "python",
   "name": "python3"
  },
  "language_info": {
   "codemirror_mode": {
    "name": "ipython",
    "version": 3
   },
   "file_extension": ".py",
   "mimetype": "text/x-python",
   "name": "python",
   "nbconvert_exporter": "python",
   "pygments_lexer": "ipython3",
   "version": "3.5.3"
  }
 },
 "nbformat": 4,
 "nbformat_minor": 2
}
