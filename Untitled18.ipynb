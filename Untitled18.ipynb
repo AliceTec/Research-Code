{
 "cells": [
  {
   "cell_type": "code",
   "execution_count": 4,
   "metadata": {
    "collapsed": false
   },
   "outputs": [
    {
     "data": {
      "text/plain": [
       "array([[ 255.,  255.,  254., ...,  255.,  255.,  255.],\n",
       "       [ 255.,  254.,  255., ...,  254.,  255.,  255.],\n",
       "       [ 255.,  255.,  255., ...,  255.,  255.,  255.],\n",
       "       ..., \n",
       "       [ 255.,  255.,  255., ...,  255.,  255.,  255.],\n",
       "       [ 255.,  255.,  255., ...,  255.,  255.,  255.],\n",
       "       [ 255.,  255.,  255., ...,  255.,  255.,  255.]], dtype=float32)"
      ]
     },
     "execution_count": 4,
     "metadata": {},
     "output_type": "execute_result"
    }
   ],
   "source": [
    "import scipy.misc as ms\n",
    "\n",
    "ms.imread(\"consulting.jpg\", flatten=True, mode='L')"
   ]
  },
  {
   "cell_type": "code",
   "execution_count": 17,
   "metadata": {
    "collapsed": false
   },
   "outputs": [
    {
     "data": {
      "text/plain": [
       "array([[ 255.,  255.,  254., ...,  255.,  255.,  255.],\n",
       "       [ 255.,  254.,  255., ...,  254.,  255.,  255.],\n",
       "       [ 255.,  255.,  255., ...,  255.,  255.,  255.],\n",
       "       ..., \n",
       "       [ 255.,  255.,  255., ...,  255.,  255.,  255.],\n",
       "       [ 255.,  255.,  255., ...,  255.,  255.,  255.],\n",
       "       [ 255.,  255.,  255., ...,  255.,  255.,  255.]], dtype=float32)"
      ]
     },
     "execution_count": 17,
     "metadata": {},
     "output_type": "execute_result"
    }
   ],
   "source": [
    "from PIL import Image\n",
    "img = Image.open('consulting.jpg').convert('LA')\n",
    "img.save('greyscale.png')\n",
    "ms.imread('greyscale.png',flatten=True, mode='L')"
   ]
  },
  {
   "cell_type": "code",
   "execution_count": 24,
   "metadata": {
    "collapsed": false
   },
   "outputs": [
    {
     "data": {
      "text/plain": [
       "array([[ 255.,  255.,  255., ...,  255.,  255.,  255.],\n",
       "       [ 255.,  255.,  255., ...,  255.,  255.,  255.],\n",
       "       [ 255.,  255.,  255., ...,  255.,  255.,  255.],\n",
       "       ..., \n",
       "       [ 255.,  255.,  255., ...,  255.,  255.,  255.],\n",
       "       [ 255.,  255.,  255., ...,  255.,  255.,  255.],\n",
       "       [ 255.,  255.,  255., ...,  255.,  255.,  255.]], dtype=float32)"
      ]
     },
     "execution_count": 24,
     "metadata": {},
     "output_type": "execute_result"
    }
   ],
   "source": [
    "from PIL import Image \n",
    "image_file = Image.open(\"consulting.jpg\") # open colour image\n",
    "image_file = image_file.convert('1') # convert image to black and white\n",
    "image_file.save('result.png')\n",
    "ms.imread('result.png',flatten=True, mode='L')"
   ]
  },
  {
   "cell_type": "code",
   "execution_count": null,
   "metadata": {
    "collapsed": true
   },
   "outputs": [],
   "source": []
  }
 ],
 "metadata": {
  "kernelspec": {
   "display_name": "Python 3",
   "language": "python",
   "name": "python3"
  },
  "language_info": {
   "codemirror_mode": {
    "name": "ipython",
    "version": 3
   },
   "file_extension": ".py",
   "mimetype": "text/x-python",
   "name": "python",
   "nbconvert_exporter": "python",
   "pygments_lexer": "ipython3",
   "version": "3.5.3"
  }
 },
 "nbformat": 4,
 "nbformat_minor": 2
}
