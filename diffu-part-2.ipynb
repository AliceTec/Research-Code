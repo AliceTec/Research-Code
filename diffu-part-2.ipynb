{
 "cells": [
  {
   "cell_type": "code",
   "execution_count": 4,
   "metadata": {
    "collapsed": true
   },
   "outputs": [],
   "source": [
    "import numpy as np\n",
    "import networkx as nx\n",
    "\n",
    "def genlaplacian(G, x, nodelist=None):\n",
    "    if x==0:\n",
    "        D = nx.laplacian_matrix(G).toarray()\n",
    "    else:\n",
    "        D = nx.floyd_warshall_numpy(G, nodelist)\n",
    "        rowsize = D.shape[0]\n",
    "        for i in range(0, rowsize):\n",
    "            for j in range(i+1, rowsize):\n",
    "                if(D[i,j] ==1):\n",
    "                    D[i,j]= D[j,i] = -1\n",
    "                else:\n",
    "                    D[i,j] = D[j,i] = -D[i,j]*(pow(x, (D[i,j]-1)))\n",
    "            D[i,i] = -1*(D[i].sum())\n",
    "    return D"
   ]
  },
  {
   "cell_type": "code",
   "execution_count": 30,
   "metadata": {
    "collapsed": false
   },
   "outputs": [
    {
     "data": {
      "text/plain": [
       "(array([ 5.,  0.,  1.,  1.,  1.]),\n",
       " matrix([[  8.94427191e-01,  -4.47213595e-01,  -1.23259516e-32,\n",
       "           -5.03204869e-33,   0.00000000e+00],\n",
       "         [ -2.23606798e-01,  -4.47213595e-01,   8.66025404e-01,\n",
       "            5.00000000e-01,   2.94392336e-17],\n",
       "         [ -2.23606798e-01,  -4.47213595e-01,  -2.88675135e-01,\n",
       "           -8.33333333e-01,   0.00000000e+00],\n",
       "         [ -2.23606798e-01,  -4.47213595e-01,  -2.88675135e-01,\n",
       "            1.66666667e-01,  -7.07106781e-01],\n",
       "         [ -2.23606798e-01,  -4.47213595e-01,  -2.88675135e-01,\n",
       "            1.66666667e-01,   7.07106781e-01]]))"
      ]
     },
     "execution_count": 30,
     "metadata": {},
     "output_type": "execute_result"
    }
   ],
   "source": [
    "import numpy as np\n",
    "import networkx as nx\n",
    "from numpy import linalg as LA\n",
    "\n",
    "G = nx.Graph()\n",
    "edgelst = [(1,2),(1,3),(1,4),(1,5)]\n",
    "G.add_edges_from(edgelst)\n",
    "\n",
    "a = (nx.laplacian_matrix(G)).todense()\n",
    "w, v = LA.eig(a)\n",
    "w,v"
   ]
  },
  {
   "cell_type": "code",
   "execution_count": 31,
   "metadata": {
    "collapsed": false
   },
   "outputs": [
    {
     "data": {
      "text/plain": [
       "(array([ 5. ,  0. ,  1.8,  1.8,  1.8]),\n",
       " matrix([[  8.94427191e-01,  -4.47213595e-01,   5.39691748e-17,\n",
       "            5.39691748e-17,   5.39691748e-17],\n",
       "         [ -2.23606798e-01,  -4.47213595e-01,  -5.00000000e-01,\n",
       "           -5.00000000e-01,  -5.00000000e-01],\n",
       "         [ -2.23606798e-01,  -4.47213595e-01,   8.33333333e-01,\n",
       "           -1.66666667e-01,  -1.66666667e-01],\n",
       "         [ -2.23606798e-01,  -4.47213595e-01,  -1.66666667e-01,\n",
       "            8.33333333e-01,  -1.66666667e-01],\n",
       "         [ -2.23606798e-01,  -4.47213595e-01,  -1.66666667e-01,\n",
       "           -1.66666667e-01,   8.33333333e-01]]))"
      ]
     },
     "execution_count": 31,
     "metadata": {},
     "output_type": "execute_result"
    }
   ],
   "source": [
    "import numpy as np\n",
    "import networkx as nx\n",
    "from numpy import linalg as LA\n",
    "\n",
    "G = nx.Graph()\n",
    "edgelst = [(1,2),(1,3),(1,4),(1,5)]\n",
    "G.add_edges_from(edgelst)\n",
    "\n",
    "a = genlaplacian(G,0.1)\n",
    "w, v = LA.eig(a)\n",
    "w,v"
   ]
  },
  {
   "cell_type": "code",
   "execution_count": 32,
   "metadata": {
    "collapsed": false
   },
   "outputs": [
    {
     "data": {
      "text/plain": [
       "(array([ 5. ,  0. ,  2.6,  2.6,  2.6]),\n",
       " matrix([[  8.94427191e-01,  -4.47213595e-01,  -4.02587810e-17,\n",
       "           -1.57818483e-17,   2.93597542e-17],\n",
       "         [ -2.23606798e-01,  -4.47213595e-01,   7.07106781e-01,\n",
       "            2.77192991e-01,  -5.15675854e-01],\n",
       "         [ -2.23606798e-01,  -4.47213595e-01,  -4.71404521e-01,\n",
       "            4.05674950e-01,  -2.47346653e-01],\n",
       "         [ -2.23606798e-01,  -4.47213595e-01,  -4.71404521e-01,\n",
       "           -8.53994976e-01,  -5.54077168e-02],\n",
       "         [ -2.23606798e-01,  -4.47213595e-01,   2.35702260e-01,\n",
       "            1.71127034e-01,   8.18430224e-01]]))"
      ]
     },
     "execution_count": 32,
     "metadata": {},
     "output_type": "execute_result"
    }
   ],
   "source": [
    "a = genlaplacian(G,0.2)\n",
    "w, v = LA.eig(a)\n",
    "w,v"
   ]
  },
  {
   "cell_type": "code",
   "execution_count": 34,
   "metadata": {
    "collapsed": false
   },
   "outputs": [
    {
     "data": {
      "text/plain": [
       "(array([  5.00000000e+00,   2.22044605e-16,   3.40000000e+00,\n",
       "          3.40000000e+00,   3.40000000e+00]),\n",
       " matrix([[  8.94427191e-01,  -4.47213595e-01,  -8.36862092e-17,\n",
       "           -5.25283179e-17,  -2.09519992e-17],\n",
       "         [ -2.23606798e-01,  -4.47213595e-01,   8.54282143e-01,\n",
       "            5.36217429e-01,   2.13881343e-01],\n",
       "         [ -2.23606798e-01,  -4.47213595e-01,  -2.17758193e-01,\n",
       "            4.24284179e-01,   5.04561145e-01],\n",
       "         [ -2.23606798e-01,  -4.47213595e-01,  -2.17758193e-01,\n",
       "           -2.91608105e-01,  -8.29111134e-01],\n",
       "         [ -2.23606798e-01,  -4.47213595e-01,  -4.18765756e-01,\n",
       "           -6.68893502e-01,   1.10668646e-01]]))"
      ]
     },
     "execution_count": 34,
     "metadata": {},
     "output_type": "execute_result"
    }
   ],
   "source": [
    "a = genlaplacian(G,0.3)\n",
    "w, v = LA.eig(a)\n",
    "w,v"
   ]
  },
  {
   "cell_type": "code",
   "execution_count": 35,
   "metadata": {
    "collapsed": false
   },
   "outputs": [
    {
     "data": {
      "text/plain": [
       "(array([ 5. ,  0. ,  2.2,  2.2,  2.2]),\n",
       " matrix([[  8.94427191e-01,  -4.47213595e-01,  -1.62328019e-16,\n",
       "           -1.39598047e-32,   6.34883581e-33],\n",
       "         [ -2.23606798e-01,  -4.47213595e-01,   8.66025404e-01,\n",
       "            2.08166817e-17,  -2.58199159e-18],\n",
       "         [ -2.23606798e-01,  -4.47213595e-01,  -2.88675135e-01,\n",
       "            7.74596669e-01,  -3.52281938e-01],\n",
       "         [ -2.23606798e-01,  -4.47213595e-01,  -2.88675135e-01,\n",
       "           -6.10905132e-01,  -4.61764256e-01],\n",
       "         [ -2.23606798e-01,  -4.47213595e-01,  -2.88675135e-01,\n",
       "           -1.63691537e-01,   8.14046195e-01]]))"
      ]
     },
     "execution_count": 35,
     "metadata": {},
     "output_type": "execute_result"
    }
   ],
   "source": [
    "a = genlaplacian(G,0.15)\n",
    "w, v = LA.eig(a)\n",
    "w,v"
   ]
  },
  {
   "cell_type": "code",
   "execution_count": 2,
   "metadata": {
    "collapsed": false
   },
   "outputs": [
    {
     "data": {
      "text/plain": [
       "array([  3.61803399e+00,   2.61803399e+00,   1.38196601e+00,\n",
       "         4.97762256e-17,   3.81966011e-01])"
      ]
     },
     "execution_count": 2,
     "metadata": {},
     "output_type": "execute_result"
    }
   ],
   "source": [
    "import numpy as np\n",
    "import networkx as nx\n",
    "from numpy import linalg as LA\n",
    "\n",
    "G = nx.Graph()\n",
    "edgelst = [(1,2),(2,3),(3,4),(4,5)]\n",
    "G.add_edges_from(edgelst)\n",
    "\n",
    "a = (nx.laplacian_matrix(G)).todense()\n",
    "w, v = LA.eig(a)\n",
    "w"
   ]
  },
  {
   "cell_type": "code",
   "execution_count": 5,
   "metadata": {
    "collapsed": false
   },
   "outputs": [
    {
     "data": {
      "text/plain": [
       "array([ 0.        ,  0.6955291 ,  1.91956055,  3.74043945,  2.9724709 ])"
      ]
     },
     "execution_count": 5,
     "metadata": {},
     "output_type": "execute_result"
    }
   ],
   "source": [
    "a = genlaplacian(G,0.1)\n",
    "w, v = LA.eig(a)\n",
    "w"
   ]
  },
  {
   "cell_type": "code",
   "execution_count": 6,
   "metadata": {
    "collapsed": false
   },
   "outputs": [
    {
     "data": {
      "text/plain": [
       "array([  2.22044605e-16,   1.14718146e+00,   2.49308873e+00,\n",
       "         3.35681854e+00,   3.94691127e+00])"
      ]
     },
     "execution_count": 6,
     "metadata": {},
     "output_type": "execute_result"
    }
   ],
   "source": [
    "a = genlaplacian(G,0.2)\n",
    "w, v = LA.eig(a)\n",
    "w"
   ]
  },
  {
   "cell_type": "code",
   "execution_count": 42,
   "metadata": {
    "collapsed": false
   },
   "outputs": [
    {
     "data": {
      "text/plain": [
       "array([  3.61803399e+00,   1.38196601e+00,  -2.38411352e-16,\n",
       "         3.61803399e+00,   1.38196601e+00])"
      ]
     },
     "execution_count": 42,
     "metadata": {},
     "output_type": "execute_result"
    }
   ],
   "source": [
    "import numpy as np\n",
    "import networkx as nx\n",
    "from numpy import linalg as LA\n",
    "\n",
    "G = nx.Graph()\n",
    "edgelst = [(1,2),(2,3),(3,4),(4,5),(5,1)]\n",
    "G.add_edges_from(edgelst)\n",
    "\n",
    "a = genlaplacian(G,0)\n",
    "w, v = LA.eig(a)\n",
    "w"
   ]
  },
  {
   "cell_type": "code",
   "execution_count": 44,
   "metadata": {
    "collapsed": false
   },
   "outputs": [
    {
     "data": {
      "text/plain": [
       "array([  8.88178420e-16,   4.17082039e+00,   2.82917961e+00,\n",
       "         4.17082039e+00,   2.82917961e+00])"
      ]
     },
     "execution_count": 44,
     "metadata": {},
     "output_type": "execute_result"
    }
   ],
   "source": [
    "a = genlaplacian(G,0.2)\n",
    "w, v = LA.eig(a)\n",
    "w"
   ]
  },
  {
   "cell_type": "code",
   "execution_count": 24,
   "metadata": {
    "collapsed": false
   },
   "outputs": [
    {
     "data": {
      "text/plain": [
       "array([ 0.        ,  0.38196601,  1.38196601,  2.61803399,  3.61803399])"
      ]
     },
     "execution_count": 24,
     "metadata": {},
     "output_type": "execute_result"
    }
   ],
   "source": [
    "y1"
   ]
  },
  {
   "cell_type": "code",
   "execution_count": 31,
   "metadata": {
    "collapsed": false
   },
   "outputs": [
    {
     "data": {
      "image/png": "[encoded data removed]",
      "text/plain": [
       "<matplotlib.figure.Figure at 0x7f5647037320>"
      ]
     },
     "metadata": {},
     "output_type": "display_data"
    }
   ],
   "source": [
    "import matplotlib.pyplot as plt\n",
    "import numpy as np\n",
    "\n",
    "x = np.array([1,2,3,4,5])\n",
    "y1 = 2-(2*np.cos((np.pi)*(x-1)/5))\n",
    "y2 = [0,0.695529, 1.91956, 2.972,3.740]\n",
    "y3 = [0,1.14718, 2.4931, 3.3568,3.9469]\n",
    "y4 = [0,1.7721,3.11421, 3.7839, 4.22579]\n",
    "plt.plot(x,y1)\n",
    "plt.plot(x,y2)\n",
    "plt.plot(x,y3)\n",
    "plt.plot(x,y4)\n",
    "plt.show()"
   ]
  },
  {
   "cell_type": "code",
   "execution_count": 10,
   "metadata": {
    "collapsed": false
   },
   "outputs": [
    {
     "data": {
      "text/plain": [
       "array([ 0.        ,  0.01574733,  0.03149466,  0.04724199,  0.06298933,\n",
       "        0.07873666,  0.09448399,  0.11023132,  0.12597865,  0.14172598,\n",
       "        0.15747332,  0.17322065,  0.18896798,  0.20471531,  0.22046264,\n",
       "        0.23620997,  0.25195731,  0.26770464,  0.28345197,  0.2991993 ,\n",
       "        0.31494663,  0.33069396,  0.3464413 ,  0.36218863,  0.37793596,\n",
       "        0.39368329,  0.40943062,  0.42517795,  0.44092528,  0.45667262,\n",
       "        0.47241995,  0.48816728,  0.50391461,  0.51966194,  0.53540927,\n",
       "        0.55115661,  0.56690394,  0.58265127,  0.5983986 ,  0.61414593,\n",
       "        0.62989326,  0.6456406 ,  0.66138793,  0.67713526,  0.69288259,\n",
       "        0.70862992,  0.72437725,  0.74012459,  0.75587192,  0.77161925,\n",
       "        0.78736658,  0.80311391,  0.81886124,  0.83460857,  0.85035591,\n",
       "        0.86610324,  0.88185057,  0.8975979 ,  0.91334523,  0.92909256,\n",
       "        0.9448399 ,  0.96058723,  0.97633456,  0.99208189,  1.00782922,\n",
       "        1.02357655,  1.03932389,  1.05507122,  1.07081855,  1.08656588,\n",
       "        1.10231321,  1.11806054,  1.13380787,  1.14955521,  1.16530254,\n",
       "        1.18104987,  1.1967972 ,  1.21254453,  1.22829186,  1.2440392 ,\n",
       "        1.25978653,  1.27553386,  1.29128119,  1.30702852,  1.32277585,\n",
       "        1.33852319,  1.35427052,  1.37001785,  1.38576518,  1.40151251,\n",
       "        1.41725984,  1.43300718,  1.44875451,  1.46450184,  1.48024917,\n",
       "        1.4959965 ,  1.51174383,  1.52749116,  1.5432385 ,  1.55898583,\n",
       "        1.57473316,  1.59048049,  1.60622782,  1.62197515,  1.63772249,\n",
       "        1.65346982,  1.66921715,  1.68496448,  1.70071181,  1.71645914,\n",
       "        1.73220648,  1.74795381,  1.76370114,  1.77944847,  1.7951958 ,\n",
       "        1.81094313,  1.82669047,  1.8424378 ,  1.85818513,  1.87393246,\n",
       "        1.88967979,  1.90542712,  1.92117445,  1.93692179,  1.95266912,\n",
       "        1.96841645,  1.98416378,  1.99991111,  2.01565844,  2.03140578,\n",
       "        2.04715311,  2.06290044,  2.07864777,  2.0943951 ,  2.11014243,\n",
       "        2.12588977,  2.1416371 ,  2.15738443,  2.17313176,  2.18887909,\n",
       "        2.20462642,  2.22037376,  2.23612109,  2.25186842,  2.26761575,\n",
       "        2.28336308,  2.29911041,  2.31485774,  2.33060508,  2.34635241,\n",
       "        2.36209974,  2.37784707,  2.3935944 ,  2.40934173,  2.42508907,\n",
       "        2.4408364 ,  2.45658373,  2.47233106,  2.48807839,  2.50382572,\n",
       "        2.51957306,  2.53532039,  2.55106772,  2.56681505,  2.58256238,\n",
       "        2.59830971,  2.61405705,  2.62980438,  2.64555171,  2.66129904,\n",
       "        2.67704637,  2.6927937 ,  2.70854103,  2.72428837,  2.7400357 ,\n",
       "        2.75578303,  2.77153036,  2.78727769,  2.80302502,  2.81877236,\n",
       "        2.83451969,  2.85026702,  2.86601435,  2.88176168,  2.89750901,\n",
       "        2.91325635,  2.92900368,  2.94475101,  2.96049834,  2.97624567,\n",
       "        2.991993  ,  3.00774034,  3.02348767,  3.039235  ,  3.05498233,\n",
       "        3.07072966,  3.08647699,  3.10222432,  3.11797166,  3.13371899,\n",
       "        3.14946632,  3.16521365,  3.18096098,  3.19670831,  3.21245565,\n",
       "        3.22820298,  3.24395031,  3.25969764,  3.27544497,  3.2911923 ,\n",
       "        3.30693964,  3.32268697,  3.3384343 ,  3.35418163,  3.36992896,\n",
       "        3.38567629,  3.40142362,  3.41717096,  3.43291829,  3.44866562,\n",
       "        3.46441295,  3.48016028,  3.49590761,  3.51165495,  3.52740228,\n",
       "        3.54314961,  3.55889694,  3.57464427,  3.5903916 ,  3.60613894,\n",
       "        3.62188627,  3.6376336 ,  3.65338093,  3.66912826,  3.68487559,\n",
       "        3.70062293,  3.71637026,  3.73211759,  3.74786492,  3.76361225,\n",
       "        3.77935958,  3.79510691,  3.81085425,  3.82660158,  3.84234891,\n",
       "        3.85809624,  3.87384357,  3.8895909 ,  3.90533824,  3.92108557,\n",
       "        3.9368329 ,  3.95258023,  3.96832756,  3.98407489,  3.99982223,\n",
       "        4.01556956,  4.03131689,  4.04706422,  4.06281155,  4.07855888,\n",
       "        4.09430622,  4.11005355,  4.12580088,  4.14154821,  4.15729554,\n",
       "        4.17304287,  4.1887902 ,  4.20453754,  4.22028487,  4.2360322 ,\n",
       "        4.25177953,  4.26752686,  4.28327419,  4.29902153,  4.31476886,\n",
       "        4.33051619,  4.34626352,  4.36201085,  4.37775818,  4.39350552,\n",
       "        4.40925285,  4.42500018,  4.44074751,  4.45649484,  4.47224217,\n",
       "        4.48798951,  4.50373684,  4.51948417,  4.5352315 ,  4.55097883,\n",
       "        4.56672616,  4.58247349,  4.59822083,  4.61396816,  4.62971549,\n",
       "        4.64546282,  4.66121015,  4.67695748,  4.69270482,  4.70845215,\n",
       "        4.72419948,  4.73994681,  4.75569414,  4.77144147,  4.78718881,\n",
       "        4.80293614,  4.81868347,  4.8344308 ,  4.85017813,  4.86592546,\n",
       "        4.8816728 ,  4.89742013,  4.91316746,  4.92891479,  4.94466212,\n",
       "        4.96040945,  4.97615678,  4.99190412,  5.00765145,  5.02339878,\n",
       "        5.03914611,  5.05489344,  5.07064077,  5.08638811,  5.10213544,\n",
       "        5.11788277,  5.1336301 ,  5.14937743,  5.16512476,  5.1808721 ,\n",
       "        5.19661943,  5.21236676,  5.22811409,  5.24386142,  5.25960875,\n",
       "        5.27535608,  5.29110342,  5.30685075,  5.32259808,  5.33834541,\n",
       "        5.35409274,  5.36984007,  5.38558741,  5.40133474,  5.41708207,\n",
       "        5.4328294 ,  5.44857673,  5.46432406,  5.4800714 ,  5.49581873,\n",
       "        5.51156606,  5.52731339,  5.54306072,  5.55880805,  5.57455539,\n",
       "        5.59030272,  5.60605005,  5.62179738,  5.63754471,  5.65329204,\n",
       "        5.66903937,  5.68478671,  5.70053404,  5.71628137,  5.7320287 ,\n",
       "        5.74777603,  5.76352336,  5.7792707 ,  5.79501803,  5.81076536,\n",
       "        5.82651269,  5.84226002,  5.85800735,  5.87375469,  5.88950202,\n",
       "        5.90524935,  5.92099668,  5.93674401,  5.95249134,  5.96823868,\n",
       "        5.98398601,  5.99973334,  6.01548067,  6.031228  ,  6.04697533,\n",
       "        6.06272266,  6.07847   ,  6.09421733,  6.10996466,  6.12571199,\n",
       "        6.14145932,  6.15720665,  6.17295399,  6.18870132,  6.20444865,\n",
       "        6.22019598,  6.23594331,  6.25169064,  6.26743798,  6.28318531])"
      ]
     },
     "execution_count": 10,
     "metadata": {},
     "output_type": "execute_result"
    }
   ],
   "source": [
    "x = np.linspace(0, 2 * np.pi, 400)\n",
    "x"
   ]
  },
  {
   "cell_type": "code",
   "execution_count": null,
   "metadata": {
    "collapsed": true
   },
   "outputs": [],
   "source": []
  }
 ],
 "metadata": {
  "kernelspec": {
   "display_name": "Python 3",
   "language": "python",
   "name": "python3"
  },
  "language_info": {
   "codemirror_mode": {
    "name": "ipython",
    "version": 3
   },
   "file_extension": ".py",
   "mimetype": "text/x-python",
   "name": "python",
   "nbconvert_exporter": "python",
   "pygments_lexer": "ipython3",
   "version": "3.5.3"
  }
 },
 "nbformat": 4,
 "nbformat_minor": 2
}
