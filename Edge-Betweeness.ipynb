{
 "cells": [
  {
   "cell_type": "code",
   "execution_count": 5,
   "metadata": {
    "collapsed": false
   },
   "outputs": [
    {
     "data": {
      "text/plain": [
       "{(0, 1): 0.06666666666666667,\n",
       " (0, 2): 0.1,\n",
       " (1, 3): 0.13333333333333333,\n",
       " (2, 1): 0.06666666666666667,\n",
       " (2, 4): 0.13333333333333333,\n",
       " (3, 5): 0.06666666666666667,\n",
       " (4, 3): 0.03333333333333333,\n",
       " (4, 5): 0.1}"
      ]
     },
     "execution_count": 5,
     "metadata": {},
     "output_type": "execute_result"
    }
   ],
   "source": [
    "import networkx as nx\n",
    "\n",
    "G = nx.DiGraph()\n",
    "e_list = [(0,1,11.0),(0,2,12.0),(2,1,1.0),(1,3,12.0),(2,4,11.0),(4,3,7.0),\n",
    "         (4,5,4.0),(3,5,19.0)]\n",
    "G.add_weighted_edges_from(e_list)\n",
    "ee = nx.edge_betweenness_centrality(G, weight='weight')\n",
    "ee"
   ]
  },
  {
   "cell_type": "code",
   "execution_count": null,
   "metadata": {
    "collapsed": true
   },
   "outputs": [],
   "source": []
  }
 ],
 "metadata": {
  "kernelspec": {
   "display_name": "Python 3",
   "language": "python",
   "name": "python3"
  },
  "language_info": {
   "codemirror_mode": {
    "name": "ipython",
    "version": 3
   },
   "file_extension": ".py",
   "mimetype": "text/x-python",
   "name": "python",
   "nbconvert_exporter": "python",
   "pygments_lexer": "ipython3",
   "version": "3.5.3"
  }
 },
 "nbformat": 4,
 "nbformat_minor": 2
}
