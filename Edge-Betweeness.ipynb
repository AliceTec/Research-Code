{
 "cells": [
  {
   "cell_type": "code",
   "execution_count": 22,
   "metadata": {
    "collapsed": false
   },
   "outputs": [
    {
     "data": {
      "text/plain": [
       "11.0"
      ]
     },
     "execution_count": 22,
     "metadata": {},
     "output_type": "execute_result"
    }
   ],
   "source": [
    "import networkx as nx\n",
    "\n",
    "G = nx.DiGraph()\n",
    "e_list = [(0,1,11.0),(0,2,12.0),(2,1,1.0),(1,3,12.0),(2,4,11.0),(4,3,7.0),\n",
    "         (4,5,4.0),(3,5,19.0)]\n",
    "G.add_weighted_edges_from(e_list)\n",
    "ee = nx.edge_betweenness_centrality(G, weight='weight')\n",
    "e = e_list[0]\n",
    "#G.degree(4,weight='weight')\n",
    "e[2]"
   ]
  },
  {
   "cell_type": "code",
   "execution_count": 1,
   "metadata": {
    "collapsed": false
   },
   "outputs": [
    {
     "name": "stdout",
     "output_type": "stream",
     "text": [
      "{(1, 2): 0.4, (2, 3): 0.6000000000000001, (3, 4): 0.4, (3, 5): 0.4}\n",
      "{1: 0.0, 2: 0.5, 3: 0.8333333333333333, 4: 0.0, 5: 0.0}\n"
     ]
    }
   ],
   "source": [
    "import networkx as nx\n",
    "G = nx.Graph()\n",
    "e_lst = [(1,2),(2,3),(3,4),(3,5)]\n",
    "G.add_edges_from(e_lst)\n",
    "eb = nx.edge_betweenness_centrality(G, normalized=True, weight=None)\n",
    "print(eb)\n",
    "nb = nx.betweenness_centrality(G, normalized=True, weight=None)\n",
    "print(nb)"
   ]
  },
  {
   "cell_type": "code",
   "execution_count": 17,
   "metadata": {
    "collapsed": true
   },
   "outputs": [],
   "source": [
    "import networkx as nx              #import the package for graphs\n",
    "import numpy as np\n",
    "import pylab as plt\n",
    "\n",
    "\n",
    "def laplacian_centrality(G,weight='weight'):\n",
    "    W = nx.adjacency_matrix(G)                          # compute the weighted adjacency\n",
    "    def laplacian_energy(G):\n",
    "        d = G.degree(weight='weight')                      # compute x_is\n",
    "        x_i= list(d.values())\n",
    "        sum_x = np.sum(np.square(x_i))                    # compute sum of x_is                  \n",
    "\n",
    "        dimn = np.shape(W)                                 # compute the number of rows and columns of the matrix\n",
    "        nrows = dimn[0]\n",
    "        ncols = dimn[1]\n",
    "\n",
    "        \n",
    "        s_w = 0                                           # compute sum of square of weights\n",
    "        for i in range(0,nrows-1):\n",
    "            #sum_x = sum_x + np.square(np.sum(W[i,:]))\n",
    "            for j in range(i+1,ncols):\n",
    "                s_w = s_w + np.square(W[i,j])\n",
    "\n",
    "        E = sum_x + 2*s_w                                # compute laplacian energy\n",
    "        return(E)\n",
    "\n",
    "    def new_edgelist(edges,e):                           # new list of nodes without a specified node\n",
    "        edges.remove(e)\n",
    "        return(edges)\n",
    "\n",
    "    lap_dict ={}                                        # empty dictionary\n",
    "    for e in G.edges():\n",
    "        laplacian_change=2*(W[e[0],e[1]])*(G.degree(e[0],weight='weight')+G.degree(e[1],weight='weight') )\n",
    "        lap_centrality = laplacian_change/laplacian_energy(G)  # compute laplacian centrality\n",
    "        lap_dict[e]=lap_centrality                                                       # append to dictionary\n",
    "    return(lap_dict)       "
   ]
  },
  {
   "cell_type": "code",
   "execution_count": 2,
   "metadata": {
    "collapsed": false
   },
   "outputs": [
    {
     "ename": "NameError",
     "evalue": "name 'laplacian_centrality' is not defined",
     "output_type": "error",
     "traceback": [
      "\u001b[0;31m---------------------------------------------------------------------------\u001b[0m",
      "\u001b[0;31mNameError\u001b[0m                                 Traceback (most recent call last)",
      "\u001b[0;32m<ipython-input-2-91b5c8b3fc1c>\u001b[0m in \u001b[0;36m<module>\u001b[0;34m()\u001b[0m\n\u001b[1;32m      2\u001b[0m \u001b[0mG\u001b[0m\u001b[0;34m.\u001b[0m\u001b[0madd_weighted_edges_from\u001b[0m\u001b[0;34m(\u001b[0m\u001b[0;34m[\u001b[0m\u001b[0;34m(\u001b[0m\u001b[0;34m'A'\u001b[0m\u001b[0;34m,\u001b[0m\u001b[0;34m'B'\u001b[0m\u001b[0;34m,\u001b[0m\u001b[0;36m4.0\u001b[0m\u001b[0;34m)\u001b[0m\u001b[0;34m,\u001b[0m\u001b[0;34m(\u001b[0m\u001b[0;34m'A'\u001b[0m\u001b[0;34m,\u001b[0m\u001b[0;34m'C'\u001b[0m\u001b[0;34m,\u001b[0m\u001b[0;36m2.0\u001b[0m\u001b[0;34m)\u001b[0m\u001b[0;34m,\u001b[0m\u001b[0;34m(\u001b[0m\u001b[0;34m'B'\u001b[0m\u001b[0;34m,\u001b[0m\u001b[0;34m'C'\u001b[0m\u001b[0;34m,\u001b[0m\u001b[0;36m1.0\u001b[0m\u001b[0;34m)\u001b[0m\u001b[0;34m,\u001b[0m\u001b[0;34m(\u001b[0m\u001b[0;34m'B'\u001b[0m\u001b[0;34m,\u001b[0m\u001b[0;34m'D'\u001b[0m\u001b[0;34m,\u001b[0m\u001b[0;36m2.0\u001b[0m\u001b[0;34m)\u001b[0m\u001b[0;34m,\u001b[0m\u001b[0;34m(\u001b[0m\u001b[0;34m'B'\u001b[0m\u001b[0;34m,\u001b[0m\u001b[0;34m'E'\u001b[0m\u001b[0;34m,\u001b[0m\u001b[0;36m2.0\u001b[0m\u001b[0;34m)\u001b[0m\u001b[0;34m,\u001b[0m\u001b[0;34m(\u001b[0m\u001b[0;34m'E'\u001b[0m\u001b[0;34m,\u001b[0m\u001b[0;34m'F'\u001b[0m\u001b[0;34m,\u001b[0m\u001b[0;36m1.0\u001b[0m\u001b[0;34m)\u001b[0m\u001b[0;34m]\u001b[0m\u001b[0;34m)\u001b[0m\u001b[0;34m\u001b[0m\u001b[0m\n\u001b[1;32m      3\u001b[0m \u001b[0;31m#nx.write_pajek(G,\"scores.net\")\u001b[0m\u001b[0;34m\u001b[0m\u001b[0;34m\u001b[0m\u001b[0m\n\u001b[0;32m----> 4\u001b[0;31m \u001b[0mel\u001b[0m \u001b[0;34m=\u001b[0m \u001b[0mlaplacian_centrality\u001b[0m\u001b[0;34m(\u001b[0m\u001b[0mG\u001b[0m\u001b[0;34m)\u001b[0m\u001b[0;34m\u001b[0m\u001b[0m\n\u001b[0m\u001b[1;32m      5\u001b[0m \u001b[0mprint\u001b[0m\u001b[0;34m(\u001b[0m\u001b[0mel\u001b[0m\u001b[0;34m)\u001b[0m\u001b[0;34m\u001b[0m\u001b[0m\n",
      "\u001b[0;31mNameError\u001b[0m: name 'laplacian_centrality' is not defined"
     ]
    }
   ],
   "source": [
    "G = nx.Graph()\n",
    "G.add_weighted_edges_from([('A','B',4.0),('A','C',2.0),('B','C',1.0),('B','D',2.0),('B','E',2.0),('E','F',1.0)])\n",
    "#nx.write_pajek(G,\"scores.net\")\n",
    "el = laplacian_centrality(G)\n",
    "print(el)"
   ]
  },
  {
   "cell_type": "code",
   "execution_count": 2,
   "metadata": {
    "collapsed": false
   },
   "outputs": [
    {
     "name": "stdout",
     "output_type": "stream",
     "text": [
      "{(1, 2): 0.1, (3, 4): 0.2, (3, 5): 0.2}\n",
      "{1: 0.0, 2: 0.0, 3: 0.16666666666666666, 4: 0.0, 5: 0.0}\n"
     ]
    }
   ],
   "source": [
    "import networkx as nx\n",
    "G = nx.Graph()\n",
    "e_lst = [(1,2),(3,4),(3,5)]\n",
    "G.add_edges_from(e_lst)\n",
    "eb = nx.edge_betweenness_centrality(G, normalized=True, weight=None)\n",
    "print(eb)\n",
    "nb = nx.betweenness_centrality(G, normalized=True, weight=None)\n",
    "print(nb)"
   ]
  },
  {
   "cell_type": "code",
   "execution_count": 3,
   "metadata": {
    "collapsed": false
   },
   "outputs": [
    {
     "name": "stdout",
     "output_type": "stream",
     "text": [
      "{('F', 'E'): 0.3333333333333333, ('A', 'B'): 0.26666666666666666, ('E', 'B'): 0.5333333333333333, ('B', 'C'): 0.26666666666666666, ('A', 'C'): 0.06666666666666667, ('D', 'B'): 0.3333333333333333}\n",
      "{'F': 0.0, 'E': 0.4, 'D': 0.0, 'A': 0.0, 'B': 0.8, 'C': 0.0}\n"
     ]
    }
   ],
   "source": [
    "G = nx.Graph()\n",
    "e_lst = [('A','B'),('A','C'),('B','C'),('B','D'),('B','E'),('E','F')]\n",
    "G.add_edges_from(e_lst)\n",
    "eb = nx.edge_betweenness_centrality(G, normalized=True, weight=None)\n",
    "print(eb)\n",
    "nb = nx.betweenness_centrality(G, normalized=True, weight=None)\n",
    "print(nb)"
   ]
  },
  {
   "cell_type": "code",
   "execution_count": 4,
   "metadata": {
    "collapsed": false
   },
   "outputs": [
    {
     "name": "stdout",
     "output_type": "stream",
     "text": [
      "{('A', 'B'): 0.2, ('B', 'C'): 0.15000000000000002, ('A', 'E'): 0.25, ('A', 'D'): 0.4, ('A', 'C'): 0.25, ('B', 'E'): 0.15000000000000002}\n",
      "{'A': 0.5833333333333333, 'C': 0.0, 'B': 0.08333333333333333, 'E': 0.0, 'D': 0.0}\n"
     ]
    }
   ],
   "source": [
    "G = nx.Graph()\n",
    "e_lst = [('A','B'),('A','C'),('B','C'),('A','D'),('A','E'),('E','B')]\n",
    "G.add_edges_from(e_lst)\n",
    "eb = nx.edge_betweenness_centrality(G, normalized=True, weight=None)\n",
    "print(eb)\n",
    "nb = nx.betweenness_centrality(G, normalized=True, weight=None)\n",
    "print(nb)"
   ]
  },
  {
   "cell_type": "code",
   "execution_count": null,
   "metadata": {
    "collapsed": false
   },
   "outputs": [],
   "source": []
  },
  {
   "cell_type": "code",
   "execution_count": null,
   "metadata": {
    "collapsed": true
   },
   "outputs": [],
   "source": []
  }
 ],
 "metadata": {
  "kernelspec": {
   "display_name": "Python 3",
   "language": "python",
   "name": "python3"
  },
  "language_info": {
   "codemirror_mode": {
    "name": "ipython",
    "version": 3
   },
   "file_extension": ".py",
   "mimetype": "text/x-python",
   "name": "python",
   "nbconvert_exporter": "python",
   "pygments_lexer": "ipython3",
   "version": "3.5.3"
  }
 },
 "nbformat": 4,
 "nbformat_minor": 2
}
