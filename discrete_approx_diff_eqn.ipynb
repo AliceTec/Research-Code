{
 "cells": [
  {
   "cell_type": "code",
   "execution_count": 4,
   "metadata": {
    "collapsed": true
   },
   "outputs": [],
   "source": [
    "import random\n",
    "import networkx as nx\n",
    "import numpy as np\n",
    "from scipy.linalg import expm\n",
    "import matplotlib.pyplot as plt\n",
    "from pylab import *\n",
    "import random\n",
    "\n",
    "\n",
    "def diffusion(G,phi_0,t,x):\n",
    "\n",
    "    def nodes_connected(G,u, v):\n",
    "        return u in G.neighbors(v)\n",
    "\n",
    "    def generalisedLapMatrix(G,x):\n",
    "        nodelist = nx.nodes(G)\n",
    "        nsize = len(nodelist)\n",
    "        mp    = np.zeros(shape=(nsize,nsize))\n",
    "        for n in nodelist:\n",
    "            c = 0   \n",
    "            i = nodelist.index(n)\n",
    "            j = i+1\n",
    "            for m in nodelist[j:]:\n",
    "                if(nodes_connected(G,n,m)):\n",
    "                    mp[i,j]= mp[j,i] = -1\n",
    "                else:\n",
    "                    s   = nx.shortest_path_length(G, source=n,target=m)\n",
    "                    val = (s*pow(x,(s-1)))\n",
    "                    mp[i,j]= mp[j,i]= -val\n",
    "                j= j+1\n",
    "            mp[i,i] =  -1*(mp[i].sum())\n",
    "            i = 0\n",
    "        return mp\n",
    "    \n",
    "        l = generalisedLapMatrix(G,x)\n",
    "        phi_t = np.dot(phi_0, expm(-l*t*1))\n",
    "            \n",
    "    return phi_t"
   ]
  },
  {
   "cell_type": "code",
   "execution_count": 6,
   "metadata": {
    "collapsed": false
   },
   "outputs": [
    {
     "ename": "NameError",
     "evalue": "name 'phi_t' is not defined",
     "output_type": "error",
     "traceback": [
      "\u001b[0;31m---------------------------------------------------------------------------\u001b[0m",
      "\u001b[0;31mNameError\u001b[0m                                 Traceback (most recent call last)",
      "\u001b[0;32m<ipython-input-6-b301f7c6f688>\u001b[0m in \u001b[0;36m<module>\u001b[0;34m()\u001b[0m\n\u001b[1;32m      5\u001b[0m     \u001b[0mphi_0\u001b[0m\u001b[0;34m.\u001b[0m\u001b[0mappend\u001b[0m\u001b[0;34m(\u001b[0m\u001b[0mrandom\u001b[0m\u001b[0;34m.\u001b[0m\u001b[0mrandint\u001b[0m\u001b[0;34m(\u001b[0m\u001b[0;36m0\u001b[0m\u001b[0;34m,\u001b[0m \u001b[0;36m10\u001b[0m\u001b[0;34m)\u001b[0m\u001b[0;34m)\u001b[0m\u001b[0;34m\u001b[0m\u001b[0m\n\u001b[1;32m      6\u001b[0m \u001b[0mphi\u001b[0m \u001b[0;34m=\u001b[0m \u001b[0;34m[\u001b[0m\u001b[0;34m]\u001b[0m\u001b[0;34m\u001b[0m\u001b[0m\n\u001b[0;32m----> 7\u001b[0;31m \u001b[0mphi\u001b[0m \u001b[0;34m=\u001b[0m \u001b[0mdiffusion\u001b[0m\u001b[0;34m(\u001b[0m\u001b[0mG\u001b[0m\u001b[0;34m,\u001b[0m\u001b[0mphi_0\u001b[0m\u001b[0;34m,\u001b[0m\u001b[0mt\u001b[0m\u001b[0;34m=\u001b[0m\u001b[0;36m0\u001b[0m\u001b[0;34m,\u001b[0m\u001b[0mx\u001b[0m\u001b[0;34m=\u001b[0m\u001b[0;36m0\u001b[0m\u001b[0;34m)\u001b[0m\u001b[0;34m\u001b[0m\u001b[0m\n\u001b[0m",
      "\u001b[0;32m<ipython-input-4-f79251f789d1>\u001b[0m in \u001b[0;36mdiffusion\u001b[0;34m(G, phi_0, t, x)\u001b[0m\n\u001b[1;32m     36\u001b[0m         \u001b[0mphi_t\u001b[0m \u001b[0;34m=\u001b[0m \u001b[0mnp\u001b[0m\u001b[0;34m.\u001b[0m\u001b[0mdot\u001b[0m\u001b[0;34m(\u001b[0m\u001b[0mphi_0\u001b[0m\u001b[0;34m,\u001b[0m \u001b[0mexpm\u001b[0m\u001b[0;34m(\u001b[0m\u001b[0;34m-\u001b[0m\u001b[0ml\u001b[0m\u001b[0;34m*\u001b[0m\u001b[0mt\u001b[0m\u001b[0;34m*\u001b[0m\u001b[0;36m1\u001b[0m\u001b[0;34m)\u001b[0m\u001b[0;34m)\u001b[0m\u001b[0;34m\u001b[0m\u001b[0m\n\u001b[1;32m     37\u001b[0m \u001b[0;34m\u001b[0m\u001b[0m\n\u001b[0;32m---> 38\u001b[0;31m     \u001b[0;32mreturn\u001b[0m \u001b[0mphi_t\u001b[0m\u001b[0;34m\u001b[0m\u001b[0m\n\u001b[0m",
      "\u001b[0;31mNameError\u001b[0m: name 'phi_t' is not defined"
     ]
    }
   ],
   "source": [
    "G = nx.erdos_renyi_graph(100,0.06, seed=1)\n",
    "n = len(G.nodes())\n",
    "phi_0 = []\n",
    "for l in range(0,n):\n",
    "    phi_0.append(random.randint(0, 10))\n",
    "phi = []    \n",
    "phi = diffusion(G,phi_0,t=0,x=0)"
   ]
  },
  {
   "cell_type": "code",
   "execution_count": null,
   "metadata": {
    "collapsed": true
   },
   "outputs": [],
   "source": []
  }
 ],
 "metadata": {
  "kernelspec": {
   "display_name": "Python 3",
   "language": "python",
   "name": "python3"
  },
  "language_info": {
   "codemirror_mode": {
    "name": "ipython",
    "version": 3
   },
   "file_extension": ".py",
   "mimetype": "text/x-python",
   "name": "python",
   "nbconvert_exporter": "python",
   "pygments_lexer": "ipython3",
   "version": "3.5.3"
  }
 },
 "nbformat": 4,
 "nbformat_minor": 2
}
