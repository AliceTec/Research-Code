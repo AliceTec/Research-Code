{
 "cells": [
  {
   "cell_type": "code",
   "execution_count": 3,
   "metadata": {
    "collapsed": true
   },
   "outputs": [],
   "source": [
    "import numpy as np\n",
    "import networkx as nx\n",
    "\n",
    "def genlaplacian(G, x, nodelist=None):\n",
    "    if x==0:\n",
    "        D = nx.laplacian_matrix(G).toarray()\n",
    "    else:\n",
    "        D = nx.floyd_warshall_numpy(G, nodelist)\n",
    "        rowsize = D.shape[0]\n",
    "        for i in range(0, rowsize):\n",
    "            for j in range(i+1, rowsize):\n",
    "                if(D[i,j] ==1):\n",
    "                    D[i,j]= D[j,i] = -1\n",
    "                else:\n",
    "                    D[i,j] = D[j,i] = -D[i,j]*(pow(x, (D[i,j]-1)))\n",
    "            D[i,i] = -1*(D[i].sum())\n",
    "    return D"
   ]
  },
  {
   "cell_type": "code",
   "execution_count": 6,
   "metadata": {
    "collapsed": true
   },
   "outputs": [],
   "source": [
    "equi_tvals = []"
   ]
  },
  {
   "cell_type": "code",
   "execution_count": 5,
   "metadata": {
    "collapsed": false
   },
   "outputs": [
    {
     "ename": "NameError",
     "evalue": "name 'equi_tvals' is not defined",
     "output_type": "error",
     "traceback": [
      "\u001b[0;31m---------------------------------------------------------------------------\u001b[0m",
      "\u001b[0;31mNameError\u001b[0m                                 Traceback (most recent call last)",
      "\u001b[0;32m<ipython-input-5-5e7be6806808>\u001b[0m in \u001b[0;36m<module>\u001b[0;34m()\u001b[0m\n\u001b[1;32m     33\u001b[0m         \u001b[0mt\u001b[0m \u001b[0;34m=\u001b[0m \u001b[0mt\u001b[0m\u001b[0;34m+\u001b[0m\u001b[0;36m0.05\u001b[0m\u001b[0;34m\u001b[0m\u001b[0m\n\u001b[1;32m     34\u001b[0m     \u001b[0mt_vals\u001b[0m\u001b[0;34m.\u001b[0m\u001b[0mappend\u001b[0m\u001b[0;34m(\u001b[0m\u001b[0mt\u001b[0m\u001b[0;34m-\u001b[0m\u001b[0;36m0.05\u001b[0m\u001b[0;34m)\u001b[0m\u001b[0;34m\u001b[0m\u001b[0m\n\u001b[0;32m---> 35\u001b[0;31m \u001b[0mequi_tvals\u001b[0m\u001b[0;34m.\u001b[0m\u001b[0mappend\u001b[0m\u001b[0;34m(\u001b[0m\u001b[0mt_vals\u001b[0m\u001b[0;34m)\u001b[0m\u001b[0;34m\u001b[0m\u001b[0m\n\u001b[0m",
      "\u001b[0;31mNameError\u001b[0m: name 'equi_tvals' is not defined"
     ]
    }
   ],
   "source": [
    "#for scale free networks with exponent=2\n",
    "import numpy as np\n",
    "import networkx as nx\n",
    "from scipy import linalg as LA\n",
    "import random as random\n",
    "import matplotlib.pyplot as plt\n",
    "\n",
    "fh=open(\"graph-exponent-2.dat\", 'rb')\n",
    "G=nx.read_edgelist(fh)\n",
    "fh.close()\n",
    "n = len(G.nodes())\n",
    "\n",
    "phi_0 = []\n",
    "phi_0 = np.random.randint(10, 20, size=n)\n",
    "\n",
    "x_vals = np.arange(0,0.5,0.005)\n",
    "t_vals =[]\n",
    "for x in x_vals:\n",
    "    diff = np.var(np.array(phi_0))\n",
    "    L = genlaplacian(G, x)\n",
    "    D, V = LA.eigh(L);                              #Compute the eigenvalues/vectors of the laplacian matrix\n",
    "    D = np.reshape(D,(n,1), order='F')\n",
    "    phi_0 = np.reshape(phi_0,(n,1), order='F');\n",
    "    phi_0V = np.dot((V.conj().transpose()),phi_0) #Transform the initial condition into the coordinate system of the eigenvectors\n",
    "\n",
    "    #plotting results\n",
    "    t=0.05\n",
    "    while (diff > 0.00001) :\n",
    "        Phi = (phi_0V* (np.exp(-D*t))) #Exponential decay for each component\n",
    "        Phi = np.dot(V,Phi)               \n",
    "        phi_t = (Phi.ravel()).tolist()            \n",
    "        diff = np.var(np.array(phi_t))\n",
    "        t = t+0.05\n",
    "    t_vals.append(t-0.05)\n",
    "equi_tvals.append(t_vals)   "
   ]
  },
  {
   "cell_type": "code",
   "execution_count": 9,
   "metadata": {
    "collapsed": false
   },
   "outputs": [],
   "source": [
    "equi_tvals.append(t_vals)   "
   ]
  },
  {
   "cell_type": "code",
   "execution_count": 10,
   "metadata": {
    "collapsed": true
   },
   "outputs": [],
   "source": [
    "#for scale free networks with exponent=2\n",
    "import numpy as np\n",
    "import networkx as nx\n",
    "from scipy import linalg as LA\n",
    "import random as random\n",
    "import matplotlib.pyplot as plt\n",
    "\n",
    "fh=open(\"graph-exponent-2.3.dat\", 'rb')\n",
    "G=nx.read_edgelist(fh)\n",
    "fh.close()\n",
    "n = len(G.nodes())\n",
    "\n",
    "phi_0 = []\n",
    "phi_0 = np.random.randint(10, 20, size=n)\n",
    "\n",
    "x_vals = np.arange(0,0.5,0.005)\n",
    "t_vals =[]\n",
    "for x in x_vals:\n",
    "    diff = np.var(np.array(phi_0))\n",
    "    L = genlaplacian(G, x)\n",
    "    D, V = LA.eigh(L);                              #Compute the eigenvalues/vectors of the laplacian matrix\n",
    "    D = np.reshape(D,(n,1), order='F')\n",
    "    phi_0 = np.reshape(phi_0,(n,1), order='F');\n",
    "    phi_0V = np.dot((V.conj().transpose()),phi_0) #Transform the initial condition into the coordinate system of the eigenvectors\n",
    "\n",
    "    #plotting results\n",
    "    t=0.05\n",
    "    while (diff > 0.00001) :\n",
    "        Phi = (phi_0V* (np.exp(-D*t))) #Exponential decay for each component\n",
    "        Phi = np.dot(V,Phi)               \n",
    "        phi_t = (Phi.ravel()).tolist()            \n",
    "        diff = np.var(np.array(phi_t))\n",
    "        t = t+0.05\n",
    "    t_vals.append(t-0.05)\n",
    "equi_tvals.append(t_vals)   "
   ]
  },
  {
   "cell_type": "code",
   "execution_count": null,
   "metadata": {
    "collapsed": false
   },
   "outputs": [],
   "source": [
    "#for scale free networks with exponent=2.7\n",
    "import numpy as np\n",
    "import networkx as nx\n",
    "from scipy import linalg as LA\n",
    "import random as random\n",
    "import matplotlib.pyplot as plt\n",
    "\n",
    "fh=open(\"graph-exponent-2.7.dat\", 'rb')\n",
    "G=nx.read_edgelist(fh)\n",
    "fh.close()\n",
    "n = len(G.nodes())\n",
    "\n",
    "phi_0 = []\n",
    "phi_0 = np.random.randint(10, 20, size=n)\n",
    "\n",
    "x_vals = np.arange(0,0.5,0.005)\n",
    "t_vals =[]\n",
    "for x in x_vals:\n",
    "    diff = np.var(np.array(phi_0))\n",
    "    L = genlaplacian(G, x)\n",
    "    D, V = LA.eigh(L);                              #Compute the eigenvalues/vectors of the laplacian matrix\n",
    "    D = np.reshape(D,(n,1), order='F')\n",
    "    phi_0 = np.reshape(phi_0,(n,1), order='F');\n",
    "    phi_0V = np.dot((V.conj().transpose()),phi_0) #Transform the initial condition into the coordinate system of the eigenvectors\n",
    "\n",
    "    #plotting results\n",
    "    t=0.05\n",
    "    while (diff > 0.00001) :\n",
    "        Phi = (phi_0V* (np.exp(-D*t))) #Exponential decay for each component\n",
    "        Phi = np.dot(V,Phi)               \n",
    "        phi_t = (Phi.ravel()).tolist()            \n",
    "        diff = np.var(np.array(phi_t))\n",
    "        t = t+0.05\n",
    "    t_vals.append(t-0.05)\n",
    "equi_tvals.append(t_vals)   "
   ]
  },
  {
   "cell_type": "code",
   "execution_count": 17,
   "metadata": {
    "collapsed": false
   },
   "outputs": [
    {
     "name": "stderr",
     "output_type": "stream",
     "text": [
      "/usr/lib/python3/dist-packages/matplotlib/axes/_axes.py:545: UserWarning: No labelled objects found. Use label='...' kwarg on individual plots.\n",
      "  warnings.warn(\"No labelled objects found. \"\n"
     ]
    },
    {
     "data": {
      "image/png": "[encoded data removed]",
      "text/plain": [
       "<matplotlib.figure.Figure at 0x7f1f1e3a1898>"
      ]
     },
     "metadata": {},
     "output_type": "display_data"
    }
   ],
   "source": [
    "for l in equi_tvals:\n",
    "    plt.plot(x_vals,l)\n",
    "plt.xlabel('x values')\n",
    "plt.ylabel('Equilibrium time')\n",
    "#plt.ylim(0.0,1.0)\n",
    "plt.title('Diffusion of heat over a E_R(100,0.06) network')\n",
    "plt.legend()\n",
    "plt.show()"
   ]
  },
  {
   "cell_type": "code",
   "execution_count": null,
   "metadata": {
    "collapsed": true
   },
   "outputs": [],
   "source": []
  }
 ],
 "metadata": {
  "kernelspec": {
   "display_name": "Python 3",
   "language": "python",
   "name": "python3"
  },
  "language_info": {
   "codemirror_mode": {
    "name": "ipython",
    "version": 3
   },
   "file_extension": ".py",
   "mimetype": "text/x-python",
   "name": "python",
   "nbconvert_exporter": "python",
   "pygments_lexer": "ipython3",
   "version": "3.5.3"
  }
 },
 "nbformat": 4,
 "nbformat_minor": 2
}
