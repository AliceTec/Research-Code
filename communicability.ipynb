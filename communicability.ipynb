{
 "cells": [
  {
   "cell_type": "code",
   "execution_count": 5,
   "metadata": {
    "collapsed": false
   },
   "outputs": [
    {
     "name": "stdout",
     "output_type": "stream",
     "text": [
      "[[0 1 0 0]\n",
      " [1 0 1 0]\n",
      " [0 1 0 1]\n",
      " [0 0 1 0]]\n",
      "[[0.00000000e+00 7.07106781e-01 0.00000000e+00 0.00000000e+00]\n",
      " [7.07106781e-01 2.22044605e-16 5.00000000e-01 0.00000000e+00]\n",
      " [0.00000000e+00 5.00000000e-01 2.22044605e-16 7.07106781e-01]\n",
      " [0.00000000e+00 0.00000000e+00 7.07106781e-01 0.00000000e+00]]\n"
     ]
    }
   ],
   "source": [
    "import networkx as nx\n",
    "import numpy as np\n",
    "import scipy.linalg as ln\n",
    "\n",
    "G = nx.Graph()\n",
    "G.add_edges_from([(1,2),(2,3),(3,4)])\n",
    "a = nx.adjacency_matrix(G)\n",
    "l = nx.normalized_laplacian_matrix(G)\n",
    "ad = a.todense()\n",
    "I = np.identity(4)\n",
    "print(ad)\n",
    "print(I - l.todense())"
   ]
  },
  {
   "cell_type": "code",
   "execution_count": 20,
   "metadata": {
    "collapsed": false
   },
   "outputs": [
    {
     "name": "stdout",
     "output_type": "stream",
     "text": [
      "[-6.67868538e-17  5.00000000e-01  1.50000000e+00  2.00000000e+00]\n",
      "[[ 0.40824829 -0.57735027  0.57735027  0.40824829]\n",
      " [ 0.57735027 -0.40824829 -0.40824829 -0.57735027]\n",
      " [ 0.57735027  0.40824829 -0.40824829  0.57735027]\n",
      " [ 0.40824829  0.57735027  0.57735027 -0.40824829]]\n"
     ]
    }
   ],
   "source": [
    "from numpy import linalg as LA\n",
    "l = nx.normalized_laplacian_matrix(G).todense()\n",
    "w, v = LA.eigh(l)\n",
    "print(w)\n",
    "print(v)"
   ]
  },
  {
   "cell_type": "code",
   "execution_count": 21,
   "metadata": {
    "collapsed": false
   },
   "outputs": [
    {
     "data": {
      "text/plain": [
       "matrix([[ 1.        , -0.70710678,  0.        ,  0.        ],\n",
       "        [-0.70710678,  1.        , -0.5       ,  0.        ],\n",
       "        [ 0.        , -0.5       ,  1.        , -0.70710678],\n",
       "        [ 0.        ,  0.        , -0.70710678,  1.        ]])"
      ]
     },
     "execution_count": 21,
     "metadata": {},
     "output_type": "execute_result"
    }
   ],
   "source": [
    "l"
   ]
  },
  {
   "cell_type": "code",
   "execution_count": 17,
   "metadata": {
    "collapsed": false
   },
   "outputs": [
    {
     "data": {
      "text/plain": [
       "matrix([[0.16666667, 0.23570226, 0.23570226, 0.16666667],\n",
       "        [0.23570226, 0.33333333, 0.33333333, 0.23570226],\n",
       "        [0.23570226, 0.33333333, 0.33333333, 0.23570226],\n",
       "        [0.16666667, 0.23570226, 0.23570226, 0.16666667]])"
      ]
     },
     "execution_count": 17,
     "metadata": {},
     "output_type": "execute_result"
    }
   ],
   "source": [
    "v[:,0] * np.transpose(v[:,0])"
   ]
  },
  {
   "cell_type": "code",
   "execution_count": 19,
   "metadata": {
    "collapsed": false
   },
   "outputs": [
    {
     "data": {
      "text/plain": [
       "matrix([[1. , 0. , 0. , 0. ],\n",
       "        [0. , 0.5, 0. , 0. ],\n",
       "        [0. , 0. , 0.5, 0. ],\n",
       "        [0. , 0. , 0. , 1. ]])"
      ]
     },
     "execution_count": 19,
     "metadata": {},
     "output_type": "execute_result"
    }
   ],
   "source": [
    "from numpy.linalg import inv\n",
    "D = np.matrix([[1,0,0,0],[0,2,0,0],[0,0,2,0],[0,0,0,1]])\n",
    "Dk = inv(D)\n",
    "Dk"
   ]
  },
  {
   "cell_type": "code",
   "execution_count": 24,
   "metadata": {
    "collapsed": false
   },
   "outputs": [
    {
     "data": {
      "text/plain": [
       "matrix([[ 1, -1,  0,  0],\n",
       "        [-1,  2, -1,  0],\n",
       "        [ 0, -1,  2, -1],\n",
       "        [ 0,  0, -1,  1]], dtype=int64)"
      ]
     },
     "execution_count": 24,
     "metadata": {},
     "output_type": "execute_result"
    }
   ],
   "source": [
    "L = nx.laplacian_matrix(G).todense()\n",
    "L"
   ]
  },
  {
   "cell_type": "code",
   "execution_count": 26,
   "metadata": {
    "collapsed": false
   },
   "outputs": [
    {
     "name": "stdout",
     "output_type": "stream",
     "text": [
      "[-0.14412281  0.56298398  1.43701602  2.14412281]\n",
      "[[ 0.16245985  0.68819096  0.68819096 -0.16245985]\n",
      " [ 0.37174803  0.60150096 -0.60150096  0.37174803]\n",
      " [ 0.68819096 -0.16245985 -0.16245985 -0.68819096]\n",
      " [ 0.60150096 -0.37174803  0.37174803  0.60150096]]\n"
     ]
    }
   ],
   "source": [
    "w, v = LA.eigh(Dk*L)\n",
    "print(w)\n",
    "print(v)"
   ]
  },
  {
   "cell_type": "code",
   "execution_count": 2,
   "metadata": {
    "collapsed": false
   },
   "outputs": [
    {
     "data": {
      "text/plain": [
       "{1: {1: 1.5906097564064614,\n",
       "  2: 1.3776753274909463,\n",
       "  3: 0.6366474059673686,\n",
       "  4: 0.19331323990641658},\n",
       " 2: {1: 1.3776753274909463,\n",
       "  2: 2.2272571623738298,\n",
       "  3: 1.5709885673973623,\n",
       "  4: 0.6366474059673684},\n",
       " 3: {1: 0.6366474059673686,\n",
       "  2: 1.5709885673973623,\n",
       "  3: 2.227257162373828,\n",
       "  4: 1.3776753274909448},\n",
       " 4: {1: 0.19331323990641658,\n",
       "  2: 0.6366474059673684,\n",
       "  3: 1.3776753274909448,\n",
       "  4: 1.5906097564064603}}"
      ]
     },
     "execution_count": 2,
     "metadata": {},
     "output_type": "execute_result"
    }
   ],
   "source": [
    "nx.communicability(G)"
   ]
  },
  {
   "cell_type": "code",
   "execution_count": 18,
   "metadata": {
    "collapsed": false
   },
   "outputs": [
    {
     "data": {
      "text/plain": [
       "array([[1.26610554, 0.79963294, 0.19584503, 0.04433597],\n",
       "       [0.79963294, 1.40459022, 0.60976726, 0.19584503],\n",
       "       [0.19584503, 0.60976726, 1.40459022, 0.79963294],\n",
       "       [0.04433597, 0.19584503, 0.79963294, 1.26610554]])"
      ]
     },
     "execution_count": 18,
     "metadata": {},
     "output_type": "execute_result"
    }
   ],
   "source": [
    "from scipy.linalg import expm\n",
    "p = np.matrix([[0,0.7071,0,0],[0.7071,0,0.5,0],[0,0.5,0,0.7071],[0,0,0.7071,0]])\n",
    "pk = expm(p)\n",
    "pk"
   ]
  },
  {
   "cell_type": "code",
   "execution_count": 6,
   "metadata": {
    "collapsed": false
   },
   "outputs": [
    {
     "name": "stdout",
     "output_type": "stream",
     "text": [
      "[-1.61803399 -1.47283391 -0.46259842  0.61803399  2.93543233]\n",
      "[[ -3.71748034e-01   4.29374351e-01   4.39042241e-01  -6.01500955e-01\n",
      "    3.50541834e-01]\n",
      " [  6.01500955e-01   1.37844975e-01  -5.10036310e-01  -3.71748034e-01\n",
      "    4.69959281e-01]\n",
      " [ -6.01500955e-01   1.37844975e-01  -5.10036310e-01   3.71748034e-01\n",
      "    4.69959281e-01]\n",
      " [ -7.21644966e-16  -7.70242078e-01   3.06936062e-01  -5.55111512e-17\n",
      "    5.59032552e-01]\n",
      " [  3.71748034e-01   4.29374351e-01   4.39042241e-01   6.01500955e-01\n",
      "    3.50541834e-01]]\n"
     ]
    }
   ],
   "source": [
    "import networkx as nx\n",
    "from numpy import linalg as LA\n",
    "\n",
    "G = nx.Graph([(1,2),(1,4),(2,4),(2,3),(3,4),(3,5),(4,5)])\n",
    "a = (nx.adjacency_matrix(G)).todense()\n",
    "w, v = LA.eigh(a)\n",
    "print(w)\n",
    "print(v)"
   ]
  },
  {
   "cell_type": "code",
   "execution_count": 8,
   "metadata": {
    "collapsed": false
   },
   "outputs": [
    {
     "data": {
      "text/plain": [
       "{(1, 2): 0.15000000000000002,\n",
       " (1, 4): 0.25,\n",
       " (2, 3): 0.2,\n",
       " (2, 4): 0.15000000000000002,\n",
       " (3, 4): 0.15000000000000002,\n",
       " (3, 5): 0.15000000000000002,\n",
       " (4, 5): 0.25}"
      ]
     },
     "execution_count": 8,
     "metadata": {},
     "output_type": "execute_result"
    }
   ],
   "source": [
    "import networkx as nx\n",
    "\n",
    "G = nx.Graph([(1,2),(1,4),(2,4),(2,3),(3,4),(3,5),(4,5)])\n",
    "c = nx.edge_betweenness_centrality(G)\n",
    "c"
   ]
  },
  {
   "cell_type": "code",
   "execution_count": 3,
   "metadata": {
    "collapsed": false
   },
   "outputs": [
    {
     "data": {
      "text/plain": [
       "{1: 1.669769865469508,\n",
       " 2: 3.8202655055270487,\n",
       " 3: 4.333262607203526,\n",
       " 4: 4.333262607203527,\n",
       " 5: 3.0274190830168615}"
      ]
     },
     "execution_count": 3,
     "metadata": {},
     "output_type": "execute_result"
    }
   ],
   "source": [
    "import networkx as nx\n",
    "\n",
    "G = nx.Graph([(1,2),(2,4),(2,3),(3,4),(3,5),(4,5)])\n",
    "c = nx.communicability_centrality(G)\n",
    "c"
   ]
  },
  {
   "cell_type": "code",
   "execution_count": 73,
   "metadata": {
    "collapsed": false
   },
   "outputs": [
    {
     "data": {
      "text/plain": [
       "{1: {1: 2.381097845541817,\n",
       "  2: 1.8134302039235086,\n",
       "  3: 1.3810978455418157,\n",
       "  4: 1.813430203923509},\n",
       " 2: {1: 1.8134302039235086,\n",
       "  2: 2.381097845541812,\n",
       "  3: 1.8134302039235073,\n",
       "  4: 1.3810978455418133},\n",
       " 3: {1: 1.3810978455418157,\n",
       "  2: 1.8134302039235073,\n",
       "  3: 2.381097845541815,\n",
       "  4: 1.813430203923508},\n",
       " 4: {1: 1.813430203923509,\n",
       "  2: 1.3810978455418133,\n",
       "  3: 1.813430203923508,\n",
       "  4: 2.381097845541814}}"
      ]
     },
     "execution_count": 73,
     "metadata": {},
     "output_type": "execute_result"
    }
   ],
   "source": [
    "import networkx as nx\n",
    "\n",
    "G = nx.Graph([(1,2),(2,3),(3,4),(4,1)])\n",
    "c = nx.communicability(G)\n",
    "c"
   ]
  },
  {
   "cell_type": "code",
   "execution_count": 24,
   "metadata": {
    "collapsed": false
   },
   "outputs": [
    {
     "name": "stdout",
     "output_type": "stream",
     "text": [
      "91.185891195\n"
     ]
    }
   ],
   "source": [
    "import networkx as nx\n",
    "import numpy as np\n",
    "\n",
    "G = nx.Graph([(1,2),(2,3),(1,4),(2,4),(3,4),(3,5),(4,5)])\n",
    "c = nx.communicability(G)\n",
    "s = 0\n",
    "for cc in c.values():\n",
    "        s = s + (np.sum(list(cc.values())))\n",
    "print(s)"
   ]
  },
  {
   "cell_type": "code",
   "execution_count": 25,
   "metadata": {
    "collapsed": false
   },
   "outputs": [
    {
     "name": "stdout",
     "output_type": "stream",
     "text": [
      "67.8480612014\n"
     ]
    }
   ],
   "source": [
    "#remove 12\n",
    "import networkx as nx\n",
    "import numpy as np\n",
    "\n",
    "G = nx.Graph([(2,3),(1,4),(2,4),(3,4),(3,5),(4,5)])\n",
    "c = nx.communicability(G)\n",
    "s = 0\n",
    "for cc in c.values():\n",
    "        s = s + (np.sum(list(cc.values())))\n",
    "print(s)"
   ]
  },
  {
   "cell_type": "code",
   "execution_count": 26,
   "metadata": {
    "collapsed": false
   },
   "outputs": [
    {
     "name": "stdout",
     "output_type": "stream",
     "text": [
      "62.282488828\n"
     ]
    }
   ],
   "source": [
    "#remove 23\n",
    "import networkx as nx\n",
    "import numpy as np\n",
    "\n",
    "G = nx.Graph([(1,2),(1,4),(2,4),(3,4),(3,5),(4,5)])\n",
    "c = nx.communicability(G)\n",
    "s = 0\n",
    "for cc in c.values():\n",
    "        s = s + (np.sum(list(cc.values())))\n",
    "print(s)"
   ]
  },
  {
   "cell_type": "code",
   "execution_count": 27,
   "metadata": {
    "collapsed": false
   },
   "outputs": [
    {
     "name": "stdout",
     "output_type": "stream",
     "text": [
      "67.8480612014\n"
     ]
    }
   ],
   "source": [
    "#remove 35\n",
    "G = nx.Graph([(1,2),(2,3),(1,4),(2,4),(3,4),(4,5)])\n",
    "c = nx.communicability(G)\n",
    "s = 0\n",
    "for cc in c.values():\n",
    "        s = s + (np.sum(list(cc.values())))\n",
    "print(s)"
   ]
  },
  {
   "cell_type": "code",
   "execution_count": 28,
   "metadata": {
    "collapsed": false
   },
   "outputs": [
    {
     "name": "stdout",
     "output_type": "stream",
     "text": [
      "64.4679518074\n"
     ]
    }
   ],
   "source": [
    "#remove 14\n",
    "G = nx.Graph([(1,2),(2,3),(2,4),(3,4),(3,5),(4,5)])\n",
    "c = nx.communicability(G)\n",
    "s = 0\n",
    "for cc in c.values():\n",
    "        s = s + (np.sum(list(cc.values())))\n",
    "print(s)"
   ]
  },
  {
   "cell_type": "code",
   "execution_count": 29,
   "metadata": {
    "collapsed": false
   },
   "outputs": [
    {
     "name": "stdout",
     "output_type": "stream",
     "text": [
      "58.1649897969\n"
     ]
    }
   ],
   "source": [
    "#24\n",
    "G = nx.Graph([(1,2),(2,3),(1,4),(3,4),(3,5),(4,5)])\n",
    "c = nx.communicability(G)\n",
    "s = 0\n",
    "for cc in c.values():\n",
    "        s = s + (np.sum(list(cc.values())))\n",
    "print(s)"
   ]
  },
  {
   "cell_type": "code",
   "execution_count": 30,
   "metadata": {
    "collapsed": false
   },
   "outputs": [
    {
     "name": "stdout",
     "output_type": "stream",
     "text": [
      "58.1649897969\n"
     ]
    }
   ],
   "source": [
    "#34\n",
    "G = nx.Graph([(1,2),(2,3),(1,4),(2,4),(3,5),(4,5)])\n",
    "c = nx.communicability(G)\n",
    "s = 0\n",
    "for cc in c.values():\n",
    "        s = s + (np.sum(list(cc.values())))\n",
    "print(s)"
   ]
  },
  {
   "cell_type": "code",
   "execution_count": 31,
   "metadata": {
    "collapsed": false
   },
   "outputs": [
    {
     "name": "stdout",
     "output_type": "stream",
     "text": [
      "64.4679518074\n"
     ]
    }
   ],
   "source": [
    "#45\n",
    "G = nx.Graph([(1,2),(2,3),(1,4),(2,4),(3,4),(3,5)])\n",
    "c = nx.communicability(G)\n",
    "s = 0\n",
    "for cc in c.values():\n",
    "        s = s + (np.sum(list(cc.values())))\n",
    "print(s)"
   ]
  },
  {
   "cell_type": "code",
   "execution_count": 32,
   "metadata": {
    "collapsed": false
   },
   "outputs": [
    {
     "name": "stdout",
     "output_type": "stream",
     "text": [
      "56.374308362\n"
     ]
    }
   ],
   "source": [
    "import networkx as nx\n",
    "import numpy as np\n",
    "\n",
    "G = nx.Graph([(1,2),(2,3),(1,3),(3,4),(3,5),(5,6)])\n",
    "c = nx.communicability(G)\n",
    "s = 0\n",
    "for cc in c.values():\n",
    "        s = s + (np.sum(list(cc.values())))\n",
    "print(s)"
   ]
  },
  {
   "cell_type": "code",
   "execution_count": 33,
   "metadata": {
    "collapsed": false
   },
   "outputs": [
    {
     "name": "stdout",
     "output_type": "stream",
     "text": [
      "41.9964264399\n"
     ]
    }
   ],
   "source": [
    "#remove 12\n",
    "G = nx.Graph([(2,3),(1,3),(3,4),(3,5),(5,6)])\n",
    "c = nx.communicability(G)\n",
    "s = 0\n",
    "for cc in c.values():\n",
    "        s = s + (np.sum(list(cc.values())))\n",
    "print(s)"
   ]
  },
  {
   "cell_type": "code",
   "execution_count": 34,
   "metadata": {
    "collapsed": false
   },
   "outputs": [
    {
     "name": "stdout",
     "output_type": "stream",
     "text": [
      "37.1207678518\n"
     ]
    }
   ],
   "source": [
    "#remove 23\n",
    "G = nx.Graph([(1,2),(1,3),(3,4),(3,5),(5,6)])\n",
    "c = nx.communicability(G)\n",
    "s = 0\n",
    "for cc in c.values():\n",
    "        s = s + (np.sum(list(cc.values())))\n",
    "print(s)"
   ]
  },
  {
   "cell_type": "code",
   "execution_count": 35,
   "metadata": {
    "collapsed": false
   },
   "outputs": [
    {
     "name": "stdout",
     "output_type": "stream",
     "text": [
      "37.1207678518\n"
     ]
    }
   ],
   "source": [
    "#remove 13\n",
    "G = nx.Graph([(1,2),(2,3),(3,4),(3,5),(5,6)])\n",
    "c = nx.communicability(G)\n",
    "s = 0\n",
    "for cc in c.values():\n",
    "        s = s + (np.sum(list(cc.values())))\n",
    "print(s)"
   ]
  },
  {
   "cell_type": "code",
   "execution_count": 36,
   "metadata": {
    "collapsed": false
   },
   "outputs": [
    {
     "name": "stdout",
     "output_type": "stream",
     "text": [
      "41.3961920216\n"
     ]
    }
   ],
   "source": [
    "#remove 34\n",
    "G = nx.Graph([(1,2),(2,3),(1,3),(3,5),(5,6)])\n",
    "c = nx.communicability(G)\n",
    "s = 0\n",
    "for cc in c.values():\n",
    "        s = s + (np.sum(list(cc.values())))\n",
    "print(s)"
   ]
  },
  {
   "cell_type": "code",
   "execution_count": 37,
   "metadata": {
    "collapsed": false
   },
   "outputs": [
    {
     "name": "stdout",
     "output_type": "stream",
     "text": [
      "38.5457245071\n"
     ]
    }
   ],
   "source": [
    "#remove 35\n",
    "G = nx.Graph([(1,2),(2,3),(1,3),(3,4),(5,6)])\n",
    "c = nx.communicability(G)\n",
    "s = 0\n",
    "for cc in c.values():\n",
    "        s = s + (np.sum(list(cc.values())))\n",
    "print(s)"
   ]
  },
  {
   "cell_type": "code",
   "execution_count": 38,
   "metadata": {
    "collapsed": false
   },
   "outputs": [
    {
     "name": "stdout",
     "output_type": "stream",
     "text": [
      "47.3020093295\n"
     ]
    }
   ],
   "source": [
    "#remove 56\n",
    "G = nx.Graph([(1,2),(2,3),(1,3),(3,4),(3,5)])\n",
    "c = nx.communicability(G)\n",
    "s = 0\n",
    "for cc in c.values():\n",
    "        s = s + (np.sum(list(cc.values())))\n",
    "print(s)"
   ]
  },
  {
   "cell_type": "code",
   "execution_count": 64,
   "metadata": {
    "collapsed": false
   },
   "outputs": [
    {
     "name": "stdout",
     "output_type": "stream",
     "text": [
      "[41.996426439916277, 37.12076785176113, 37.120767851761116, 42.396192021554569, 38.545724507123637, 48.302009329511726]\n",
      "[8, 12, 12, 10, 10]\n"
     ]
    }
   ],
   "source": [
    "\n",
    "G = nx.Graph([(1,2),(2,3),(1,3),(3,4),(3,5),(5,6)])\n",
    "comm = []\n",
    "lap =[]\n",
    "for i in range(0,len(G.nodes())):\n",
    "    G = nx.Graph([(1,2),(2,3),(1,3),(3,4),(3,5),(5,6)])\n",
    "    E = G.edges()\n",
    "    G.remove_edge(*E[i])\n",
    "    c = nx.communicability(G)\n",
    "    s = 0\n",
    "    for cc in c.values():\n",
    "        s = s + (np.sum(list(cc.values())))\n",
    "    comm.append(s)\n",
    "print(comm)\n",
    "for e in list(G.edges()):\n",
    "    lap.append(2*((G.degree(e[0])+ G.degree(e[1]))))\n",
    "print(lap)"
   ]
  },
  {
   "cell_type": "code",
   "execution_count": 72,
   "metadata": {
    "collapsed": false
   },
   "outputs": [
    {
     "name": "stdout",
     "output_type": "stream",
     "text": [
      "[10, 10, 12, 14, 6, 12, 10, 10, 10, 6]\n"
     ]
    }
   ],
   "source": [
    "G = nx.Graph()\n",
    "elst =[(1,3),(2,3),(3,5),(3,4),(4,6),(5,7),(5,8),(7,8),(8,9),(9,10)]\n",
    "G.add_edges_from(elst)\n",
    "comm = []\n",
    "lap =[]\n",
    "for e in list(G.edges()):\n",
    "    lap.append(2*((G.degree(e[0])+ G.degree(e[1]))))\n",
    "print(lap)\n",
    "for i in range(0,len(elst)):\n",
    "    G = nx.Graph()\n",
    "    G.add_edges_from(elst)\n",
    "    E = G.edges()\n",
    "    G.remove_edge(*E[i])\n",
    "    c = nx.communicability(G)\n",
    "    s = 0\n",
    "    for cc in c.values():\n",
    "        s = s + (np.sum(list(cc.values())))\n",
    "    comm.append(s)\n",
    "#print(comm)"
   ]
  },
  {
   "cell_type": "code",
   "execution_count": 62,
   "metadata": {
    "collapsed": false
   },
   "outputs": [
    {
     "name": "stdout",
     "output_type": "stream",
     "text": [
      "8\n",
      "12\n",
      "12\n",
      "10\n",
      "12\n",
      "6\n"
     ]
    }
   ],
   "source": [
    "G = nx.Graph([(1,2),(2,3),(1,3),(3,4),(3,5),(5,6)])\n",
    "l = []\n",
    "#for d in list((G.degree()).values()):\n",
    "    #print(d*(d+1))\n",
    "for e in list(G.edges()):\n",
    "    print(2*((G.degree(e[0])+ G.degree(e[1]))))"
   ]
  },
  {
   "cell_type": "code",
   "execution_count": 5,
   "metadata": {
    "collapsed": false
   },
   "outputs": [
    {
     "data": {
      "text/plain": [
       "21.742127395986515"
      ]
     },
     "execution_count": 5,
     "metadata": {},
     "output_type": "execute_result"
    }
   ],
   "source": [
    "import networkx as nx\n",
    "from scipy import linalg as LA\n",
    "import numpy as np\n",
    "\n",
    "G = nx.Graph([(1,2),(1,4),(2,4),(2,3),(3,4),(3,5),(4,5)])\n",
    "#nx.communicability_centrality(G)\n",
    "nx.estrada_index(G)"
   ]
  },
  {
   "cell_type": "code",
   "execution_count": 14,
   "metadata": {
    "collapsed": false
   },
   "outputs": [
    {
     "data": {
      "text/plain": [
       "17.51836841111039"
      ]
     },
     "execution_count": 14,
     "metadata": {},
     "output_type": "execute_result"
    }
   ],
   "source": [
    "G = nx.Graph([(1,4),(2,4),(2,3),(3,4),(3,5),(4,5)])\n",
    "#nx.communicability_centrality(G)\n",
    "nx.estrada_index(G)"
   ]
  },
  {
   "cell_type": "code",
   "execution_count": 4,
   "metadata": {
    "collapsed": false
   },
   "outputs": [
    {
     "data": {
      "text/plain": [
       "17.183979668420474"
      ]
     },
     "execution_count": 4,
     "metadata": {},
     "output_type": "execute_result"
    }
   ],
   "source": [
    "#remove 14\n",
    "G = nx.Graph([(1,2),(2,4),(2,3),(3,4),(3,5),(4,5)])\n",
    "#nx.communicability_centrality(G)\n",
    "nx.estrada_index(G)"
   ]
  },
  {
   "cell_type": "code",
   "execution_count": 6,
   "metadata": {
    "collapsed": false
   },
   "outputs": [
    {
     "data": {
      "text/plain": [
       "15.392717904860993"
      ]
     },
     "execution_count": 6,
     "metadata": {},
     "output_type": "execute_result"
    }
   ],
   "source": [
    "#remove 24\n",
    "G = nx.Graph([(1,2),(1,4),(2,3),(3,4),(3,5),(4,5)])\n",
    "#nx.communicability_centrality(G)\n",
    "nx.estrada_index(G)"
   ]
  },
  {
   "cell_type": "code",
   "execution_count": 8,
   "metadata": {
    "collapsed": false
   },
   "outputs": [
    {
     "data": {
      "text/plain": [
       "16.619770555270406"
      ]
     },
     "execution_count": 8,
     "metadata": {},
     "output_type": "execute_result"
    }
   ],
   "source": [
    "#remove 23\n",
    "G = nx.Graph([(1,2),(1,4),(2,4),(3,4),(3,5),(4,5)])\n",
    "#nx.communicability_centrality(G)\n",
    "nx.estrada_index(G)"
   ]
  },
  {
   "cell_type": "code",
   "execution_count": 9,
   "metadata": {
    "collapsed": false
   },
   "outputs": [
    {
     "data": {
      "text/plain": [
       "15.392717904860966"
      ]
     },
     "execution_count": 9,
     "metadata": {},
     "output_type": "execute_result"
    }
   ],
   "source": [
    "#remove  34\n",
    "G = nx.Graph([(1,2),(1,4),(2,4),(2,3),(3,5),(4,5)])\n",
    "#nx.communicability_centrality(G)\n",
    "nx.estrada_index(G)"
   ]
  },
  {
   "cell_type": "code",
   "execution_count": 10,
   "metadata": {
    "collapsed": false
   },
   "outputs": [
    {
     "data": {
      "text/plain": [
       "17.51836841111038"
      ]
     },
     "execution_count": 10,
     "metadata": {},
     "output_type": "execute_result"
    }
   ],
   "source": [
    "#remove 35\n",
    "G = nx.Graph([(1,2),(1,4),(2,4),(2,3),(3,4),(4,5)])\n",
    "#nx.communicability_centrality(G)\n",
    "nx.estrada_index(G)"
   ]
  },
  {
   "cell_type": "code",
   "execution_count": 11,
   "metadata": {
    "collapsed": false
   },
   "outputs": [
    {
     "data": {
      "text/plain": [
       "17.18397966842047"
      ]
     },
     "execution_count": 11,
     "metadata": {},
     "output_type": "execute_result"
    }
   ],
   "source": [
    "#remove 45\n",
    "G = nx.Graph([(1,2),(1,4),(2,4),(2,3),(3,4),(3,5)])\n",
    "#nx.communicability_centrality(G)\n",
    "nx.estrada_index(G)"
   ]
  },
  {
   "cell_type": "code",
   "execution_count": 13,
   "metadata": {
    "collapsed": false
   },
   "outputs": [
    {
     "data": {
      "text/plain": [
       "{(1, 2): 0.15000000000000002,\n",
       " (1, 4): 0.25,\n",
       " (2, 3): 0.2,\n",
       " (2, 4): 0.15000000000000002,\n",
       " (3, 4): 0.15000000000000002,\n",
       " (3, 5): 0.15000000000000002,\n",
       " (4, 5): 0.25}"
      ]
     },
     "execution_count": 13,
     "metadata": {},
     "output_type": "execute_result"
    }
   ],
   "source": [
    "G = nx.Graph([(1,2),(1,4),(2,4),(2,3),(3,4),(3,5),(4,5)])\n",
    "nx.edge_betweenness_centrality(G)"
   ]
  },
  {
   "cell_type": "code",
   "execution_count": 11,
   "metadata": {
    "collapsed": false
   },
   "outputs": [
    {
     "name": "stdout",
     "output_type": "stream",
     "text": [
      "[[ 1.66976987  1.76308183  1.07524782  1.07524782  0.5648028 ]\n",
      " [ 1.76308183  3.82026551  3.40313245  3.40313245  2.15049564]\n",
      " [ 1.07524782  3.40313245  4.33326261  3.96538317  3.12073105]\n",
      " [ 1.07524782  3.40313245  3.96538317  4.33326261  3.12073105]\n",
      " [ 0.5648028   2.15049564  3.12073105  3.12073105  3.02741908]]\n"
     ]
    }
   ],
   "source": [
    "import networkx as nx\n",
    "from scipy import linalg as LA\n",
    "\n",
    "G = nx.Graph([(1,2),(2,4),(2,3),(3,4),(3,5),(4,5)])\n",
    "a = (nx.adjacency_matrix(G)).todense()\n",
    "c = LA.expm(a)\n",
    "print(c)"
   ]
  },
  {
   "cell_type": "code",
   "execution_count": 16,
   "metadata": {
    "collapsed": false
   },
   "outputs": [
    {
     "name": "stdout",
     "output_type": "stream",
     "text": [
      "[[ 0.  0.  0.  0.  0.]\n",
      " [ 0.  0.  0.  0.  0.]\n",
      " [ 0.  0.  0.  0.  0.]\n",
      " [ 0.  0.  0.  0.  0.]\n",
      " [ 0.  0.  0.  0.  0.]]\n"
     ]
    }
   ],
   "source": [
    "import numpy as np\n",
    "\n",
    "print(np.subtract(b,c))"
   ]
  },
  {
   "cell_type": "code",
   "execution_count": 9,
   "metadata": {
    "collapsed": false
   },
   "outputs": [
    {
     "name": "stdout",
     "output_type": "stream",
     "text": [
      "[[ 1.21014751  1.05025113  0.50975284  0.67801015]\n",
      " [ 0.67801015  1.21014751  1.05025113  1.56000397]\n",
      " [ 0.50975284  0.1682573   1.04189021  1.05025113]\n",
      " [ 1.05025113  0.50975284  0.1682573   1.21014751]]\n",
      "[[ 0.70710678  0.          0.         -0.70710678]\n",
      " [ 0.          0.         -1.          0.        ]\n",
      " [ 0.          1.          0.          0.        ]\n",
      " [-0.70710678  0.          0.         -0.70710678]]\n"
     ]
    }
   ],
   "source": [
    "import networkx as nx\n",
    "import numpy as np\n",
    "from scipy import linalg as LA\n",
    "\n",
    "G = nx.Graph([(1,2),(1,4),(2,4),(2,3),(3,4),(3,5),(4,5)])\n",
    "a = np.matrix([[0,1,0,0],[0,0,1,1],[0,0,0,1],[1,0,0,0]])\n",
    "w, v = LA.eigh(a)\n",
    "b = LA.expm(a)\n",
    "print(b)\n",
    "#print(w)\n",
    "print(v)"
   ]
  },
  {
   "cell_type": "code",
   "execution_count": 2,
   "metadata": {
    "collapsed": false
   },
   "outputs": [
    {
     "name": "stdout",
     "output_type": "stream",
     "text": [
      "[ 2.93543233  0.61803399 -0.46259842 -1.61803399 -1.47283391]\n",
      "[[ -3.50541834e-01  -6.01500955e-01  -4.39042241e-01  -3.71748034e-01\n",
      "    4.29374351e-01]\n",
      " [ -4.69959281e-01  -3.71748034e-01   5.10036310e-01   6.01500955e-01\n",
      "    1.37844975e-01]\n",
      " [ -4.69959281e-01   3.71748034e-01   5.10036310e-01  -6.01500955e-01\n",
      "    1.37844975e-01]\n",
      " [ -5.59032552e-01  -4.05219194e-17  -3.06936062e-01   3.04543420e-16\n",
      "   -7.70242078e-01]\n",
      " [ -3.50541834e-01   6.01500955e-01  -4.39042241e-01   3.71748034e-01\n",
      "    4.29374351e-01]]\n"
     ]
    }
   ],
   "source": [
    "import networkx as nx\n",
    "from numpy import linalg as LA\n",
    "\n",
    "G = nx.Graph([(1,2),(1,4),(2,4),(2,3),(3,4),(3,5),(4,5)])\n",
    "a = (nx.adjacency_matrix(G)).todense()\n",
    "w, v = LA.eig(a)\n",
    "print(w)\n",
    "print(v)"
   ]
  },
  {
   "cell_type": "raw",
   "metadata": {
    "collapsed": false
   },
   "source": [
    "import networkx as nx\n",
    "\n",
    "G = nx.Graph([(1,2),(1,4),(2,4),(2,3),(3,4),(3,5),(4,5),(1,3),(1,5),(2,5)])\n",
    "c = nx.communicability(G)\n",
    "c"
   ]
  },
  {
   "cell_type": "code",
   "execution_count": 12,
   "metadata": {
    "collapsed": false
   },
   "outputs": [
    {
     "name": "stdout",
     "output_type": "stream",
     "text": [
      "14.602951117012557\n",
      "19.427009330318075\n",
      "19.427009330318086\n",
      "23.12597030029667\n",
      "14.602951117012562\n"
     ]
    }
   ],
   "source": [
    "for v in c.values():\n",
    "    print(sum(v.values()))\n",
    "#Result = {key: sum(values) for key, values in v.items()}\n",
    "#Result"
   ]
  },
  {
   "cell_type": "code",
   "execution_count": 7,
   "metadata": {
    "collapsed": false
   },
   "outputs": [
    {
     "data": {
      "text/plain": [
       "{1: 3.1760656034507697,\n",
       " 2: 4.655032127678272,\n",
       " 3: 4.655032127678278,\n",
       " 4: 6.079931933728424,\n",
       " 5: 3.1760656034507706}"
      ]
     },
     "execution_count": 7,
     "metadata": {},
     "output_type": "execute_result"
    }
   ],
   "source": [
    "import networkx as nx\n",
    "\n",
    "G = nx.Graph([(1,2),(1,4),(2,4),(2,3),(3,4),(3,5),(4,5)])\n",
    "c = nx.communicability_centrality(G)\n",
    "c"
   ]
  },
  {
   "cell_type": "code",
   "execution_count": 9,
   "metadata": {
    "collapsed": false
   },
   "outputs": [
    {
     "data": {
      "text/plain": [
       "{1: 0.6666666666666666, 2: 0.8, 3: 0.8, 4: 1.0, 5: 0.6666666666666666}"
      ]
     },
     "execution_count": 9,
     "metadata": {},
     "output_type": "execute_result"
    }
   ],
   "source": [
    "import networkx as nx\n",
    "\n",
    "G = nx.Graph([(1,2),(1,4),(2,4),(2,3),(3,4),(3,5),(4,5)])\n",
    "c = nx.closeness_centrality(G)\n",
    "c"
   ]
  },
  {
   "cell_type": "code",
   "execution_count": 16,
   "metadata": {
    "collapsed": false
   },
   "outputs": [
    {
     "data": {
      "text/plain": [
       "[1, 2, 3, 4, 5, 6]"
      ]
     },
     "execution_count": 16,
     "metadata": {},
     "output_type": "execute_result"
    }
   ],
   "source": [
    "import networkx as nx\n",
    "\n",
    "G = nx.Graph([(1,2),(2,3),(3,6),(3,4),(4,5)])\n",
    "c = nx.communicability_centrality(G)\n",
    "c\n",
    "G.nodes()"
   ]
  },
  {
   "cell_type": "code",
   "execution_count": 18,
   "metadata": {
    "collapsed": false
   },
   "outputs": [
    {
     "data": {
      "image/png": "[encoded data removed]",
      "text/plain": [
       "<matplotlib.figure.Figure at 0x7f924a26b5c0>"
      ]
     },
     "metadata": {},
     "output_type": "display_data"
    }
   ],
   "source": [
    "import networkx as nx\n",
    "import matplotlib.pyplot as plt\n",
    "import numpy as np\n",
    "\n",
    "G = nx.Graph([(1,2),(2,3),(3,6),(3,4),(4,5)])\n",
    "com = nx.communicability_centrality(G)\n",
    "com\n",
    "clo = nx.closeness_centrality(G)\n",
    "clo\n",
    "\n",
    "\n",
    "x = G.nodes()\n",
    "y1 = list(com.values())\n",
    "y2 = list(clo.values())\n",
    "\n",
    "fig, ax1 = plt.subplots()\n",
    "\n",
    "ax2 = ax1.twinx()\n",
    "ax1.plot(x, y1, 'g-')\n",
    "ax2.plot(x, y2, 'b-')\n",
    "\n",
    "ax1.set_xlabel('X data')\n",
    "ax1.set_ylabel('Y1 data', color='g')\n",
    "ax2.set_ylabel('Y2 data', color='b')\n",
    "\n",
    "plt.show()"
   ]
  },
  {
   "cell_type": "code",
   "execution_count": 14,
   "metadata": {
    "collapsed": false
   },
   "outputs": [
    {
     "data": {
      "text/plain": [
       "{1: 0.5, 2: 0.75, 3: 0.75, 4: 1.0, 5: 0.5}"
      ]
     },
     "execution_count": 14,
     "metadata": {},
     "output_type": "execute_result"
    }
   ],
   "source": [
    "nx.degree_centrality(G)"
   ]
  },
  {
   "cell_type": "code",
   "execution_count": 15,
   "metadata": {
    "collapsed": false
   },
   "outputs": [
    {
     "name": "stdout",
     "output_type": "stream",
     "text": [
      "14.602951117012557\n",
      "19.427009330318075\n",
      "19.427009330318086\n",
      "23.12597030029667\n",
      "14.602951117012562\n"
     ]
    }
   ],
   "source": [
    "for v in c.values():\n",
    "    print(sum(v.values()))"
   ]
  },
  {
   "cell_type": "code",
   "execution_count": 5,
   "metadata": {
    "collapsed": false
   },
   "outputs": [
    {
     "ename": "NameError",
     "evalue": "name 'values' is not defined",
     "output_type": "error",
     "traceback": [
      "\u001b[0;31m---------------------------------------------------------------------------\u001b[0m",
      "\u001b[0;31mNameError\u001b[0m                                 Traceback (most recent call last)",
      "\u001b[0;32m<ipython-input-5-0b627101b424>\u001b[0m in \u001b[0;36m<module>\u001b[0;34m()\u001b[0m\n\u001b[0;32m----> 1\u001b[0;31m \u001b[0mResult\u001b[0m \u001b[0;34m=\u001b[0m \u001b[0;34m{\u001b[0m\u001b[0mkey\u001b[0m\u001b[0;34m:\u001b[0m \u001b[0msum\u001b[0m\u001b[0;34m(\u001b[0m\u001b[0mvalues\u001b[0m\u001b[0;34m)\u001b[0m \u001b[0;32mfor\u001b[0m \u001b[0mkey\u001b[0m \u001b[0;32min\u001b[0m \u001b[0mc\u001b[0m\u001b[0;34m.\u001b[0m\u001b[0mitems\u001b[0m\u001b[0;34m(\u001b[0m\u001b[0;34m)\u001b[0m\u001b[0;34m}\u001b[0m\u001b[0;34m\u001b[0m\u001b[0m\n\u001b[0m\u001b[1;32m      2\u001b[0m \u001b[0mResult\u001b[0m\u001b[0;34m\u001b[0m\u001b[0m\n",
      "\u001b[0;32m<ipython-input-5-0b627101b424>\u001b[0m in \u001b[0;36m<dictcomp>\u001b[0;34m(.0)\u001b[0m\n\u001b[0;32m----> 1\u001b[0;31m \u001b[0mResult\u001b[0m \u001b[0;34m=\u001b[0m \u001b[0;34m{\u001b[0m\u001b[0mkey\u001b[0m\u001b[0;34m:\u001b[0m \u001b[0msum\u001b[0m\u001b[0;34m(\u001b[0m\u001b[0mvalues\u001b[0m\u001b[0;34m)\u001b[0m \u001b[0;32mfor\u001b[0m \u001b[0mkey\u001b[0m \u001b[0;32min\u001b[0m \u001b[0mc\u001b[0m\u001b[0;34m.\u001b[0m\u001b[0mitems\u001b[0m\u001b[0;34m(\u001b[0m\u001b[0;34m)\u001b[0m\u001b[0;34m}\u001b[0m\u001b[0;34m\u001b[0m\u001b[0m\n\u001b[0m\u001b[1;32m      2\u001b[0m \u001b[0mResult\u001b[0m\u001b[0;34m\u001b[0m\u001b[0m\n",
      "\u001b[0;31mNameError\u001b[0m: name 'values' is not defined"
     ]
    }
   ],
   "source": [
    "Result = {key: sum(values) for key in c.items()}\n",
    "Result"
   ]
  },
  {
   "cell_type": "code",
   "execution_count": null,
   "metadata": {
    "collapsed": true
   },
   "outputs": [],
   "source": []
  }
 ],
 "metadata": {
  "kernelspec": {
   "display_name": "Python 3",
   "language": "python",
   "name": "python3"
  },
  "language_info": {
   "codemirror_mode": {
    "name": "ipython",
    "version": 3
   },
   "file_extension": ".py",
   "mimetype": "text/x-python",
   "name": "python",
   "nbconvert_exporter": "python",
   "pygments_lexer": "ipython3",
   "version": "3.5.3"
  }
 },
 "nbformat": 4,
 "nbformat_minor": 2
}
