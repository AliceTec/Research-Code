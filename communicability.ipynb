{
 "cells": [
  {
   "cell_type": "code",
   "execution_count": 5,
   "metadata": {
    "collapsed": false
   },
   "outputs": [
    {
     "data": {
      "text/plain": [
       "matrix([[0, 1, 0, 0],\n",
       "        [1, 0, 1, 0],\n",
       "        [0, 1, 0, 1],\n",
       "        [0, 0, 1, 0]], dtype=int64)"
      ]
     },
     "execution_count": 5,
     "metadata": {},
     "output_type": "execute_result"
    }
   ],
   "source": [
    "import networkx as nx\n",
    "import numpy as np\n",
    "import scipy.linalg as ln\n",
    "\n",
    "G = nx.Graph()\n",
    "G.add_edges_from([(1,2),(2,3),(3,4)])\n",
    "a = nx.adjacency_matrix(G)\n",
    "ad = a.todense()\n",
    "ad"
   ]
  },
  {
   "cell_type": "code",
   "execution_count": 9,
   "metadata": {
    "collapsed": false
   },
   "outputs": [
    {
     "data": {
      "text/plain": [
       "matrix([[0, 2, 0, 1],\n",
       "        [2, 0, 3, 0],\n",
       "        [0, 3, 0, 2],\n",
       "        [1, 0, 2, 0]], dtype=int64)"
      ]
     },
     "execution_count": 9,
     "metadata": {},
     "output_type": "execute_result"
    }
   ],
   "source": [
    "ad*ad*ad"
   ]
  },
  {
   "cell_type": "code",
   "execution_count": 6,
   "metadata": {
    "collapsed": false
   },
   "outputs": [
    {
     "name": "stdout",
     "output_type": "stream",
     "text": [
      "[-1.61803399 -1.47283391 -0.46259842  0.61803399  2.93543233]\n",
      "[[ -3.71748034e-01   4.29374351e-01   4.39042241e-01  -6.01500955e-01\n",
      "    3.50541834e-01]\n",
      " [  6.01500955e-01   1.37844975e-01  -5.10036310e-01  -3.71748034e-01\n",
      "    4.69959281e-01]\n",
      " [ -6.01500955e-01   1.37844975e-01  -5.10036310e-01   3.71748034e-01\n",
      "    4.69959281e-01]\n",
      " [ -7.21644966e-16  -7.70242078e-01   3.06936062e-01  -5.55111512e-17\n",
      "    5.59032552e-01]\n",
      " [  3.71748034e-01   4.29374351e-01   4.39042241e-01   6.01500955e-01\n",
      "    3.50541834e-01]]\n"
     ]
    }
   ],
   "source": [
    "import networkx as nx\n",
    "from numpy import linalg as LA\n",
    "\n",
    "G = nx.Graph([(1,2),(1,4),(2,4),(2,3),(3,4),(3,5),(4,5)])\n",
    "a = (nx.adjacency_matrix(G)).todense()\n",
    "w, v = LA.eigh(a)\n",
    "print(w)\n",
    "print(v)"
   ]
  },
  {
   "cell_type": "code",
   "execution_count": 23,
   "metadata": {
    "collapsed": false
   },
   "outputs": [
    {
     "data": {
      "text/plain": [
       "{1: {1: 11.21393355956598,\n",
       "  2: 10.846054118394525,\n",
       "  3: 10.846054118394532,\n",
       "  4: 10.846054118394532,\n",
       "  5: 10.846054118394534},\n",
       " 2: {1: 10.846054118394525,\n",
       "  2: 11.213933559565954,\n",
       "  3: 10.846054118394518,\n",
       "  4: 10.846054118394518,\n",
       "  5: 10.84605411839452},\n",
       " 3: {1: 10.846054118394532,\n",
       "  2: 10.846054118394518,\n",
       "  3: 11.213933559565966,\n",
       "  4: 10.846054118394525,\n",
       "  5: 10.846054118394527},\n",
       " 4: {1: 10.846054118394532,\n",
       "  2: 10.846054118394518,\n",
       "  3: 10.846054118394525,\n",
       "  4: 11.213933559565966,\n",
       "  5: 10.846054118394527},\n",
       " 5: {1: 10.846054118394534,\n",
       "  2: 10.84605411839452,\n",
       "  3: 10.846054118394527,\n",
       "  4: 10.846054118394527,\n",
       "  5: 11.213933559565968}}"
      ]
     },
     "execution_count": 23,
     "metadata": {},
     "output_type": "execute_result"
    }
   ],
   "source": [
    "import networkx as nx\n",
    "\n",
    "G = nx.Graph([(1,2),(1,4),(2,4),(2,3),(3,4),(3,5),(4,5),(1,3),(1,5),(2,5)])\n",
    "c = nx.communicability(G)\n",
    "c"
   ]
  },
  {
   "cell_type": "code",
   "execution_count": 1,
   "metadata": {
    "collapsed": false
   },
   "outputs": [
    {
     "data": {
      "text/plain": [
       "{1: {1: 3.1760656034507697,\n",
       "  2: 3.345091689078022,\n",
       "  3: 2.604063767554446,\n",
       "  4: 3.6989609699785944,\n",
       "  5: 1.7787690869507244},\n",
       " 2: {1: 3.345091689078022,\n",
       "  2: 4.655032127678272,\n",
       "  3: 3.9987635327018074,\n",
       "  4: 4.824058213305527,\n",
       "  5: 2.6040637675544454},\n",
       " 3: {1: 2.604063767554446,\n",
       "  2: 3.9987635327018074,\n",
       "  3: 4.655032127678278,\n",
       "  4: 4.82405821330553,\n",
       "  5: 3.345091689078026},\n",
       " 4: {1: 3.6989609699785944,\n",
       "  2: 4.824058213305527,\n",
       "  3: 4.82405821330553,\n",
       "  4: 6.079931933728424,\n",
       "  5: 3.6989609699785952},\n",
       " 5: {1: 1.7787690869507244,\n",
       "  2: 2.6040637675544454,\n",
       "  3: 3.345091689078026,\n",
       "  4: 3.6989609699785952,\n",
       "  5: 3.1760656034507706}}"
      ]
     },
     "execution_count": 1,
     "metadata": {},
     "output_type": "execute_result"
    }
   ],
   "source": [
    "import networkx as nx\n",
    "\n",
    "G = nx.Graph([(1,2),(1,4),(2,4),(2,3),(3,4),(3,5),(4,5)])\n",
    "c = nx.communicability(G)\n",
    "c"
   ]
  },
  {
   "cell_type": "code",
   "execution_count": null,
   "metadata": {
    "collapsed": true
   },
   "outputs": [],
   "source": [
    "c"
   ]
  }
 ],
 "metadata": {
  "kernelspec": {
   "display_name": "Python 3",
   "language": "python",
   "name": "python3"
  },
  "language_info": {
   "codemirror_mode": {
    "name": "ipython",
    "version": 3
   },
   "file_extension": ".py",
   "mimetype": "text/x-python",
   "name": "python",
   "nbconvert_exporter": "python",
   "pygments_lexer": "ipython3",
   "version": "3.5.3"
  }
 },
 "nbformat": 4,
 "nbformat_minor": 2
}
