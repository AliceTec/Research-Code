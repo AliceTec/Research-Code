{
 "cells": [
  {
   "cell_type": "code",
   "execution_count": 2,
   "metadata": {
    "collapsed": false
   },
   "outputs": [
    {
     "data": {
      "text/plain": [
       "18.000000000000007"
      ]
     },
     "execution_count": 2,
     "metadata": {},
     "output_type": "execute_result"
    }
   ],
   "source": [
    "import numpy as np\n",
    "import numpy.linalg as lp\n",
    "\n",
    "m = np.matrix([[1,-1,0,0], [-1,3,-1,-1],[0,-1,1,0],[0,-1,0,1]])\n",
    "l = lp.eigvals(m)\n",
    "le = np.sum(np.square(l))\n",
    "le"
   ]
  },
  {
   "cell_type": "code",
   "execution_count": 3,
   "metadata": {
    "collapsed": false
   },
   "outputs": [
    {
     "data": {
      "text/plain": [
       "10.0"
      ]
     },
     "execution_count": 3,
     "metadata": {},
     "output_type": "execute_result"
    }
   ],
   "source": [
    "m = np.matrix([[2,-1,-1], [-1,1,0],[-1,0,1]])\n",
    "l = lp.eigvals(m)\n",
    "l1 = np.sum(np.square(l))\n",
    "l1"
   ]
  },
  {
   "cell_type": "code",
   "execution_count": 4,
   "metadata": {
    "collapsed": false
   },
   "outputs": [
    {
     "data": {
      "text/plain": [
       "9.9999999999999947"
      ]
     },
     "execution_count": 4,
     "metadata": {},
     "output_type": "execute_result"
    }
   ],
   "source": [
    "m = np.matrix([[1,-1,0], [-1,2,-1],[0,-1,1]])\n",
    "l = lp.eigvals(m)\n",
    "l3 = np.sum(np.square(l))\n",
    "l3"
   ]
  },
  {
   "cell_type": "code",
   "execution_count": 5,
   "metadata": {
    "collapsed": false
   },
   "outputs": [
    {
     "data": {
      "text/plain": [
       "19.781250000000004"
      ]
     },
     "execution_count": 5,
     "metadata": {},
     "output_type": "execute_result"
    }
   ],
   "source": [
    "m = np.matrix([[5/4,-1,-1/8,-1/8], [-1,3,-1,-1],[-1/8,-1,5/4,-1/8],[-1/8,-1,-1/8,5/4]])\n",
    "l = lp.eigvals(m)\n",
    "le = np.sum(np.square(l))\n",
    "le"
   ]
  },
  {
   "cell_type": "code",
   "execution_count": 6,
   "metadata": {
    "collapsed": false
   },
   "outputs": [
    {
     "data": {
      "text/plain": [
       "10.562499999999998"
      ]
     },
     "execution_count": 6,
     "metadata": {},
     "output_type": "execute_result"
    }
   ],
   "source": [
    "m = np.matrix([[2,-1,-1], [-1,9/8,-1/8],[-1,-1/8,9/8]])\n",
    "l = lp.eigvals(m)\n",
    "l1 = np.sum(np.square(l))\n",
    "l1"
   ]
  },
  {
   "cell_type": "code",
   "execution_count": 7,
   "metadata": {
    "collapsed": false
   },
   "outputs": [
    {
     "data": {
      "text/plain": [
       "10.562499999999993"
      ]
     },
     "execution_count": 7,
     "metadata": {},
     "output_type": "execute_result"
    }
   ],
   "source": [
    "m = np.matrix([[9/8,-1,-1/8], [-1,2,-1],[-1/8,-1,9/8]])\n",
    "l = lp.eigvals(m)\n",
    "l3 = np.sum(np.square(l))\n",
    "l3"
   ]
  },
  {
   "cell_type": "code",
   "execution_count": 8,
   "metadata": {
    "collapsed": false
   },
   "outputs": [
    {
     "data": {
      "text/plain": [
       "13.999999999999998"
      ]
     },
     "execution_count": 8,
     "metadata": {},
     "output_type": "execute_result"
    }
   ],
   "source": [
    "import numpy as np\n",
    "import numpy.linalg as lp\n",
    "\n",
    "m = np.matrix([[0,2,-1,-1], [0,0,0,0],[-1,0,2,-1],[-1,0,-1,2]])\n",
    "l = lp.eigvals(m)\n",
    "le = np.sum(np.square(l))\n",
    "le"
   ]
  },
  {
   "cell_type": "code",
   "execution_count": 3,
   "metadata": {
    "collapsed": false
   },
   "outputs": [
    {
     "name": "stdout",
     "output_type": "stream",
     "text": [
      "[[ -4.47213595e-01   8.11462211e-01   0.00000000e+00  -3.17515788e-01\n",
      "    2.01774144e-01]\n",
      " [ -4.47213595e-01   1.38018756e-01   0.00000000e+00   5.36249932e-01\n",
      "   -7.02415001e-01]\n",
      " [ -4.47213595e-01  -2.55974786e-01  -7.07106781e-01   2.42173667e-01\n",
      "    4.19319477e-01]\n",
      " [ -4.47213595e-01  -4.37531395e-01   2.87079964e-16  -7.03081478e-01\n",
      "   -3.37998097e-01]\n",
      " [ -4.47213595e-01  -2.55974786e-01   7.07106781e-01   2.42173667e-01\n",
      "    4.19319477e-01]]\n"
     ]
    }
   ],
   "source": [
    "import numpy as np\n",
    "import numpy.linalg as lp\n",
    "from numpy import linalg as LA\n",
    "\n",
    "m1 = np.matrix([[1,-1,0,0,0], [-1,3,-1,0,-1],[0,-1,2,-1,0],[0,0,-1,2,-1],[0,-1,0,-1,2]])\n",
    "m2 = np.matrix([[2,0,-1,0,-1],[0,1,0,-1,0],[-1,0,2,0,-1],[0,-1,0,1,0],[-1,0,-1,0,2]])\n",
    "w1, v1 = LA.eigh(m1)\n",
    "w2, v2 = LA.eigh(m2)\n",
    "print(v1)"
   ]
  },
  {
   "cell_type": "code",
   "execution_count": 4,
   "metadata": {
    "collapsed": false
   },
   "outputs": [
    {
     "name": "stdout",
     "output_type": "stream",
     "text": [
      "[[ -5.77350269e-01   0.00000000e+00   0.00000000e+00   0.00000000e+00\n",
      "   -8.16496581e-01]\n",
      " [  0.00000000e+00   7.07106781e-01   7.07106781e-01   3.33066907e-16\n",
      "    0.00000000e+00]\n",
      " [ -5.77350269e-01   2.22044605e-16   1.11022302e-16  -7.07106781e-01\n",
      "    4.08248290e-01]\n",
      " [  0.00000000e+00   7.07106781e-01  -7.07106781e-01   1.11022302e-16\n",
      "    0.00000000e+00]\n",
      " [ -5.77350269e-01   1.11022302e-16  -1.11022302e-16   7.07106781e-01\n",
      "    4.08248290e-01]]\n"
     ]
    }
   ],
   "source": [
    "print(v2)"
   ]
  },
  {
   "cell_type": "code",
   "execution_count": 13,
   "metadata": {
    "collapsed": false
   },
   "outputs": [
    {
     "name": "stdout",
     "output_type": "stream",
     "text": [
      "[[  4.47213595e-01   8.03375866e-01   0.00000000e+00  -3.48311989e-01\n",
      "    1.82389627e-01]\n",
      " [  4.47213595e-01   1.37792908e-01  -1.24319103e-17   5.16516949e-01\n",
      "   -7.17093687e-01]\n",
      " [  4.47213595e-01  -2.31732973e-01  -7.07106781e-01   2.60806532e-01\n",
      "    4.22231906e-01]\n",
      " [  4.47213595e-01  -4.77702827e-01  -1.39446326e-16  -6.89818023e-01\n",
      "   -3.09759752e-01]\n",
      " [  4.47213595e-01  -2.31732973e-01   7.07106781e-01   2.60806532e-01\n",
      "    4.22231906e-01]]\n"
     ]
    }
   ],
   "source": [
    "import numpy as np\n",
    "import networkx as nx\n",
    "import numpy.linalg as lp\n",
    "from numpy import linalg as LA\n",
    "import itertools\n",
    "\n",
    "def kplaplacian_mlf(G,lam):\n",
    "    nodes = G.nodes()\n",
    "    nodelist = list(itertools.combinations(nodes,2))\n",
    "    nsize    = len(nodes)\n",
    "    L = np.zeros(shape=(nsize,nsize))\n",
    "    for n in nodelist:\n",
    "        k = nx.shortest_path_length(G, source=n[0], target=n[1])\n",
    "        if k==1:\n",
    "            L[n[0]-1,n[1]-1]= L[n[1]-1,n[0]-1]= -1\n",
    "        else:\n",
    "            L[n[0]-1,n[1]-1]= L[n[1]-1,n[0]-1]= -pow(k,-1*lam)\n",
    "    row,col = np.diag_indices_from(L)\n",
    "    L[row,col] = -L.sum(axis=1)\n",
    "    return L\n",
    "G = nx.Graph()\n",
    "G.add_edges_from([(1,2),(2,3),(3,4),(4,5),(5,2)])\n",
    "L = kplaplacian_mlf(G,lam=2)\n",
    "w, v = LA.eigh(L)\n",
    "print(v)"
   ]
  },
  {
   "cell_type": "code",
   "execution_count": 15,
   "metadata": {
    "collapsed": false
   },
   "outputs": [
    {
     "name": "stdout",
     "output_type": "stream",
     "text": [
      "[[ 0.4472136   0.30943831 -0.42598052  0.72304117  0.        ]\n",
      " [ 0.4472136  -0.87222952 -0.108859    0.03254229  0.16219245]\n",
      " [ 0.4472136   0.1210157   0.86649119  0.18209402 -0.03728243]\n",
      " [ 0.4472136   0.09591574 -0.18688422 -0.42776132 -0.75689808]\n",
      " [ 0.4472136   0.34585976 -0.14476745 -0.50991616  0.63198807]]\n"
     ]
    }
   ],
   "source": [
    "G1 = nx.complete_graph(5)\n",
    "L1 = nx.laplacian_matrix(G1)\n",
    "w1, v1 = LA.eigh(L1.todense())\n",
    "print(v1)"
   ]
  },
  {
   "cell_type": "code",
   "execution_count": null,
   "metadata": {
    "collapsed": true
   },
   "outputs": [],
   "source": []
  }
 ],
 "metadata": {
  "kernelspec": {
   "display_name": "Python 3",
   "language": "python",
   "name": "python3"
  },
  "language_info": {
   "codemirror_mode": {
    "name": "ipython",
    "version": 3
   },
   "file_extension": ".py",
   "mimetype": "text/x-python",
   "name": "python",
   "nbconvert_exporter": "python",
   "pygments_lexer": "ipython3",
   "version": "3.5.3"
  }
 },
 "nbformat": 4,
 "nbformat_minor": 2
}
