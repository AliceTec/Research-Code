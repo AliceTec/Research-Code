{
 "cells": [
  {
   "cell_type": "code",
   "execution_count": 3,
   "metadata": {
    "collapsed": true
   },
   "outputs": [],
   "source": [
    "import numpy as np\n",
    "import networkx as nx\n",
    "\n",
    "def genlaplacian(G, x, nodelist=None):\n",
    "    if x==0:\n",
    "        D = nx.laplacian_matrix(G).toarray()\n",
    "    else:\n",
    "        D = nx.floyd_warshall_numpy(G, nodelist)\n",
    "        rowsize = D.shape[0]\n",
    "        for i in range(0, rowsize):\n",
    "            for j in range(i+1, rowsize):\n",
    "                if(D[i,j] ==1):\n",
    "                    D[i,j]= D[j,i] = -1\n",
    "                else:\n",
    "                    D[i,j] = D[j,i] = -D[i,j]*(pow(x, (D[i,j]-1)))\n",
    "            D[i,i] = -1*(D[i].sum())\n",
    "    return D"
   ]
  },
  {
   "cell_type": "code",
   "execution_count": 5,
   "metadata": {
    "collapsed": false
   },
   "outputs": [],
   "source": [
    "#for larger networks\n",
    "import numpy as np\n",
    "import networkx as nx\n",
    "from scipy import linalg as LA\n",
    "from heapq import nlargest\n",
    "from operator import itemgetter\n",
    "import matplotlib.pyplot as plt\n",
    "import csv\n",
    "\n",
    "fh=open(\"graph-exponent-2.dat\", 'rb')\n",
    "G1=nx.read_edgelist(fh)\n",
    "fh.close()\n",
    "\n",
    "fh=open(\"graph-exponent-2.3.dat\", 'rb')\n",
    "G2=nx.read_edgelist(fh)\n",
    "fh.close()\n",
    "\n",
    "fh=open(\"graph-exponent-2.7.dat\", 'rb')\n",
    "G3=nx.read_edgelist(fh)\n",
    "fh.close()\n",
    "\n",
    "fh=open(\"graph-exponent-3.0.dat\", 'rb')\n",
    "G4=nx.read_edgelist(fh)\n",
    "fh.close()\n",
    "\n",
    "x_vals=[0.1,0.2,0.3,0.4,0.5]\n",
    "t_vals=[]\n",
    "tot_vals=[]\n",
    "t=1.0\n",
    "for G in [G1,G2,G3,G4]:\n",
    "    for x in x_vals:\n",
    "        n = len(G.nodes())\n",
    "        dd = nx.degree_centrality(G)\n",
    "        degmax= dict(nlargest(200,dd.items(), key=itemgetter(1)))\n",
    "        phi_0 = [0]*n\n",
    "        keylist = list(map(int, degmax.keys()))\n",
    "        i=0\n",
    "        for key in keylist:\n",
    "            phi_0[key]=500+i\n",
    "            i=i+10\n",
    "\n",
    "        L =  genlaplacian(G,x)\n",
    "        D, V = LA.eigh(L);                              #Compute the eigenvalues/vectors of the laplacian matrix\n",
    "        D = np.reshape(D,(n,1), order='F')\n",
    "        phi_0 = np.reshape(phi_0,(n,1), order='F');\n",
    "        phi_0V = np.dot((V.conj().transpose()),phi_0) \n",
    "        #for t in np.arange(0,time,0.005):               #Loop through times and decay each initial component\n",
    "        Phi   = (phi_0V* (np.exp(-D*t)));                             #Exponential decay for each component\n",
    "        Phi   = np.dot(V,Phi);               \n",
    "        phi_t = (Phi.ravel()).tolist()\n",
    "        t_vals.append(np.mean([phi_t[index] for index in keylist]))\n",
    "    tot_vals.append(t_vals) \n",
    "    t_vals=[]\n",
    "\n",
    "with open(\"output.csv\", \"wb\") as f:\n",
    "    writer = csv.writer(f)\n",
    "    writer.writerows(tot_vals)"
   ]
  },
  {
   "cell_type": "code",
   "execution_count": 1,
   "metadata": {
    "collapsed": false
   },
   "outputs": [],
   "source": [
    "import csv\n",
    "xx = [['a','b','c','d'],['1','2','3','4']]\n",
    "with open(\"output.csv\", \"wb\") as f:\n",
    "    writer = csv.writer(f)\n",
    "    writer.writerows(xx)"
   ]
  },
  {
   "cell_type": "code",
   "execution_count": null,
   "metadata": {
    "collapsed": true
   },
   "outputs": [],
   "source": []
  }
 ],
 "metadata": {
  "kernelspec": {
   "display_name": "Python 2",
   "language": "python",
   "name": "python2"
  },
  "language_info": {
   "codemirror_mode": {
    "name": "ipython",
    "version": 2
   },
   "file_extension": ".py",
   "mimetype": "text/x-python",
   "name": "python",
   "nbconvert_exporter": "python",
   "pygments_lexer": "ipython2",
   "version": "2.7.13"
  }
 },
 "nbformat": 4,
 "nbformat_minor": 2
}
