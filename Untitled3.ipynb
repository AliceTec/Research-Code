{
 "cells": [
  {
   "cell_type": "code",
   "execution_count": 4,
   "metadata": {
    "collapsed": false
   },
   "outputs": [
    {
     "data": {
      "text/plain": [
       "array([[0, 2, 4, 0, 1, 2, 3],\n",
       "       [1, 3, 5, 2, 3, 4, 5]])"
      ]
     },
     "execution_count": 4,
     "metadata": {},
     "output_type": "execute_result"
    }
   ],
   "source": [
    "import numpy as np\n",
    "\n",
    "def make_graph_edges_3d(n_x, n_y, n_z):\n",
    "    \"\"\"Returns a list of edges for a 3D image.\n",
    "    Parameters\n",
    "    ----------\n",
    "    n_x: integer\n",
    "        The size of the grid in the x direction.\n",
    "    n_y: integer\n",
    "        The size of the grid in the y direction\n",
    "    n_z: integer\n",
    "        The size of the grid in the z direction\n",
    "    Returns\n",
    "    -------\n",
    "    edges : (2, N) ndarray\n",
    "        with the total number of edges::\n",
    "            N = n_x * n_y * (nz - 1) +\n",
    "                n_x * (n_y - 1) * nz +\n",
    "                (n_x - 1) * n_y * nz\n",
    "        Graph edges with each column describing a node-id pair.\n",
    "    \"\"\"\n",
    "    vertices = np.arange(n_x * n_y * n_z).reshape((n_x, n_y, n_z))\n",
    "    edges_deep = np.vstack((vertices[:, :, :-1].ravel(),\n",
    "                            vertices[:, :, 1:].ravel()))\n",
    "    edges_right = np.vstack((vertices[:, :-1].ravel(),\n",
    "                             vertices[:, 1:].ravel()))\n",
    "    edges_down = np.vstack((vertices[:-1].ravel(), vertices[1:].ravel()))\n",
    "    edges = np.hstack((edges_deep, edges_right, edges_down))\n",
    "    return edges\n",
    "\n",
    "make_graph_edges_3d(3,2,1)"
   ]
  },
  {
   "cell_type": "code",
   "execution_count": null,
   "metadata": {
    "collapsed": true
   },
   "outputs": [],
   "source": []
  }
 ],
 "metadata": {
  "kernelspec": {
   "display_name": "Python 3",
   "language": "python",
   "name": "python3"
  },
  "language_info": {
   "codemirror_mode": {
    "name": "ipython",
    "version": 3
   },
   "file_extension": ".py",
   "mimetype": "text/x-python",
   "name": "python",
   "nbconvert_exporter": "python",
   "pygments_lexer": "ipython3",
   "version": "3.5.3"
  }
 },
 "nbformat": 4,
 "nbformat_minor": 2
}
