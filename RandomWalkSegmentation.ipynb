{
 "cells": [
  {
   "cell_type": "code",
   "execution_count": 14,
   "metadata": {},
   "outputs": [
    {
     "name": "stderr",
     "output_type": "stream",
     "text": [
      "/usr/local/lib/python3.4/dist-packages/networkx/drawing/nx_pylab.py:126: MatplotlibDeprecationWarning: pyplot.hold is deprecated.\n",
      "    Future behavior will be consistent with the long-time default:\n",
      "    plot commands add elements without first clearing the\n",
      "    Axes and/or Figure.\n",
      "  b = plt.ishold()\n",
      "/usr/local/lib/python3.4/dist-packages/networkx/drawing/nx_pylab.py:138: MatplotlibDeprecationWarning: pyplot.hold is deprecated.\n",
      "    Future behavior will be consistent with the long-time default:\n",
      "    plot commands add elements without first clearing the\n",
      "    Axes and/or Figure.\n",
      "  plt.hold(b)\n",
      "/usr/local/lib/python3.4/dist-packages/matplotlib/__init__.py:917: UserWarning: axes.hold is deprecated. Please remove it from your matplotlibrc and/or style files.\n",
      "  warnings.warn(self.msg_depr_set % key)\n",
      "/usr/local/lib/python3.4/dist-packages/matplotlib/rcsetup.py:152: UserWarning: axes.hold is deprecated, will be removed in 3.0\n",
      "  warnings.warn(\"axes.hold is deprecated, will be removed in 3.0\")\n"
     ]
    },
    {
     "data": {
      "image/png": "[encoded data removed]",
      "text/plain": [
       "<matplotlib.figure.Figure at 0x7f8c4db9d9e8>"
      ]
     },
     "metadata": {},
     "output_type": "display_data"
    }
   ],
   "source": [
    "import matplotlib.pyplot as plt\n",
    "import numpy as np\n",
    "import networkx as nx\n",
    "L=4\n",
    "\n",
    "#G = nx.grid_2d_graph(L,L)\n",
    "G = nx.grid_graph(dim=[L,L])\n",
    "nx.draw(G,node_size=2000)\n",
    "plt.show()"
   ]
  },
  {
   "cell_type": "code",
   "execution_count": 9,
   "metadata": {},
   "outputs": [
    {
     "name": "stdout",
     "output_type": "stream",
     "text": [
      "[[ 0.3   0.    0.   -0.15 -0.15  0.    0.    0.  ]\n",
      " [ 0.    0.4   0.    0.    0.   -0.3   0.   -0.1 ]\n",
      " [ 0.    0.    0.25 -0.1   0.    0.   -0.15  0.  ]\n",
      " [-0.15  0.   -0.1   0.35  0.   -0.1   0.    0.  ]\n",
      " [-0.15  0.    0.    0.    0.25 -0.1   0.    0.  ]\n",
      " [ 0.   -0.3   0.   -0.1  -0.1   0.7  -0.2   0.  ]\n",
      " [ 0.    0.   -0.15  0.    0.   -0.2   0.65 -0.3 ]\n",
      " [ 0.   -0.1   0.    0.    0.    0.   -0.3   0.4 ]]\n"
     ]
    }
   ],
   "source": [
    "import matplotlib.pyplot as plt\n",
    "import numpy as np\n",
    "import networkx as nx\n",
    "import numpy.linalg as linalog\n",
    "\n",
    "G = nx.Graph()\n",
    "edge_list = [(1,2,0.1),(1,6,0.15),(2,3,0.15),(2,5,0.1),(3,4,0.15),(6,5,0.2),(5,4,0.1),(6,7,0.3),(7,8,0.1),(5,8,0.3)]\n",
    "G.add_weighted_edges_from(edge_list)\n",
    "seed_vertex = [3,8]\n",
    "unseeded = list(set(G.nodes()) - set(seed_vertex))\n",
    "l1 = len(seed_vertex)\n",
    "l2 = len(G.nodes())\n",
    "L = nx.laplacian_matrix(G,  seed_vertex+unseeded)\n",
    "L1 = L.todense()\n",
    "print(L1)"
   ]
  },
  {
   "cell_type": "code",
   "execution_count": 10,
   "metadata": {},
   "outputs": [
    {
     "data": {
      "text/plain": [
       "0.3"
      ]
     },
     "execution_count": 10,
     "metadata": {},
     "output_type": "execute_result"
    }
   ],
   "source": [
    "L1.item(0)"
   ]
  },
  {
   "cell_type": "code",
   "execution_count": 2,
   "metadata": {},
   "outputs": [],
   "source": [
    "import matplotlib.pyplot as plt\n",
    "import numpy as np\n",
    "import networkx as nx\n",
    "import numpy.linalg as linalog\n",
    "\n",
    "\n",
    "#function with parameters weighted Graph, seeded nodes and the values of each seeded node\n",
    "def rwalkimagesegmentation(G,seeded):\n",
    "    m_list = []\n",
    "    dic ={}\n",
    "    ls = len(seeded)                                         # lengtth of the seeded nodes\n",
    "    nodes = G.nodes()                                        # display all nodes in the network\n",
    "    lt = len(nodes)                                          # length of all the nodes\n",
    "    unseeded = list(set(nodes) - set(seeded))                # rearranged list with seeded nodes first followed by unseeded\n",
    "    L = (nx.laplacian_matrix(G, seeded+unseeded)).todense()  # Laplacian matrix of the Graph\n",
    "    Lu = L[ls:l2,ls:l2]                                      # Block of unseeded nodes laplacian matrix\n",
    "    Bt = np.absolute((L[ls:l2,0:ls]).todense())              # Block of transposed Adjacency between seeded and unseeded\n",
    "    LUBt =(linalog.inv(Lu))*Bt\n",
    "    for n in range(0,ls):\n",
    "        xseeded = np.zeros(shape=(ls,1))\n",
    "        xseeded.[n,1]= 1\n",
    "        xu = LUBt*xseeded                                    # compute x values of unseeded nodes\n",
    "        m_list.append(xu)\n",
    "    for i in range(0,len(unseeded)):\n",
    "        max = 0\n",
    "        mvalue = 0\n",
    "        for m in m_list:\n",
    "            item = m.item(i)\n",
    "            if(item > max):\n",
    "                max = item\n",
    "                mvalue = m_list.index(m)\n",
    "        dic[unseeded[i]] = mvalue\n",
    "    \n",
    "    return dic"
   ]
  },
  {
   "cell_type": "code",
   "execution_count": 13,
   "metadata": {},
   "outputs": [
    {
     "name": "stdout",
     "output_type": "stream",
     "text": [
      "0\n",
      "1\n",
      "2\n",
      "3\n"
     ]
    }
   ],
   "source": [
    "for i in range(0,4):\n",
    "    print(i)"
   ]
  },
  {
   "cell_type": "code",
   "execution_count": 63,
   "metadata": {},
   "outputs": [
    {
     "data": {
      "text/plain": [
       "matrix([[ 0.  , -0.15, -0.15,  0.  ,  0.  ,  0.  ],\n",
       "        [ 0.  ,  0.  ,  0.  , -0.3 ,  0.  , -0.1 ]])"
      ]
     },
     "execution_count": 63,
     "metadata": {},
     "output_type": "execute_result"
    }
   ],
   "source": [
    "P2 = L[0:l1,l1:l2]\n",
    "P2.todense()"
   ]
  },
  {
   "cell_type": "code",
   "execution_count": 70,
   "metadata": {},
   "outputs": [
    {
     "data": {
      "text/plain": [
       "matrix([[ 0.25, -0.1 ,  0.  ,  0.  , -0.15,  0.  ],\n",
       "        [-0.1 ,  0.35,  0.  , -0.1 ,  0.  ,  0.  ],\n",
       "        [ 0.  ,  0.  ,  0.25, -0.1 ,  0.  ,  0.  ],\n",
       "        [ 0.  , -0.1 , -0.1 ,  0.7 , -0.2 ,  0.  ],\n",
       "        [-0.15,  0.  ,  0.  , -0.2 ,  0.65, -0.3 ],\n",
       "        [ 0.  ,  0.  ,  0.  ,  0.  , -0.3 ,  0.4 ]])"
      ]
     },
     "execution_count": 70,
     "metadata": {},
     "output_type": "execute_result"
    }
   ],
   "source": [
    "P3 = L[l1:l2,l1:l2]\n",
    "P3c = P3.todense()\n",
    "P3c"
   ]
  },
  {
   "cell_type": "code",
   "execution_count": 73,
   "metadata": {
    "collapsed": true
   },
   "outputs": [],
   "source": [
    "P4 = L[l1:l2,0:l1]\n",
    "P4abs= np.absolute(P4.todense())"
   ]
  },
  {
   "cell_type": "code",
   "execution_count": 72,
   "metadata": {
    "collapsed": true
   },
   "outputs": [],
   "source": [
    "import numpy.linalg as ln\n",
    "\n",
    "Linv = ln.inv(P3c)\n",
    "\n"
   ]
  },
  {
   "cell_type": "code",
   "execution_count": 18,
   "metadata": {},
   "outputs": [
    {
     "data": {
      "text/plain": [
       "matrix([[0],\n",
       "        [0]])"
      ]
     },
     "execution_count": 18,
     "metadata": {},
     "output_type": "execute_result"
    }
   ],
   "source": [
    "xlabel = np.matrix([[1],[0]])\n",
    "xlabel[0,0]=0\n",
    "xlabel"
   ]
  },
  {
   "cell_type": "code",
   "execution_count": 77,
   "metadata": {},
   "outputs": [
    {
     "data": {
      "text/plain": [
       "matrix([[ 0.41174633],\n",
       "        [ 0.62261793],\n",
       "        [ 0.70696657],\n",
       "        [ 0.26741643],\n",
       "        [ 0.27116526],\n",
       "        [ 0.20337395]])"
      ]
     },
     "execution_count": 77,
     "metadata": {},
     "output_type": "execute_result"
    }
   ],
   "source": [
    "Linv *P4abs * xlabel"
   ]
  },
  {
   "cell_type": "code",
   "execution_count": null,
   "metadata": {
    "collapsed": true
   },
   "outputs": [],
   "source": []
  }
 ],
 "metadata": {
  "kernelspec": {
   "display_name": "Python 3",
   "language": "python",
   "name": "python3"
  },
  "language_info": {
   "codemirror_mode": {
    "name": "ipython",
    "version": 3
   },
   "file_extension": ".py",
   "mimetype": "text/x-python",
   "name": "python",
   "nbconvert_exporter": "python",
   "pygments_lexer": "ipython3",
   "version": "3.4.3"
  }
 },
 "nbformat": 4,
 "nbformat_minor": 2
}
