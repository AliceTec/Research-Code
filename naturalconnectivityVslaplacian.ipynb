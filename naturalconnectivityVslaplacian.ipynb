{
 "cells": [
  {
   "cell_type": "code",
   "execution_count": 16,
   "metadata": {
    "collapsed": false
   },
   "outputs": [
    {
     "name": "stdout",
     "output_type": "stream",
     "text": [
      "0.9496004045754033\n",
      "40.0\n"
     ]
    },
    {
     "name": "stderr",
     "output_type": "stream",
     "text": [
      "/usr/lib/python3/dist-packages/ipykernel/__main__.py:11: ComplexWarning: Casting complex values to real discards the imaginary part\n"
     ]
    }
   ],
   "source": [
    "import networkx as nx\n",
    "import numpy as np\n",
    "import math as math\n",
    "\n",
    "G = nx.Graph()\n",
    "e_list = [(1,2),(2,3),(3,1),(2,4),(4,5),(4,6)]\n",
    "n = len(G.nodes())\n",
    "G.add_edges_from(e_list)\n",
    "L = nx.laplacian_spectrum(G)\n",
    "A = nx.adjacency_spectrum(G)\n",
    "c = math.log(np.sum(np.exp(A))/6)\n",
    "e = np.sum(np.square(L))\n",
    "print(c)\n",
    "print(e)"
   ]
  },
  {
   "cell_type": "code",
   "execution_count": 17,
   "metadata": {
    "collapsed": false
   },
   "outputs": [
    {
     "name": "stdout",
     "output_type": "stream",
     "text": [
      "0.7427745062592981\n",
      "32.0\n"
     ]
    },
    {
     "name": "stderr",
     "output_type": "stream",
     "text": [
      "/usr/lib/python3/dist-packages/ipykernel/__main__.py:7: ComplexWarning: Casting complex values to real discards the imaginary part\n"
     ]
    }
   ],
   "source": [
    "#remove edge 13\n",
    "G = nx.Graph()\n",
    "e_list = [(1,2),(2,3),(2,4),(4,5),(4,6)]\n",
    "n = len(G.nodes())\n",
    "G.add_edges_from(e_list)\n",
    "L = nx.laplacian_spectrum(G)\n",
    "A = nx.adjacency_spectrum(G)\n",
    "c = math.log(np.sum(np.exp(A))/6)\n",
    "e = np.sum(np.square(L))\n",
    "print(c)\n",
    "print(e)"
   ]
  },
  {
   "cell_type": "code",
   "execution_count": 18,
   "metadata": {
    "collapsed": false
   },
   "outputs": [
    {
     "name": "stdout",
     "output_type": "stream",
     "text": [
      "0.7257695292564152\n",
      "30.0\n"
     ]
    },
    {
     "name": "stderr",
     "output_type": "stream",
     "text": [
      "/usr/lib/python3/dist-packages/ipykernel/__main__.py:8: ComplexWarning: Casting complex values to real discards the imaginary part\n"
     ]
    }
   ],
   "source": [
    "#remove edge 1,2\n",
    "G = nx.Graph()\n",
    "e_list = [(2,3),(3,1),(2,4),(4,5),(4,6)]\n",
    "n = len(G.nodes())\n",
    "G.add_edges_from(e_list)\n",
    "L = nx.laplacian_spectrum(G)\n",
    "A = nx.adjacency_spectrum(G)\n",
    "c = math.log(np.sum(np.exp(A))/6)\n",
    "e = np.sum(np.square(L))\n",
    "print(c)\n",
    "print(e)"
   ]
  },
  {
   "cell_type": "code",
   "execution_count": 19,
   "metadata": {
    "collapsed": false
   },
   "outputs": [
    {
     "name": "stdout",
     "output_type": "stream",
     "text": [
      "0.7257695292564157\n",
      "30.0\n"
     ]
    },
    {
     "name": "stderr",
     "output_type": "stream",
     "text": [
      "/usr/lib/python3/dist-packages/ipykernel/__main__.py:8: ComplexWarning: Casting complex values to real discards the imaginary part\n"
     ]
    }
   ],
   "source": [
    "#remove edge 2,3\n",
    "G = nx.Graph()\n",
    "e_list = [(1,2),(3,1),(2,4),(4,5),(4,6)]\n",
    "n = len(G.nodes())\n",
    "G.add_edges_from(e_list)\n",
    "L = nx.laplacian_spectrum(G)\n",
    "A = nx.adjacency_spectrum(G)\n",
    "c = math.log(np.sum(np.exp(A))/6)\n",
    "e = np.sum(np.square(L))\n",
    "print(c)\n",
    "print(e)"
   ]
  },
  {
   "cell_type": "code",
   "execution_count": 20,
   "metadata": {
    "collapsed": false
   },
   "outputs": [
    {
     "name": "stdout",
     "output_type": "stream",
     "text": [
      "0.8095353248809805\n",
      "28.0\n"
     ]
    },
    {
     "name": "stderr",
     "output_type": "stream",
     "text": [
      "/usr/lib/python3/dist-packages/ipykernel/__main__.py:8: ComplexWarning: Casting complex values to real discards the imaginary part\n"
     ]
    }
   ],
   "source": [
    "#remove 2,4\n",
    "G = nx.Graph()\n",
    "e_list = [(1,2),(2,3),(3,1),(4,5),(4,6)]\n",
    "n = len(G.nodes())\n",
    "G.add_edges_from(e_list)\n",
    "L = nx.laplacian_spectrum(G)\n",
    "A = nx.adjacency_spectrum(G)\n",
    "c = math.log(np.sum(np.exp(A))/6)\n",
    "e = np.sum(np.square(L))\n",
    "print(c)\n",
    "print(e)"
   ]
  },
  {
   "cell_type": "code",
   "execution_count": 21,
   "metadata": {
    "collapsed": false
   },
   "outputs": [
    {
     "name": "stdout",
     "output_type": "stream",
     "text": [
      "0.7741006415483049\n",
      "32.0\n"
     ]
    },
    {
     "name": "stderr",
     "output_type": "stream",
     "text": [
      "/usr/lib/python3/dist-packages/ipykernel/__main__.py:7: ComplexWarning: Casting complex values to real discards the imaginary part\n"
     ]
    }
   ],
   "source": [
    "G = nx.Graph()\n",
    "e_list = [(1,2),(2,3),(3,1),(2,4),(4,6)]\n",
    "n = len(G.nodes())\n",
    "G.add_edges_from(e_list)\n",
    "L = nx.laplacian_spectrum(G)\n",
    "A = nx.adjacency_spectrum(G)\n",
    "c = math.log(np.sum(np.exp(A))/6)\n",
    "e = np.sum(np.square(L))\n",
    "print(c)\n",
    "print(e)"
   ]
  },
  {
   "cell_type": "code",
   "execution_count": 22,
   "metadata": {
    "collapsed": false
   },
   "outputs": [
    {
     "name": "stdout",
     "output_type": "stream",
     "text": [
      "0.7741006415483049\n",
      "32.0\n"
     ]
    },
    {
     "name": "stderr",
     "output_type": "stream",
     "text": [
      "/usr/lib/python3/dist-packages/ipykernel/__main__.py:7: ComplexWarning: Casting complex values to real discards the imaginary part\n"
     ]
    }
   ],
   "source": [
    "G = nx.Graph()\n",
    "e_list = [(1,2),(2,3),(3,1),(2,4),(4,5)]\n",
    "n = len(G.nodes())\n",
    "G.add_edges_from(e_list)\n",
    "L = nx.laplacian_spectrum(G)\n",
    "A = nx.adjacency_spectrum(G)\n",
    "c = math.log(np.sum(np.exp(A))/6)\n",
    "e = np.sum(np.square(L))\n",
    "print(c)\n",
    "print(e)"
   ]
  },
  {
   "cell_type": "code",
   "execution_count": null,
   "metadata": {
    "collapsed": true
   },
   "outputs": [],
   "source": []
  }
 ],
 "metadata": {
  "kernelspec": {
   "display_name": "Python 3",
   "language": "python",
   "name": "python3"
  },
  "language_info": {
   "codemirror_mode": {
    "name": "ipython",
    "version": 3
   },
   "file_extension": ".py",
   "mimetype": "text/x-python",
   "name": "python",
   "nbconvert_exporter": "python",
   "pygments_lexer": "ipython3",
   "version": "3.5.3"
  }
 },
 "nbformat": 4,
 "nbformat_minor": 2
}
