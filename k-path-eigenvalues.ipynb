{
 "cells": [
  {
   "cell_type": "code",
   "execution_count": 2,
   "metadata": {
    "collapsed": true
   },
   "outputs": [],
   "source": [
    "import networkx as nx\n",
    "import numpy as np\n",
    "import itertools \n",
    "\n",
    "def kplaplacian(G,k):\n",
    "    nodes = G.nodes()\n",
    "    nodelist = list(itertools.combinations(nodes,2))\n",
    "    nsize    = len(nodes)\n",
    "    L = np.zeros(shape=(nsize,nsize))\n",
    "    for n in nodelist:\n",
    "        d = nx.shortest_path_length(G, source=n[0], target=n[1])\n",
    "        if d==k:\n",
    "            L[n[0]-1,n[1]-1]= L[n[1]-1,n[0]-1]= -1\n",
    "        #else:\n",
    "            #L[n[0]-1,n[1]-1]= L[n[1]-1,n[0]-1]= -np.exp(-lam*k)\n",
    "    row,col = np.diag_indices_from(L)\n",
    "    L[row,col] = -L.sum(axis=1)\n",
    "    return L"
   ]
  },
  {
   "cell_type": "code",
   "execution_count": 5,
   "metadata": {
    "collapsed": false
   },
   "outputs": [
    {
     "name": "stdout",
     "output_type": "stream",
     "text": [
      "[ -2.22044605e-16+0.j   8.29913513e-01+0.j   4.48119430e+00+0.j\n",
      "   2.68889218e+00+0.j   2.00000000e+00+0.j]\n",
      "[  3.00000000e+00+0.j  -2.22044605e-16+0.j   0.00000000e+00+0.j\n",
      "   2.00000000e+00+0.j   3.00000000e+00+0.j]\n",
      "[  7.50000000e-01+0.j  -5.55111512e-17+0.j   0.00000000e+00+0.j\n",
      "   5.00000000e-01+0.j   7.50000000e-01+0.j]\n",
      "[ 2.+0.j  0.+0.j  0.+0.j  0.+0.j  0.+0.j]\n",
      "[ 0.22222222+0.j  0.00000000+0.j  0.00000000+0.j  0.00000000+0.j\n",
      "  0.00000000+0.j]\n"
     ]
    }
   ],
   "source": [
    "from scipy.linalg import eigvals\n",
    "G1 = nx.Graph([(1,2),(2,3),(3,4),(4,5),(5,2)])\n",
    "\n",
    "l1 = eigvals(nx.laplacian_matrix(G1).todense())\n",
    "l2 = eigvals(kplaplacian(G1,2))\n",
    "l2n = eigvals((1/4)*kplaplacian(G1,2))\n",
    "l3 = eigvals(kplaplacian(G1,3))\n",
    "l3n = eigvals((1/9)*kplaplacian(G1,3))\n",
    "print(l1)\n",
    "print(l2)\n",
    "print(l2n)\n",
    "print(l3)\n",
    "print(l3n)"
   ]
  },
  {
   "cell_type": "code",
   "execution_count": null,
   "metadata": {
    "collapsed": true
   },
   "outputs": [],
   "source": []
  }
 ],
 "metadata": {
  "kernelspec": {
   "display_name": "Python 3",
   "language": "python",
   "name": "python3"
  },
  "language_info": {
   "codemirror_mode": {
    "name": "ipython",
    "version": 3
   },
   "file_extension": ".py",
   "mimetype": "text/x-python",
   "name": "python",
   "nbconvert_exporter": "python",
   "pygments_lexer": "ipython3",
   "version": "3.5.3"
  }
 },
 "nbformat": 4,
 "nbformat_minor": 2
}
