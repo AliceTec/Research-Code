{
 "cells": [
  {
   "cell_type": "code",
   "execution_count": null,
   "metadata": {
    "collapsed": false
   },
   "outputs": [],
   "source": [
    "#%matplotlib inline\n",
    "import scipy.io as sio\n",
    "import matplotlib.pyplot as plt\n",
    "import numpy as np\n",
    "from scipy import linalg as LA\n",
    "\n",
    "N   = 20                                           #The number of pixels along a dimension of the image\n",
    "A   = np.zeros((N, N))                             #The image\n",
    "Adj = np.zeros((N*N,N*N))                          #Adjacency matrix\n",
    "\n",
    "#Use 8 neighbors, and fill in the adjacency matrix\n",
    "dx = [-1, 0, 1, -1, 1, -1, 0, 1];\n",
    "dy = [-1, -1, -1, 0, 0, 1, 1, 1];\n",
    "for x in range(1,N+1):\n",
    "   for y in range(1 , N+1):\n",
    "       index = (x-1)*N + y-1\n",
    "       for ne in range(0, len(dx)):\n",
    "           newx = x + dx[ne]\n",
    "           newy = y + dy[ne]\n",
    "           if newx > 0 and newx <= N and newy > 0 and newy <= N:\n",
    "               index2 = (newx-1)*N + newy-1\n",
    "               Adj[index, index2]= 1\n",
    "           \n",
    "#BELOW IS THE KEY CODE THAT COMPUTES THE SOLUTION TO THE DIFFERENTIAL EQUATION\n",
    "\n",
    "Deg = np.diag(Adj.sum(axis=1))                 #compute the degree matrix\n",
    "L = Deg - Adj;                                 #Compute the laplacian matrix in terms of the degree and adjacency matrices\n",
    "D, V =LA.eigh(L);                              #Compute the eigenvalues/vectors of the laplacian matrix\n",
    "D = np.reshape(D,(N*N,1), order='F')\n",
    "\n",
    "\n",
    "#Initial condition (place a few large positive values around and make everything else zero)\n",
    "C0 =np.zeros((N,N))\n",
    "C0[1:5, 1:5]  = 5\n",
    "C0[9:15,9:15] = 10\n",
    "C0[1:5, 7:13] = 7\n",
    "C0 = np.reshape(C0,(N*N,1), order='F');\n",
    "\n",
    "C0V = np.dot((V.conj().transpose()),C0) #Transform the initial condition into the coordinate system of the eigenvectors\n",
    "\n",
    "#plotting results\n",
    "fig = plt.figure()                \n",
    "for t in np.arange(0,5.05,0.05):                             #Loop through times and decay each initial component\n",
    "    Phi = (C0V* (np.exp(-D*t)));                             #Exponential decay for each component\n",
    "    Phi = np.dot(V,Phi);                                     #Transform from eigenvector coordinate system to original coordinate system\n",
    "    Phi =  np.reshape(Phi, (N, N), order='F')                #shape phi to a lattice shape\n",
    "    imgplot = plt.imshow(Phi, cmap=\"jet\")                    # plot image from array\n",
    "    plt.clim(0,10)                                           #set colour axis\n",
    "    plt.savefig(\"img\"+str(t*100), format='png') #save image at each time step\n"
   ]
  },
  {
   "cell_type": "code",
   "execution_count": null,
   "metadata": {
    "collapsed": true
   },
   "outputs": [],
   "source": []
  },
  {
   "cell_type": "code",
   "execution_count": null,
   "metadata": {
    "collapsed": false
   },
   "outputs": [],
   "source": []
  },
  {
   "cell_type": "code",
   "execution_count": null,
   "metadata": {
    "collapsed": false
   },
   "outputs": [],
   "source": []
  },
  {
   "cell_type": "code",
   "execution_count": 38,
   "metadata": {
    "collapsed": false
   },
   "outputs": [],
   "source": [
    "\n"
   ]
  },
  {
   "cell_type": "code",
   "execution_count": null,
   "metadata": {
    "collapsed": false
   },
   "outputs": [],
   "source": []
  },
  {
   "cell_type": "code",
   "execution_count": null,
   "metadata": {
    "collapsed": false
   },
   "outputs": [],
   "source": []
  },
  {
   "cell_type": "code",
   "execution_count": null,
   "metadata": {
    "collapsed": false
   },
   "outputs": [],
   "source": []
  },
  {
   "cell_type": "code",
   "execution_count": null,
   "metadata": {
    "collapsed": true
   },
   "outputs": [],
   "source": []
  }
 ],
 "metadata": {
  "kernelspec": {
   "display_name": "Python 3",
   "language": "python",
   "name": "python3"
  },
  "language_info": {
   "codemirror_mode": {
    "name": "ipython",
    "version": 3
   },
   "file_extension": ".py",
   "mimetype": "text/x-python",
   "name": "python",
   "nbconvert_exporter": "python",
   "pygments_lexer": "ipython3",
   "version": "3.5.3"
  }
 },
 "nbformat": 4,
 "nbformat_minor": 2
}
