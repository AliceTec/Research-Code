{
 "cells": [
  {
   "cell_type": "code",
   "execution_count": 9,
   "metadata": {
    "collapsed": false
   },
   "outputs": [
    {
     "data": {
      "text/plain": [
       "array([  2.27638822e+00+0.j,  -2.27638822e+00+0.j,   1.18592607e+00+0.j,\n",
       "        -1.18592607e+00+0.j,  -6.41588661e-01+0.j,  -1.31227304e-16+0.j,\n",
       "         6.41588661e-01+0.j])"
      ]
     },
     "execution_count": 9,
     "metadata": {},
     "output_type": "execute_result"
    }
   ],
   "source": [
    "import networkx as nx\n",
    "\n",
    "G = nx.Graph()\n",
    "e_list = [(1,2),(2,3),(3,4),(4,5),(3,6),(5,6),(6,7)]\n",
    "G.add_edges_from(e_list)\n",
    "A = nx.adjacency_matrix(G)\n",
    "A.todense()\n",
    "nx.adjacency_spectrum(G)"
   ]
  },
  {
   "cell_type": "code",
   "execution_count": 13,
   "metadata": {
    "collapsed": false
   },
   "outputs": [
    {
     "data": {
      "text/plain": [
       "0j"
      ]
     },
     "execution_count": 13,
     "metadata": {},
     "output_type": "execute_result"
    }
   ],
   "source": [
    "import numpy as np\n",
    "\n",
    "L =nx.line_graph(G)\n",
    "Z = nx.adjacency_spectrum(L)\n",
    "np.sum(Z)"
   ]
  },
  {
   "cell_type": "code",
   "execution_count": 17,
   "metadata": {
    "collapsed": false
   },
   "outputs": [
    {
     "data": {
      "text/plain": [
       "[((1, 2), (2, 5)),\n",
       " ((1, 2), (2, 3)),\n",
       " ((1, 2), (2, 4)),\n",
       " ((1, 3), (3, 4)),\n",
       " ((2, 3), (3, 4)),\n",
       " ((4, 5), (5, 6)),\n",
       " ((2, 5), (5, 6)),\n",
       " ((3, 4), (4, 5)),\n",
       " ((3, 4), (4, 6)),\n",
       " ((2, 4), (4, 5)),\n",
       " ((2, 4), (4, 6))]"
      ]
     },
     "execution_count": 17,
     "metadata": {},
     "output_type": "execute_result"
    }
   ],
   "source": [
    "D = nx.DiGraph()\n",
    "edgelist=[(1,2),(1,3),(2,3),(2,5),(2,4),(3,4),(4,5),(4,6),(5,6)]\n",
    "D.add_edges_from(edgelist)\n",
    "LD =nx.line_graph(D)\n",
    "LD.edges()"
   ]
  },
  {
   "cell_type": "code",
   "execution_count": null,
   "metadata": {
    "collapsed": true
   },
   "outputs": [],
   "source": []
  }
 ],
 "metadata": {
  "kernelspec": {
   "display_name": "Python 3",
   "language": "python",
   "name": "python3"
  },
  "language_info": {
   "codemirror_mode": {
    "name": "ipython",
    "version": 3
   },
   "file_extension": ".py",
   "mimetype": "text/x-python",
   "name": "python",
   "nbconvert_exporter": "python",
   "pygments_lexer": "ipython3",
   "version": "3.5.3"
  }
 },
 "nbformat": 4,
 "nbformat_minor": 1
}
