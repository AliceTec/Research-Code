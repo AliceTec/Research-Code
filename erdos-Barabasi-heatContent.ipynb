{
 "cells": [
  {
   "cell_type": "code",
   "execution_count": 67,
   "metadata": {
    "collapsed": false
   },
   "outputs": [],
   "source": [
    "import scipy.linalg as LA\n",
    "import random\n",
    "import matplotlib.pyplot as plt\n",
    "import itertools\n",
    "import networkx as nx\n",
    "import numpy as np\n",
    "from scipy.linalg import expm\n",
    "\n",
    "n=150\n",
    "m=[4,5,7,9,10]\n",
    "phi_lst = []\n",
    "phi_av = []\n",
    "lg = []\n",
    "time = np.arange(0,20,0.05)\n",
    "\n",
    "for i in range(5):\n",
    "    G = nx.barabasi_albert_graph(n, m[i], seed=None)     #Create Barabasi network\n",
    "    while (nx.is_connected(G)==False):                # check if network is connected\n",
    "        G = nx.barabasi_albert_graph(n, m[i], seed=None)\n",
    "    \n",
    "    degrees = 2*G.number_of_edges()\n",
    "    phi_av.append(degrees/len(G.nodes()))\n",
    "    \n",
    "\n",
    "    L = nx.normalized_laplacian_matrix(G).todense()   # to cater for no longrange interactions\n",
    "    D, V = LA.eigh(L)\n",
    "    \n",
    "    phi_t = []\n",
    "    for t in time :                             #Loop through times and decay each initial component\n",
    "        Ht = expm(np.multiply(L,-t))\n",
    "        phi_t.append(Ht.sum())\n",
    "        \n",
    "    phi_lst.append(phi_t)\n",
    "    lg.append('Ave'+str(phi_av[i]))\n",
    "        "
   ]
  },
  {
   "cell_type": "code",
   "execution_count": 68,
   "metadata": {
    "collapsed": false
   },
   "outputs": [],
   "source": [
    "import scipy.linalg as LA\n",
    "import random\n",
    "import matplotlib.pyplot as plt\n",
    "import itertools\n",
    "import networkx as nx\n",
    "import numpy as np\n",
    "from scipy.linalg import expm\n",
    "\n",
    "nr=150\n",
    "p=[0.033, 0.043, 0.05,0.067,0.089]\n",
    "phi_lstr = []\n",
    "phi_avr = []\n",
    "\n",
    "time = np.arange(0,20,0.05)\n",
    "\n",
    "for i in range(5):\n",
    "    G = nx.gnp_random_graph(nr, p[i], seed=None, directed=False)\n",
    "    while (nx.is_connected(G)==False):\n",
    "        G = nx.gnp_random_graph(nr, p[i], seed=None, directed=False)\n",
    "\n",
    "    degrees = 2*G.number_of_edges()\n",
    "    phi_avr.append(degrees/len(G.nodes()))\n",
    "    \n",
    "\n",
    "    L = nx.normalized_laplacian_matrix(G).todense()   # to cater for no longrange interactions\n",
    "\n",
    "    D, V = LA.eigh(L);                              #Compute the eigenvalues/vectors of the laplacian matrix\n",
    "\n",
    "    phi_tr = []\n",
    "    for t in time :                             #Loop through times and decay each initial component\n",
    "        #D = np.diag(np.exp(np.multiply(D,-t)));\n",
    "        H = expm(np.multiply(L,-t))\n",
    "        phi_tr.append(H.sum())\n",
    "        \n",
    "    phi_lstr.append(phi_tr)"
   ]
  },
  {
   "cell_type": "code",
   "execution_count": 73,
   "metadata": {
    "collapsed": false
   },
   "outputs": [
    {
     "data": {
      "image/png": "[encoded data removed]",
      "text/plain": [
       "<Figure size 432x288 with 1 Axes>"
      ]
     },
     "metadata": {},
     "output_type": "display_data"
    },
    {
     "name": "stdout",
     "output_type": "stream",
     "text": [
      "[7.786666666666667, 9.666666666666666, 13.346666666666666, 16.92, 18.666666666666668]\n",
      "[4.906666666666666, 6.573333333333333, 7.746666666666667, 10.186666666666667, 13.093333333333334]\n"
     ]
    }
   ],
   "source": [
    "for i in range(5):\n",
    "        plt.plot(time,[ e/max(phi_lst[i]) for e in phi_lst[i]],'-b')\n",
    "\n",
    "for i in range(5):\n",
    "        plt.plot(time,[ e/max(phi_lstr[i]) for e in phi_lstr[i]],'-g')\n",
    "plt.savefig('/home/alicenanyanzi/RecentProject/Research-Documentation/AliceThesis-Stellenbosch/images/BA-ERheatcontent.eps', format='eps', dpi=1000)\n",
    "plt.show()\n",
    "print(phi_av)\n",
    "print(phi_avr)"
   ]
  },
  {
   "cell_type": "code",
   "execution_count": 14,
   "metadata": {
    "collapsed": false
   },
   "outputs": [
    {
     "data": {
      "text/plain": [
       "array([[0.33773308, 0.24542109, 0.28794601, 0.12889982],\n",
       "       [0.24542109, 0.26373673, 0.24542109, 0.24542109],\n",
       "       [0.28794601, 0.24542109, 0.33773308, 0.12889982],\n",
       "       [0.12889982, 0.24542109, 0.12889982, 0.49677926]])"
      ]
     },
     "execution_count": 14,
     "metadata": {},
     "output_type": "execute_result"
    }
   ],
   "source": []
  },
  {
   "cell_type": "code",
   "execution_count": 30,
   "metadata": {
    "collapsed": false
   },
   "outputs": [
    {
     "data": {
      "text/plain": [
       "array([-7.21644973e-16,  1.00000000e+00,  3.00000000e+00,  4.00000000e+00])"
      ]
     },
     "execution_count": 30,
     "metadata": {},
     "output_type": "execute_result"
    }
   ],
   "source": [
    "D,V = LA.eigh(A)\n",
    "D"
   ]
  },
  {
   "cell_type": "code",
   "execution_count": 31,
   "metadata": {
    "collapsed": false
   },
   "outputs": [
    {
     "data": {
      "text/plain": [
       "array([[0.33773308, 0.24542109, 0.28794601, 0.12889982],\n",
       "       [0.24542109, 0.26373673, 0.24542109, 0.24542109],\n",
       "       [0.28794601, 0.24542109, 0.33773308, 0.12889982],\n",
       "       [0.12889982, 0.24542109, 0.12889982, 0.49677926]])"
      ]
     },
     "execution_count": 31,
     "metadata": {},
     "output_type": "execute_result"
    }
   ],
   "source": [
    "D = np.diag(np.exp(-1*D))\n",
    "H = np.dot(V,D)\n",
    "Ht = np.dot(H,np.transpose(V))\n",
    "Ht"
   ]
  },
  {
   "cell_type": "code",
   "execution_count": 10,
   "metadata": {
    "collapsed": false
   },
   "outputs": [
    {
     "data": {
      "text/plain": [
       "array([-3.16227766+0.j,  3.16227766+0.j,  2.        +0.j])"
      ]
     },
     "execution_count": 10,
     "metadata": {},
     "output_type": "execute_result"
    }
   ],
   "source": [
    "V"
   ]
  },
  {
   "cell_type": "code",
   "execution_count": 11,
   "metadata": {
    "collapsed": false
   },
   "outputs": [
    {
     "data": {
      "text/plain": [
       "array([[6.8434571 , 0.        , 0.        ],\n",
       "       [0.        , 1.51593548, 0.        ],\n",
       "       [0.        , 0.        , 6.1432985 ]])"
      ]
     },
     "execution_count": 11,
     "metadata": {},
     "output_type": "execute_result"
    }
   ],
   "source": [
    "np.diag(np.exp(D))"
   ]
  },
  {
   "cell_type": "code",
   "execution_count": 44,
   "metadata": {
    "collapsed": false
   },
   "outputs": [
    {
     "ename": "AttributeError",
     "evalue": "'DegreeView' object has no attribute 'values'",
     "output_type": "error",
     "traceback": [
      "\u001b[0;31m---------------------------------------------------------------------------\u001b[0m",
      "\u001b[0;31mAttributeError\u001b[0m                            Traceback (most recent call last)",
      "\u001b[0;32m<ipython-input-44-a0d8a48cd713>\u001b[0m in \u001b[0;36m<module>\u001b[0;34m()\u001b[0m\n\u001b[1;32m      1\u001b[0m \u001b[0mG\u001b[0m \u001b[0;34m=\u001b[0m \u001b[0mnx\u001b[0m\u001b[0;34m.\u001b[0m\u001b[0mpath_graph\u001b[0m\u001b[0;34m(\u001b[0m\u001b[0;36m4\u001b[0m\u001b[0;34m)\u001b[0m  \u001b[0;31m# or DiGraph, MultiGraph, MultiDiGraph, etc\u001b[0m\u001b[0;34m\u001b[0m\u001b[0m\n\u001b[0;32m----> 2\u001b[0;31m \u001b[0mG\u001b[0m\u001b[0;34m.\u001b[0m\u001b[0mdegree\u001b[0m\u001b[0;34m(\u001b[0m\u001b[0;34m)\u001b[0m\u001b[0;34m.\u001b[0m\u001b[0mvalues\u001b[0m\u001b[0;34m(\u001b[0m\u001b[0;34m)\u001b[0m\u001b[0;34m\u001b[0m\u001b[0m\n\u001b[0m",
      "\u001b[0;31mAttributeError\u001b[0m: 'DegreeView' object has no attribute 'values'"
     ]
    }
   ],
   "source": [
    ">>> G = nx.path_graph(4)  # or DiGraph, MultiGraph, MultiDiGraph, etc\n",
    ">>> G.degree().values()"
   ]
  },
  {
   "cell_type": "code",
   "execution_count": null,
   "metadata": {
    "collapsed": true
   },
   "outputs": [],
   "source": []
  }
 ],
 "metadata": {
  "kernelspec": {
   "display_name": "Python 3",
   "language": "python",
   "name": "python3"
  },
  "language_info": {
   "codemirror_mode": {
    "name": "ipython",
    "version": 3
   },
   "file_extension": ".py",
   "mimetype": "text/x-python",
   "name": "python",
   "nbconvert_exporter": "python",
   "pygments_lexer": "ipython3",
   "version": "3.5.3"
  }
 },
 "nbformat": 4,
 "nbformat_minor": 2
}
