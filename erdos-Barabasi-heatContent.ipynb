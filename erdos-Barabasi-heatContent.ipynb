{
 "cells": [
  {
   "cell_type": "code",
   "execution_count": null,
   "metadata": {
    "collapsed": true
   },
   "outputs": [],
   "source": [
    "import networkx as nx\n",
    "import numpy as np\n",
    "import matplotlib.pyplot as plt\n",
    "from scipy.linalg import eigvalsh\n",
    "\n",
    "n=10\n",
    "m=4\n",
    "G1 = nx.barabasi_albert_graph(n, m, seed=None)\n",
    "\n",
    "l1 = eigvalsh(nx.laplacian_matrix(G1).todense())\n",
    "\n",
    "time = np.arange(0,2.5,0.5)\n",
    "\n",
    "T1=[]\n",
    "T2=[]\n",
    "T3 = []\n",
    "TT=[]\n",
    "for t in time:\n",
    "    T1.append(np.sum(np.exp(-t*(l1))))\n",
    "    T2.append(np.sum(np.exp(-t*(l2))))\n",
    "\n",
    "plt.plot(time,T1, label='G1')\n",
    "plt.plot(time,T2, label='G2')\n",
    "plt.xlabel('Time, t')\n",
    "plt.ylabel('Trace of the heat kernel, $Tr(H_t)$')\n",
    "plt.legend()\n",
    "plt.show()"
   ]
  },
  {
   "cell_type": "code",
   "execution_count": null,
   "metadata": {
    "collapsed": true
   },
   "outputs": [],
   "source": [
    "n=10\n",
    "p=0.46\n",
    "\n",
    "G2 = nx.gnp_random_graph(n, p, seed=None, directed=False)\n",
    "while (nx.is_connected(G2)==False):\n",
    "    print(\"1\")\n",
    "    G2 = nx.gnp_random_graph(n, p, seed=None, directed=False)\n",
    "print(nx.average_shortest_path_length(G2))"
   ]
  }
 ],
 "metadata": {
  "kernelspec": {
   "display_name": "Python 3",
   "language": "python",
   "name": "python3"
  },
  "language_info": {
   "codemirror_mode": {
    "name": "ipython",
    "version": 3
   },
   "file_extension": ".py",
   "mimetype": "text/x-python",
   "name": "python",
   "nbconvert_exporter": "python",
   "pygments_lexer": "ipython3",
   "version": "3.5.3"
  }
 },
 "nbformat": 4,
 "nbformat_minor": 2
}
