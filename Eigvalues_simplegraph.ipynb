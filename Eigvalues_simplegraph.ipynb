{
 "cells": [
  {
   "cell_type": "code",
   "execution_count": 1,
   "metadata": {
    "collapsed": false
   },
   "outputs": [
    {
     "name": "stdout",
     "output_type": "stream",
     "text": [
      "[ 0.00000000+0.j  0.59175171+0.j  2.00000000+0.j  1.40824829+0.j\n",
      "  1.00000000+0.j]\n"
     ]
    }
   ],
   "source": [
    "import networkx as nx\n",
    "import pylab as plt\n",
    "from scipy.linalg import eigvals\n",
    "\n",
    "G = nx.Graph()\n",
    "G.add_edges_from([(1,2),(2,3),(2,4),(3,5),(4,5)])\n",
    "L = nx.normalized_laplacian_matrix(G)\n",
    "Eig_norm = eigvals(L.todense())\n",
    "print(Eig_norm)"
   ]
  },
  {
   "cell_type": "code",
   "execution_count": 2,
   "metadata": {
    "collapsed": false
   },
   "outputs": [
    {
     "name": "stdout",
     "output_type": "stream",
     "text": [
      "[  4.48119430e+00+0.j   2.68889218e+00+0.j  -2.80748585e-16+0.j\n",
      "   8.29913513e-01+0.j   2.00000000e+00+0.j]\n"
     ]
    }
   ],
   "source": [
    "L = nx.laplacian_matrix(G)\n",
    "Eig = eigvals(L.todense())\n",
    "print(Eig)"
   ]
  },
  {
   "cell_type": "code",
   "execution_count": null,
   "metadata": {
    "collapsed": true
   },
   "outputs": [],
   "source": []
  }
 ],
 "metadata": {
  "kernelspec": {
   "display_name": "Python 3",
   "language": "python",
   "name": "python3"
  },
  "language_info": {
   "codemirror_mode": {
    "name": "ipython",
    "version": 3
   },
   "file_extension": ".py",
   "mimetype": "text/x-python",
   "name": "python",
   "nbconvert_exporter": "python",
   "pygments_lexer": "ipython3",
   "version": "3.5.3"
  }
 },
 "nbformat": 4,
 "nbformat_minor": 2
}
