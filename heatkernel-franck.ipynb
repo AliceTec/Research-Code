{
 "cells": [
  {
   "cell_type": "code",
   "execution_count": 2,
   "metadata": {
    "collapsed": false
   },
   "outputs": [
    {
     "data": {
      "text/plain": [
       "0.21230629976529625"
      ]
     },
     "execution_count": 2,
     "metadata": {},
     "output_type": "execute_result"
    }
   ],
   "source": [
    "import networkx as nx\n",
    "import pylab as plt\n",
    "G = nx.Graph()\n",
    "G.add_edges_from([(1,2),(2,3),(2,4),(3,5),(4,5)])\n",
    "L = nx.normalized_laplacian_matrix(G)\n",
    "A=L.todense()\n",
    "A.sum()"
   ]
  },
  {
   "cell_type": "code",
   "execution_count": 3,
   "metadata": {
    "collapsed": false
   },
   "outputs": [
    {
     "name": "stdout",
     "output_type": "stream",
     "text": [
      "[[ 1.         -0.57735027  0.          0.          0.        ]\n",
      " [-0.57735027  1.         -0.40824829 -0.40824829  0.        ]\n",
      " [ 0.         -0.40824829  1.          0.         -0.5       ]\n",
      " [ 0.         -0.40824829  0.          1.         -0.5       ]\n",
      " [ 0.          0.         -0.5        -0.5         1.        ]]\n"
     ]
    }
   ],
   "source": [
    " print(A)"
   ]
  },
  {
   "cell_type": "code",
   "execution_count": 4,
   "metadata": {
    "collapsed": false
   },
   "outputs": [],
   "source": [
    "from scipy.linalg import expm, sinm, cosm\n",
    "listexpA = []\n",
    "for t in range(10):\n",
    "    expA = expm(-t*A)\n",
    "    listexpA.append(expA.sum())\n"
   ]
  },
  {
   "cell_type": "code",
   "execution_count": 5,
   "metadata": {
    "collapsed": false
   },
   "outputs": [
    {
     "data": {
      "image/png": "[encoded data removed]",
      "text/plain": [
       "<matplotlib.figure.Figure at 0x7f6810623d90>"
      ]
     },
     "metadata": {},
     "output_type": "display_data"
    }
   ],
   "source": [
    "plt.plot(range(10),listexpA,\"o-\")\n",
    "plt.xlabel(\"time\")\n",
    "plt.ylabel(\"heat content\")\n",
    "plt.show()"
   ]
  },
  {
   "cell_type": "code",
   "execution_count": null,
   "metadata": {
    "collapsed": true
   },
   "outputs": [],
   "source": []
  }
 ],
 "metadata": {
  "kernelspec": {
   "display_name": "Python 2",
   "language": "python",
   "name": "python2"
  },
  "language_info": {
   "codemirror_mode": {
    "name": "ipython",
    "version": 2
   },
   "file_extension": ".py",
   "mimetype": "text/x-python",
   "name": "python",
   "nbconvert_exporter": "python",
   "pygments_lexer": "ipython2",
   "version": "2.7.13"
  }
 },
 "nbformat": 4,
 "nbformat_minor": 2
}
