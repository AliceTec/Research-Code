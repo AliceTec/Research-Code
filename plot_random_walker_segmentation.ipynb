{
 "cells": [
  {
   "cell_type": "code",
   "execution_count": null,
   "metadata": {},
   "outputs": [],
   "source": [
    "%matplotlib inline"
   ]
  },
  {
   "cell_type": "markdown",
   "metadata": {},
   "source": [
    "\n",
    "# Random walker segmentation\n",
    "\n",
    "\n",
    "The random walker algorithm [1]_  determines the segmentation of an image from\n",
    "a set of markers labeling several phases (2 or more). An anisotropic diffusion\n",
    "equation is solved with tracers initiated at the markers' position. The local\n",
    "diffusivity coefficient is greater if neighboring pixels have similar values,\n",
    "so that diffusion is difficult across high gradients. The label of each unknown\n",
    "pixel is attributed to the label of the known marker that has the highest\n",
    "probability to be reached first during this diffusion process.\n",
    "\n",
    "In this example, two phases are clearly visible, but the data are too\n",
    "noisy to perform the segmentation from the histogram only. We determine\n",
    "markers of the two phases from the extreme tails of the histogram of gray\n",
    "values, and use the random walker for the segmentation.\n",
    "\n",
    ".. [1] *Random walks for image segmentation*, Leo Grady, IEEE Trans. Pattern\n",
    "       Anal. Mach. Intell. 2006 Nov; 28(11):1768-83\n",
    "\n",
    "\n"
   ]
  },
  {
   "cell_type": "code",
   "execution_count": 4,
   "metadata": {},
   "outputs": [
    {
     "ename": "ImportError",
     "evalue": "No module named 'skimage'",
     "output_type": "error",
     "traceback": [
      "\u001b[0;31m---------------------------------------------------------------------------\u001b[0m",
      "\u001b[0;31mImportError\u001b[0m                               Traceback (most recent call last)",
      "\u001b[0;32m<ipython-input-4-a6dfc4f4a710>\u001b[0m in \u001b[0;36m<module>\u001b[0;34m()\u001b[0m\n\u001b[1;32m      2\u001b[0m \u001b[0;32mimport\u001b[0m \u001b[0mmatplotlib\u001b[0m\u001b[0;34m.\u001b[0m\u001b[0mpyplot\u001b[0m \u001b[0;32mas\u001b[0m \u001b[0mplt\u001b[0m\u001b[0;34m\u001b[0m\u001b[0m\n\u001b[1;32m      3\u001b[0m \u001b[0;34m\u001b[0m\u001b[0m\n\u001b[0;32m----> 4\u001b[0;31m \u001b[0;32mimport\u001b[0m \u001b[0mskimage\u001b[0m\u001b[0;34m\u001b[0m\u001b[0m\n\u001b[0m\u001b[1;32m      5\u001b[0m \u001b[0;32mfrom\u001b[0m \u001b[0mskimage\u001b[0m\u001b[0;34m.\u001b[0m\u001b[0msegmentation\u001b[0m \u001b[0;32mimport\u001b[0m \u001b[0mrandom_walker\u001b[0m\u001b[0;34m\u001b[0m\u001b[0m\n\u001b[1;32m      6\u001b[0m \u001b[0;32mfrom\u001b[0m \u001b[0mskimage\u001b[0m\u001b[0;34m.\u001b[0m\u001b[0mdata\u001b[0m \u001b[0;32mimport\u001b[0m \u001b[0mbinary_blobs\u001b[0m\u001b[0;34m\u001b[0m\u001b[0m\n",
      "\u001b[0;31mImportError\u001b[0m: No module named 'skimage'"
     ]
    }
   ],
   "source": [
    "import numpy as np\n",
    "import matplotlib.pyplot as plt\n",
    "\n",
    "import skimage\n",
    "from skimage.segmentation import random_walker\n",
    "from skimage.data import binary_blobs\n",
    "\n",
    "\n",
    "# Generate noisy synthetic data\n",
    "data = skimage.img_as_float(binary_blobs(length=128, seed=1))\n",
    "data += 0.35 * np.random.randn(*data.shape)\n",
    "markers = np.zeros(data.shape, dtype=np.uint)\n",
    "markers[data < -0.3] = 1\n",
    "markers[data > 1.3] = 2\n",
    "\n",
    "# Run random walker algorithm\n",
    "labels = random_walker(data, markers, beta=10, mode='bf')\n",
    "\n",
    "# Plot results\n",
    "fig, (ax1, ax2, ax3) = plt.subplots(1, 3, figsize=(8, 3.2),\n",
    "                                    sharex=True, sharey=True)\n",
    "ax1.imshow(data, cmap='gray', interpolation='nearest')\n",
    "ax1.axis('off')\n",
    "ax1.set_adjustable('box-forced')\n",
    "ax1.set_title('Noisy data')\n",
    "ax2.imshow(markers, cmap='hot', interpolation='nearest')\n",
    "ax2.axis('off')\n",
    "ax2.set_adjustable('box-forced')\n",
    "ax2.set_title('Markers')\n",
    "ax3.imshow(labels, cmap='gray', interpolation='nearest')\n",
    "ax3.axis('off')\n",
    "ax3.set_adjustable('box-forced')\n",
    "ax3.set_title('Segmentation')\n",
    "\n",
    "fig.tight_layout()\n",
    "plt.show()"
   ]
  },
  {
   "cell_type": "code",
   "execution_count": null,
   "metadata": {
    "collapsed": true
   },
   "outputs": [],
   "source": []
  }
 ],
 "metadata": {
  "kernelspec": {
   "display_name": "Python 3",
   "language": "python",
   "name": "python3"
  },
  "language_info": {
   "codemirror_mode": {
    "name": "ipython",
    "version": 3
   },
   "file_extension": ".py",
   "mimetype": "text/x-python",
   "name": "python",
   "nbconvert_exporter": "python",
   "pygments_lexer": "ipython3",
   "version": "3.4.3"
  }
 },
 "nbformat": 4,
 "nbformat_minor": 1
}
