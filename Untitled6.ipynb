{
 "cells": [
  {
   "cell_type": "code",
   "execution_count": 3,
   "metadata": {
    "collapsed": false
   },
   "outputs": [],
   "source": [
    "import networkx as nx\n",
    "import numpy as np\n",
    "\n",
    "def kpathlaplacian(G, k, nodelist):\n",
    "    if k==1:\n",
    "        L = nx.laplacian_matrix(G, nodelist).toarray()\n",
    "    else:\n",
    "        nsize = len(nodelist)\n",
    "        L = np.zeros(shape=(nsize,nsize))\n",
    "        i=1\n",
    "        for n in nodelist:\n",
    "            for m in nodelist[i:]:\n",
    "                if((nx.shortest_path_length(G, source=n, target=m))==k):\n",
    "                    L[n-1,m-1]= L[m-1,n-1]= -1\n",
    "            i = i+1\n",
    "            L[n-1,n-1] = np.sum(L[n-1]*-1)\n",
    "    return L                 "
   ]
  },
  {
   "cell_type": "code",
   "execution_count": 5,
   "metadata": {
    "collapsed": false
   },
   "outputs": [],
   "source": [
    "G = nx.Graph()\n",
    "e_lst = [(4,2),(4,7),(2,5),(2,8),(5,6),(5,9),(6,10),\n",
    "         (7,8),(7,1),(8,9),(8,11),(9,10),(9,12),(10,13),\n",
    "          (1,11),(1,14),(11,12),(11,15),(12,13),(12,16),(13,3),\n",
    "          (14,15),(15,16),(16,3)]\n",
    "G.add_edges_from(e_lst)"
   ]
  },
  {
   "cell_type": "code",
   "execution_count": 12,
   "metadata": {
    "collapsed": false
   },
   "outputs": [],
   "source": [
    "import pandas as pd\n",
    "nlist = [1,2,3,4,5,6,7,8,9,10,11,12,13,14,15,16]\n",
    "L_1 =kpathlaplacian(G, k=1, nodelist=nlist)\n",
    "L_2 = (1/4)* (kpathlaplacian(G, k=2, nodelist=nlist))\n",
    "L_3 = (1/9)*(kpathlaplacian(G, k=3, nodelist=nlist))\n",
    "L_4 = (1/16)*(kpathlaplacian(G, k=4, nodelist=nlist))\n",
    "L_5 = (1/25)*(kpathlaplacian(G, k=5, nodelist=nlist))\n",
    "L_6 = (1/36)*(kpathlaplacian(G, k=6, nodelist=nlist))\n",
    "L = L_1+L_2+L_3+L_4+L_5+L_6\n",
    "#np.savetxt('laplacianpotential.txt',L, delimiter=',')\n",
    "#L\n",
    "dd = pd.DataFrame(data=L.astype(float))\n",
    "dd.to_csv('lapla.csv', sep=',', header=False, float_format='%.4f', index=False)\n"
   ]
  },
  {
   "cell_type": "code",
   "execution_count": 9,
   "metadata": {
    "collapsed": false
   },
   "outputs": [
    {
     "data": {
      "text/plain": [
       "matrix([[ 0.3233404 ],\n",
       "        [ 0.25386773],\n",
       "        [ 0.27218854],\n",
       "        [ 0.46748425],\n",
       "        [ 0.33895493],\n",
       "        [ 0.31510865],\n",
       "        [ 0.29049825],\n",
       "        [ 0.44537198],\n",
       "        [ 0.34424346],\n",
       "        [ 0.27103464],\n",
       "        [ 0.54049922],\n",
       "        [ 0.40470093],\n",
       "        [ 0.30188053]])"
      ]
     },
     "execution_count": 9,
     "metadata": {},
     "output_type": "execute_result"
    }
   ],
   "source": [
    "L_u = L[3:,3:]\n",
    "B_T = L[3:,:3]\n",
    "M1 = np.matrix([[1], [0],[0]])\n",
    "R_hs = -B_T *M1\n",
    "x_l1 = np.linalg.solve(L_u, R_hs)\n",
    "x_l1"
   ]
  },
  {
   "cell_type": "code",
   "execution_count": 10,
   "metadata": {
    "collapsed": false
   },
   "outputs": [
    {
     "data": {
      "text/plain": [
       "matrix([[ 0.52699465],\n",
       "        [ 0.51691472],\n",
       "        [ 0.43635491],\n",
       "        [ 0.36175521],\n",
       "        [ 0.45132461],\n",
       "        [ 0.40232344],\n",
       "        [ 0.36628476],\n",
       "        [ 0.31095044],\n",
       "        [ 0.317567  ],\n",
       "        [ 0.27709658],\n",
       "        [ 0.23244845],\n",
       "        [ 0.28303071],\n",
       "        [ 0.25429338]])"
      ]
     },
     "execution_count": 10,
     "metadata": {},
     "output_type": "execute_result"
    }
   ],
   "source": [
    "M2 = np.matrix([[0], [1],[0]])\n",
    "R_hs = -B_T *M2\n",
    "x_l2 = np.linalg.solve(L_u, R_hs)\n",
    "x_l2"
   ]
  },
  {
   "cell_type": "code",
   "execution_count": 11,
   "metadata": {
    "collapsed": false
   },
   "outputs": [
    {
     "data": {
      "text/plain": [
       "matrix([[ 0.14966495],\n",
       "        [ 0.22921755],\n",
       "        [ 0.29145655],\n",
       "        [ 0.17076054],\n",
       "        [ 0.20972046],\n",
       "        [ 0.28256791],\n",
       "        [ 0.343217  ],\n",
       "        [ 0.24367758],\n",
       "        [ 0.33818953],\n",
       "        [ 0.45186878],\n",
       "        [ 0.22705232],\n",
       "        [ 0.31226836],\n",
       "        [ 0.44382609]])"
      ]
     },
     "execution_count": 11,
     "metadata": {},
     "output_type": "execute_result"
    }
   ],
   "source": [
    "M3 = np.matrix([[0], [0],[1]])\n",
    "R_hs = -B_T *M3\n",
    "x_l3 = np.linalg.solve(L_u, R_hs)\n",
    "x_l3"
   ]
  },
  {
   "cell_type": "code",
   "execution_count": null,
   "metadata": {
    "collapsed": true
   },
   "outputs": [],
   "source": []
  }
 ],
 "metadata": {
  "kernelspec": {
   "display_name": "Python 3",
   "language": "python",
   "name": "python3"
  },
  "language_info": {
   "codemirror_mode": {
    "name": "ipython",
    "version": 3
   },
   "file_extension": ".py",
   "mimetype": "text/x-python",
   "name": "python",
   "nbconvert_exporter": "python",
   "pygments_lexer": "ipython3",
   "version": "3.5.3"
  }
 },
 "nbformat": 4,
 "nbformat_minor": 2
}
