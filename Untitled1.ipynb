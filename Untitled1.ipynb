{
 "cells": [
  {
   "cell_type": "code",
   "execution_count": 1,
   "metadata": {
    "collapsed": false
   },
   "outputs": [
    {
     "name": "stdout",
     "output_type": "stream",
     "text": [
      "[ -3.28437692e-16   8.29913513e-01   2.00000000e+00   2.68889218e+00\n",
      "   4.48119430e+00]\n",
      "[[ -4.47213595e-01   8.11462211e-01   0.00000000e+00  -3.17515788e-01\n",
      "    2.01774144e-01]\n",
      " [ -4.47213595e-01   1.38018756e-01   0.00000000e+00   5.36249932e-01\n",
      "   -7.02415001e-01]\n",
      " [ -4.47213595e-01  -2.55974786e-01  -7.07106781e-01   2.42173667e-01\n",
      "    4.19319477e-01]\n",
      " [ -4.47213595e-01  -4.37531395e-01   2.87079964e-16  -7.03081478e-01\n",
      "   -3.37998097e-01]\n",
      " [ -4.47213595e-01  -2.55974786e-01   7.07106781e-01   2.42173667e-01\n",
      "    4.19319477e-01]]\n"
     ]
    }
   ],
   "source": [
    "import numpy as np\n",
    "import numpy.linalg as lp\n",
    "\n",
    "m = np.matrix([[1,-1,0,0,0], [-1,3,-1,0,-1],[0,-1,2,-1,0],[0,0,-1,2,-1],[0,-1,0,-1,2]])\n",
    "a,v = lp.eigh(m)\n",
    "print(a)\n",
    "print(v)"
   ]
  },
  {
   "cell_type": "code",
   "execution_count": null,
   "metadata": {
    "collapsed": true
   },
   "outputs": [],
   "source": []
  },
  {
   "cell_type": "code",
   "execution_count": 12,
   "metadata": {
    "collapsed": false
   },
   "outputs": [
    {
     "name": "stdout",
     "output_type": "stream",
     "text": [
      "[[ 3.76219569  1.8134302   1.8134302   1.8134302   1.8134302 ]\n",
      " [ 1.8134302   1.69054892  0.69054892  0.69054892  0.69054892]\n",
      " [ 1.8134302   0.69054892  1.69054892  0.69054892  0.69054892]\n",
      " [ 1.8134302   0.69054892  0.69054892  1.69054892  0.69054892]\n",
      " [ 1.8134302   0.69054892  0.69054892  0.69054892  1.69054892]]\n"
     ]
    }
   ],
   "source": [
    "import numpy as np\n",
    "import numpy.linalg as lp\n",
    "import scipy.linalg as ln\n",
    "m = np.matrix([[0,1,1,1,1], [1,0,0,0,0],[1,0,0,0,0],[1,0,0,0,0],[1,0,0,0,0]])\n",
    "e,v = lp.eig(m)\n",
    "print(ln.expm(m))"
   ]
  },
  {
   "cell_type": "code",
   "execution_count": 14,
   "metadata": {
    "collapsed": false
   },
   "outputs": [
    {
     "data": {
      "text/plain": [
       "matrix([[ 3.76219569,  1.8134302 ,  1.8134302 ,  1.8134302 ,  1.8134302 ],\n",
       "        [ 1.8134302 ,  1.69054892,  0.69054892,  0.69054892,  0.69054892],\n",
       "        [ 1.8134302 ,  0.69054892,  1.69054892,  0.69054892,  0.69054892],\n",
       "        [ 1.8134302 ,  0.69054892,  0.69054892,  1.69054892,  0.69054892],\n",
       "        [ 1.8134302 ,  0.69054892,  0.69054892,  0.69054892,  1.69054892]])"
      ]
     },
     "execution_count": 14,
     "metadata": {},
     "output_type": "execute_result"
    }
   ],
   "source": [
    "d = np.diag(np.exp(e))\n",
    "np.dot(np.dot(v,d), v.transpose())"
   ]
  },
  {
   "cell_type": "code",
   "execution_count": 17,
   "metadata": {
    "collapsed": false
   },
   "outputs": [
    {
     "data": {
      "text/plain": [
       "matrix([[ 2. ,  0. ,  0. ,  0. ,  0. ],\n",
       "        [ 0. ,  0.5,  0.5,  0.5,  0.5],\n",
       "        [ 0. ,  0.5,  0.5,  0.5,  0.5],\n",
       "        [ 0. ,  0.5,  0.5,  0.5,  0.5],\n",
       "        [ 0. ,  0.5,  0.5,  0.5,  0.5]])"
      ]
     },
     "execution_count": 17,
     "metadata": {},
     "output_type": "execute_result"
    }
   ],
   "source": [
    "0.5*(m*m)"
   ]
  },
  {
   "cell_type": "code",
   "execution_count": null,
   "metadata": {
    "collapsed": true
   },
   "outputs": [],
   "source": [
    "import numpy as np\n",
    "import numpy.linalg as lp\n",
    "\n",
    "m = np.matrix([[1,-1,0,0,0], [-1,3,-1,0,-1],[0,-1,2,-1,0],[0,0,-1,2,-1],[0,-1,0,-1,2]])\n",
    "a = lp.eigvals(m)\n",
    "print(a)"
   ]
  },
  {
   "cell_type": "code",
   "execution_count": 4,
   "metadata": {
    "collapsed": false
   },
   "outputs": [
    {
     "data": {
      "text/plain": [
       "matrix([[ 0.90483742,  1.10517092,  1.        ,  1.        ,  1.        ],\n",
       "        [ 1.10517092,  0.74081822,  1.10517092,  1.        ,  1.10517092],\n",
       "        [ 1.        ,  1.10517092,  0.81873075,  1.10517092,  1.        ],\n",
       "        [ 1.        ,  1.        ,  1.10517092,  0.81873075,  1.10517092],\n",
       "        [ 1.        ,  1.10517092,  1.        ,  1.10517092,  0.81873075]])"
      ]
     },
     "execution_count": 4,
     "metadata": {},
     "output_type": "execute_result"
    }
   ],
   "source": [
    "ee = np.exp(-0.1*m)\n",
    "ee"
   ]
  },
  {
   "cell_type": "code",
   "execution_count": 3,
   "metadata": {
    "collapsed": false
   },
   "outputs": [
    {
     "name": "stdout",
     "output_type": "stream",
     "text": [
      "[ -1.11022302e-16   4.85722573e-16   2.00000000e+00   3.00000000e+00\n",
      "   3.00000000e+00]\n",
      "[[ -5.77350269e-01   0.00000000e+00   0.00000000e+00   0.00000000e+00\n",
      "   -8.16496581e-01]\n",
      " [  0.00000000e+00   7.07106781e-01   7.07106781e-01   4.44089210e-16\n",
      "    0.00000000e+00]\n",
      " [ -5.77350269e-01   5.55111512e-17   2.22044605e-16  -7.07106781e-01\n",
      "    4.08248290e-01]\n",
      " [  0.00000000e+00   7.07106781e-01  -7.07106781e-01   0.00000000e+00\n",
      "    0.00000000e+00]\n",
      " [ -5.77350269e-01   2.22044605e-16   0.00000000e+00   7.07106781e-01\n",
      "    4.08248290e-01]]\n"
     ]
    }
   ],
   "source": [
    "m = np.matrix([[2,0,-1,0,-1], [0,1,0,-1,0],[-1,0,2,0,-1],[0,-1,0,1,0],[-1,0,-1,0,2]])\n",
    "a,v = lp.eigh(m)\n",
    "print(a)\n",
    "print(v)"
   ]
  },
  {
   "cell_type": "code",
   "execution_count": 2,
   "metadata": {
    "collapsed": false
   },
   "outputs": [
    {
     "name": "stdout",
     "output_type": "stream",
     "text": [
      "[  3.00000000e+00  -2.22044605e-16   0.00000000e+00   2.00000000e+00\n",
      "   3.00000000e+00]\n"
     ]
    }
   ],
   "source": [
    "m = np.matrix([[2,0,-1,0,-1], [0,1,0,-1,0],[-1,0,2,0,-1],[0,-1,0,1,0],[-1,0,-1,0,2]])\n",
    "a = lp.eigvals(m)\n",
    "print(a)"
   ]
  },
  {
   "cell_type": "code",
   "execution_count": 4,
   "metadata": {
    "collapsed": false
   },
   "outputs": [
    {
     "name": "stdout",
     "output_type": "stream",
     "text": [
      "[ 0.  0.  0.  0.  2.]\n",
      "[[-0.70710678  0.          0.          0.         -0.70710678]\n",
      " [ 0.          0.          1.          0.          0.        ]\n",
      " [ 0.          1.          0.          0.          0.        ]\n",
      " [-0.70710678  0.          0.          0.          0.70710678]\n",
      " [-0.          0.          0.          1.          0.        ]]\n"
     ]
    }
   ],
   "source": [
    "m = np.matrix([[1,0,0,-1,0], [0,0,0,0,0],[0,0,0,0,0],[-1,0,0,1,0],[0,0,0,0,0]])\n",
    "a,v = lp.eigh(m)\n",
    "print(a)\n",
    "print(v)"
   ]
  },
  {
   "cell_type": "code",
   "execution_count": 21,
   "metadata": {
    "collapsed": false
   },
   "outputs": [
    {
     "name": "stdout",
     "output_type": "stream",
     "text": [
      "[ -7.12672940e-16   1.00000000e+00   1.00000000e+00   3.00000000e+00\n",
      "   5.00000000e+00]\n",
      "[[  4.47213595e-01   4.93301133e-01  -8.15720074e-02   7.07106781e-01\n",
      "   -2.23606798e-01]\n",
      " [  4.47213595e-01   4.93301133e-01  -8.15720074e-02  -7.07106781e-01\n",
      "   -2.23606798e-01]\n",
      " [  4.47213595e-01   5.55111512e-17   6.24500451e-17  -2.22044605e-16\n",
      "    8.94427191e-01]\n",
      " [  4.47213595e-01  -6.08661372e-01  -6.16061145e-01  -3.88578059e-16\n",
      "   -2.23606798e-01]\n",
      " [  4.47213595e-01  -3.77940894e-01   7.79205160e-01  -3.05311332e-16\n",
      "   -2.23606798e-01]]\n"
     ]
    }
   ],
   "source": [
    "m = np.matrix([[2,-1,-1,0,0], [-1,2,-1,0,0],[-1,-1,4,-1,-1],[0,0,-1,1,0],[0,0,-1,0,1]])\n",
    "a,v = lp.eigh(m)\n",
    "print(a)\n",
    "print(v)"
   ]
  },
  {
   "cell_type": "code",
   "execution_count": 22,
   "metadata": {
    "collapsed": false
   },
   "outputs": [
    {
     "name": "stdout",
     "output_type": "stream",
     "text": [
      "[ -3.13364331e-16   7.78331501e-17   2.00000000e+00   4.00000000e+00\n",
      "   4.00000000e+00]\n",
      "[[  4.46705764e-01  -2.24619590e-01  -7.07106781e-01  -5.00000000e-01\n",
      "    2.68606496e-18]\n",
      " [  4.46705764e-01  -2.24619590e-01   7.07106781e-01  -5.00000000e-01\n",
      "   -1.14820972e-16]\n",
      " [ -4.49239179e-01  -8.93411529e-01   1.11022302e-16   0.00000000e+00\n",
      "    2.80241821e-16]\n",
      " [  4.46705764e-01  -2.24619590e-01  -2.22044605e-16   5.00000000e-01\n",
      "   -7.07106781e-01]\n",
      " [  4.46705764e-01  -2.24619590e-01  -2.22044605e-16   5.00000000e-01\n",
      "    7.07106781e-01]]\n"
     ]
    }
   ],
   "source": [
    "m = np.matrix([[2,0,0,-1,-1], [0,2,0,-1,-1],[0,0,0,0,0],[-1,-1,0,3,-1],[-1,-1,0,-1,3]])\n",
    "a,v = lp.eigh(m)\n",
    "print(a)\n",
    "print(v)"
   ]
  },
  {
   "cell_type": "code",
   "execution_count": 20,
   "metadata": {
    "collapsed": false
   },
   "outputs": [
    {
     "data": {
      "text/plain": [
       "matrix([[ 0.],\n",
       "        [ 0.],\n",
       "        [ 0.],\n",
       "        [ 0.],\n",
       "        [ 0.]])"
      ]
     },
     "execution_count": 20,
     "metadata": {},
     "output_type": "execute_result"
    }
   ],
   "source": [
    "#print(v[:,0])\n",
    "np.dot(m,v[:,0])"
   ]
  },
  {
   "cell_type": "code",
   "execution_count": 2,
   "metadata": {
    "collapsed": false
   },
   "outputs": [
    {
     "name": "stdout",
     "output_type": "stream",
     "text": [
      "[  1.23471746e+01   5.74675876e+00  -7.52158225e-16   7.50252174e-01\n",
      "   2.00000000e+00   3.15581447e+00]\n"
     ]
    }
   ],
   "source": [
    "m = np.matrix([[6,-4,-2,0,0,0], [-4,9,-1,-2,-2,0],[-2,-1,3,0,0,0],\n",
    "               [0,-2,0,2,0,0],[0,-2,0,0,3,-1],[0,0,0,0,-1,1]])\n",
    "l = lp.eigvals(m)\n",
    "print(l)"
   ]
  },
  {
   "cell_type": "code",
   "execution_count": 4,
   "metadata": {
    "collapsed": false
   },
   "outputs": [
    {
     "name": "stdout",
     "output_type": "stream",
     "text": [
      "[  1.96846584e+01   7.31534156e+00   2.31171560e-15  -8.88178420e-16\n",
      "   6.00000000e+00   1.70000000e+01]\n"
     ]
    }
   ],
   "source": [
    "m = np.matrix([[12,0,0,-6,-6,0], [0,3,0,0,0,-3],[0,0,6,-3,-3,0],\n",
    "               [-6,0,-3,13,-4,0],[-6,0,-3,-4,13,0],[0,-3,0,0,0,3]])\n",
    "l = lp.eigvals(m)\n",
    "print(l)"
   ]
  },
  {
   "cell_type": "code",
   "execution_count": 3,
   "metadata": {
    "collapsed": false
   },
   "outputs": [
    {
     "name": "stdout",
     "output_type": "stream",
     "text": [
      "[  2.17250894e+01   7.59581223e-16   5.92282023e+00   4.35209036e+00\n",
      "   0.00000000e+00   0.00000000e+00]\n"
     ]
    }
   ],
   "source": [
    "m = np.matrix([[7,0,0,0,0,-7], [0,0,0,0,0,0],[0,0,4,0,0,-4],\n",
    "               [0,0,0,5,0,-5],[0,0,0,0,0,0],[-7,0,-4,-5,0,16]])\n",
    "l = lp.eigvals(m)\n",
    "print(l)"
   ]
  },
  {
   "cell_type": "code",
   "execution_count": 8,
   "metadata": {
    "collapsed": false
   },
   "outputs": [
    {
     "name": "stdout",
     "output_type": "stream",
     "text": [
      "[  2.61072533e+01  -5.61356517e-15   8.86060472e+00   1.40321420e+01]\n"
     ]
    }
   ],
   "source": [
    "m = np.matrix([[15,-10,-3,-2], [-10,17,0,-7],[-3,0,9,-6],[-2,0,-6,8]])\n",
    "l = lp.eigvals(m)\n",
    "print(l)"
   ]
  },
  {
   "cell_type": "code",
   "execution_count": 9,
   "metadata": {
    "collapsed": false
   },
   "outputs": [
    {
     "name": "stdout",
     "output_type": "stream",
     "text": [
      "[  2.60000000e+01  -3.55271368e-15   0.00000000e+00   0.00000000e+00]\n"
     ]
    }
   ],
   "source": [
    "m = np.matrix([[0,0,0,0], [0,13,-13,0],[0,-13,13,0],[0,0,0,0]])\n",
    "l = lp.eigvals(m)\n",
    "print(l)"
   ]
  },
  {
   "cell_type": "code",
   "execution_count": 4,
   "metadata": {
    "collapsed": false
   },
   "outputs": [
    {
     "name": "stdout",
     "output_type": "stream",
     "text": [
      "[  1.46847904e+01   6.32416040e+00   7.64093827e-16   7.60032618e-01\n",
      "   2.68452579e+00   3.54649074e+00]\n"
     ]
    }
   ],
   "source": [
    "m = np.matrix([[6,-4,-2,0,0,0], [-4,11,-1,-4,-2,0],[-2,-1,3,0,0,0],\n",
    "               [0,-4,0,4,0,0],[0,-2,0,0,3,-1],[0,0,0,0,-1,1]])\n",
    "l = lp.eigvals(m)\n",
    "print(l)"
   ]
  },
  {
   "cell_type": "code",
   "execution_count": 3,
   "metadata": {
    "collapsed": false
   },
   "outputs": [
    {
     "name": "stdout",
     "output_type": "stream",
     "text": [
      "[  0.00000000e+00   9.48969969e+00   2.59329835e+01   2.05773169e+01\n",
      "   4.44089210e-16   6.00000000e+00]\n"
     ]
    }
   ],
   "source": [
    "m = np.matrix([[14,0,0,-8,-6,0], [0,3,0,0,0,-3],[0,0,8,-5,-3,0],\n",
    "               [-8,0,-5,19,-6,0],[-6,0,-3,-6,15,0],[0,-3,0,0,0,3]])\n",
    "l = lp.eigvals(m)\n",
    "print(l)"
   ]
  },
  {
   "cell_type": "code",
   "execution_count": 4,
   "metadata": {
    "collapsed": false,
    "scrolled": true
   },
   "outputs": [
    {
     "name": "stdout",
     "output_type": "stream",
     "text": [
      "[ -2.22044605e-16   2.00000000e+00   4.00000000e+00   0.00000000e+00\n",
      "   2.00000000e+00   4.00000000e+00]\n"
     ]
    }
   ],
   "source": [
    "m = np.matrix([[2,0,0,-1,-1,0], [0,1,0,0,0,-1],[0,0,2,-1,-1,0],\n",
    "               [-1,0,-1,3,-1,0],[-1,0,-1,-1,3,0],[0,-1,0,0,0,1]])\n",
    "l = lp.eigvals(m)\n",
    "print(l)"
   ]
  },
  {
   "cell_type": "code",
   "execution_count": 5,
   "metadata": {
    "collapsed": false
   },
   "outputs": [
    {
     "name": "stdout",
     "output_type": "stream",
     "text": [
      "[  2.44121138e+01   3.64195057e-16   7.00000000e+00   4.58788620e+00\n",
      "   0.00000000e+00   0.00000000e+00]\n"
     ]
    }
   ],
   "source": [
    "m = np.matrix([[7,0,0,0,0,-7], [0,0,0,0,0,0],[0,0,4,0,0,-4],\n",
    "               [0,0,0,7,0,-7],[0,0,0,0,0,0],[-7,0,-4,-7,0,18]])\n",
    "l = lp.eigvals(m)\n",
    "print(l)"
   ]
  },
  {
   "cell_type": "code",
   "execution_count": 6,
   "metadata": {
    "collapsed": false
   },
   "outputs": [
    {
     "name": "stdout",
     "output_type": "stream",
     "text": [
      "[  4.00000000e+00  -2.49366500e-16   1.00000000e+00   1.00000000e+00\n",
      "   0.00000000e+00   0.00000000e+00]\n"
     ]
    }
   ],
   "source": [
    "m = np.matrix([[1,0,0,0,0,-1], [0,0,0,0,0,0],[0,0,1,0,0,-1],\n",
    "               [0,0,0,1,0,-1],[0,0,0,0,0,0],[-1,0,-1,-1,0,3]])\n",
    "l = lp.eigvals(m)\n",
    "print(l)"
   ]
  },
  {
   "cell_type": "code",
   "execution_count": 7,
   "metadata": {
    "collapsed": false
   },
   "outputs": [
    {
     "name": "stdout",
     "output_type": "stream",
     "text": [
      "[  6.72204860e+00  -4.37800837e-16   2.27795140e+00   1.75000000e+00\n",
      "   0.00000000e+00   0.00000000e+00]\n"
     ]
    }
   ],
   "source": [
    "m = np.matrix([[7/4,0,0,0,0,-7/4], [0,0,0,0,0,0],[0,0,5/2,0,0,-5/2],\n",
    "               [0,0,0,7/4,0,-7/4],[0,0,0,0,0,0],[-7/4,0,-5/4,-7/4,0,19/4]])\n",
    "l = lp.eigvals(m)\n",
    "print(l)"
   ]
  },
  {
   "cell_type": "code",
   "execution_count": 2,
   "metadata": {
    "collapsed": false
   },
   "outputs": [
    {
     "name": "stdout",
     "output_type": "stream",
     "text": [
      "[ -2.22044605e-16   2.00000000e+00   4.00000000e+00   4.00000000e+00]\n"
     ]
    }
   ],
   "source": [
    "m = np.matrix([[2,-1,0,-1], [-1,3,-1,-1],[0,-1,2,-1],[-1,-1,-1,3]])\n",
    "l = lp.eigvals(m)\n",
    "print(l)"
   ]
  },
  {
   "cell_type": "code",
   "execution_count": 3,
   "metadata": {
    "collapsed": false
   },
   "outputs": [
    {
     "name": "stdout",
     "output_type": "stream",
     "text": [
      "[ 2.  0.  0.  0.]\n"
     ]
    }
   ],
   "source": [
    "m = np.matrix([[1,0,-1,0], [0,0,0,0],[-1,0,1,0],[0,0,0,0]])\n",
    "l = lp.eigvals(m)\n",
    "print(l)"
   ]
  },
  {
   "cell_type": "code",
   "execution_count": 2,
   "metadata": {
    "collapsed": false
   },
   "outputs": [
    {
     "name": "stdout",
     "output_type": "stream",
     "text": [
      "[  3.00000000e+00   1.00000000e+00  -3.36770206e-17   2.00000000e+00\n",
      "   0.00000000e+00]\n"
     ]
    }
   ],
   "source": [
    "m = np.matrix([[1,0,-1,0,0], [0,1,0,-1,0],[-1,0,2,0,-1],[0,-1,0,1,0],[0,0,-1,0,1]])\n",
    "l = lp.eigvals(m)\n",
    "print(l)"
   ]
  },
  {
   "cell_type": "code",
   "execution_count": 4,
   "metadata": {
    "collapsed": false
   },
   "outputs": [
    {
     "name": "stdout",
     "output_type": "stream",
     "text": [
      "[  1.66421291e+01   1.20067982e+01   6.10699334e+00   7.04696976e-16\n",
      "   1.22270035e+00   2.02137904e+00]\n"
     ]
    }
   ],
   "source": [
    "#another graph\n",
    "m = np.matrix([[1,0,-1,0,0,0], [0,2,-2,0,0,0],[-1,-2,11,-4,-4,0],[0,0,-4,7,-2,-1],\n",
    "               [0,0,-4,-2,11,-5],[0,0,0,-1,-5,6]])\n",
    "l = lp.eigvals(m)\n",
    "print(l)"
   ]
  },
  {
   "cell_type": "code",
   "execution_count": 5,
   "metadata": {
    "collapsed": false
   },
   "outputs": [
    {
     "name": "stdout",
     "output_type": "stream",
     "text": [
      "[ -3.55271368e-15   1.66277187e+01   2.23722813e+01   1.77635684e-15\n",
      "   1.00000000e+01   1.10000000e+01]\n"
     ]
    }
   ],
   "source": [
    "m = np.matrix([[13,-3,0,-5,-5,0], [-3,15,0,-6,-6,0],[0,0,5,0,0,-5],[-5,-6,0,11,0,0],\n",
    "               [-5,-6,0,0,11,0],[0,0,-5,0,0,5]])\n",
    "l = lp.eigvals(m)\n",
    "print(l)"
   ]
  },
  {
   "cell_type": "code",
   "execution_count": 6,
   "metadata": {
    "collapsed": false
   },
   "outputs": [
    {
     "name": "stdout",
     "output_type": "stream",
     "text": [
      "[  1.95574385e+01   6.44256148e+00   1.23056788e-17   0.00000000e+00\n",
      "   0.00000000e+00   0.00000000e+00]\n"
     ]
    }
   ],
   "source": [
    "m = np.matrix([[6,0,0,0,0,-6], [0,7,0,0,0,-7],[0,0,0,0,0,0],[0,0,0,0,0,0],\n",
    "               [0,0,0,0,0,0],[-6,-7,0,0,0,13]])\n",
    "l = lp.eigvals(m)\n",
    "print(l)"
   ]
  },
  {
   "cell_type": "code",
   "execution_count": 4,
   "metadata": {
    "collapsed": false
   },
   "outputs": [
    {
     "data": {
      "text/plain": [
       "matrix([[  5,  -9,   5,  -1],\n",
       "        [ -9,  19, -15,   5],\n",
       "        [  5, -15,  19,  -9],\n",
       "        [ -1,   5,  -9,   5]])"
      ]
     },
     "execution_count": 4,
     "metadata": {},
     "output_type": "execute_result"
    }
   ],
   "source": [
    "import numpy as np\n",
    "import numpy.linalg as lp\n",
    "\n",
    "m = np.matrix([[1,-1,0,0], [-1,2,-1,0],[0,-1,2,-1],[0,0,-1,1]])\n",
    "m*m*m"
   ]
  },
  {
   "cell_type": "code",
   "execution_count": 3,
   "metadata": {
    "collapsed": false
   },
   "outputs": [
    {
     "name": "stdout",
     "output_type": "stream",
     "text": [
      "[  5.08613020e+00   3.00000000e+00   2.42800673e+00  -4.36299408e-16\n",
      "   1.00000000e+00   4.85863071e-01]\n"
     ]
    }
   ],
   "source": [
    "import numpy as np\n",
    "import numpy.linalg as lp\n",
    "\n",
    "m = np.matrix([[2,-1,-1,0,0,0], [-1,2,-1,0,0,0],[-1,-1,4,-1,-1,0],\n",
    "               [0,0,-1,1,0,0],[0,0,-1,0,2,-1],[0,0,0,0,-1,1]])\n",
    "l = lp.eigvals(m)\n",
    "print(l)"
   ]
  },
  {
   "cell_type": "code",
   "execution_count": 7,
   "metadata": {
    "collapsed": false
   },
   "outputs": [
    {
     "data": {
      "text/plain": [
       "42.0"
      ]
     },
     "execution_count": 7,
     "metadata": {},
     "output_type": "execute_result"
    }
   ],
   "source": [
    "ll = np.sum(np.square(l))\n",
    "ll"
   ]
  },
  {
   "cell_type": "code",
   "execution_count": 8,
   "metadata": {
    "collapsed": false
   },
   "outputs": [
    {
     "data": {
      "text/plain": [
       "32.000000000000007"
      ]
     },
     "execution_count": 8,
     "metadata": {},
     "output_type": "execute_result"
    }
   ],
   "source": [
    "m = np.matrix([[2,-1,-1,0,0], [-1,2,-1,0,0],[-1,-1,3,-1,0],\n",
    "               [0,0,-1,2,-1],[0,0,0,-1,1]])\n",
    "l = lp.eigvals(m)\n",
    "ll = np.sum(np.square(l))\n",
    "ll"
   ]
  },
  {
   "cell_type": "code",
   "execution_count": 9,
   "metadata": {
    "collapsed": false
   },
   "outputs": [
    {
     "data": {
      "text/plain": [
       "8.0"
      ]
     },
     "execution_count": 9,
     "metadata": {},
     "output_type": "execute_result"
    }
   ],
   "source": [
    "m = np.matrix([[1,-1,0,0,0], [-1,1,0,0,0],[0,0,0,0,0],\n",
    "               [0,0,0,1,-1],[0,0,0,-1,1]])\n",
    "l = lp.eigvals(m)\n",
    "ll = np.sum(np.square(l))\n",
    "ll"
   ]
  },
  {
   "cell_type": "code",
   "execution_count": 10,
   "metadata": {
    "collapsed": false
   },
   "outputs": [
    {
     "data": {
      "text/plain": [
       "49.090661662674918"
      ]
     },
     "execution_count": 10,
     "metadata": {},
     "output_type": "execute_result"
    }
   ],
   "source": [
    "m = np.matrix([[2.287,-1,-1,-1/8,-1/8,-1/27], [-1,2.287,-1,-1/8,-1/8,-1/27],\n",
    "               [-1,-1,4.125,-1,-1,-1/8],\n",
    "               [-1/8,-1/8,-1,1.5,-1/8,-1/27],[-1/8,-1/8,-1,-1/8,2.375,-1],\n",
    "              [-1/27,-1/27,-1/8,-1/27,-1,1.2361]])\n",
    "l = lp.eigvals(m)\n",
    "ll = np.sum(np.square(l))\n",
    "ll"
   ]
  },
  {
   "cell_type": "code",
   "execution_count": 5,
   "metadata": {
    "collapsed": false
   },
   "outputs": [],
   "source": [
    "import numpy as np\n",
    "import numpy.linalg as lp\n",
    "\n",
    "\n",
    "m = np.matrix([[0,-23/57,-61/570,-69/570], [0,1,-31/38,0],[0,0,1,0],[0,0,-32/38,1]])\n",
    "#v = lp.inv(m)\n"
   ]
  },
  {
   "cell_type": "code",
   "execution_count": 8,
   "metadata": {
    "collapsed": false
   },
   "outputs": [],
   "source": [
    "import numpy as np\n",
    "import numpy.linalg as lp\n",
    "\n",
    "m = np.matrix([[0,10,2,3], [0,0,7,0],[0,3,0,0],[0,0,6,0]])\n",
    "#v = lp.inv(m)\n"
   ]
  },
  {
   "cell_type": "code",
   "execution_count": null,
   "metadata": {
    "collapsed": true
   },
   "outputs": [],
   "source": []
  }
 ],
 "metadata": {
  "kernelspec": {
   "display_name": "Python 3",
   "language": "python",
   "name": "python3"
  },
  "language_info": {
   "codemirror_mode": {
    "name": "ipython",
    "version": 3
   },
   "file_extension": ".py",
   "mimetype": "text/x-python",
   "name": "python",
   "nbconvert_exporter": "python",
   "pygments_lexer": "ipython3",
   "version": "3.5.3"
  }
 },
 "nbformat": 4,
 "nbformat_minor": 2
}
