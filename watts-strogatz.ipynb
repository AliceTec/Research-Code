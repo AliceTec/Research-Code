{
 "cells": [
  {
   "cell_type": "code",
   "execution_count": 3,
   "metadata": {
    "collapsed": false
   },
   "outputs": [],
   "source": [
    "import networkx as nx\n",
    "import random as random\n",
    "\n",
    "def watts_strogatz_graph(n, k, p, seed=None):\n",
    "    if k>=n:\n",
    "            raise nx.NetworkXError(\"k>=n, choose smaller k or larger n\")\n",
    "    if seed is not None:\n",
    "        random.seed(seed)\n",
    "\n",
    "    G = nx.Graph()\n",
    "    G.name=\"watts_strogatz_graph(%s,%s,%s)\"%(n,k,p)\n",
    "    nodes = list(range(n)) # nodes are labeled 0 to n-1\n",
    "    # connect each node to k/2 neighbors\n",
    "    for j in range(1, k // 2+1):\n",
    "        targets = nodes[j:] + nodes[0:j] # first j nodes are now last in list\n",
    "        G.add_edges_from(zip(nodes,targets))\n",
    "    # rewire edges from each node\n",
    "    # loop over all nodes in order (label) and neighbors in order (distance)\n",
    "    # no self loops or multiple edges allowed\n",
    "    for j in range(1, k // 2+1): # outer loop is neighbors\n",
    "        targets = nodes[j:] + nodes[0:j] # first j nodes are now last in list\n",
    "        # inner loop in node order\n",
    "        for u,v in zip(nodes,targets):\n",
    "            if random.random() < p:\n",
    "                w = random.choice(nodes)\n",
    "                # Enforce no self-loops or multiple edges\n",
    "                while w == u or G.has_edge(u, w):\n",
    "                    w = random.choice(nodes)\n",
    "                    if G.degree(u) >= n-1:\n",
    "                        break # skip this rewiring\n",
    "                else:\n",
    "                    G.remove_edge(u,v)\n",
    "                    G.add_edge(u,w)\n",
    "    return G"
   ]
  },
  {
   "cell_type": "code",
   "execution_count": 4,
   "metadata": {
    "collapsed": true
   },
   "outputs": [],
   "source": [
    "def connected_watts_strogatz_graph(n, k, p, tries=100, seed=None):\n",
    "    G = watts_strogatz_graph(n, k, p, seed)\n",
    "    t=1\n",
    "    while not nx.is_connected(G):\n",
    "        G = watts_strogatz_graph(n, k, p, seed)\n",
    "        t=t+1\n",
    "        if t>tries:\n",
    "            raise nx.NetworkXError(\"Maximum number of tries exceeded\")\n",
    "    return G"
   ]
  },
  {
   "cell_type": "code",
   "execution_count": 6,
   "metadata": {
    "collapsed": false
   },
   "outputs": [
    {
     "data": {
      "image/png": "[encoded data removed]",
      "text/plain": [
       "<matplotlib.figure.Figure at 0x7fc24aa89dd8>"
      ]
     },
     "metadata": {},
     "output_type": "display_data"
    }
   ],
   "source": [
    "from __future__ import division\n",
    "\n",
    "import networkx as nx\n",
    "import pylab as pb\n",
    "\n",
    "#rho=open('CLphd.txt','w')\n",
    "N=1000\n",
    "k=20\n",
    "prob=[0,0.00025,0.000375,0.0005,0.000625,0.00075,0.000875,0.001,0.002,0.003,0.004,0.005,0.006,0.007,0.008,0.009,0.01,0.02,0.03,0.04,0.05,0.06,0.07,0.08,0.09,0.1,0.15,0.2,0.25,0.3,0.35,0.4,0.45]\n",
    "\n",
    "C=[]\n",
    "L = []\n",
    "\n",
    "niter=1\n",
    "for p in prob:\n",
    "    s1=0\n",
    "    s2=0\n",
    "    for j in range(niter):\n",
    "        g2=connected_watts_strogatz_graph(N, k, p)\n",
    "        av=nx.average_clustering(g2)\n",
    "        ap=nx.average_shortest_path_length(g2)\n",
    "        s1=s1+av/niter\n",
    "        s2=s2+ap/niter\n",
    "    C.append(s1)\n",
    "    L.append(s2)\n",
    "Cp=[n/C[0] for n in C]    \n",
    "Lp=[n1/L[0] for n1 in L]    \n",
    "#for i in Cp:\n",
    "    #print >> rho, i,\n",
    "    #print >> rho, ''\n",
    "#for j in Lp:\n",
    "    #print >> rho, j,\n",
    "#rho.close()\n",
    "pb.figure(2)\n",
    "pb.semilogx(prob,Cp,'s')\n",
    "pb.semilogx(prob,Lp,'o')\n",
    "pb.xlabel('p')\n",
    "pb.show()"
   ]
  },
  {
   "cell_type": "code",
   "execution_count": 1,
   "metadata": {
    "collapsed": false
   },
   "outputs": [],
   "source": [
    "import networkx as nx\n",
    "import random as random\n",
    "\n",
    "def watts_strogatz_graph_x(n, k,x,seed=None):\n",
    "    if k>=n:\n",
    "            raise nx.NetworkXError(\"k>=n, choose smaller k or larger n\")\n",
    "    if seed is not None:\n",
    "        random.seed(seed)\n",
    "\n",
    "    G = nx.Graph()\n",
    "    G.name=\"watts_strogatz_graph(%s,%s,%s)\"%(n,k,x)\n",
    "    nodes = list(range(n)) # nodes are labeled 0 to n-1\n",
    "    # connect each node to k/2 neighbors\n",
    "    for j in range(1, k // 2+1):\n",
    "        targets = nodes[j:] + nodes[0:j] # first j nodes are now last in list\n",
    "        G.add_edges_from(zip(nodes,targets))\n",
    "    # rewire edges from each node\n",
    "    # loop over all nodes in order (label) and neighbors in order (distance)\n",
    "    # no self loops or multiple edges allowed\n",
    "    for j in range(1, k // 2+1): # outer loop is neighbors\n",
    "        targets = nodes[j:] + nodes[0:j] # first j nodes are now last in list\n",
    "        # inner loop in node order\n",
    "        for u,v in zip(nodes,targets):\n",
    "            w = random.choice(nodes)\n",
    "            # Enforce no self-loops or multiple edges\n",
    "            while w == u or G.has_edge(u, w):\n",
    "                w = random.choice(nodes)\n",
    "                if G.degree(u) >= n-1:\n",
    "                    break # skip this rewiring\n",
    "            else:\n",
    "                d = nx.shortest_path_length(G, source=u, target=w)\n",
    "                p = d*pow(x,(d-1))\n",
    "                if random.random() < p:\n",
    "                    G.remove_edge(u,v)\n",
    "                    G.add_edge(u,w)\n",
    "                \n",
    "    return G"
   ]
  },
  {
   "cell_type": "code",
   "execution_count": 2,
   "metadata": {
    "collapsed": true
   },
   "outputs": [],
   "source": [
    "def connected_watts_strogatz_graph_x(n, k, x, tries=100, seed=None):\n",
    "    G = watts_strogatz_graph_x(n, k, x, seed)\n",
    "    t=1\n",
    "    while not nx.is_connected(G):\n",
    "        G = watts_strogatz_graph_x(n, k, x, seed)\n",
    "        t=t+1\n",
    "        if t>tries:\n",
    "            raise nx.NetworkXError(\"Maximum number of tries exceeded\")\n",
    "    return G"
   ]
  },
  {
   "cell_type": "code",
   "execution_count": 7,
   "metadata": {
    "collapsed": false,
    "scrolled": false
   },
   "outputs": [
    {
     "data": {
      "image/png": "[encoded data removed]",
      "text/plain": [
       "<matplotlib.figure.Figure at 0x7f38ccdb5390>"
      ]
     },
     "metadata": {},
     "output_type": "display_data"
    }
   ],
   "source": [
    "from __future__ import division\n",
    "\n",
    "import networkx as nx\n",
    "import pylab as pb\n",
    "\n",
    "#rho=open('CLphd.txt','w')\n",
    "N=1000\n",
    "k=20\n",
    "prob=[0.1,0.11,0.12,0.13,0.14,0.15,0.16,0.17,\n",
    "      0.18,0.19,0.2,0.21,0.22,0.23,0.24,0.25,\n",
    "      0.26,0.27,0.28,0.29,0.3,0.31,0.32,0.33,\n",
    "      0.34,0.35,0.36,0.37,0.38,0.39,0.4,0.41,\n",
    "      0.42,0.43,0.44,45]\n",
    "\n",
    "C=[]\n",
    "L = []\n",
    "\n",
    "niter=1\n",
    "for p in prob:\n",
    "    s1=0\n",
    "    s2=0\n",
    "    for j in range(niter):\n",
    "        g2=connected_watts_strogatz_graph_x(N, k, p)\n",
    "        av=nx.average_clustering(g2)\n",
    "        ap=nx.average_shortest_path_length(g2)\n",
    "        s1=s1+av/niter\n",
    "        s2=s2+ap/niter\n",
    "    C.append(s1)\n",
    "    L.append(s2)\n",
    "Cp=[n/C[0] for n in C]    \n",
    "Lp=[n1/L[0] for n1 in L]    \n",
    "#for i in Cp:\n",
    "    #print >> rho, i,\n",
    "    #print >> rho, ''\n",
    "#for j in Lp:\n",
    "    #print >> rho, j,\n",
    "#rho.close()\n",
    "pb.figure(2)\n",
    "pb.semilogx(prob,Cp,'s')\n",
    "pb.semilogx(prob,Lp,'o')\n",
    "pb.xlabel('p')\n",
    "pb.xlim(0.1,0.45)\n",
    "pb.show()"
   ]
  },
  {
   "cell_type": "code",
   "execution_count": null,
   "metadata": {
    "collapsed": false
   },
   "outputs": [],
   "source": []
  },
  {
   "cell_type": "code",
   "execution_count": null,
   "metadata": {
    "collapsed": true
   },
   "outputs": [],
   "source": []
  }
 ],
 "metadata": {
  "kernelspec": {
   "display_name": "Python 2",
   "language": "python",
   "name": "python2"
  },
  "language_info": {
   "codemirror_mode": {
    "name": "ipython",
    "version": 2
   },
   "file_extension": ".py",
   "mimetype": "text/x-python",
   "name": "python",
   "nbconvert_exporter": "python",
   "pygments_lexer": "ipython2",
   "version": "2.7.13"
  }
 },
 "nbformat": 4,
 "nbformat_minor": 2
}
