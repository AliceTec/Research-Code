{
 "cells": [
  {
   "cell_type": "code",
   "execution_count": 1,
   "metadata": {
    "collapsed": false
   },
   "outputs": [
    {
     "name": "stdout",
     "output_type": "stream",
     "text": [
      "[ 0.+0.j  1.+0.j  2.+0.j  1.+0.j]\n",
      "[  1.80901699e+00+0.j   6.90983006e-01+0.j  -1.05517795e-16+0.j\n",
      "   1.80901699e+00+0.j   6.90983006e-01+0.j]\n"
     ]
    },
    {
     "name": "stderr",
     "output_type": "stream",
     "text": [
      "/usr/local/lib/python3.5/dist-packages/numpy/core/numeric.py:531: ComplexWarning: Casting complex values to real discards the imaginary part\n",
      "  return array(a, dtype, copy=False, order=order)\n"
     ]
    },
    {
     "data": {
      "image/png": "[encoded data removed]",
      "text/plain": [
       "<matplotlib.figure.Figure at 0x7fdb59431470>"
      ]
     },
     "metadata": {},
     "output_type": "display_data"
    },
    {
     "name": "stdout",
     "output_type": "stream",
     "text": [
      "[(4+0j), (1.8710941655794973+0j), (1.2889862053619596+0j), (1.1020528889123942+0j), (1.0369667404053708+0j), (1.0135212939279332+0j), (1.0049636485656859+0j), (1.0018245954598282+0j), (1.0006710377909795+0j), (1.0002468348381532+0j)]\n"
     ]
    }
   ],
   "source": [
    "import networkx as nx\n",
    "import numpy as np\n",
    "import matplotlib.pyplot as plt\n",
    "from scipy.linalg import eigvals\n",
    "\n",
    "G1 = nx.Graph([(1,2),(2,3),(3,4),(4,1)])\n",
    "G2 = nx.Graph([(1,2),(2,3),(3,4),(4,5),(5,1)])\n",
    "G3 = nx.Graph([(1,2),(2,3),(2,4),(4,5),(5,8),(8,7),(7,6),(6,3),(1,9),\n",
    "              (9,10),(10,12),(12,14),(14,15),(15,13),(13,11),(11,9)])\n",
    "l1 = eigvals(nx.normalized_laplacian_matrix(G1).todense())\n",
    "l2 = eigvals(nx.normalized_laplacian_matrix(G2).todense())\n",
    "l3 = eigvals(nx.normalized_laplacian_matrix(G3).todense())\n",
    "print(l1)\n",
    "print(l2)\n",
    "time = np.arange(0,10)\n",
    "\n",
    "T1=[]\n",
    "T2=[]\n",
    "T3 = []\n",
    "TT=[]\n",
    "for t in time:\n",
    "    T1.append(np.sum(np.exp(-t*(l1))))\n",
    "    T2.append(np.sum(np.exp(-t*(l2))))\n",
    "    T3.append(np.sum(np.exp(-t*(l3))))\n",
    "TT.append(T1)\n",
    "TT.append(T2)\n",
    "TT.append(T3)\n",
    "plt.plot(time,T1)\n",
    "plt.plot(time,T2)\n",
    "plt.plot(time,T3)\n",
    "plt.show()\n",
    "print(T1)"
   ]
  },
  {
   "cell_type": "code",
   "execution_count": 15,
   "metadata": {
    "collapsed": false
   },
   "outputs": [
    {
     "name": "stdout",
     "output_type": "stream",
     "text": [
      "[[-3.  2.  0.  2.]\n",
      " [ 2. -3.  2.  0.]\n",
      " [ 0.  2. -3.  2.]\n",
      " [ 2.  0.  2. -3.]]\n"
     ]
    }
   ],
   "source": [
    "I = np.identity(4)\n",
    "l1 = nx.normalized_laplacian_matrix(G1).todense()\n",
    "print(I-(l1))"
   ]
  },
  {
   "cell_type": "code",
   "execution_count": 34,
   "metadata": {
    "collapsed": false
   },
   "outputs": [
    {
     "name": "stdout",
     "output_type": "stream",
     "text": [
      "8.881784197001252e-16\n"
     ]
    }
   ],
   "source": [
    "from scipy.linalg import det\n",
    "\n",
    "L1 = nx.laplacian_matrix(G1).todense()\n",
    "#print(L1)\n",
    "#print(-L1)\n",
    "print(det(L1))"
   ]
  },
  {
   "cell_type": "code",
   "execution_count": 29,
   "metadata": {
    "collapsed": false
   },
   "outputs": [
    {
     "name": "stdout",
     "output_type": "stream",
     "text": [
      "[  5.55111512e-17   1.00000000e+00   1.00000000e+00   2.00000000e+00]\n",
      "[[ 0.5        -0.30151134  0.63960215 -0.5       ]\n",
      " [ 0.5        -0.63960215 -0.30151134  0.5       ]\n",
      " [ 0.5         0.30151134 -0.63960215 -0.5       ]\n",
      " [ 0.5         0.63960215  0.30151134  0.5       ]]\n"
     ]
    }
   ],
   "source": [
    "from numpy import linalg as LA\n",
    "w, v = LA.eigh(nx.normalized_laplacian_matrix(G1).todense())\n",
    "print(w)\n",
    "print(v)"
   ]
  },
  {
   "cell_type": "code",
   "execution_count": 30,
   "metadata": {
    "collapsed": false
   },
   "outputs": [
    {
     "name": "stdout",
     "output_type": "stream",
     "text": [
      "[[ 0.09090909  0.1928473  -0.09090909 -0.1928473 ]\n",
      " [ 0.1928473   0.40909091 -0.1928473  -0.40909091]\n",
      " [-0.09090909 -0.1928473   0.09090909  0.1928473 ]\n",
      " [-0.1928473  -0.40909091  0.1928473   0.40909091]]\n"
     ]
    }
   ],
   "source": [
    "v1 = v[:,1]\n",
    "print(np.dot(v1, np.transpose(v1)))"
   ]
  },
  {
   "cell_type": "code",
   "execution_count": 11,
   "metadata": {
    "collapsed": false
   },
   "outputs": [
    {
     "data": {
      "text/plain": [
       "array([[ 0.32224655,  0.24542109,  0.18691127,  0.24542109],\n",
       "       [ 0.24542109,  0.32224655,  0.24542109,  0.18691127],\n",
       "       [ 0.18691127,  0.24542109,  0.32224655,  0.24542109],\n",
       "       [ 0.24542109,  0.18691127,  0.24542109,  0.32224655]])"
      ]
     },
     "execution_count": 11,
     "metadata": {},
     "output_type": "execute_result"
    }
   ],
   "source": [
    "from scipy.linalg import expm\n",
    "lk = nx.normalized_laplacian_matrix(G1).todense()\n",
    "expm(-2*lk)"
   ]
  },
  {
   "cell_type": "code",
   "execution_count": null,
   "metadata": {
    "collapsed": true
   },
   "outputs": [],
   "source": []
  },
  {
   "cell_type": "code",
   "execution_count": 30,
   "metadata": {
    "collapsed": false
   },
   "outputs": [
    {
     "data": {
      "text/plain": [
       "1.8710941655794975"
      ]
     },
     "execution_count": 30,
     "metadata": {},
     "output_type": "execute_result"
    }
   ],
   "source": [
    "1+np.exp(-1)+np.exp(-1)+np.exp(-2)"
   ]
  },
  {
   "cell_type": "code",
   "execution_count": 32,
   "metadata": {
    "collapsed": false
   },
   "outputs": [],
   "source": [
    "def nodes_connected(G,u, v):\n",
    "    return u in G.neighbors(v)\n",
    "\n",
    "def generalisedLapMatrix(G,x):\n",
    "    nodelist = nx.nodes(G)\n",
    "    nsize = len(nodelist)\n",
    "    mp    = np.zeros(shape=(nsize,nsize))\n",
    "    for n in nodelist:\n",
    "        c = 0   \n",
    "        i = nodelist.index(n)\n",
    "        j = i+1\n",
    "        for m in nodelist[j:]:\n",
    "            if(nodes_connected(G,n,m)):\n",
    "                mp[i,j]= mp[j,i] = -1\n",
    "            else:\n",
    "                s   = nx.shortest_path_length(G, source=n,target=m)\n",
    "                val = (s*pow(x,(s-1)))\n",
    "                mp[i,j]= mp[j,i]= -val\n",
    "            j= j+1\n",
    "        mp[i,i] =  -1*(mp[i].sum())\n",
    "        i = 0\n",
    "    return mp"
   ]
  },
  {
   "cell_type": "code",
   "execution_count": 34,
   "metadata": {
    "collapsed": false
   },
   "outputs": [
    {
     "data": {
      "text/plain": [
       "array([[ 3., -1., -1., -1.],\n",
       "       [-1.,  3., -1., -1.],\n",
       "       [-1., -1.,  3., -1.],\n",
       "       [-1., -1., -1.,  3.]])"
      ]
     },
     "execution_count": 34,
     "metadata": {},
     "output_type": "execute_result"
    }
   ],
   "source": [
    "generalisedLapMatrix(G1,0.5)"
   ]
  },
  {
   "cell_type": "code",
   "execution_count": 38,
   "metadata": {
    "collapsed": false
   },
   "outputs": [
    {
     "name": "stdout",
     "output_type": "stream",
     "text": [
      "[  4.00000000e+00+0.j  -1.11022302e-16+0.j   4.00000000e+00+0.j\n",
      "   4.00000000e+00+0.j]\n"
     ]
    },
    {
     "name": "stderr",
     "output_type": "stream",
     "text": [
      "/usr/lib/python3/dist-packages/numpy/core/numeric.py:531: ComplexWarning: Casting complex values to real discards the imaginary part\n",
      "  return array(a, dtype, copy=False, order=order)\n"
     ]
    },
    {
     "data": {
      "image/png": "[encoded data removed]",
      "text/plain": [
       "<matplotlib.figure.Figure at 0x7f457cf1ef60>"
      ]
     },
     "metadata": {},
     "output_type": "display_data"
    }
   ],
   "source": [
    "l1 = eigvals(generalisedLapMatrix(G1,0.5))\n",
    "l2 = eigvals(generalisedLapMatrix(G2,0.5))\n",
    "l3 = eigvals(generalisedLapMatrix(G3,0.5))\n",
    "print(l1)\n",
    "time = np.arange(1,11,0.5)\n",
    "\n",
    "T1=[]\n",
    "T2=[]\n",
    "T3 = []\n",
    "TT=[]\n",
    "for t in time:\n",
    "    T1.append(np.sum(np.exp(-t*(l1))))\n",
    "    T2.append(np.sum(np.exp(-t*(l2))))\n",
    "    T3.append(np.sum(np.exp(-t*(l3))))\n",
    "TT.append(T1)\n",
    "TT.append(T2)\n",
    "TT.append(T3)\n",
    "plt.plot(time,T1)\n",
    "plt.plot(time,T2)\n",
    "plt.plot(time,T3)\n",
    "plt.show()"
   ]
  },
  {
   "cell_type": "code",
   "execution_count": 9,
   "metadata": {
    "collapsed": false
   },
   "outputs": [
    {
     "name": "stderr",
     "output_type": "stream",
     "text": [
      "/usr/lib/python3/dist-packages/numpy/core/numeric.py:531: ComplexWarning: Casting complex values to real discards the imaginary part\n",
      "  return array(a, dtype, copy=False, order=order)\n"
     ]
    },
    {
     "data": {
      "image/png": "[encoded data removed]",
      "text/plain": [
       "<matplotlib.figure.Figure at 0x7f598fc0c2b0>"
      ]
     },
     "metadata": {},
     "output_type": "display_data"
    }
   ],
   "source": [
    "n = 10\n",
    "Ge = nx.erdos_renyi_graph(n, 0.06, seed=None)\n",
    "Gb = nx.barabasi_albert_graph(n, 3, seed=None)\n",
    "Gw = nx.watts_strogatz_graph(10, 2, 0.1, seed=None)\n",
    "l1 = eigvals(nx.normalized_laplacian_matrix(Ge).todense())\n",
    "l2 = eigvals(nx.normalized_laplacian_matrix(Gb).todense())\n",
    "l3 = eigvals(nx.normalized_laplacian_matrix(Gw).todense())\n",
    "\n",
    "time = np.arange(1,11,0.5)\n",
    "\n",
    "T1=[]\n",
    "T2=[]\n",
    "T3 = []\n",
    "TT=[]\n",
    "for t in time:\n",
    "    T1.append(np.sum(np.exp(-t*(l1))))\n",
    "    T2.append(np.sum(np.exp(-t*(l2))))\n",
    "    T3.append(np.sum(np.exp(-t*(l3))))\n",
    "    \n",
    "plt.plot(time,T1)\n",
    "plt.plot(time,T2)\n",
    "plt.plot(time,T3)\n",
    "plt.show()"
   ]
  },
  {
   "cell_type": "code",
   "execution_count": 2,
   "metadata": {
    "collapsed": false
   },
   "outputs": [
    {
     "name": "stdout",
     "output_type": "stream",
     "text": [
      "1.28898620536\n"
     ]
    }
   ],
   "source": [
    "import networkx as nx\n",
    "import numpy as np\n",
    "import matplotlib.pyplot as plt\n",
    "from scipy.linalg import eigvals\n",
    "\n",
    "G1 = nx.Graph([(1,2),(2,3),(3,4),(4,1)])\n",
    "print(np.sum(np.exp(-1*nx.laplacian_spectrum(G1))))"
   ]
  },
  {
   "cell_type": "code",
   "execution_count": 46,
   "metadata": {
    "collapsed": false
   },
   "outputs": [
    {
     "name": "stdout",
     "output_type": "stream",
     "text": [
      "[ 0.+0.j  1.+0.j  2.+0.j  1.+0.j]\n"
     ]
    }
   ],
   "source": [
    "print(eigvals(nx.normalized_laplacian_matrix(G1).todense()))"
   ]
  },
  {
   "cell_type": "code",
   "execution_count": 12,
   "metadata": {
    "collapsed": false
   },
   "outputs": [],
   "source": [
    "L = nx.normalized_laplacian_matrix(G1).todense()\n"
   ]
  },
  {
   "cell_type": "code",
   "execution_count": 36,
   "metadata": {
    "collapsed": false
   },
   "outputs": [
    {
     "name": "stdout",
     "output_type": "stream",
     "text": [
      "[ 2.+0.j  0.+0.j  2.+0.j  0.+0.j]\n"
     ]
    }
   ],
   "source": [
    "L1 = np.matrix([[1,0,-1,0],[0,1,0,-1],[-1,0,1,0],[0,-1,0,1]])\n",
    "print(eigvals(L1))"
   ]
  },
  {
   "cell_type": "code",
   "execution_count": 3,
   "metadata": {
    "collapsed": false
   },
   "outputs": [
    {
     "name": "stdout",
     "output_type": "stream",
     "text": [
      "[  3.61803399e+00+0.j   1.38196601e+00+0.j  -2.38411352e-16+0.j\n",
      "   3.61803399e+00+0.j   1.38196601e+00+0.j]\n",
      "[  4.44089210e-16+0.j   3.96352549e+00+0.j   2.28647451e+00+0.j\n",
      "   2.28647451e+00+0.j   3.96352549e+00+0.j]\n"
     ]
    }
   ],
   "source": [
    "G2 = nx.Graph([(1,2),(2,3),(3,4),(4,5),(5,1)])\n",
    "L = nx.laplacian_matrix(G2).todense()\n",
    "L1 = np.matrix([[2,0,-1,-1,0],[0,2,0,-1,-1],[-1,0,2,0,-1],[-1,-1,0,2,0],[0,-1,-1,0,2]])\n",
    "L2 = L + 1/4 * L1\n",
    "#print(np.sum(np.exp(-1*eigvals(L2))))\n",
    "print(eigvals(L))\n",
    "print(eigvals(L2))"
   ]
  },
  {
   "cell_type": "code",
   "execution_count": 25,
   "metadata": {
    "collapsed": false
   },
   "outputs": [
    {
     "name": "stdout",
     "output_type": "stream",
     "text": [
      "1.55583963201\n"
     ]
    }
   ],
   "source": [
    "print(np.sum(np.exp(-1*nx.laplacian_spectrum(G2))))"
   ]
  },
  {
   "cell_type": "code",
   "execution_count": 4,
   "metadata": {
    "collapsed": false
   },
   "outputs": [
    {
     "name": "stdout",
     "output_type": "stream",
     "text": [
      "[ -1.11022302e-16+0.j   1.00000000e+00+0.j   4.00000000e+00+0.j\n",
      "   3.00000000e+00+0.j   3.00000000e+00+0.j   1.00000000e+00+0.j]\n",
      "[  4.44089210e-16+0.j   1.75000000e+00+0.j   3.75000000e+00+0.j\n",
      "   4.00000000e+00+0.j   1.75000000e+00+0.j   3.75000000e+00+0.j]\n",
      "[  2.22044605e-16+0.j   1.91493225e+00+0.j   1.97222222e+00+0.j\n",
      "   4.22222222e+00+0.j   3.69617886e+00+0.j   3.75000000e+00+0.j]\n"
     ]
    }
   ],
   "source": [
    "G3= nx.Graph([(1,2),(2,3),(3,4),(4,5),(5,6),(6,1)])\n",
    "L = nx.laplacian_matrix(G3).todense()\n",
    "L1 = np.matrix([[2,0,-1,0,-1,0],[0,2,0,-1,0,-1],[-1,0,2,0,-1,0],\n",
    "                [0,-1,0,2,0,-1],[-1,0,-1,0,2,0],[0,-1,0,-1,0,2]])\n",
    "L2 = np.matrix([[1,0,0,-1,0,0],[0,1,0,0,-1,0],[1,0,0,0,0,-1],\n",
    "                [-1,0,0,1,0,0],[0,-1,0,0,1,0],[0,0,-1,0,0,1]])\n",
    "L3 = L + 1/4 * L1 + 1/9*L2\n",
    "#print(np.sum(np.exp(-1*eigvals(L3))))\n",
    "print(eigvals(L))\n",
    "print(eigvals(L + 1/4 * L1))\n",
    "print(eigvals(L3))"
   ]
  },
  {
   "cell_type": "code",
   "execution_count": 28,
   "metadata": {
    "collapsed": false
   },
   "outputs": [
    {
     "name": "stdout",
     "output_type": "stream",
     "text": [
      "1.85364865797\n"
     ]
    }
   ],
   "source": [
    "print(np.sum(np.exp(-1*nx.laplacian_spectrum(G3))))"
   ]
  },
  {
   "cell_type": "code",
   "execution_count": 11,
   "metadata": {
    "collapsed": false
   },
   "outputs": [
    {
     "name": "stdout",
     "output_type": "stream",
     "text": [
      "[ -6.66133815e-16+0.j   2.44504187e+00+0.j   3.80193774e+00+0.j\n",
      "   3.80193774e+00+0.j   7.53020396e-01+0.j   7.53020396e-01+0.j\n",
      "   2.44504187e+00+0.j]\n",
      "[  4.44089210e-16+0.j   1.78671839e+00+0.j   4.26186415e+00+0.j\n",
      "   3.47919523e+00+0.j   1.78671839e+00+0.j   3.47919523e+00+0.j\n",
      "   4.26186415e+00+0.j]\n"
     ]
    }
   ],
   "source": [
    "G4 = nx.Graph([(1,2),(2,3),(3,4),(4,5),(5,6),(6,7),(7,1)])\n",
    "L = nx.laplacian_matrix(G4).todense()\n",
    "L1 = np.matrix([[2,0,-1,0,0,-1,0],[0,2,0,-1,0,0,-1],[-1,0,2,0,-1,0,0],\n",
    "                [0,-1,0,2,0,-1,0],[0,0,-1,0,2,0,-1],[-1,0,0,-1,0,2,0],\n",
    "               [0,-1,0,0,-1,0,2]])\n",
    "L2 = np.matrix([[2,0,0,-1,-1,0,0],[0,2,0,0,-1,-1,0],[0,0,2,0,0,-1,-1],\n",
    "                [-1,0,0,2,0,0,-1],[-1,-1,0,0,2,0,0],[0,-1,-1,0,0,2,0],\n",
    "                [0,0,-1,-1,0,0,2]])\n",
    "L3 = L + 1/4 * L1 + 1/9*L2\n",
    "#print(np.sum(np.exp(-1*eigvals(L3))))\n",
    "print(eigvals(L))\n",
    "print(eigvals(L3))\n",
    "#print(L+L1+L2)"
   ]
  },
  {
   "cell_type": "code",
   "execution_count": 33,
   "metadata": {
    "collapsed": false
   },
   "outputs": [
    {
     "name": "stdout",
     "output_type": "stream",
     "text": [
      "2.15998388033\n"
     ]
    }
   ],
   "source": [
    "print(np.sum(np.exp(-1*nx.laplacian_spectrum(G4))))"
   ]
  },
  {
   "cell_type": "code",
   "execution_count": 1,
   "metadata": {
    "collapsed": false
   },
   "outputs": [
    {
     "name": "stderr",
     "output_type": "stream",
     "text": [
      "/usr/lib/python3/dist-packages/numpy/core/numeric.py:531: ComplexWarning: Casting complex values to real discards the imaginary part\n",
      "  return array(a, dtype, copy=False, order=order)\n"
     ]
    },
    {
     "data": {
      "image/png": "[encoded data removed]",
      "text/plain": [
       "<matplotlib.figure.Figure at 0x7f1f982aeda0>"
      ]
     },
     "metadata": {},
     "output_type": "display_data"
    }
   ],
   "source": [
    "import networkx as nx\n",
    "import numpy as np\n",
    "import matplotlib.pyplot as plt\n",
    "from scipy.linalg import eigvals\n",
    "\n",
    "G1 = nx.Graph([(1,2),(1,3),(1,4),(1,5),(1,6),(1,7),(1,8),(1,9),(1,10)])\n",
    "G2 = nx.Graph([(1,2),(2,3),(3,4),(4,5),(5,6),(6,7),(7,8),(8,9),(9,10)])\n",
    "G3 = nx.Graph([(1,2),(2,3),(3,4),(4,5),(5,6),(6,7),(7,8),(8,9),(9,10),(10,1)])\n",
    "\n",
    "l1 = eigvals(nx.normalized_laplacian_matrix(G1).todense())\n",
    "l2 = eigvals(nx.normalized_laplacian_matrix(G2).todense())\n",
    "l3 = eigvals(nx.normalized_laplacian_matrix(G3).todense())\n",
    "#print(l1)\n",
    "#print(l2)\n",
    "time = np.arange(0,20,0.5)\n",
    "\n",
    "T1=[]\n",
    "T2=[]\n",
    "T3 = []\n",
    "TT=[]\n",
    "for t in time:\n",
    "    T1.append(np.sum(np.exp(-t*(l1))))\n",
    "    T2.append(np.sum(np.exp(-t*(l2))))\n",
    "    T3.append(np.sum(np.exp(-t*(l3))))\n",
    "\n",
    "plt.plot(time,T1, label='Star')\n",
    "plt.plot(time,T2, label='Path')\n",
    "plt.plot(time,T3, label='Ring')\n",
    "plt.xlabel('Time, t')\n",
    "plt.ylabel('Trace of the heat kernel, $Tr(H_t)$')\n",
    "plt.legend()\n",
    "plt.show()"
   ]
  },
  {
   "cell_type": "code",
   "execution_count": 7,
   "metadata": {
    "collapsed": false
   },
   "outputs": [
    {
     "name": "stderr",
     "output_type": "stream",
     "text": [
      "/usr/lib/python3/dist-packages/numpy/core/numeric.py:531: ComplexWarning: Casting complex values to real discards the imaginary part\n",
      "  return array(a, dtype, copy=False, order=order)\n"
     ]
    },
    {
     "data": {
      "image/png": "[encoded data removed]",
      "text/plain": [
       "<matplotlib.figure.Figure at 0x7f1f72cafb70>"
      ]
     },
     "metadata": {},
     "output_type": "display_data"
    }
   ],
   "source": [
    "import networkx as nx\n",
    "import numpy as np\n",
    "import matplotlib.pyplot as plt\n",
    "from scipy.linalg import eigvals\n",
    "\n",
    "G1 = nx.Graph([(1,2),(2,3),(3,4),(4,5),(5,6),(6,1)])\n",
    "G2 = nx.Graph([(1,2),(2,3),(3,4),(4,5),(5,6),(6,1),(1,5),(2,4),(3,6)])\n",
    "G3 = nx.Graph([(1,2),(2,3),(3,4),(4,5),(5,6),(6,1),(1,5),(2,4),(3,6),\n",
    "             (2,6),(1,4),(3,5)])\n",
    "#G3 = nx.Graph([(1,2),(2,3),(3,4),(4,5),(5,6),(6,7),(7,8),(8,9),(9,10),(10,1)])\n",
    "\n",
    "l1 = eigvals(nx.normalized_laplacian_matrix(G1).todense())\n",
    "l2 = eigvals(nx.normalized_laplacian_matrix(G2).todense())\n",
    "l3 = eigvals(nx.normalized_laplacian_matrix(G3).todense())\n",
    "#print(l1)\n",
    "#print(l2)\n",
    "time = np.arange(0,20,0.5)\n",
    "\n",
    "T1=[]\n",
    "T2=[]\n",
    "T3 = []\n",
    "TT=[]\n",
    "for t in time:\n",
    "    T1.append(np.sum(np.exp(-t*(l1))))\n",
    "    T2.append(np.sum(np.exp(-t*(l2))))\n",
    "    T3.append(np.sum(np.exp(-t*(l3))))\n",
    "\n",
    "plt.plot(time,T1, label='2-regular')\n",
    "plt.plot(time,T2, label='3-regular')\n",
    "plt.plot(time,T3, label='4-regular')\n",
    "plt.legend()\n",
    "plt.show()"
   ]
  },
  {
   "cell_type": "code",
   "execution_count": 9,
   "metadata": {
    "collapsed": false
   },
   "outputs": [
    {
     "name": "stdout",
     "output_type": "stream",
     "text": [
      "[  1.80901699e+00+0.j   6.90983006e-01+0.j  -1.05517795e-16+0.j\n",
      "   1.80901699e+00+0.j   6.90983006e-01+0.j]\n",
      "[  4.82263933e-18+0.j   1.80901699e+00+0.j   1.80901699e+00+0.j\n",
      "   6.90983006e-01+0.j   6.90983006e-01+0.j]\n"
     ]
    },
    {
     "name": "stderr",
     "output_type": "stream",
     "text": [
      "/usr/lib/python3/dist-packages/numpy/core/numeric.py:531: ComplexWarning: Casting complex values to real discards the imaginary part\n",
      "  return array(a, dtype, copy=False, order=order)\n"
     ]
    },
    {
     "data": {
      "image/png": "[encoded data removed]",
      "text/plain": [
       "<matplotlib.figure.Figure at 0x7f341cd63c88>"
      ]
     },
     "metadata": {},
     "output_type": "display_data"
    }
   ],
   "source": [
    "import networkx as nx\n",
    "import numpy as np\n",
    "import matplotlib.pyplot as plt\n",
    "from scipy.linalg import eigvals\n",
    "\n",
    "G1 = nx.Graph([(1,2),(2,3),(3,4),(4,5),(5,1)])\n",
    "#G2 = nx.Graph([(1,2),(2,3),(3,4),(4,5),(5,6),(6,1),(1,5),(2,4),(3,6)])\n",
    "#G3 = nx.Graph([(1,2),(2,3),(3,4),(4,5),(5,6),(6,1),(1,5),(2,4),(3,6),\n",
    "             #(2,6),(1,4),(3,5)])\n",
    "#G3 = nx.Graph([(1,2),(2,3),(3,4),(4,5),(5,6),(6,7),(7,8),(8,9),(9,10),(10,1)])\n",
    "\n",
    "l1 = eigvals(nx.normalized_laplacian_matrix(G1).todense())\n",
    "l2 = eigvals(np.matrix([[1,0,-1/2,-1/2,0],[0,1,0,-1/2,-1/2],[-1/2,0,1,0,-1/2],\n",
    "                [-1/2,-1/2,0,1,0],[0,-1/2,-1/2,0,1]]))\n",
    "#l2 = eigvals(nx.normalized_laplacian_matrix(G2).todense())\n",
    "#l3 = eigvals(nx.normalized_laplacian_matrix(G3).todense())\n",
    "print(l1)\n",
    "print(l2)\n",
    "time = np.arange(0,20,0.5)\n",
    "\n",
    "T1=[]\n",
    "T2=[]\n",
    "T3 = []\n",
    "TT=[]\n",
    "for t in time:\n",
    "    T1.append(np.sum(np.exp(-t*(l1))))\n",
    "    T2.append(np.sum(np.exp(-t*(l2))))\n",
    "    #T3.append(np.sum(np.exp(-t*(l3))))\n",
    "\n",
    "plt.plot(time,T1)\n",
    "plt.plot(time,T2)\n",
    "#plt.plot(time,T3)\n",
    "plt.show()"
   ]
  },
  {
   "cell_type": "code",
   "execution_count": 8,
   "metadata": {
    "collapsed": false
   },
   "outputs": [
    {
     "data": {
      "text/plain": [
       "array([ 0.5+0.j,  2.0+0.j,  0.0+0.j,  2.0+0.j,  2.5+0.j])"
      ]
     },
     "execution_count": 8,
     "metadata": {},
     "output_type": "execute_result"
    }
   ],
   "source": [
    "l2 = eigvals(np.matrix([[1,0,-1/2,0,-1/2],[0,1,0,-1,0],[-1/2,0,2,0,-1/2],\n",
    "                       [0,-1,0,1,0],[-1/2,0,-1/2,0,2]]))\n",
    "l2"
   ]
  },
  {
   "cell_type": "code",
   "execution_count": 14,
   "metadata": {
    "collapsed": false
   },
   "outputs": [
    {
     "name": "stdout",
     "output_type": "stream",
     "text": [
      "[ 0.00000000+0.j  0.59175171+0.j  2.00000000+0.j  1.40824829+0.j\n",
      "  1.00000000+0.j]\n",
      "[ 0.5+0.j  2.0+0.j  0.0+0.j  2.0+0.j  2.5+0.j]\n"
     ]
    },
    {
     "name": "stderr",
     "output_type": "stream",
     "text": [
      "/usr/lib/python3/dist-packages/numpy/core/numeric.py:531: ComplexWarning: Casting complex values to real discards the imaginary part\n",
      "  return array(a, dtype, copy=False, order=order)\n"
     ]
    },
    {
     "data": {
      "image/png": "[encoded data removed]",
      "text/plain": [
       "<matplotlib.figure.Figure at 0x7f341ce734a8>"
      ]
     },
     "metadata": {},
     "output_type": "display_data"
    }
   ],
   "source": [
    "import networkx as nx\n",
    "import numpy as np\n",
    "import matplotlib.pyplot as plt\n",
    "from scipy.linalg import eigvals\n",
    "\n",
    "G1 = nx.Graph([(1,2),(2,3),(3,4),(4,5),(5,2)])\n",
    "#G2 = nx.Graph([(1,2),(2,3),(3,4),(4,5),(5,6),(6,1),(1,5),(2,4),(3,6)])\n",
    "#G3 = nx.Graph([(1,2),(2,3),(3,4),(4,5),(5,6),(6,1),(1,5),(2,4),(3,6),\n",
    "             #(2,6),(1,4),(3,5)])\n",
    "#G3 = nx.Graph([(1,2),(2,3),(3,4),(4,5),(5,6),(6,7),(7,8),(8,9),(9,10),(10,1)])\n",
    "\n",
    "l1 = eigvals(nx.normalized_laplacian_matrix(G1).todense())\n",
    "l2 = eigvals(np.matrix([[1,0,-1/2,0,-1/2],[0,1,0,-1,0],[-1/2,0,2,0,-1/2],\n",
    "                       [0,-1,0,1,0],[-1/2,0,-1/2,0,2]]))\n",
    "l3 = eigvals(np.matrix([[1,0,0,-1,0],[0,0,0,0,0],[0,0,0,0,0],[-1,0,0,1,0],\n",
    "                      [0,0,0,0,0]]))\n",
    "#l2 = eigvals(nx.normalized_laplacian_matrix(G2).todense())\n",
    "#l3 = eigvals(nx.normalized_laplacian_matrix(G3).todense())\n",
    "print(l1)\n",
    "print(l2)\n",
    "time = np.arange(0,20,0.5)\n",
    "\n",
    "T1=[]\n",
    "T2=[]\n",
    "T3 = []\n",
    "TT=[]\n",
    "for t in time:\n",
    "    T1.append(np.sum(np.exp(-t*(l1))))\n",
    "    T2.append(np.sum(np.exp(-t*(l2))))\n",
    "    T3.append(np.sum(np.exp(-t*(l3))))\n",
    "\n",
    "plt.plot(time,T1)\n",
    "plt.plot(time,T2)\n",
    "plt.plot(time,T3)\n",
    "plt.show()"
   ]
  },
  {
   "cell_type": "code",
   "execution_count": 17,
   "metadata": {
    "collapsed": false
   },
   "outputs": [
    {
     "name": "stdout",
     "output_type": "stream",
     "text": [
      "[  5.55111512e-17+0.j   5.00000000e-01+0.j   2.00000000e+00+0.j\n",
      "   1.50000000e+00+0.j   5.00000000e-01+0.j   1.50000000e+00+0.j]\n",
      "[[ 0.40824829  0.57735027  0.40824829 -0.57735027  0.01665973 -0.02774568]\n",
      " [ 0.40824829  0.28867513 -0.40824829  0.28867513  0.50812166 -0.48554946]\n",
      " [ 0.40824829 -0.28867513  0.40824829  0.28867513  0.49146193  0.51329514]\n",
      " [ 0.40824829 -0.57735027 -0.40824829 -0.57735027 -0.01665973 -0.02774568]\n",
      " [ 0.40824829 -0.28867513  0.40824829  0.28867513 -0.50812166 -0.48554946]\n",
      " [ 0.40824829  0.28867513 -0.40824829  0.28867513 -0.49146193  0.51329514]]\n"
     ]
    }
   ],
   "source": [
    "import networkx as nx\n",
    "import numpy as np\n",
    "import matplotlib.pyplot as plt\n",
    "from scipy.linalg import eig\n",
    "\n",
    "G1 = nx.Graph([(1,2),(2,3),(3,4),(4,5),(5,6),(6,1)])\n",
    "l1 = nx.normalized_laplacian_matrix(G1).todense()\n",
    "w,v = eig(l1)\n",
    "print(w)\n",
    "print(v)"
   ]
  },
  {
   "cell_type": "code",
   "execution_count": 30,
   "metadata": {
    "collapsed": false
   },
   "outputs": [
    {
     "name": "stdout",
     "output_type": "stream",
     "text": [
      "[0.16666666666666663, 0.16666666666666671, -0.16666666666666677, -0.16666666666666674, 0.0084651679156257965, 0.013471901462663576]\n",
      "[0.0, 0.083333333333333356, 0.16666666666666677, 0.08333333333333337, 0.0042325839578128983, 0.020207852193995363]\n"
     ]
    }
   ],
   "source": [
    "#print(v[0,:])\n",
    "l = [a*b for a,b in zip(v[0,:],v[1,:])]\n",
    "m = [0,0.5,-1,-0.5,0.5,1.5]\n",
    "print(l)\n",
    "print([a*b for a,b in zip(m,l)])"
   ]
  },
  {
   "cell_type": "code",
   "execution_count": 32,
   "metadata": {
    "collapsed": false
   },
   "outputs": [
    {
     "name": "stdout",
     "output_type": "stream",
     "text": [
      "[[ 0.36787944  0.          0.        ]\n",
      " [ 0.          0.36787944  0.        ]\n",
      " [ 0.          0.          0.36787944]]\n"
     ]
    }
   ],
   "source": [
    "from scipy.linalg import expm\n",
    "I = np.identity(3)\n",
    "print(expm(-I))"
   ]
  },
  {
   "cell_type": "code",
   "execution_count": 22,
   "metadata": {
    "collapsed": false
   },
   "outputs": [
    {
     "name": "stdout",
     "output_type": "stream",
     "text": [
      "(-0.446287102628+0j)\n"
     ]
    }
   ],
   "source": [
    "import networkx as nx\n",
    "import numpy as np\n",
    "import matplotlib.pyplot as plt\n",
    "from scipy.linalg import eigvals\n",
    "\n",
    "G1 = nx.Graph([(1,2),(2,3),(3,4),(4,5),(5,1)])\n",
    "e = eigvals(nx.normalized_laplacian_matrix(G1).todense())\n",
    "print(e)\n",
    "e = np.delete(e,2)\n",
    "print(np.sum(-1*np.log(e)))"
   ]
  },
  {
   "cell_type": "code",
   "execution_count": 24,
   "metadata": {
    "collapsed": false
   },
   "outputs": [
    {
     "name": "stdout",
     "output_type": "stream",
     "text": [
      "[ 0.00000000+0.j  0.29289322+0.j  1.00000000+0.j  2.00000000+0.j\n",
      "  1.70710678+0.j]\n",
      "(6.66133814775e-16+0j)\n"
     ]
    }
   ],
   "source": [
    "#remove 5,1 \n",
    "G1 = nx.Graph([(1,2),(2,3),(3,4),(4,5)])\n",
    "e = eigvals(nx.normalized_laplacian_matrix(G1).todense())\n",
    "print(e)\n",
    "e = np.delete(e,0)\n",
    "print(np.sum(-1*np.log(e)))"
   ]
  },
  {
   "cell_type": "code",
   "execution_count": 26,
   "metadata": {
    "collapsed": false
   },
   "outputs": [
    {
     "name": "stdout",
     "output_type": "stream",
     "text": [
      "[  5.55111512e-17+0.j   2.92893219e-01+0.j   2.00000000e+00+0.j\n",
      "   1.70710678e+00+0.j   1.00000000e+00+0.j]\n",
      "(-9.99200722163e-16+0j)\n"
     ]
    }
   ],
   "source": [
    "#remove 4,5\n",
    "G1 = nx.Graph([(1,2),(2,3),(3,4),(5,1)])\n",
    "e = eigvals(nx.normalized_laplacian_matrix(G1).todense())\n",
    "print(e)\n",
    "e = np.delete(e,0)\n",
    "print(np.sum(-1*np.log(e)))"
   ]
  },
  {
   "cell_type": "code",
   "execution_count": 28,
   "metadata": {
    "collapsed": false
   },
   "outputs": [
    {
     "name": "stdout",
     "output_type": "stream",
     "text": [
      "[ 0.00000000+0.j  1.00000000+0.j  2.00000000+0.j  1.70710678+0.j\n",
      "  0.29289322+0.j]\n",
      "(-5.55111512313e-16+0j)\n"
     ]
    }
   ],
   "source": [
    "#remove 3,4\n",
    "G1 = nx.Graph([(1,2),(2,3),(4,5),(5,1)])\n",
    "e = eigvals(nx.normalized_laplacian_matrix(G1).todense())\n",
    "print(e)\n",
    "e = np.delete(e,0)\n",
    "print(np.sum(-1*np.log(e)))"
   ]
  },
  {
   "cell_type": "code",
   "execution_count": 2,
   "metadata": {
    "collapsed": false
   },
   "outputs": [
    {
     "name": "stdout",
     "output_type": "stream",
     "text": [
      "[  2.00000000e+00+0.j   1.11022302e-16+0.j   1.00000000e+00+0.j\n",
      "   1.00000000e+00+0.j   1.00000000e+00+0.j   1.00000000e+00+0.j\n",
      "   1.00000000e+00+0.j   1.00000000e+00+0.j   1.00000000e+00+0.j\n",
      "   1.00000000e+00+0.j]\n",
      "[  6.93889390e-17+0.j   6.03073792e-02+0.j   2.33955557e-01+0.j\n",
      "   5.00000000e-01+0.j   8.26351822e-01+0.j   1.17364818e+00+0.j\n",
      "   1.50000000e+00+0.j   2.00000000e+00+0.j   1.93969262e+00+0.j\n",
      "   1.76604444e+00+0.j]\n",
      "[ 0.00000000+0.j  0.19098301+0.j  0.69098301+0.j  1.30901699+0.j\n",
      "  2.00000000+0.j  1.80901699+0.j  0.19098301+0.j  0.69098301+0.j\n",
      "  1.80901699+0.j  1.30901699+0.j]\n"
     ]
    }
   ],
   "source": [
    "import networkx as nx\n",
    "import numpy as np\n",
    "import matplotlib.pyplot as plt\n",
    "from scipy.linalg import eigvals\n",
    "\n",
    "G1 = nx.Graph([(1,2),(1,3),(1,4),(1,5),(1,6),(1,7),(1,8),(1,9),(1,10)])\n",
    "G2 = nx.Graph([(1,2),(2,3),(3,4),(4,5),(5,6),(6,7),(7,8),(8,9),(9,10)])\n",
    "G3 = nx.Graph([(1,2),(2,3),(3,4),(4,5),(5,6),(6,7),(7,8),(8,9),(9,10),(10,1)])\n",
    "\n",
    "#G3 = nx.Graph([(1,2),(2,3),(3,4),(4,5),(5,6),(6,7),(7,8),(8,9),(9,10),(10,1)])\n",
    "\n",
    "l1 = eigvals(nx.normalized_laplacian_matrix(G1).todense())\n",
    "l2 = eigvals(nx.normalized_laplacian_matrix(G2).todense())\n",
    "l3 = eigvals(nx.normalized_laplacian_matrix(G3).todense())\n",
    "\n",
    "print(l1)\n",
    "print(l2)\n",
    "print(l3)"
   ]
  },
  {
   "cell_type": "code",
   "execution_count": 3,
   "metadata": {
    "collapsed": false
   },
   "outputs": [
    {
     "name": "stdout",
     "output_type": "stream",
     "text": [
      "(-0.69314718056+0j)\n",
      "(2.65480568658+0j)\n",
      "(1.63315443905+0j)\n"
     ]
    }
   ],
   "source": [
    "l1 = np.delete(l1,1)\n",
    "print(np.sum(-1*np.log(l1)))\n",
    "l2 = np.delete(l2,0)\n",
    "print(np.sum(-1*np.log(l2)))\n",
    "l3 = np.delete(l3,0)\n",
    "print(np.sum(-1*np.log(l3)))"
   ]
  },
  {
   "cell_type": "code",
   "execution_count": 4,
   "metadata": {
    "collapsed": false
   },
   "outputs": [
    {
     "name": "stdout",
     "output_type": "stream",
     "text": [
      "[  5.55111512e-17+0.j   5.00000000e-01+0.j   2.00000000e+00+0.j\n",
      "   1.50000000e+00+0.j   5.00000000e-01+0.j   1.50000000e+00+0.j]\n",
      "[  1.66666667e+00+0.j  -2.08166817e-17+0.j   1.00000000e+00+0.j\n",
      "   6.66666667e-01+0.j   1.66666667e+00+0.j   1.00000000e+00+0.j]\n",
      "[  1.11022302e-16+0.j   1.00000000e+00+0.j   1.50000000e+00+0.j\n",
      "   1.50000000e+00+0.j   1.00000000e+00+0.j   1.00000000e+00+0.j]\n"
     ]
    }
   ],
   "source": [
    "G1 = nx.Graph([(1,2),(2,3),(3,4),(4,5),(5,6),(6,1)])\n",
    "G2 = nx.Graph([(1,2),(2,3),(3,4),(4,5),(5,6),(6,1),(1,5),(2,4),(3,6)])\n",
    "G3 = nx.Graph([(1,2),(2,3),(3,4),(4,5),(5,6),(6,1),(1,5),(2,4),(3,6),\n",
    "             (2,6),(1,4),(3,5)])\n",
    "\n",
    "l1 = eigvals(nx.normalized_laplacian_matrix(G1).todense())\n",
    "l2 = eigvals(nx.normalized_laplacian_matrix(G2).todense())\n",
    "l3 = eigvals(nx.normalized_laplacian_matrix(G3).todense())\n",
    "\n",
    "print(l1)\n",
    "print(l2)\n",
    "print(l3)"
   ]
  },
  {
   "cell_type": "code",
   "execution_count": 5,
   "metadata": {
    "collapsed": false
   },
   "outputs": [
    {
     "name": "stdout",
     "output_type": "stream",
     "text": [
      "(-0.117783035656+0j)\n",
      "(-0.616186139424+0j)\n",
      "(-0.810930216216+0j)\n"
     ]
    }
   ],
   "source": [
    "l1 = np.delete(l1,0)\n",
    "print(np.sum(-1*np.log(l1)))\n",
    "l2 = np.delete(l2,1)\n",
    "print(np.sum(-1*np.log(l2)))\n",
    "l3 = np.delete(l3,0)\n",
    "print(np.sum(-1*np.log(l3)))"
   ]
  },
  {
   "cell_type": "code",
   "execution_count": 11,
   "metadata": {
    "collapsed": true
   },
   "outputs": [],
   "source": [
    "import numpy as np\n",
    "import networkx as nx\n",
    "import numpy.linalg as lp\n",
    "from numpy import linalg as LA\n",
    "import itertools\n",
    "\n",
    "def kplaplacian_mlf(G,lam):\n",
    "    nodes = G.nodes()\n",
    "    nodelist = list(itertools.combinations(nodes,2))\n",
    "    nsize    = len(nodes)\n",
    "    L = np.zeros(shape=(nsize,nsize))\n",
    "    for n in nodelist:\n",
    "        k = nx.shortest_path_length(G, source=n[0], target=n[1])\n",
    "        if k==1:\n",
    "            L[n[0]-1,n[1]-1]= L[n[1]-1,n[0]-1]= -1\n",
    "        else:\n",
    "            L[n[0]-1,n[1]-1]= L[n[1]-1,n[0]-1]= -pow(k,-1*lam)\n",
    "    row,col = np.diag_indices_from(L)\n",
    "    L[row,col] = -L.sum(axis=1)\n",
    "    return L"
   ]
  },
  {
   "cell_type": "code",
   "execution_count": 20,
   "metadata": {
    "collapsed": false
   },
   "outputs": [
    {
     "name": "stderr",
     "output_type": "stream",
     "text": [
      "/usr/local/lib/python3.5/dist-packages/numpy/core/numeric.py:531: ComplexWarning: Casting complex values to real discards the imaginary part\n",
      "  return array(a, dtype, copy=False, order=order)\n"
     ]
    },
    {
     "data": {
      "image/png": "[encoded data removed]",
      "text/plain": [
       "<matplotlib.figure.Figure at 0x7f71376aa860>"
      ]
     },
     "metadata": {},
     "output_type": "display_data"
    }
   ],
   "source": [
    "#kernels of complete graphs and generalised k-graph\n",
    "import networkx as nx\n",
    "import numpy as np\n",
    "import matplotlib.pyplot as plt\n",
    "from scipy.linalg import eigvals\n",
    "\n",
    "G = nx.complete_graph(5, create_using=None)\n",
    "l  = nx.laplacian_spectrum(G)\n",
    "\n",
    "G1 = nx.Graph([(1,2),(2,3),(3,4),(4,5),(5,1)])\n",
    "G2 = nx.Graph([(1,2),(2,3),(3,4),(4,5),(5,2)])\n",
    "G3 = nx.Graph([(1,2),(2,3),(1,3),(3,4),(3,5)])\n",
    "G4 = nx.Graph([(1,2),(2,3),(3,4),(4,5),(5,1),(1,4),(2,5)])\n",
    "\n",
    "l1 = eigvals(kplaplacian_mlf(G1,2))\n",
    "l2 = eigvals(kplaplacian_mlf(G2,2))\n",
    "l3 = eigvals(kplaplacian_mlf(G3,2))\n",
    "l4 = eigvals(kplaplacian_mlf(G4,2))\n",
    "\n",
    "time = np.arange(0,3,0.05)\n",
    "\n",
    "T=[]\n",
    "T1=[]\n",
    "T2=[]\n",
    "T3 = []\n",
    "T4 =[]\n",
    "TT=[]\n",
    "for t in time:\n",
    "    T.append(np.sum(np.exp(-t*(l))))\n",
    "    T1.append(np.sum(np.exp(-t*(l1))))\n",
    "    T2.append(np.sum(np.exp(-t*(l2))))\n",
    "    T3.append(np.sum(np.exp(-t*(l3))))\n",
    "    T4.append(np.sum(np.exp(-t*(l4))))\n",
    "\n",
    "plt.plot(time,T,label='complete')\n",
    "plt.plot(time,T1, label = 'G1')\n",
    "plt.plot(time,T2, label='G2')\n",
    "plt.plot(time, T3, label='G3')\n",
    "plt.plot(time, T4, label='G4')\n",
    "plt.legend()\n",
    "plt.show()"
   ]
  },
  {
   "cell_type": "code",
   "execution_count": 22,
   "metadata": {
    "collapsed": false
   },
   "outputs": [
    {
     "data": {
      "text/plain": [
       "array([[ 1.61111111, -1.        , -0.25      , -0.11111111, -0.25      ],\n",
       "       [-1.        ,  3.25      , -1.        , -0.25      , -1.        ],\n",
       "       [-0.25      , -1.        ,  2.5       , -1.        , -0.25      ],\n",
       "       [-0.11111111, -0.25      , -1.        ,  2.36111111, -1.        ],\n",
       "       [-0.25      , -1.        , -0.25      , -1.        ,  2.5       ]])"
      ]
     },
     "execution_count": 22,
     "metadata": {},
     "output_type": "execute_result"
    }
   ],
   "source": [
    "kplaplacian_mlf(G2,2)"
   ]
  },
  {
   "cell_type": "code",
   "execution_count": 35,
   "metadata": {
    "collapsed": false
   },
   "outputs": [
    {
     "data": {
      "text/plain": [
       "array([ -2.22044605e-16+0.j,   8.29913513e-01+0.j,   4.48119430e+00+0.j,\n",
       "         2.68889218e+00+0.j,   2.00000000e+00+0.j])"
      ]
     },
     "execution_count": 35,
     "metadata": {},
     "output_type": "execute_result"
    }
   ],
   "source": [
    "eigvals(nx.laplacian_matrix(G2).todense())\n",
    "#eigvals(kplaplacian_mlf(G2,2))"
   ]
  },
  {
   "cell_type": "code",
   "execution_count": 36,
   "metadata": {
    "collapsed": false
   },
   "outputs": [
    {
     "data": {
      "text/plain": [
       "array([  5.00000000e+00+0.j,   3.00000000e+00+0.j,  -2.19591591e-16+0.j,\n",
       "         1.00000000e+00+0.j,   1.00000000e+00+0.j])"
      ]
     },
     "execution_count": 36,
     "metadata": {},
     "output_type": "execute_result"
    }
   ],
   "source": [
    "eigvals(nx.laplacian_matrix(G3).todense())\n",
    "#eigvals(kplaplacian_mlf(G3,2))"
   ]
  },
  {
   "cell_type": "code",
   "execution_count": 32,
   "metadata": {
    "collapsed": false
   },
   "outputs": [
    {
     "data": {
      "text/plain": [
       "array([ 0.00+0.j,  2.75+0.j,  4.25+0.j,  5.00+0.j,  3.50+0.j])"
      ]
     },
     "execution_count": 32,
     "metadata": {},
     "output_type": "execute_result"
    }
   ],
   "source": [
    "eigvals(nx.laplacian_matrix(G4).todense())\n",
    "eigvals(kplaplacian_mlf(G4,2))"
   ]
  },
  {
   "cell_type": "code",
   "execution_count": 34,
   "metadata": {
    "collapsed": false
   },
   "outputs": [
    {
     "data": {
      "image/png": "[encoded data removed]",
      "text/plain": [
       "<matplotlib.figure.Figure at 0x7f71376aa8d0>"
      ]
     },
     "metadata": {},
     "output_type": "display_data"
    }
   ],
   "source": [
    "import numpy as np\n",
    "import matplotlib.pyplot as plt\n",
    "from scipy.linalg import eigvals\n",
    "\n",
    "G = nx.complete_graph(5, create_using=None)\n",
    "l  = nx.laplacian_spectrum(G)\n",
    "\n",
    "G1 = nx.Graph([(1,2),(2,3),(3,4),(4,5),(5,1)])\n",
    "G2 = nx.Graph([(1,2),(2,3),(3,4),(4,5),(5,2)])\n",
    "G3 = nx.Graph([(1,2),(2,3),(1,3),(3,4),(3,5)])\n",
    "G4 = nx.Graph([(1,2),(2,3),(3,4),(4,5),(5,1),(1,4),(2,5)])\n",
    "\n",
    "l1 = nx.laplacian_spectrum(G1)\n",
    "l2 = nx.laplacian_spectrum(G2)\n",
    "l3 = nx.laplacian_spectrum(G3)\n",
    "l4 = nx.laplacian_spectrum(G4)\n",
    "\n",
    "time = np.arange(0,3,0.05)\n",
    "\n",
    "T=[]\n",
    "T1=[]\n",
    "T2=[]\n",
    "T3 = []\n",
    "T4 =[]\n",
    "TT=[]\n",
    "for t in time:\n",
    "    T.append(np.sum(np.exp(-t*(l))))\n",
    "    T1.append(np.sum(np.exp(-t*(l1))))\n",
    "    T2.append(np.sum(np.exp(-t*(l2))))\n",
    "    T3.append(np.sum(np.exp(-t*(l3))))\n",
    "    T4.append(np.sum(np.exp(-t*(l4))))\n",
    "\n",
    "plt.plot(time,T,label='complete')\n",
    "plt.plot(time,T1, label = 'G1')\n",
    "plt.plot(time,T2, label='G2')\n",
    "plt.plot(time, T3, label='G3')\n",
    "plt.plot(time, T4, label='G4')\n",
    "plt.legend()\n",
    "plt.show()"
   ]
  },
  {
   "cell_type": "code",
   "execution_count": null,
   "metadata": {
    "collapsed": true
   },
   "outputs": [],
   "source": []
  }
 ],
 "metadata": {
  "kernelspec": {
   "display_name": "Python 3",
   "language": "python",
   "name": "python3"
  },
  "language_info": {
   "codemirror_mode": {
    "name": "ipython",
    "version": 3
   },
   "file_extension": ".py",
   "mimetype": "text/x-python",
   "name": "python",
   "nbconvert_exporter": "python",
   "pygments_lexer": "ipython3",
   "version": "3.5.3"
  }
 },
 "nbformat": 4,
 "nbformat_minor": 2
}
