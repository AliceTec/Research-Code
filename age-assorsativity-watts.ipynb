{
 "cells": [
  {
   "cell_type": "code",
   "execution_count": 20,
   "metadata": {
    "collapsed": false
   },
   "outputs": [],
   "source": [
    "import networkx as nx\n",
    "import random as random\n",
    "import numpy as np\n",
    "\n",
    "def watts_strogatz_graph(k,n=16,seed=None):\n",
    "    if k>=n:\n",
    "            raise nx.NetworkXError(\"k>=n, choose smaller k or larger n\")\n",
    "    if seed is not None:\n",
    "        random.seed(seed)\n",
    "\n",
    "    nodes = list(range(0,80,5)) # nodes are labeled 0 to n-1\n",
    "    n=len(nodes)\n",
    "    G.name=\"watts_strogatz_graph(%s,%s,%s)\"%(n,k,p)\n",
    "    n_max = np.max(nodes)\n",
    "    e_val = (n/2)+1\n",
    "\n",
    "    # connect each node to k/2 neighbors\n",
    "    for j in range(1, k // 2+1):\n",
    "        targets = nodes[j:] + nodes[0:j] # first j nodes are now last in list\n",
    "        G.add_edges_from(zip(nodes,targets))\n",
    "    # rewire edges from each node\n",
    "    # loop over all nodes in order (label) and neighbors in order (distance)\n",
    "    # no self loops or multiple edges allowed\n",
    "    #for j in range(1, k // 2+1): # outer loop is neighbors\n",
    "        #targets = nodes[j:] + nodes[0:j] # first j nodes are now last in list\n",
    "        # inner loop in node order\n",
    "        for u,v in zip(nodes,targets):\n",
    "            w = random.choice(nodes)\n",
    "            # Enforce no self-loops or multiple edges\n",
    "            while w == u or G.has_edge(u, w):\n",
    "                w = random.choice(nodes)\n",
    "                if G.degree(u) >= n-1:\n",
    "                    break # skip this rewiring\n",
    "            else:\n",
    "                p = (((np.abs(u-w))/n_max)*e_val)+1\n",
    "                if random.random() < p:\n",
    "                    G.remove_edge(u,v)\n",
    "                    G.add_edge(u,w)\n",
    "                \n",
    "    return G"
   ]
  },
  {
   "cell_type": "code",
   "execution_count": 24,
   "metadata": {
    "collapsed": true
   },
   "outputs": [],
   "source": [
    "import networkx as nx\n",
    "import random as random\n",
    "import numpy as np\n",
    "\n",
    "def watts_strogatz_graph_x(k,x,n=16,seed=None):\n",
    "    if k>=n:\n",
    "            raise nx.NetworkXError(\"k>=n, choose smaller k or larger n\")\n",
    "    if seed is not None:\n",
    "        random.seed(seed)\n",
    "\n",
    "    G = nx.Graph()\n",
    "    k=4\n",
    "    p=0.1\n",
    "    nodes = list(range(0,80,5)) # nodes are labeled 0 to n-1\n",
    "    n=len(nodes)\n",
    "    G.name=\"watts_strogatz_graph(%s,%s,%s)\"%(n,k,p)\n",
    "    n_max = np.max(nodes)\n",
    "    e_val = (n/2)+1\n",
    "    # nodes are labeled 0 to n-1\n",
    "    # connect each node to k/2 neighbors\n",
    "    for j in range(1, k // 2+1):\n",
    "        targets = nodes[j:] + nodes[0:j] # first j nodes are now last in list\n",
    "        G.add_edges_from(zip(nodes,targets))\n",
    "    # rewire edges from each node\n",
    "    # loop over all nodes in order (label) and neighbors in order (distance)\n",
    "    # no self loops or multiple edges allowed\n",
    "    for j in range(1, k // 2+1): # outer loop is neighbors\n",
    "        targets = nodes[j:] + nodes[0:j] # first j nodes are now last in list\n",
    "        # inner loop in node order\n",
    "        for u,v in zip(nodes,targets):\n",
    "            w = random.choice(nodes)\n",
    "            # Enforce no self-loops or multiple edges\n",
    "            while w == u or G.has_edge(u, w):\n",
    "                w = random.choice(nodes)\n",
    "                if G.degree(u) >= n-1:\n",
    "                    break # skip this rewiring\n",
    "            else:\n",
    "                d = (((np.abs(u-w))/n_max)*e_val)+1\n",
    "                p = d*pow(x,(d-1))\n",
    "                if random.random() < p:\n",
    "                    G.remove_edge(u,v)\n",
    "                    G.add_edge(u,w)\n",
    "                \n",
    "    return G"
   ]
  },
  {
   "cell_type": "code",
   "execution_count": 21,
   "metadata": {
    "collapsed": false
   },
   "outputs": [],
   "source": [
    "def connected_watts_strogatz_graph_x(k, x,n=16, tries=100, seed=None):\n",
    "    G = watts_strogatz_graph_x(k, x,n, seed)\n",
    "    t=1\n",
    "    while not nx.is_connected(G):\n",
    "        G = watts_strogatz_graph_x(k, x,n, seed)\n",
    "        t=t+1\n",
    "        if t>tries:\n",
    "            raise nx.NetworkXError(\"Maximum number of tries exceeded\")\n",
    "    return G"
   ]
  },
  {
   "cell_type": "code",
   "execution_count": 34,
   "metadata": {
    "collapsed": false
   },
   "outputs": [
    {
     "data": {
      "image/png": "[encoded data removed]",
      "text/plain": [
       "<matplotlib.figure.Figure at 0x7f2d73a85320>"
      ]
     },
     "metadata": {},
     "output_type": "display_data"
    }
   ],
   "source": [
    "from __future__ import division\n",
    "\n",
    "import networkx as nx\n",
    "import pylab as pb\n",
    "\n",
    "#rho=open('CLphd.txt','w')\n",
    "n=16\n",
    "k=4\n",
    "prob=[0.1,0.11,0.12,0.13,0.14,0.15,0.16,0.17,\n",
    "      0.18,0.19,0.2,0.21,0.22,0.23,0.24,0.25,\n",
    "      0.26,0.27,0.28,0.29,0.3,0.31,0.32,0.33,\n",
    "      0.34,0.35,0.36,0.37,0.38,0.39,0.4,0.41,\n",
    "      0.42,0.43,0.44,0.45,0.46,0.47,0.48,0.49,\n",
    "      0.5,0.51,0.52,0.53,0.54,0.55,0.56,0.57,\n",
    "      0.58,0.59,0.6]\n",
    "\n",
    "C=[]\n",
    "L = []\n",
    "\n",
    "niter=20\n",
    "for p in prob:\n",
    "    s1=0\n",
    "    s2=0\n",
    "    for j in range(niter):\n",
    "        g2=connected_watts_strogatz_graph_x(k, p,n)\n",
    "        av=nx.average_clustering(g2)\n",
    "        ap=nx.average_shortest_path_length(g2)\n",
    "        s1=s1+av/niter\n",
    "        s2=s2+ap/niter\n",
    "    C.append(s1)\n",
    "    L.append(s2)\n",
    "Cp=[n1/C[0] for n1 in C]    \n",
    "Lp=[n2/L[0] for n2 in L]    \n",
    "#for i in Cp:\n",
    "    #print >> rho, i,\n",
    "    #print >> rho, ''\n",
    "#for j in Lp:\n",
    "    #print >> rho, j,\n",
    "#rho.close()\n",
    "pb.figure(2)\n",
    "pb.semilogx(prob,Cp,'s')\n",
    "pb.semilogx(prob,Lp,'o')\n",
    "pb.xlabel('p')\n",
    "pb.xlim(0.1,0.45)\n",
    "pb.show()"
   ]
  },
  {
   "cell_type": "code",
   "execution_count": 17,
   "metadata": {
    "collapsed": false
   },
   "outputs": [
    {
     "name": "stdout",
     "output_type": "stream",
     "text": [
      "[0, 5, 10, 15, 20, 25, 30, 35, 40, 45, 50, 55, 60, 65, 70, 75]\n"
     ]
    },
    {
     "name": "stderr",
     "output_type": "stream",
     "text": [
      "/usr/lib/python3/dist-packages/networkx/drawing/nx_pylab.py:126: MatplotlibDeprecationWarning: pyplot.hold is deprecated.\n",
      "    Future behavior will be consistent with the long-time default:\n",
      "    plot commands add elements without first clearing the\n",
      "    Axes and/or Figure.\n",
      "  b = plt.ishold()\n",
      "/usr/lib/python3/dist-packages/networkx/drawing/nx_pylab.py:138: MatplotlibDeprecationWarning: pyplot.hold is deprecated.\n",
      "    Future behavior will be consistent with the long-time default:\n",
      "    plot commands add elements without first clearing the\n",
      "    Axes and/or Figure.\n",
      "  plt.hold(b)\n",
      "/usr/lib/python3/dist-packages/matplotlib/__init__.py:919: UserWarning: axes.hold is deprecated. Please remove it from your matplotlibrc and/or style files.\n",
      "  warnings.warn(self.msg_depr_set % key)\n",
      "/usr/lib/python3/dist-packages/matplotlib/rcsetup.py:152: UserWarning: axes.hold is deprecated, will be removed in 3.0\n",
      "  warnings.warn(\"axes.hold is deprecated, will be removed in 3.0\")\n"
     ]
    },
    {
     "data": {
      "image/png": "[encoded data removed]",
      "text/plain": [
       "<matplotlib.figure.Figure at 0x7f6d1b1549e8>"
      ]
     },
     "metadata": {},
     "output_type": "display_data"
    },
    {
     "name": "stdout",
     "output_type": "stream",
     "text": [
      "60\n",
      "40\n",
      "14.0666666667\n",
      "38.5\n"
     ]
    }
   ],
   "source": [
    "import networkx as nx\n",
    "import matplotlib.pyplot as plt\n",
    "import random as rd\n",
    "import numpy as np\n",
    "\n",
    "G = nx.Graph()\n",
    "k=2\n",
    "p=0.1\n",
    "nodes = list(range(0,80,5)) # nodes are labeled 0 to n-1\n",
    "n=len(nodes)\n",
    "G.name=\"watts_strogatz_graph(%s,%s,%s)\"%(n,k,p)\n",
    "\n",
    "print(nodes)\n",
    "# connect each node to k/2 neighbors\n",
    "for j in range(1, k // 2+1):\n",
    "    targets = nodes[j:] + nodes[0:j] # first j nodes are now last in list\n",
    "    G.add_edges_from(zip(nodes,targets))\n",
    "nx.draw_circular(G, with_labels=True)\n",
    "plt.show()\n",
    "\n",
    "nn = rd.choice(nodes)\n",
    "print(nn)\n",
    "mm = rd.choice(nodes)\n",
    "print(mm)\n",
    "pij = (((np.abs(nn-mm))/75)*49)+1\n",
    "print(pij)\n",
    "mx = np.max(nodes)\n",
    "print((mx/2)+1)"
   ]
  },
  {
   "cell_type": "code",
   "execution_count": null,
   "metadata": {
    "collapsed": true
   },
   "outputs": [],
   "source": []
  }
 ],
 "metadata": {
  "kernelspec": {
   "display_name": "Python 3",
   "language": "python",
   "name": "python3"
  },
  "language_info": {
   "codemirror_mode": {
    "name": "ipython",
    "version": 3
   },
   "file_extension": ".py",
   "mimetype": "text/x-python",
   "name": "python",
   "nbconvert_exporter": "python",
   "pygments_lexer": "ipython3",
   "version": "3.5.3"
  }
 },
 "nbformat": 4,
 "nbformat_minor": 2
}
