{
 "cells": [
  {
   "cell_type": "code",
   "execution_count": 5,
   "metadata": {
    "collapsed": false
   },
   "outputs": [
    {
     "name": "stdout",
     "output_type": "stream",
     "text": [
      "[  2.56155281e+00+0.j  -5.00393184e-17+0.j  -1.56155281e+00+0.j\n",
      "  -1.00000000e+00+0.j]\n"
     ]
    }
   ],
   "source": [
    "import networkx as nx\n",
    "\n",
    "G = nx.Graph()\n",
    "e_lst = [(1,2),(2,3),(2,4),(3,4),(1,4)]\n",
    "G.add_edges_from(e_lst)\n",
    "print(nx.adjacency_spectrum(G))"
   ]
  },
  {
   "cell_type": "code",
   "execution_count": 6,
   "metadata": {
    "collapsed": false
   },
   "outputs": [
    {
     "name": "stdout",
     "output_type": "stream",
     "text": [
      "[ -1.41421356e+00+0.j   9.77950360e-17+0.j   1.41421356e+00+0.j]\n"
     ]
    }
   ],
   "source": [
    "#remove node 2\n",
    "G = nx.Graph()\n",
    "e_lst = [(3,4),(1,4)]\n",
    "G.add_edges_from(e_lst)\n",
    "print(nx.adjacency_spectrum(G))"
   ]
  },
  {
   "cell_type": "code",
   "execution_count": 7,
   "metadata": {
    "collapsed": false
   },
   "outputs": [
    {
     "name": "stdout",
     "output_type": "stream",
     "text": [
      "[-1.+0.j  2.+0.j -1.+0.j]\n"
     ]
    }
   ],
   "source": [
    "#remove node 1\n",
    "G = nx.Graph()\n",
    "e_lst = [(2,3),(2,4),(3,4)]\n",
    "G.add_edges_from(e_lst)\n",
    "print(nx.adjacency_spectrum(G))"
   ]
  },
  {
   "cell_type": "code",
   "execution_count": 8,
   "metadata": {
    "collapsed": false
   },
   "outputs": [
    {
     "name": "stdout",
     "output_type": "stream",
     "text": [
      "[-1.+0.j  2.+0.j -1.+0.j]\n"
     ]
    }
   ],
   "source": [
    "#remove node 3\n",
    "G = nx.Graph()\n",
    "e_lst = [(1,2),(2,4),(1,4)]\n",
    "G.add_edges_from(e_lst)\n",
    "print(nx.adjacency_spectrum(G))"
   ]
  },
  {
   "cell_type": "code",
   "execution_count": 9,
   "metadata": {
    "collapsed": false
   },
   "outputs": [
    {
     "name": "stdout",
     "output_type": "stream",
     "text": [
      "[ -1.41421356e+00+0.j   9.77950360e-17+0.j   1.41421356e+00+0.j]\n"
     ]
    }
   ],
   "source": [
    "#remove node 4\n",
    "G = nx.Graph()\n",
    "e_lst = [(1,2),(2,3)]\n",
    "G.add_edges_from(e_lst)\n",
    "print(nx.adjacency_spectrum(G))"
   ]
  },
  {
   "cell_type": "code",
   "execution_count": 4,
   "metadata": {
    "collapsed": false
   },
   "outputs": [
    {
     "name": "stdout",
     "output_type": "stream",
     "text": [
      "[ -7.77156117e-16   2.00000000e+00   2.00000000e+00   4.00000000e+00]\n"
     ]
    }
   ],
   "source": [
    "import networkx as nx\n",
    "\n",
    "G = nx.Graph()\n",
    "e_lst = [(1,2),(2,4),(1,3),(3,4)]\n",
    "G.add_edges_from(e_lst)\n",
    "print(nx.laplacian_spectrum(G))"
   ]
  },
  {
   "cell_type": "code",
   "execution_count": 7,
   "metadata": {
    "collapsed": false
   },
   "outputs": [
    {
     "name": "stdout",
     "output_type": "stream",
     "text": [
      "[ -1.77528614e-16   1.00000000e+00   3.00000000e+00   4.00000000e+00]\n"
     ]
    }
   ],
   "source": [
    "G = nx.Graph()\n",
    "e_lst = [(1,2),(2,3),(1,3),(3,4)]\n",
    "G.add_edges_from(e_lst)\n",
    "print(nx.laplacian_spectrum(G))"
   ]
  },
  {
   "cell_type": "code",
   "execution_count": 8,
   "metadata": {
    "collapsed": false
   },
   "outputs": [
    {
     "name": "stdout",
     "output_type": "stream",
     "text": [
      "[ -8.62157568e-16   2.00000000e+00   4.00000000e+00   4.00000000e+00]\n"
     ]
    }
   ],
   "source": [
    "G = nx.Graph()\n",
    "e_lst = [(1,2),(2,3),(1,3),(3,4),(2,4)]\n",
    "G.add_edges_from(e_lst)\n",
    "print(nx.laplacian_spectrum(G))"
   ]
  },
  {
   "cell_type": "code",
   "execution_count": 6,
   "metadata": {
    "collapsed": false
   },
   "outputs": [
    {
     "name": "stdout",
     "output_type": "stream",
     "text": [
      "[  2.22044605e-16   4.00000000e+00   4.00000000e+00   4.00000000e+00]\n"
     ]
    }
   ],
   "source": [
    "G = nx.Graph()\n",
    "e_lst = [(1,2),(2,3),(1,3),(3,4),(2,4),(1,4)]\n",
    "G.add_edges_from(e_lst)\n",
    "print(nx.laplacian_spectrum(G))"
   ]
  },
  {
   "cell_type": "code",
   "execution_count": null,
   "metadata": {
    "collapsed": true
   },
   "outputs": [],
   "source": []
  }
 ],
 "metadata": {
  "kernelspec": {
   "display_name": "Python 3",
   "language": "python",
   "name": "python3"
  },
  "language_info": {
   "codemirror_mode": {
    "name": "ipython",
    "version": 3
   },
   "file_extension": ".py",
   "mimetype": "text/x-python",
   "name": "python",
   "nbconvert_exporter": "python",
   "pygments_lexer": "ipython3",
   "version": "3.5.3"
  }
 },
 "nbformat": 4,
 "nbformat_minor": 2
}
