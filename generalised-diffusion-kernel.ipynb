{
 "cells": [
  {
   "cell_type": "code",
   "execution_count": 1,
   "metadata": {
    "collapsed": true
   },
   "outputs": [],
   "source": [
    "#Mellin transform\n",
    "\n",
    "import networkx as nx\n",
    "import numpy as np\n",
    "import matplotlib.pyplot as plt\n",
    "from scipy.linalg import eigvals\n",
    "\n",
    "def kplaplacian_mlf(G,lam):\n",
    "    nodes = G.nodes()\n",
    "    nodelist = list(itertools.combinations(nodes,2))\n",
    "    nsize    = len(nodes)\n",
    "    L = np.zeros(shape=(nsize,nsize))\n",
    "    for n in nodelist:\n",
    "        k = nx.shortest_path_length(G, source=n[0], target=n[1])\n",
    "        if k==1:\n",
    "            L[n[0]-1,n[1]-1]= L[n[1]-1,n[0]-1]= -1\n",
    "        else:\n",
    "            L[n[0]-1,n[1]-1]= L[n[1]-1,n[0]-1]= -pow(k,-1*lam)\n",
    "    row,col = np.diag_indices_from(L)\n",
    "    L[row,col] = -L.sum(axis=1)\n",
    "    return L"
   ]
  },
  {
   "cell_type": "code",
   "execution_count": 5,
   "metadata": {
    "collapsed": true
   },
   "outputs": [],
   "source": [
    "def kplaplacian_ltf(G,lam):\n",
    "    nodes = G.nodes()\n",
    "    nodelist = list(itertools.combinations(nodes,2))\n",
    "    nsize    = len(nodes)\n",
    "    L = np.zeros(shape=(nsize,nsize))\n",
    "    for n in nodelist:\n",
    "        k = nx.shortest_path_length(G, source=n[0], target=n[1])\n",
    "        if k==1:\n",
    "            L[n[0]-1,n[1]-1]= L[n[1]-1,n[0]-1]= -1\n",
    "        else:\n",
    "            L[n[0]-1,n[1]-1]= L[n[1]-1,n[0]-1]= -np.exp(-lam*k)\n",
    "    row,col = np.diag_indices_from(L)\n",
    "    L[row,col] = -L.sum(axis=1)\n",
    "    return L"
   ]
  },
  {
   "cell_type": "code",
   "execution_count": 6,
   "metadata": {
    "collapsed": false
   },
   "outputs": [
    {
     "data": {
      "text/plain": [
       "array([[ 1.61111111, -1.        , -0.25      , -0.11111111, -0.25      ],\n",
       "       [-1.        ,  3.25      , -1.        , -0.25      , -1.        ],\n",
       "       [-0.25      , -1.        ,  2.5       , -1.        , -0.25      ],\n",
       "       [-0.11111111, -0.25      , -1.        ,  2.36111111, -1.        ],\n",
       "       [-0.25      , -1.        , -0.25      , -1.        ,  2.5       ]])"
      ]
     },
     "execution_count": 6,
     "metadata": {},
     "output_type": "execute_result"
    }
   ],
   "source": [
    "import networkx as nx\n",
    "import numpy as np\n",
    "import matplotlib.pyplot as plt\n",
    "import itertools\n",
    "from scipy.linalg import eigvals\n",
    "\n",
    "G1 = nx.Graph([(1,2),(2,3),(3,4),(4,5),(5,2)])\n",
    "l1 = kplaplacian_mlf(G1,lam=2)\n",
    "l1"
   ]
  },
  {
   "cell_type": "code",
   "execution_count": 7,
   "metadata": {
    "collapsed": false
   },
   "outputs": [
    {
     "data": {
      "text/plain": [
       "array([[ 3.25, -1.  , -0.25, -1.  , -1.  ],\n",
       "       [-1.  ,  4.  , -1.  , -1.  , -1.  ],\n",
       "       [-0.25, -1.  ,  2.5 , -1.  , -0.25],\n",
       "       [-1.  , -1.  , -1.  ,  4.  , -1.  ],\n",
       "       [-1.  , -1.  , -0.25, -1.  ,  3.25]])"
      ]
     },
     "execution_count": 7,
     "metadata": {},
     "output_type": "execute_result"
    }
   ],
   "source": [
    "import networkx as nx\n",
    "import numpy as np\n",
    "import matplotlib.pyplot as plt\n",
    "import itertools\n",
    "from scipy.linalg import eigvals\n",
    "\n",
    "G1 = nx.Graph([(1,2),(2,3),(3,4),(4,5),(5,2),(5,1),(2,4),(1,4)])\n",
    "l1 = kplaplacian_mlf(G1,lam=2)\n",
    "l1"
   ]
  },
  {
   "cell_type": "code",
   "execution_count": 9,
   "metadata": {
    "collapsed": false
   },
   "outputs": [
    {
     "data": {
      "text/plain": [
       "array([[ 2.61111111, -1.        , -1.        , -0.25      , -0.25      ,\n",
       "        -0.11111111],\n",
       "       [-1.        ,  2.61111111, -1.        , -0.25      , -0.25      ,\n",
       "        -0.11111111],\n",
       "       [-1.        , -1.        ,  4.25      , -1.        , -1.        ,\n",
       "        -0.25      ],\n",
       "       [-0.25      , -0.25      , -1.        ,  2.75      , -0.25      ,\n",
       "        -1.        ],\n",
       "       [-0.25      , -0.25      , -1.        , -0.25      ,  2.75      ,\n",
       "        -1.        ],\n",
       "       [-0.11111111, -0.11111111, -0.25      , -1.        , -1.        ,\n",
       "         2.47222222]])"
      ]
     },
     "execution_count": 9,
     "metadata": {},
     "output_type": "execute_result"
    }
   ],
   "source": [
    "import networkx as nx\n",
    "import numpy as np\n",
    "import matplotlib.pyplot as plt\n",
    "import itertools\n",
    "from scipy.linalg import eigvals\n",
    "\n",
    "G1 = nx.Graph([(1,2),(2,3),(1,3),(3,4),(3,5),(5,6),(4,6)])\n",
    "l1 = kplaplacian_mlf(G1,lam=2)\n",
    "l1"
   ]
  },
  {
   "cell_type": "code",
   "execution_count": 10,
   "metadata": {
    "collapsed": false
   },
   "outputs": [
    {
     "data": {
      "text/plain": [
       "matrix([[ 2, -1, -1,  0,  0,  0],\n",
       "        [-1,  2, -1,  0,  0,  0],\n",
       "        [-1, -1,  4, -1, -1,  0],\n",
       "        [ 0,  0, -1,  2,  0, -1],\n",
       "        [ 0,  0, -1,  0,  2, -1],\n",
       "        [ 0,  0,  0, -1, -1,  2]], dtype=int64)"
      ]
     },
     "execution_count": 10,
     "metadata": {},
     "output_type": "execute_result"
    }
   ],
   "source": [
    "import networkx as nx\n",
    "import numpy as np\n",
    "import matplotlib.pyplot as plt\n",
    "import itertools\n",
    "from scipy.linalg import eigvals\n",
    "\n",
    "G1 = nx.Graph([(1,2),(2,3),(1,3),(3,4),(3,5),(5,6),(4,6)])\n",
    "l1 = nx.laplacian_matrix(G1).todense()\n",
    "l1"
   ]
  },
  {
   "cell_type": "code",
   "execution_count": 48,
   "metadata": {
    "collapsed": false
   },
   "outputs": [
    {
     "name": "stderr",
     "output_type": "stream",
     "text": [
      "/usr/local/lib/python3.5/dist-packages/numpy/core/numeric.py:531: ComplexWarning: Casting complex values to real discards the imaginary part\n",
      "  return array(a, dtype, copy=False, order=order)\n"
     ]
    },
    {
     "data": {
      "image/png": "[encoded data removed]",
      "text/plain": [
       "<matplotlib.figure.Figure at 0x7ff19faefef0>"
      ]
     },
     "metadata": {},
     "output_type": "display_data"
    }
   ],
   "source": [
    "import networkx as nx\n",
    "import numpy as np\n",
    "import matplotlib.pyplot as plt\n",
    "import itertools\n",
    "from scipy.linalg import eigvals\n",
    "\n",
    "G1 = nx.Graph([(1,2),(2,3),(3,4),(4,1)])\n",
    "#G2 = nx.Graph([(1,2),(2,3),(3,4),(4,5),(5,1)])\n",
    "#G3 = nx.Graph([(1,2),(2,3),(2,4),(4,5),(5,8),(8,7),(7,6),(6,3),(1,9),\n",
    "              #(9,10),(10,12),(12,14),(14,15),(15,13),(13,11),(11,9)])\n",
    "l1 = eigvals(nx.laplacian_matrix(G1).todense())\n",
    "l2 = eigvals(kplaplacian_ltf(G1,lam=1))\n",
    "l3 = eigvals(kplaplacian_ltf(G1,lam=2))\n",
    "l4 = eigvals(kplaplacian_ltf(G1,lam=3))\n",
    "l5 = eigvals(kplaplacian_ltf(G1,lam=4))\n",
    "l6 = eigvals(kplaplacian_ltf(G1,lam=5))\n",
    "\n",
    "#mellin\n",
    "l2m = eigvals(kplaplacian_mlf(G1,lam=1))\n",
    "l3m = eigvals(kplaplacian_mlf(G1,lam=2))\n",
    "l4m = eigvals(kplaplacian_mlf(G1,lam=3))\n",
    "l5m = eigvals(kplaplacian_mlf(G1,lam=4))\n",
    "l6m = eigvals(kplaplacian_mlf(G1,lam=5))\n",
    "#l2 = eigvals(nx.normalized_laplacian_matrix(G2).todense())\n",
    "#l3 = eigvals(nx.normalized_laplacian_matrix(G3).todense())\n",
    "\n",
    "time = np.arange(0,4)\n",
    "\n",
    "T1=[]\n",
    "T2=[]\n",
    "T3 = []\n",
    "TT=[]\n",
    "for t in time:\n",
    "    T1.append(np.sum(np.exp(-t*(l1))))\n",
    "    T2.append(np.sum(np.exp(-t*(l2))))\n",
    "    T3.append(np.sum(np.exp(-t*(l3))))\n",
    "\n",
    "plt.plot(time,T1,label=\"normal\")\n",
    "plt.plot(time,T2, label=\"$\\lambda$=1\")\n",
    "plt.plot(time,T3, label=\"$\\lambda$=2\")\n",
    "plt.legend()\n",
    "plt.show()"
   ]
  },
  {
   "cell_type": "code",
   "execution_count": 49,
   "metadata": {
    "collapsed": false
   },
   "outputs": [],
   "source": [
    "#zeta function\n",
    "\n",
    "def zeta_function(L,s):\n",
    "    sum = 0\n",
    "    for l in L:\n",
    "        if (math.isclose(l, 0.0, abs_tol=1.0e-6)==True):\n",
    "            continue\n",
    "        else:\n",
    "            sum = sum+(1/pow(l,s))\n",
    "    return sum    "
   ]
  },
  {
   "cell_type": "code",
   "execution_count": 51,
   "metadata": {
    "collapsed": false
   },
   "outputs": [
    {
     "name": "stdout",
     "output_type": "stream",
     "text": [
      "[ -2.22044605e-16+0.j   2.00000000e+00+0.j   4.00000000e+00+0.j\n",
      "   2.00000000e+00+0.j]\n"
     ]
    },
    {
     "name": "stderr",
     "output_type": "stream",
     "text": [
      "/usr/lib/python3/dist-packages/ipykernel/__main__.py:6: ComplexWarning: Casting complex values to real discards the imaginary part\n"
     ]
    },
    {
     "data": {
      "text/plain": [
       "(0.56249999999999978+0j)"
      ]
     },
     "execution_count": 51,
     "metadata": {},
     "output_type": "execute_result"
    }
   ],
   "source": [
    "print(l1)\n",
    "zeta_function(l1,2)"
   ]
  },
  {
   "cell_type": "code",
   "execution_count": 53,
   "metadata": {
    "collapsed": false
   },
   "outputs": [
    {
     "name": "stdout",
     "output_type": "stream",
     "text": [
      "[  4.44089210e-16+0.j   2.27067057e+00+0.j   4.00000000e+00+0.j\n",
      "   2.27067057e+00+0.j]\n",
      "[ 0.+0.j  3.+0.j  4.+0.j  3.+0.j]\n",
      "(0.450401746287+0j)\n",
      "(0.284722222222+0j)\n"
     ]
    },
    {
     "name": "stderr",
     "output_type": "stream",
     "text": [
      "/usr/lib/python3/dist-packages/ipykernel/__main__.py:6: ComplexWarning: Casting complex values to real discards the imaginary part\n"
     ]
    }
   ],
   "source": [
    "print(l2)\n",
    "print(l2m)\n",
    "print(zeta_function(l2,2))\n",
    "print(zeta_function(l2m,2))"
   ]
  },
  {
   "cell_type": "code",
   "execution_count": 55,
   "metadata": {
    "collapsed": false
   },
   "outputs": [
    {
     "name": "stdout",
     "output_type": "stream",
     "text": [
      "[ 0.00000000+0.j  2.03663128+0.j  4.00000000+0.j  2.03663128+0.j]\n",
      "[  4.44089210e-16+0.j   2.50000000e+00+0.j   4.00000000e+00+0.j\n",
      "   2.50000000e+00+0.j]\n",
      "(0.544675541912+0j)\n",
      "(0.3825+0j)\n"
     ]
    },
    {
     "name": "stderr",
     "output_type": "stream",
     "text": [
      "/usr/lib/python3/dist-packages/ipykernel/__main__.py:6: ComplexWarning: Casting complex values to real discards the imaginary part\n"
     ]
    }
   ],
   "source": [
    "print(l3)\n",
    "print(l3m)\n",
    "print(zeta_function(l3,2))\n",
    "print(zeta_function(l3m,2))"
   ]
  },
  {
   "cell_type": "code",
   "execution_count": 57,
   "metadata": {
    "collapsed": false
   },
   "outputs": [
    {
     "name": "stdout",
     "output_type": "stream",
     "text": [
      "[ -8.88178420e-16+0.j   2.00495750e+00+0.j   4.00000000e+00+0.j\n",
      "   2.00495750e+00+0.j]\n",
      "[ 0.00+0.j  2.25+0.j  4.00+0.j  2.25+0.j]\n",
      "(0.560030433776+0j)\n",
      "(0.457561728395+0j)\n"
     ]
    },
    {
     "name": "stderr",
     "output_type": "stream",
     "text": [
      "/usr/lib/python3/dist-packages/ipykernel/__main__.py:6: ComplexWarning: Casting complex values to real discards the imaginary part\n"
     ]
    }
   ],
   "source": [
    "print(l4)\n",
    "print(l4m)\n",
    "print(zeta_function(l4,2))\n",
    "print(zeta_function(l4m,2))"
   ]
  },
  {
   "cell_type": "code",
   "execution_count": 58,
   "metadata": {
    "collapsed": false
   },
   "outputs": [
    {
     "name": "stdout",
     "output_type": "stream",
     "text": [
      "[ 0.00000000+0.j  2.00067093+0.j  4.00000000+0.j  2.00067093+0.j]\n",
      "[ -4.44089210e-16+0.j   2.12500000e+00+0.j   4.00000000e+00+0.j\n",
      "   2.12500000e+00+0.j]\n",
      "(0.562164706099+0j)\n",
      "(0.505406574394+0j)\n"
     ]
    },
    {
     "name": "stderr",
     "output_type": "stream",
     "text": [
      "/usr/lib/python3/dist-packages/ipykernel/__main__.py:6: ComplexWarning: Casting complex values to real discards the imaginary part\n"
     ]
    }
   ],
   "source": [
    "print(l5)\n",
    "print(l5m)\n",
    "print(zeta_function(l5,2))\n",
    "print(zeta_function(l5m,2))"
   ]
  },
  {
   "cell_type": "code",
   "execution_count": 59,
   "metadata": {
    "collapsed": false
   },
   "outputs": [
    {
     "name": "stdout",
     "output_type": "stream",
     "text": [
      "[ -4.44089210e-16+0.j   2.00009080e+00+0.j   4.00000000e+00+0.j\n",
      "   2.00009080e+00+0.j]\n",
      "[  4.44089210e-16+0.j   2.06250000e+00+0.j   4.00000000e+00+0.j\n",
      "   2.06250000e+00+0.j]\n",
      "(0.562454603162+0j)\n",
      "(0.53265610652+0j)\n"
     ]
    },
    {
     "name": "stderr",
     "output_type": "stream",
     "text": [
      "/usr/lib/python3/dist-packages/ipykernel/__main__.py:6: ComplexWarning: Casting complex values to real discards the imaginary part\n"
     ]
    }
   ],
   "source": [
    "print(l6)\n",
    "print(l6m)\n",
    "print(zeta_function(l6,2))\n",
    "print(zeta_function(l6m,2))"
   ]
  },
  {
   "cell_type": "code",
   "execution_count": null,
   "metadata": {
    "collapsed": true
   },
   "outputs": [],
   "source": []
  }
 ],
 "metadata": {
  "kernelspec": {
   "display_name": "Python 3",
   "language": "python",
   "name": "python3"
  },
  "language_info": {
   "codemirror_mode": {
    "name": "ipython",
    "version": 3
   },
   "file_extension": ".py",
   "mimetype": "text/x-python",
   "name": "python",
   "nbconvert_exporter": "python",
   "pygments_lexer": "ipython3",
   "version": "3.5.3"
  }
 },
 "nbformat": 4,
 "nbformat_minor": 2
}
